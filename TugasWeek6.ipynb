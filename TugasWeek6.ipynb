{
  "metadata": {
    "kernelspec": {
      "display_name": "Python 3",
      "name": "python3"
    },
    "language_info": {
      "name": "python",
      "version": "3.10.13",
      "mimetype": "text/x-python",
      "codemirror_mode": {
        "name": "ipython",
        "version": 3
      },
      "pygments_lexer": "ipython3",
      "nbconvert_exporter": "python",
      "file_extension": ".py"
    },
    "kaggle": {
      "accelerator": "none",
      "dataSources": [
        {
          "sourceId": 320111,
          "sourceType": "datasetVersion",
          "datasetId": 134715
        },
        {
          "sourceId": 2231927,
          "sourceType": "datasetVersion",
          "datasetId": 1340873
        },
        {
          "sourceId": 2510329,
          "sourceType": "datasetVersion",
          "datasetId": 1520310
        },
        {
          "sourceId": 8299811,
          "sourceType": "datasetVersion",
          "datasetId": 4930712
        }
      ],
      "dockerImageVersionId": 30746,
      "isInternetEnabled": false,
      "language": "python",
      "sourceType": "notebook",
      "isGpuEnabled": false
    },
    "colab": {
      "provenance": [],
      "gpuType": "T4",
      "include_colab_link": true
    },
    "accelerator": "GPU",
    "widgets": {
      "application/vnd.jupyter.widget-state+json": {
        "5551dab00b1342ba92655afc531205b1": {
          "model_module": "@jupyter-widgets/controls",
          "model_name": "HBoxModel",
          "model_module_version": "1.5.0",
          "state": {
            "_dom_classes": [],
            "_model_module": "@jupyter-widgets/controls",
            "_model_module_version": "1.5.0",
            "_model_name": "HBoxModel",
            "_view_count": null,
            "_view_module": "@jupyter-widgets/controls",
            "_view_module_version": "1.5.0",
            "_view_name": "HBoxView",
            "box_style": "",
            "children": [
              "IPY_MODEL_0b5e4f18fa414853aef94c0e98772184",
              "IPY_MODEL_525b4dfec85444f29c9c890a7df01ea9",
              "IPY_MODEL_6368321659ff414d8b241facd6a00a3e"
            ],
            "layout": "IPY_MODEL_89ec2cc4a018453089bd46cf96c1e69c"
          }
        },
        "0b5e4f18fa414853aef94c0e98772184": {
          "model_module": "@jupyter-widgets/controls",
          "model_name": "HTMLModel",
          "model_module_version": "1.5.0",
          "state": {
            "_dom_classes": [],
            "_model_module": "@jupyter-widgets/controls",
            "_model_module_version": "1.5.0",
            "_model_name": "HTMLModel",
            "_view_count": null,
            "_view_module": "@jupyter-widgets/controls",
            "_view_module_version": "1.5.0",
            "_view_name": "HTMLView",
            "description": "",
            "description_tooltip": null,
            "layout": "IPY_MODEL_b95e6dd62412466686be4551be9ed2ff",
            "placeholder": "​",
            "style": "IPY_MODEL_1942741eb6904381a2a9b90ad4570d50",
            "value": "tokenizer_config.json: 100%"
          }
        },
        "525b4dfec85444f29c9c890a7df01ea9": {
          "model_module": "@jupyter-widgets/controls",
          "model_name": "FloatProgressModel",
          "model_module_version": "1.5.0",
          "state": {
            "_dom_classes": [],
            "_model_module": "@jupyter-widgets/controls",
            "_model_module_version": "1.5.0",
            "_model_name": "FloatProgressModel",
            "_view_count": null,
            "_view_module": "@jupyter-widgets/controls",
            "_view_module_version": "1.5.0",
            "_view_name": "ProgressView",
            "bar_style": "success",
            "description": "",
            "description_tooltip": null,
            "layout": "IPY_MODEL_679a9b7d3ebf40b398e22a405fb99b27",
            "max": 25,
            "min": 0,
            "orientation": "horizontal",
            "style": "IPY_MODEL_59e84bc5ac884ee1844541be00cc471c",
            "value": 25
          }
        },
        "6368321659ff414d8b241facd6a00a3e": {
          "model_module": "@jupyter-widgets/controls",
          "model_name": "HTMLModel",
          "model_module_version": "1.5.0",
          "state": {
            "_dom_classes": [],
            "_model_module": "@jupyter-widgets/controls",
            "_model_module_version": "1.5.0",
            "_model_name": "HTMLModel",
            "_view_count": null,
            "_view_module": "@jupyter-widgets/controls",
            "_view_module_version": "1.5.0",
            "_view_name": "HTMLView",
            "description": "",
            "description_tooltip": null,
            "layout": "IPY_MODEL_665f249ee0d544fbb5718cc8f5e22637",
            "placeholder": "​",
            "style": "IPY_MODEL_80427c2476204c71adddaac33545bbce",
            "value": " 25.0/25.0 [00:00&lt;00:00, 807B/s]"
          }
        },
        "89ec2cc4a018453089bd46cf96c1e69c": {
          "model_module": "@jupyter-widgets/base",
          "model_name": "LayoutModel",
          "model_module_version": "1.2.0",
          "state": {
            "_model_module": "@jupyter-widgets/base",
            "_model_module_version": "1.2.0",
            "_model_name": "LayoutModel",
            "_view_count": null,
            "_view_module": "@jupyter-widgets/base",
            "_view_module_version": "1.2.0",
            "_view_name": "LayoutView",
            "align_content": null,
            "align_items": null,
            "align_self": null,
            "border": null,
            "bottom": null,
            "display": null,
            "flex": null,
            "flex_flow": null,
            "grid_area": null,
            "grid_auto_columns": null,
            "grid_auto_flow": null,
            "grid_auto_rows": null,
            "grid_column": null,
            "grid_gap": null,
            "grid_row": null,
            "grid_template_areas": null,
            "grid_template_columns": null,
            "grid_template_rows": null,
            "height": null,
            "justify_content": null,
            "justify_items": null,
            "left": null,
            "margin": null,
            "max_height": null,
            "max_width": null,
            "min_height": null,
            "min_width": null,
            "object_fit": null,
            "object_position": null,
            "order": null,
            "overflow": null,
            "overflow_x": null,
            "overflow_y": null,
            "padding": null,
            "right": null,
            "top": null,
            "visibility": null,
            "width": null
          }
        },
        "b95e6dd62412466686be4551be9ed2ff": {
          "model_module": "@jupyter-widgets/base",
          "model_name": "LayoutModel",
          "model_module_version": "1.2.0",
          "state": {
            "_model_module": "@jupyter-widgets/base",
            "_model_module_version": "1.2.0",
            "_model_name": "LayoutModel",
            "_view_count": null,
            "_view_module": "@jupyter-widgets/base",
            "_view_module_version": "1.2.0",
            "_view_name": "LayoutView",
            "align_content": null,
            "align_items": null,
            "align_self": null,
            "border": null,
            "bottom": null,
            "display": null,
            "flex": null,
            "flex_flow": null,
            "grid_area": null,
            "grid_auto_columns": null,
            "grid_auto_flow": null,
            "grid_auto_rows": null,
            "grid_column": null,
            "grid_gap": null,
            "grid_row": null,
            "grid_template_areas": null,
            "grid_template_columns": null,
            "grid_template_rows": null,
            "height": null,
            "justify_content": null,
            "justify_items": null,
            "left": null,
            "margin": null,
            "max_height": null,
            "max_width": null,
            "min_height": null,
            "min_width": null,
            "object_fit": null,
            "object_position": null,
            "order": null,
            "overflow": null,
            "overflow_x": null,
            "overflow_y": null,
            "padding": null,
            "right": null,
            "top": null,
            "visibility": null,
            "width": null
          }
        },
        "1942741eb6904381a2a9b90ad4570d50": {
          "model_module": "@jupyter-widgets/controls",
          "model_name": "DescriptionStyleModel",
          "model_module_version": "1.5.0",
          "state": {
            "_model_module": "@jupyter-widgets/controls",
            "_model_module_version": "1.5.0",
            "_model_name": "DescriptionStyleModel",
            "_view_count": null,
            "_view_module": "@jupyter-widgets/base",
            "_view_module_version": "1.2.0",
            "_view_name": "StyleView",
            "description_width": ""
          }
        },
        "679a9b7d3ebf40b398e22a405fb99b27": {
          "model_module": "@jupyter-widgets/base",
          "model_name": "LayoutModel",
          "model_module_version": "1.2.0",
          "state": {
            "_model_module": "@jupyter-widgets/base",
            "_model_module_version": "1.2.0",
            "_model_name": "LayoutModel",
            "_view_count": null,
            "_view_module": "@jupyter-widgets/base",
            "_view_module_version": "1.2.0",
            "_view_name": "LayoutView",
            "align_content": null,
            "align_items": null,
            "align_self": null,
            "border": null,
            "bottom": null,
            "display": null,
            "flex": null,
            "flex_flow": null,
            "grid_area": null,
            "grid_auto_columns": null,
            "grid_auto_flow": null,
            "grid_auto_rows": null,
            "grid_column": null,
            "grid_gap": null,
            "grid_row": null,
            "grid_template_areas": null,
            "grid_template_columns": null,
            "grid_template_rows": null,
            "height": null,
            "justify_content": null,
            "justify_items": null,
            "left": null,
            "margin": null,
            "max_height": null,
            "max_width": null,
            "min_height": null,
            "min_width": null,
            "object_fit": null,
            "object_position": null,
            "order": null,
            "overflow": null,
            "overflow_x": null,
            "overflow_y": null,
            "padding": null,
            "right": null,
            "top": null,
            "visibility": null,
            "width": null
          }
        },
        "59e84bc5ac884ee1844541be00cc471c": {
          "model_module": "@jupyter-widgets/controls",
          "model_name": "ProgressStyleModel",
          "model_module_version": "1.5.0",
          "state": {
            "_model_module": "@jupyter-widgets/controls",
            "_model_module_version": "1.5.0",
            "_model_name": "ProgressStyleModel",
            "_view_count": null,
            "_view_module": "@jupyter-widgets/base",
            "_view_module_version": "1.2.0",
            "_view_name": "StyleView",
            "bar_color": null,
            "description_width": ""
          }
        },
        "665f249ee0d544fbb5718cc8f5e22637": {
          "model_module": "@jupyter-widgets/base",
          "model_name": "LayoutModel",
          "model_module_version": "1.2.0",
          "state": {
            "_model_module": "@jupyter-widgets/base",
            "_model_module_version": "1.2.0",
            "_model_name": "LayoutModel",
            "_view_count": null,
            "_view_module": "@jupyter-widgets/base",
            "_view_module_version": "1.2.0",
            "_view_name": "LayoutView",
            "align_content": null,
            "align_items": null,
            "align_self": null,
            "border": null,
            "bottom": null,
            "display": null,
            "flex": null,
            "flex_flow": null,
            "grid_area": null,
            "grid_auto_columns": null,
            "grid_auto_flow": null,
            "grid_auto_rows": null,
            "grid_column": null,
            "grid_gap": null,
            "grid_row": null,
            "grid_template_areas": null,
            "grid_template_columns": null,
            "grid_template_rows": null,
            "height": null,
            "justify_content": null,
            "justify_items": null,
            "left": null,
            "margin": null,
            "max_height": null,
            "max_width": null,
            "min_height": null,
            "min_width": null,
            "object_fit": null,
            "object_position": null,
            "order": null,
            "overflow": null,
            "overflow_x": null,
            "overflow_y": null,
            "padding": null,
            "right": null,
            "top": null,
            "visibility": null,
            "width": null
          }
        },
        "80427c2476204c71adddaac33545bbce": {
          "model_module": "@jupyter-widgets/controls",
          "model_name": "DescriptionStyleModel",
          "model_module_version": "1.5.0",
          "state": {
            "_model_module": "@jupyter-widgets/controls",
            "_model_module_version": "1.5.0",
            "_model_name": "DescriptionStyleModel",
            "_view_count": null,
            "_view_module": "@jupyter-widgets/base",
            "_view_module_version": "1.2.0",
            "_view_name": "StyleView",
            "description_width": ""
          }
        },
        "b1cb08dc40eb4472a5360600250816e2": {
          "model_module": "@jupyter-widgets/controls",
          "model_name": "HBoxModel",
          "model_module_version": "1.5.0",
          "state": {
            "_dom_classes": [],
            "_model_module": "@jupyter-widgets/controls",
            "_model_module_version": "1.5.0",
            "_model_name": "HBoxModel",
            "_view_count": null,
            "_view_module": "@jupyter-widgets/controls",
            "_view_module_version": "1.5.0",
            "_view_name": "HBoxView",
            "box_style": "",
            "children": [
              "IPY_MODEL_857a24cea7d64c82a0fd0520d60a34f3",
              "IPY_MODEL_a695397daaf74a23abe614b6e2972288",
              "IPY_MODEL_e5fa7a9dc77041429f72a36598e76dfc"
            ],
            "layout": "IPY_MODEL_8f465f9485534f4880a22aa051e21aba"
          }
        },
        "857a24cea7d64c82a0fd0520d60a34f3": {
          "model_module": "@jupyter-widgets/controls",
          "model_name": "HTMLModel",
          "model_module_version": "1.5.0",
          "state": {
            "_dom_classes": [],
            "_model_module": "@jupyter-widgets/controls",
            "_model_module_version": "1.5.0",
            "_model_name": "HTMLModel",
            "_view_count": null,
            "_view_module": "@jupyter-widgets/controls",
            "_view_module_version": "1.5.0",
            "_view_name": "HTMLView",
            "description": "",
            "description_tooltip": null,
            "layout": "IPY_MODEL_00d1028cd17643899395ea73d74d7fe1",
            "placeholder": "​",
            "style": "IPY_MODEL_1d2eb38f5125421a866bf31ef0ffe98d",
            "value": "config.json: 100%"
          }
        },
        "a695397daaf74a23abe614b6e2972288": {
          "model_module": "@jupyter-widgets/controls",
          "model_name": "FloatProgressModel",
          "model_module_version": "1.5.0",
          "state": {
            "_dom_classes": [],
            "_model_module": "@jupyter-widgets/controls",
            "_model_module_version": "1.5.0",
            "_model_name": "FloatProgressModel",
            "_view_count": null,
            "_view_module": "@jupyter-widgets/controls",
            "_view_module_version": "1.5.0",
            "_view_name": "ProgressView",
            "bar_style": "success",
            "description": "",
            "description_tooltip": null,
            "layout": "IPY_MODEL_8d123c3218da4e5c935ef4331c44023e",
            "max": 559,
            "min": 0,
            "orientation": "horizontal",
            "style": "IPY_MODEL_169b087f09eb418783649e13b186ec86",
            "value": 559
          }
        },
        "e5fa7a9dc77041429f72a36598e76dfc": {
          "model_module": "@jupyter-widgets/controls",
          "model_name": "HTMLModel",
          "model_module_version": "1.5.0",
          "state": {
            "_dom_classes": [],
            "_model_module": "@jupyter-widgets/controls",
            "_model_module_version": "1.5.0",
            "_model_name": "HTMLModel",
            "_view_count": null,
            "_view_module": "@jupyter-widgets/controls",
            "_view_module_version": "1.5.0",
            "_view_name": "HTMLView",
            "description": "",
            "description_tooltip": null,
            "layout": "IPY_MODEL_ddcc6480826f4095a7b4eb728024e3d2",
            "placeholder": "​",
            "style": "IPY_MODEL_43441c512fbf4c9d89091baaac9e859b",
            "value": " 559/559 [00:00&lt;00:00, 14.0kB/s]"
          }
        },
        "8f465f9485534f4880a22aa051e21aba": {
          "model_module": "@jupyter-widgets/base",
          "model_name": "LayoutModel",
          "model_module_version": "1.2.0",
          "state": {
            "_model_module": "@jupyter-widgets/base",
            "_model_module_version": "1.2.0",
            "_model_name": "LayoutModel",
            "_view_count": null,
            "_view_module": "@jupyter-widgets/base",
            "_view_module_version": "1.2.0",
            "_view_name": "LayoutView",
            "align_content": null,
            "align_items": null,
            "align_self": null,
            "border": null,
            "bottom": null,
            "display": null,
            "flex": null,
            "flex_flow": null,
            "grid_area": null,
            "grid_auto_columns": null,
            "grid_auto_flow": null,
            "grid_auto_rows": null,
            "grid_column": null,
            "grid_gap": null,
            "grid_row": null,
            "grid_template_areas": null,
            "grid_template_columns": null,
            "grid_template_rows": null,
            "height": null,
            "justify_content": null,
            "justify_items": null,
            "left": null,
            "margin": null,
            "max_height": null,
            "max_width": null,
            "min_height": null,
            "min_width": null,
            "object_fit": null,
            "object_position": null,
            "order": null,
            "overflow": null,
            "overflow_x": null,
            "overflow_y": null,
            "padding": null,
            "right": null,
            "top": null,
            "visibility": null,
            "width": null
          }
        },
        "00d1028cd17643899395ea73d74d7fe1": {
          "model_module": "@jupyter-widgets/base",
          "model_name": "LayoutModel",
          "model_module_version": "1.2.0",
          "state": {
            "_model_module": "@jupyter-widgets/base",
            "_model_module_version": "1.2.0",
            "_model_name": "LayoutModel",
            "_view_count": null,
            "_view_module": "@jupyter-widgets/base",
            "_view_module_version": "1.2.0",
            "_view_name": "LayoutView",
            "align_content": null,
            "align_items": null,
            "align_self": null,
            "border": null,
            "bottom": null,
            "display": null,
            "flex": null,
            "flex_flow": null,
            "grid_area": null,
            "grid_auto_columns": null,
            "grid_auto_flow": null,
            "grid_auto_rows": null,
            "grid_column": null,
            "grid_gap": null,
            "grid_row": null,
            "grid_template_areas": null,
            "grid_template_columns": null,
            "grid_template_rows": null,
            "height": null,
            "justify_content": null,
            "justify_items": null,
            "left": null,
            "margin": null,
            "max_height": null,
            "max_width": null,
            "min_height": null,
            "min_width": null,
            "object_fit": null,
            "object_position": null,
            "order": null,
            "overflow": null,
            "overflow_x": null,
            "overflow_y": null,
            "padding": null,
            "right": null,
            "top": null,
            "visibility": null,
            "width": null
          }
        },
        "1d2eb38f5125421a866bf31ef0ffe98d": {
          "model_module": "@jupyter-widgets/controls",
          "model_name": "DescriptionStyleModel",
          "model_module_version": "1.5.0",
          "state": {
            "_model_module": "@jupyter-widgets/controls",
            "_model_module_version": "1.5.0",
            "_model_name": "DescriptionStyleModel",
            "_view_count": null,
            "_view_module": "@jupyter-widgets/base",
            "_view_module_version": "1.2.0",
            "_view_name": "StyleView",
            "description_width": ""
          }
        },
        "8d123c3218da4e5c935ef4331c44023e": {
          "model_module": "@jupyter-widgets/base",
          "model_name": "LayoutModel",
          "model_module_version": "1.2.0",
          "state": {
            "_model_module": "@jupyter-widgets/base",
            "_model_module_version": "1.2.0",
            "_model_name": "LayoutModel",
            "_view_count": null,
            "_view_module": "@jupyter-widgets/base",
            "_view_module_version": "1.2.0",
            "_view_name": "LayoutView",
            "align_content": null,
            "align_items": null,
            "align_self": null,
            "border": null,
            "bottom": null,
            "display": null,
            "flex": null,
            "flex_flow": null,
            "grid_area": null,
            "grid_auto_columns": null,
            "grid_auto_flow": null,
            "grid_auto_rows": null,
            "grid_column": null,
            "grid_gap": null,
            "grid_row": null,
            "grid_template_areas": null,
            "grid_template_columns": null,
            "grid_template_rows": null,
            "height": null,
            "justify_content": null,
            "justify_items": null,
            "left": null,
            "margin": null,
            "max_height": null,
            "max_width": null,
            "min_height": null,
            "min_width": null,
            "object_fit": null,
            "object_position": null,
            "order": null,
            "overflow": null,
            "overflow_x": null,
            "overflow_y": null,
            "padding": null,
            "right": null,
            "top": null,
            "visibility": null,
            "width": null
          }
        },
        "169b087f09eb418783649e13b186ec86": {
          "model_module": "@jupyter-widgets/controls",
          "model_name": "ProgressStyleModel",
          "model_module_version": "1.5.0",
          "state": {
            "_model_module": "@jupyter-widgets/controls",
            "_model_module_version": "1.5.0",
            "_model_name": "ProgressStyleModel",
            "_view_count": null,
            "_view_module": "@jupyter-widgets/base",
            "_view_module_version": "1.2.0",
            "_view_name": "StyleView",
            "bar_color": null,
            "description_width": ""
          }
        },
        "ddcc6480826f4095a7b4eb728024e3d2": {
          "model_module": "@jupyter-widgets/base",
          "model_name": "LayoutModel",
          "model_module_version": "1.2.0",
          "state": {
            "_model_module": "@jupyter-widgets/base",
            "_model_module_version": "1.2.0",
            "_model_name": "LayoutModel",
            "_view_count": null,
            "_view_module": "@jupyter-widgets/base",
            "_view_module_version": "1.2.0",
            "_view_name": "LayoutView",
            "align_content": null,
            "align_items": null,
            "align_self": null,
            "border": null,
            "bottom": null,
            "display": null,
            "flex": null,
            "flex_flow": null,
            "grid_area": null,
            "grid_auto_columns": null,
            "grid_auto_flow": null,
            "grid_auto_rows": null,
            "grid_column": null,
            "grid_gap": null,
            "grid_row": null,
            "grid_template_areas": null,
            "grid_template_columns": null,
            "grid_template_rows": null,
            "height": null,
            "justify_content": null,
            "justify_items": null,
            "left": null,
            "margin": null,
            "max_height": null,
            "max_width": null,
            "min_height": null,
            "min_width": null,
            "object_fit": null,
            "object_position": null,
            "order": null,
            "overflow": null,
            "overflow_x": null,
            "overflow_y": null,
            "padding": null,
            "right": null,
            "top": null,
            "visibility": null,
            "width": null
          }
        },
        "43441c512fbf4c9d89091baaac9e859b": {
          "model_module": "@jupyter-widgets/controls",
          "model_name": "DescriptionStyleModel",
          "model_module_version": "1.5.0",
          "state": {
            "_model_module": "@jupyter-widgets/controls",
            "_model_module_version": "1.5.0",
            "_model_name": "DescriptionStyleModel",
            "_view_count": null,
            "_view_module": "@jupyter-widgets/base",
            "_view_module_version": "1.2.0",
            "_view_name": "StyleView",
            "description_width": ""
          }
        },
        "19e7f4b6e3894524921806331bcfcadb": {
          "model_module": "@jupyter-widgets/controls",
          "model_name": "HBoxModel",
          "model_module_version": "1.5.0",
          "state": {
            "_dom_classes": [],
            "_model_module": "@jupyter-widgets/controls",
            "_model_module_version": "1.5.0",
            "_model_name": "HBoxModel",
            "_view_count": null,
            "_view_module": "@jupyter-widgets/controls",
            "_view_module_version": "1.5.0",
            "_view_name": "HBoxView",
            "box_style": "",
            "children": [
              "IPY_MODEL_159dc855084a455fa2104e8d124a629f",
              "IPY_MODEL_68234df43a2e41458d0f9c8cbff69c39",
              "IPY_MODEL_7f9cb5ecaa8140968d1fdc7c1f5f09eb"
            ],
            "layout": "IPY_MODEL_cf2259737a074b889041e27fe3fcc999"
          }
        },
        "159dc855084a455fa2104e8d124a629f": {
          "model_module": "@jupyter-widgets/controls",
          "model_name": "HTMLModel",
          "model_module_version": "1.5.0",
          "state": {
            "_dom_classes": [],
            "_model_module": "@jupyter-widgets/controls",
            "_model_module_version": "1.5.0",
            "_model_name": "HTMLModel",
            "_view_count": null,
            "_view_module": "@jupyter-widgets/controls",
            "_view_module_version": "1.5.0",
            "_view_name": "HTMLView",
            "description": "",
            "description_tooltip": null,
            "layout": "IPY_MODEL_e36c9d04af214989985b721979a37758",
            "placeholder": "​",
            "style": "IPY_MODEL_b4205eb132974f13965d4ac78ca1d23d",
            "value": "vocab.json: 100%"
          }
        },
        "68234df43a2e41458d0f9c8cbff69c39": {
          "model_module": "@jupyter-widgets/controls",
          "model_name": "FloatProgressModel",
          "model_module_version": "1.5.0",
          "state": {
            "_dom_classes": [],
            "_model_module": "@jupyter-widgets/controls",
            "_model_module_version": "1.5.0",
            "_model_name": "FloatProgressModel",
            "_view_count": null,
            "_view_module": "@jupyter-widgets/controls",
            "_view_module_version": "1.5.0",
            "_view_name": "ProgressView",
            "bar_style": "success",
            "description": "",
            "description_tooltip": null,
            "layout": "IPY_MODEL_740933cddc304a0e9e0143815a905bce",
            "max": 798293,
            "min": 0,
            "orientation": "horizontal",
            "style": "IPY_MODEL_6822bbbb18c044729d62fa0cdc869b2f",
            "value": 798293
          }
        },
        "7f9cb5ecaa8140968d1fdc7c1f5f09eb": {
          "model_module": "@jupyter-widgets/controls",
          "model_name": "HTMLModel",
          "model_module_version": "1.5.0",
          "state": {
            "_dom_classes": [],
            "_model_module": "@jupyter-widgets/controls",
            "_model_module_version": "1.5.0",
            "_model_name": "HTMLModel",
            "_view_count": null,
            "_view_module": "@jupyter-widgets/controls",
            "_view_module_version": "1.5.0",
            "_view_name": "HTMLView",
            "description": "",
            "description_tooltip": null,
            "layout": "IPY_MODEL_ca463a0d550f44adaedef704e4e1e10a",
            "placeholder": "​",
            "style": "IPY_MODEL_791b39c4a27f4b4aadc654eb371ce729",
            "value": " 798k/798k [00:00&lt;00:00, 7.59MB/s]"
          }
        },
        "cf2259737a074b889041e27fe3fcc999": {
          "model_module": "@jupyter-widgets/base",
          "model_name": "LayoutModel",
          "model_module_version": "1.2.0",
          "state": {
            "_model_module": "@jupyter-widgets/base",
            "_model_module_version": "1.2.0",
            "_model_name": "LayoutModel",
            "_view_count": null,
            "_view_module": "@jupyter-widgets/base",
            "_view_module_version": "1.2.0",
            "_view_name": "LayoutView",
            "align_content": null,
            "align_items": null,
            "align_self": null,
            "border": null,
            "bottom": null,
            "display": null,
            "flex": null,
            "flex_flow": null,
            "grid_area": null,
            "grid_auto_columns": null,
            "grid_auto_flow": null,
            "grid_auto_rows": null,
            "grid_column": null,
            "grid_gap": null,
            "grid_row": null,
            "grid_template_areas": null,
            "grid_template_columns": null,
            "grid_template_rows": null,
            "height": null,
            "justify_content": null,
            "justify_items": null,
            "left": null,
            "margin": null,
            "max_height": null,
            "max_width": null,
            "min_height": null,
            "min_width": null,
            "object_fit": null,
            "object_position": null,
            "order": null,
            "overflow": null,
            "overflow_x": null,
            "overflow_y": null,
            "padding": null,
            "right": null,
            "top": null,
            "visibility": null,
            "width": null
          }
        },
        "e36c9d04af214989985b721979a37758": {
          "model_module": "@jupyter-widgets/base",
          "model_name": "LayoutModel",
          "model_module_version": "1.2.0",
          "state": {
            "_model_module": "@jupyter-widgets/base",
            "_model_module_version": "1.2.0",
            "_model_name": "LayoutModel",
            "_view_count": null,
            "_view_module": "@jupyter-widgets/base",
            "_view_module_version": "1.2.0",
            "_view_name": "LayoutView",
            "align_content": null,
            "align_items": null,
            "align_self": null,
            "border": null,
            "bottom": null,
            "display": null,
            "flex": null,
            "flex_flow": null,
            "grid_area": null,
            "grid_auto_columns": null,
            "grid_auto_flow": null,
            "grid_auto_rows": null,
            "grid_column": null,
            "grid_gap": null,
            "grid_row": null,
            "grid_template_areas": null,
            "grid_template_columns": null,
            "grid_template_rows": null,
            "height": null,
            "justify_content": null,
            "justify_items": null,
            "left": null,
            "margin": null,
            "max_height": null,
            "max_width": null,
            "min_height": null,
            "min_width": null,
            "object_fit": null,
            "object_position": null,
            "order": null,
            "overflow": null,
            "overflow_x": null,
            "overflow_y": null,
            "padding": null,
            "right": null,
            "top": null,
            "visibility": null,
            "width": null
          }
        },
        "b4205eb132974f13965d4ac78ca1d23d": {
          "model_module": "@jupyter-widgets/controls",
          "model_name": "DescriptionStyleModel",
          "model_module_version": "1.5.0",
          "state": {
            "_model_module": "@jupyter-widgets/controls",
            "_model_module_version": "1.5.0",
            "_model_name": "DescriptionStyleModel",
            "_view_count": null,
            "_view_module": "@jupyter-widgets/base",
            "_view_module_version": "1.2.0",
            "_view_name": "StyleView",
            "description_width": ""
          }
        },
        "740933cddc304a0e9e0143815a905bce": {
          "model_module": "@jupyter-widgets/base",
          "model_name": "LayoutModel",
          "model_module_version": "1.2.0",
          "state": {
            "_model_module": "@jupyter-widgets/base",
            "_model_module_version": "1.2.0",
            "_model_name": "LayoutModel",
            "_view_count": null,
            "_view_module": "@jupyter-widgets/base",
            "_view_module_version": "1.2.0",
            "_view_name": "LayoutView",
            "align_content": null,
            "align_items": null,
            "align_self": null,
            "border": null,
            "bottom": null,
            "display": null,
            "flex": null,
            "flex_flow": null,
            "grid_area": null,
            "grid_auto_columns": null,
            "grid_auto_flow": null,
            "grid_auto_rows": null,
            "grid_column": null,
            "grid_gap": null,
            "grid_row": null,
            "grid_template_areas": null,
            "grid_template_columns": null,
            "grid_template_rows": null,
            "height": null,
            "justify_content": null,
            "justify_items": null,
            "left": null,
            "margin": null,
            "max_height": null,
            "max_width": null,
            "min_height": null,
            "min_width": null,
            "object_fit": null,
            "object_position": null,
            "order": null,
            "overflow": null,
            "overflow_x": null,
            "overflow_y": null,
            "padding": null,
            "right": null,
            "top": null,
            "visibility": null,
            "width": null
          }
        },
        "6822bbbb18c044729d62fa0cdc869b2f": {
          "model_module": "@jupyter-widgets/controls",
          "model_name": "ProgressStyleModel",
          "model_module_version": "1.5.0",
          "state": {
            "_model_module": "@jupyter-widgets/controls",
            "_model_module_version": "1.5.0",
            "_model_name": "ProgressStyleModel",
            "_view_count": null,
            "_view_module": "@jupyter-widgets/base",
            "_view_module_version": "1.2.0",
            "_view_name": "StyleView",
            "bar_color": null,
            "description_width": ""
          }
        },
        "ca463a0d550f44adaedef704e4e1e10a": {
          "model_module": "@jupyter-widgets/base",
          "model_name": "LayoutModel",
          "model_module_version": "1.2.0",
          "state": {
            "_model_module": "@jupyter-widgets/base",
            "_model_module_version": "1.2.0",
            "_model_name": "LayoutModel",
            "_view_count": null,
            "_view_module": "@jupyter-widgets/base",
            "_view_module_version": "1.2.0",
            "_view_name": "LayoutView",
            "align_content": null,
            "align_items": null,
            "align_self": null,
            "border": null,
            "bottom": null,
            "display": null,
            "flex": null,
            "flex_flow": null,
            "grid_area": null,
            "grid_auto_columns": null,
            "grid_auto_flow": null,
            "grid_auto_rows": null,
            "grid_column": null,
            "grid_gap": null,
            "grid_row": null,
            "grid_template_areas": null,
            "grid_template_columns": null,
            "grid_template_rows": null,
            "height": null,
            "justify_content": null,
            "justify_items": null,
            "left": null,
            "margin": null,
            "max_height": null,
            "max_width": null,
            "min_height": null,
            "min_width": null,
            "object_fit": null,
            "object_position": null,
            "order": null,
            "overflow": null,
            "overflow_x": null,
            "overflow_y": null,
            "padding": null,
            "right": null,
            "top": null,
            "visibility": null,
            "width": null
          }
        },
        "791b39c4a27f4b4aadc654eb371ce729": {
          "model_module": "@jupyter-widgets/controls",
          "model_name": "DescriptionStyleModel",
          "model_module_version": "1.5.0",
          "state": {
            "_model_module": "@jupyter-widgets/controls",
            "_model_module_version": "1.5.0",
            "_model_name": "DescriptionStyleModel",
            "_view_count": null,
            "_view_module": "@jupyter-widgets/base",
            "_view_module_version": "1.2.0",
            "_view_name": "StyleView",
            "description_width": ""
          }
        },
        "e088484f38c84884b4fdbac30e78715d": {
          "model_module": "@jupyter-widgets/controls",
          "model_name": "HBoxModel",
          "model_module_version": "1.5.0",
          "state": {
            "_dom_classes": [],
            "_model_module": "@jupyter-widgets/controls",
            "_model_module_version": "1.5.0",
            "_model_name": "HBoxModel",
            "_view_count": null,
            "_view_module": "@jupyter-widgets/controls",
            "_view_module_version": "1.5.0",
            "_view_name": "HBoxView",
            "box_style": "",
            "children": [
              "IPY_MODEL_dd9a03d4092342a8b5c2a0217af5359a",
              "IPY_MODEL_8d95976d6e4241c9b319de0cfa8cedd5",
              "IPY_MODEL_05093ae803b449e08070931733e3205f"
            ],
            "layout": "IPY_MODEL_5e673043f7074abb9fd76f2b5836731d"
          }
        },
        "dd9a03d4092342a8b5c2a0217af5359a": {
          "model_module": "@jupyter-widgets/controls",
          "model_name": "HTMLModel",
          "model_module_version": "1.5.0",
          "state": {
            "_dom_classes": [],
            "_model_module": "@jupyter-widgets/controls",
            "_model_module_version": "1.5.0",
            "_model_name": "HTMLModel",
            "_view_count": null,
            "_view_module": "@jupyter-widgets/controls",
            "_view_module_version": "1.5.0",
            "_view_name": "HTMLView",
            "description": "",
            "description_tooltip": null,
            "layout": "IPY_MODEL_036649627efb47828db714cd8df6a154",
            "placeholder": "​",
            "style": "IPY_MODEL_23acc39a03964c5d96b4f65d4bd3b4d2",
            "value": "merges.txt: 100%"
          }
        },
        "8d95976d6e4241c9b319de0cfa8cedd5": {
          "model_module": "@jupyter-widgets/controls",
          "model_name": "FloatProgressModel",
          "model_module_version": "1.5.0",
          "state": {
            "_dom_classes": [],
            "_model_module": "@jupyter-widgets/controls",
            "_model_module_version": "1.5.0",
            "_model_name": "FloatProgressModel",
            "_view_count": null,
            "_view_module": "@jupyter-widgets/controls",
            "_view_module_version": "1.5.0",
            "_view_name": "ProgressView",
            "bar_style": "success",
            "description": "",
            "description_tooltip": null,
            "layout": "IPY_MODEL_cbda2fc75af746e7ac82792a0f32ef99",
            "max": 456356,
            "min": 0,
            "orientation": "horizontal",
            "style": "IPY_MODEL_642dae79a44d425ba25edceea1386727",
            "value": 456356
          }
        },
        "05093ae803b449e08070931733e3205f": {
          "model_module": "@jupyter-widgets/controls",
          "model_name": "HTMLModel",
          "model_module_version": "1.5.0",
          "state": {
            "_dom_classes": [],
            "_model_module": "@jupyter-widgets/controls",
            "_model_module_version": "1.5.0",
            "_model_name": "HTMLModel",
            "_view_count": null,
            "_view_module": "@jupyter-widgets/controls",
            "_view_module_version": "1.5.0",
            "_view_name": "HTMLView",
            "description": "",
            "description_tooltip": null,
            "layout": "IPY_MODEL_37210ad3577e409a9482e47f87e4b4ee",
            "placeholder": "​",
            "style": "IPY_MODEL_641a5926752342dcbcb5527a15fe2732",
            "value": " 456k/456k [00:00&lt;00:00, 2.56MB/s]"
          }
        },
        "5e673043f7074abb9fd76f2b5836731d": {
          "model_module": "@jupyter-widgets/base",
          "model_name": "LayoutModel",
          "model_module_version": "1.2.0",
          "state": {
            "_model_module": "@jupyter-widgets/base",
            "_model_module_version": "1.2.0",
            "_model_name": "LayoutModel",
            "_view_count": null,
            "_view_module": "@jupyter-widgets/base",
            "_view_module_version": "1.2.0",
            "_view_name": "LayoutView",
            "align_content": null,
            "align_items": null,
            "align_self": null,
            "border": null,
            "bottom": null,
            "display": null,
            "flex": null,
            "flex_flow": null,
            "grid_area": null,
            "grid_auto_columns": null,
            "grid_auto_flow": null,
            "grid_auto_rows": null,
            "grid_column": null,
            "grid_gap": null,
            "grid_row": null,
            "grid_template_areas": null,
            "grid_template_columns": null,
            "grid_template_rows": null,
            "height": null,
            "justify_content": null,
            "justify_items": null,
            "left": null,
            "margin": null,
            "max_height": null,
            "max_width": null,
            "min_height": null,
            "min_width": null,
            "object_fit": null,
            "object_position": null,
            "order": null,
            "overflow": null,
            "overflow_x": null,
            "overflow_y": null,
            "padding": null,
            "right": null,
            "top": null,
            "visibility": null,
            "width": null
          }
        },
        "036649627efb47828db714cd8df6a154": {
          "model_module": "@jupyter-widgets/base",
          "model_name": "LayoutModel",
          "model_module_version": "1.2.0",
          "state": {
            "_model_module": "@jupyter-widgets/base",
            "_model_module_version": "1.2.0",
            "_model_name": "LayoutModel",
            "_view_count": null,
            "_view_module": "@jupyter-widgets/base",
            "_view_module_version": "1.2.0",
            "_view_name": "LayoutView",
            "align_content": null,
            "align_items": null,
            "align_self": null,
            "border": null,
            "bottom": null,
            "display": null,
            "flex": null,
            "flex_flow": null,
            "grid_area": null,
            "grid_auto_columns": null,
            "grid_auto_flow": null,
            "grid_auto_rows": null,
            "grid_column": null,
            "grid_gap": null,
            "grid_row": null,
            "grid_template_areas": null,
            "grid_template_columns": null,
            "grid_template_rows": null,
            "height": null,
            "justify_content": null,
            "justify_items": null,
            "left": null,
            "margin": null,
            "max_height": null,
            "max_width": null,
            "min_height": null,
            "min_width": null,
            "object_fit": null,
            "object_position": null,
            "order": null,
            "overflow": null,
            "overflow_x": null,
            "overflow_y": null,
            "padding": null,
            "right": null,
            "top": null,
            "visibility": null,
            "width": null
          }
        },
        "23acc39a03964c5d96b4f65d4bd3b4d2": {
          "model_module": "@jupyter-widgets/controls",
          "model_name": "DescriptionStyleModel",
          "model_module_version": "1.5.0",
          "state": {
            "_model_module": "@jupyter-widgets/controls",
            "_model_module_version": "1.5.0",
            "_model_name": "DescriptionStyleModel",
            "_view_count": null,
            "_view_module": "@jupyter-widgets/base",
            "_view_module_version": "1.2.0",
            "_view_name": "StyleView",
            "description_width": ""
          }
        },
        "cbda2fc75af746e7ac82792a0f32ef99": {
          "model_module": "@jupyter-widgets/base",
          "model_name": "LayoutModel",
          "model_module_version": "1.2.0",
          "state": {
            "_model_module": "@jupyter-widgets/base",
            "_model_module_version": "1.2.0",
            "_model_name": "LayoutModel",
            "_view_count": null,
            "_view_module": "@jupyter-widgets/base",
            "_view_module_version": "1.2.0",
            "_view_name": "LayoutView",
            "align_content": null,
            "align_items": null,
            "align_self": null,
            "border": null,
            "bottom": null,
            "display": null,
            "flex": null,
            "flex_flow": null,
            "grid_area": null,
            "grid_auto_columns": null,
            "grid_auto_flow": null,
            "grid_auto_rows": null,
            "grid_column": null,
            "grid_gap": null,
            "grid_row": null,
            "grid_template_areas": null,
            "grid_template_columns": null,
            "grid_template_rows": null,
            "height": null,
            "justify_content": null,
            "justify_items": null,
            "left": null,
            "margin": null,
            "max_height": null,
            "max_width": null,
            "min_height": null,
            "min_width": null,
            "object_fit": null,
            "object_position": null,
            "order": null,
            "overflow": null,
            "overflow_x": null,
            "overflow_y": null,
            "padding": null,
            "right": null,
            "top": null,
            "visibility": null,
            "width": null
          }
        },
        "642dae79a44d425ba25edceea1386727": {
          "model_module": "@jupyter-widgets/controls",
          "model_name": "ProgressStyleModel",
          "model_module_version": "1.5.0",
          "state": {
            "_model_module": "@jupyter-widgets/controls",
            "_model_module_version": "1.5.0",
            "_model_name": "ProgressStyleModel",
            "_view_count": null,
            "_view_module": "@jupyter-widgets/base",
            "_view_module_version": "1.2.0",
            "_view_name": "StyleView",
            "bar_color": null,
            "description_width": ""
          }
        },
        "37210ad3577e409a9482e47f87e4b4ee": {
          "model_module": "@jupyter-widgets/base",
          "model_name": "LayoutModel",
          "model_module_version": "1.2.0",
          "state": {
            "_model_module": "@jupyter-widgets/base",
            "_model_module_version": "1.2.0",
            "_model_name": "LayoutModel",
            "_view_count": null,
            "_view_module": "@jupyter-widgets/base",
            "_view_module_version": "1.2.0",
            "_view_name": "LayoutView",
            "align_content": null,
            "align_items": null,
            "align_self": null,
            "border": null,
            "bottom": null,
            "display": null,
            "flex": null,
            "flex_flow": null,
            "grid_area": null,
            "grid_auto_columns": null,
            "grid_auto_flow": null,
            "grid_auto_rows": null,
            "grid_column": null,
            "grid_gap": null,
            "grid_row": null,
            "grid_template_areas": null,
            "grid_template_columns": null,
            "grid_template_rows": null,
            "height": null,
            "justify_content": null,
            "justify_items": null,
            "left": null,
            "margin": null,
            "max_height": null,
            "max_width": null,
            "min_height": null,
            "min_width": null,
            "object_fit": null,
            "object_position": null,
            "order": null,
            "overflow": null,
            "overflow_x": null,
            "overflow_y": null,
            "padding": null,
            "right": null,
            "top": null,
            "visibility": null,
            "width": null
          }
        },
        "641a5926752342dcbcb5527a15fe2732": {
          "model_module": "@jupyter-widgets/controls",
          "model_name": "DescriptionStyleModel",
          "model_module_version": "1.5.0",
          "state": {
            "_model_module": "@jupyter-widgets/controls",
            "_model_module_version": "1.5.0",
            "_model_name": "DescriptionStyleModel",
            "_view_count": null,
            "_view_module": "@jupyter-widgets/base",
            "_view_module_version": "1.2.0",
            "_view_name": "StyleView",
            "description_width": ""
          }
        },
        "220d9737254a4d75a47c84bf63dd1284": {
          "model_module": "@jupyter-widgets/controls",
          "model_name": "HBoxModel",
          "model_module_version": "1.5.0",
          "state": {
            "_dom_classes": [],
            "_model_module": "@jupyter-widgets/controls",
            "_model_module_version": "1.5.0",
            "_model_name": "HBoxModel",
            "_view_count": null,
            "_view_module": "@jupyter-widgets/controls",
            "_view_module_version": "1.5.0",
            "_view_name": "HBoxView",
            "box_style": "",
            "children": [
              "IPY_MODEL_e1b935c426794c849879f86205d6f561",
              "IPY_MODEL_dc0ea03d20964bf2a9b8e15afba93dc7",
              "IPY_MODEL_7718d47d87e64fd084494391eb1bc860"
            ],
            "layout": "IPY_MODEL_451dc8dfd9c9468c9c47a858314f62ef"
          }
        },
        "e1b935c426794c849879f86205d6f561": {
          "model_module": "@jupyter-widgets/controls",
          "model_name": "HTMLModel",
          "model_module_version": "1.5.0",
          "state": {
            "_dom_classes": [],
            "_model_module": "@jupyter-widgets/controls",
            "_model_module_version": "1.5.0",
            "_model_name": "HTMLModel",
            "_view_count": null,
            "_view_module": "@jupyter-widgets/controls",
            "_view_module_version": "1.5.0",
            "_view_name": "HTMLView",
            "description": "",
            "description_tooltip": null,
            "layout": "IPY_MODEL_f5b193d115944d7e857225e4df70116b",
            "placeholder": "​",
            "style": "IPY_MODEL_f1ca3baadf70438f8ebe111a15778da8",
            "value": "special_tokens_map.json: 100%"
          }
        },
        "dc0ea03d20964bf2a9b8e15afba93dc7": {
          "model_module": "@jupyter-widgets/controls",
          "model_name": "FloatProgressModel",
          "model_module_version": "1.5.0",
          "state": {
            "_dom_classes": [],
            "_model_module": "@jupyter-widgets/controls",
            "_model_module_version": "1.5.0",
            "_model_name": "FloatProgressModel",
            "_view_count": null,
            "_view_module": "@jupyter-widgets/controls",
            "_view_module_version": "1.5.0",
            "_view_name": "ProgressView",
            "bar_style": "success",
            "description": "",
            "description_tooltip": null,
            "layout": "IPY_MODEL_785b62be59a94d53a0e33dfdcaad10fd",
            "max": 239,
            "min": 0,
            "orientation": "horizontal",
            "style": "IPY_MODEL_2d18ca148d7d4ccdba32a60da9ede651",
            "value": 239
          }
        },
        "7718d47d87e64fd084494391eb1bc860": {
          "model_module": "@jupyter-widgets/controls",
          "model_name": "HTMLModel",
          "model_module_version": "1.5.0",
          "state": {
            "_dom_classes": [],
            "_model_module": "@jupyter-widgets/controls",
            "_model_module_version": "1.5.0",
            "_model_name": "HTMLModel",
            "_view_count": null,
            "_view_module": "@jupyter-widgets/controls",
            "_view_module_version": "1.5.0",
            "_view_name": "HTMLView",
            "description": "",
            "description_tooltip": null,
            "layout": "IPY_MODEL_855bba6a20c844b99d69b966836ba15e",
            "placeholder": "​",
            "style": "IPY_MODEL_4bf0f41965d84350b0240a5312b74f97",
            "value": " 239/239 [00:00&lt;00:00, 5.85kB/s]"
          }
        },
        "451dc8dfd9c9468c9c47a858314f62ef": {
          "model_module": "@jupyter-widgets/base",
          "model_name": "LayoutModel",
          "model_module_version": "1.2.0",
          "state": {
            "_model_module": "@jupyter-widgets/base",
            "_model_module_version": "1.2.0",
            "_model_name": "LayoutModel",
            "_view_count": null,
            "_view_module": "@jupyter-widgets/base",
            "_view_module_version": "1.2.0",
            "_view_name": "LayoutView",
            "align_content": null,
            "align_items": null,
            "align_self": null,
            "border": null,
            "bottom": null,
            "display": null,
            "flex": null,
            "flex_flow": null,
            "grid_area": null,
            "grid_auto_columns": null,
            "grid_auto_flow": null,
            "grid_auto_rows": null,
            "grid_column": null,
            "grid_gap": null,
            "grid_row": null,
            "grid_template_areas": null,
            "grid_template_columns": null,
            "grid_template_rows": null,
            "height": null,
            "justify_content": null,
            "justify_items": null,
            "left": null,
            "margin": null,
            "max_height": null,
            "max_width": null,
            "min_height": null,
            "min_width": null,
            "object_fit": null,
            "object_position": null,
            "order": null,
            "overflow": null,
            "overflow_x": null,
            "overflow_y": null,
            "padding": null,
            "right": null,
            "top": null,
            "visibility": null,
            "width": null
          }
        },
        "f5b193d115944d7e857225e4df70116b": {
          "model_module": "@jupyter-widgets/base",
          "model_name": "LayoutModel",
          "model_module_version": "1.2.0",
          "state": {
            "_model_module": "@jupyter-widgets/base",
            "_model_module_version": "1.2.0",
            "_model_name": "LayoutModel",
            "_view_count": null,
            "_view_module": "@jupyter-widgets/base",
            "_view_module_version": "1.2.0",
            "_view_name": "LayoutView",
            "align_content": null,
            "align_items": null,
            "align_self": null,
            "border": null,
            "bottom": null,
            "display": null,
            "flex": null,
            "flex_flow": null,
            "grid_area": null,
            "grid_auto_columns": null,
            "grid_auto_flow": null,
            "grid_auto_rows": null,
            "grid_column": null,
            "grid_gap": null,
            "grid_row": null,
            "grid_template_areas": null,
            "grid_template_columns": null,
            "grid_template_rows": null,
            "height": null,
            "justify_content": null,
            "justify_items": null,
            "left": null,
            "margin": null,
            "max_height": null,
            "max_width": null,
            "min_height": null,
            "min_width": null,
            "object_fit": null,
            "object_position": null,
            "order": null,
            "overflow": null,
            "overflow_x": null,
            "overflow_y": null,
            "padding": null,
            "right": null,
            "top": null,
            "visibility": null,
            "width": null
          }
        },
        "f1ca3baadf70438f8ebe111a15778da8": {
          "model_module": "@jupyter-widgets/controls",
          "model_name": "DescriptionStyleModel",
          "model_module_version": "1.5.0",
          "state": {
            "_model_module": "@jupyter-widgets/controls",
            "_model_module_version": "1.5.0",
            "_model_name": "DescriptionStyleModel",
            "_view_count": null,
            "_view_module": "@jupyter-widgets/base",
            "_view_module_version": "1.2.0",
            "_view_name": "StyleView",
            "description_width": ""
          }
        },
        "785b62be59a94d53a0e33dfdcaad10fd": {
          "model_module": "@jupyter-widgets/base",
          "model_name": "LayoutModel",
          "model_module_version": "1.2.0",
          "state": {
            "_model_module": "@jupyter-widgets/base",
            "_model_module_version": "1.2.0",
            "_model_name": "LayoutModel",
            "_view_count": null,
            "_view_module": "@jupyter-widgets/base",
            "_view_module_version": "1.2.0",
            "_view_name": "LayoutView",
            "align_content": null,
            "align_items": null,
            "align_self": null,
            "border": null,
            "bottom": null,
            "display": null,
            "flex": null,
            "flex_flow": null,
            "grid_area": null,
            "grid_auto_columns": null,
            "grid_auto_flow": null,
            "grid_auto_rows": null,
            "grid_column": null,
            "grid_gap": null,
            "grid_row": null,
            "grid_template_areas": null,
            "grid_template_columns": null,
            "grid_template_rows": null,
            "height": null,
            "justify_content": null,
            "justify_items": null,
            "left": null,
            "margin": null,
            "max_height": null,
            "max_width": null,
            "min_height": null,
            "min_width": null,
            "object_fit": null,
            "object_position": null,
            "order": null,
            "overflow": null,
            "overflow_x": null,
            "overflow_y": null,
            "padding": null,
            "right": null,
            "top": null,
            "visibility": null,
            "width": null
          }
        },
        "2d18ca148d7d4ccdba32a60da9ede651": {
          "model_module": "@jupyter-widgets/controls",
          "model_name": "ProgressStyleModel",
          "model_module_version": "1.5.0",
          "state": {
            "_model_module": "@jupyter-widgets/controls",
            "_model_module_version": "1.5.0",
            "_model_name": "ProgressStyleModel",
            "_view_count": null,
            "_view_module": "@jupyter-widgets/base",
            "_view_module_version": "1.2.0",
            "_view_name": "StyleView",
            "bar_color": null,
            "description_width": ""
          }
        },
        "855bba6a20c844b99d69b966836ba15e": {
          "model_module": "@jupyter-widgets/base",
          "model_name": "LayoutModel",
          "model_module_version": "1.2.0",
          "state": {
            "_model_module": "@jupyter-widgets/base",
            "_model_module_version": "1.2.0",
            "_model_name": "LayoutModel",
            "_view_count": null,
            "_view_module": "@jupyter-widgets/base",
            "_view_module_version": "1.2.0",
            "_view_name": "LayoutView",
            "align_content": null,
            "align_items": null,
            "align_self": null,
            "border": null,
            "bottom": null,
            "display": null,
            "flex": null,
            "flex_flow": null,
            "grid_area": null,
            "grid_auto_columns": null,
            "grid_auto_flow": null,
            "grid_auto_rows": null,
            "grid_column": null,
            "grid_gap": null,
            "grid_row": null,
            "grid_template_areas": null,
            "grid_template_columns": null,
            "grid_template_rows": null,
            "height": null,
            "justify_content": null,
            "justify_items": null,
            "left": null,
            "margin": null,
            "max_height": null,
            "max_width": null,
            "min_height": null,
            "min_width": null,
            "object_fit": null,
            "object_position": null,
            "order": null,
            "overflow": null,
            "overflow_x": null,
            "overflow_y": null,
            "padding": null,
            "right": null,
            "top": null,
            "visibility": null,
            "width": null
          }
        },
        "4bf0f41965d84350b0240a5312b74f97": {
          "model_module": "@jupyter-widgets/controls",
          "model_name": "DescriptionStyleModel",
          "model_module_version": "1.5.0",
          "state": {
            "_model_module": "@jupyter-widgets/controls",
            "_model_module_version": "1.5.0",
            "_model_name": "DescriptionStyleModel",
            "_view_count": null,
            "_view_module": "@jupyter-widgets/base",
            "_view_module_version": "1.2.0",
            "_view_name": "StyleView",
            "description_width": ""
          }
        },
        "92de8c5acc414dab80acfe41813b61f9": {
          "model_module": "@jupyter-widgets/controls",
          "model_name": "HBoxModel",
          "model_module_version": "1.5.0",
          "state": {
            "_dom_classes": [],
            "_model_module": "@jupyter-widgets/controls",
            "_model_module_version": "1.5.0",
            "_model_name": "HBoxModel",
            "_view_count": null,
            "_view_module": "@jupyter-widgets/controls",
            "_view_module_version": "1.5.0",
            "_view_name": "HBoxView",
            "box_style": "",
            "children": [
              "IPY_MODEL_60dbc0f4eb5f47f584577d87993e8802",
              "IPY_MODEL_277cf6a36da349c9817f0f94edc2ce14",
              "IPY_MODEL_3d7469cc825a456a9a1722a1bfeaa0a8"
            ],
            "layout": "IPY_MODEL_77385a6e6a534a4cb8865895600fdfaf"
          }
        },
        "60dbc0f4eb5f47f584577d87993e8802": {
          "model_module": "@jupyter-widgets/controls",
          "model_name": "HTMLModel",
          "model_module_version": "1.5.0",
          "state": {
            "_dom_classes": [],
            "_model_module": "@jupyter-widgets/controls",
            "_model_module_version": "1.5.0",
            "_model_name": "HTMLModel",
            "_view_count": null,
            "_view_module": "@jupyter-widgets/controls",
            "_view_module_version": "1.5.0",
            "_view_name": "HTMLView",
            "description": "",
            "description_tooltip": null,
            "layout": "IPY_MODEL_10662ff24050448884afe31c1cecd8b7",
            "placeholder": "​",
            "style": "IPY_MODEL_ca5e35ff53664009a949ba7deb5da855",
            "value": "pytorch_model.bin: 100%"
          }
        },
        "277cf6a36da349c9817f0f94edc2ce14": {
          "model_module": "@jupyter-widgets/controls",
          "model_name": "FloatProgressModel",
          "model_module_version": "1.5.0",
          "state": {
            "_dom_classes": [],
            "_model_module": "@jupyter-widgets/controls",
            "_model_module_version": "1.5.0",
            "_model_name": "FloatProgressModel",
            "_view_count": null,
            "_view_module": "@jupyter-widgets/controls",
            "_view_module_version": "1.5.0",
            "_view_name": "ProgressView",
            "bar_style": "success",
            "description": "",
            "description_tooltip": null,
            "layout": "IPY_MODEL_c91ce80d2857471ea47f211beb5c8772",
            "max": 501003010,
            "min": 0,
            "orientation": "horizontal",
            "style": "IPY_MODEL_d482637959b545379aa92080bbf3d0d3",
            "value": 501003010
          }
        },
        "3d7469cc825a456a9a1722a1bfeaa0a8": {
          "model_module": "@jupyter-widgets/controls",
          "model_name": "HTMLModel",
          "model_module_version": "1.5.0",
          "state": {
            "_dom_classes": [],
            "_model_module": "@jupyter-widgets/controls",
            "_model_module_version": "1.5.0",
            "_model_name": "HTMLModel",
            "_view_count": null,
            "_view_module": "@jupyter-widgets/controls",
            "_view_module_version": "1.5.0",
            "_view_name": "HTMLView",
            "description": "",
            "description_tooltip": null,
            "layout": "IPY_MODEL_b84db82ad78a48b4be1b79a9d0aa7eec",
            "placeholder": "​",
            "style": "IPY_MODEL_82f8f406815f4d6293430cb0059bace4",
            "value": " 501M/501M [00:05&lt;00:00, 93.4MB/s]"
          }
        },
        "77385a6e6a534a4cb8865895600fdfaf": {
          "model_module": "@jupyter-widgets/base",
          "model_name": "LayoutModel",
          "model_module_version": "1.2.0",
          "state": {
            "_model_module": "@jupyter-widgets/base",
            "_model_module_version": "1.2.0",
            "_model_name": "LayoutModel",
            "_view_count": null,
            "_view_module": "@jupyter-widgets/base",
            "_view_module_version": "1.2.0",
            "_view_name": "LayoutView",
            "align_content": null,
            "align_items": null,
            "align_self": null,
            "border": null,
            "bottom": null,
            "display": null,
            "flex": null,
            "flex_flow": null,
            "grid_area": null,
            "grid_auto_columns": null,
            "grid_auto_flow": null,
            "grid_auto_rows": null,
            "grid_column": null,
            "grid_gap": null,
            "grid_row": null,
            "grid_template_areas": null,
            "grid_template_columns": null,
            "grid_template_rows": null,
            "height": null,
            "justify_content": null,
            "justify_items": null,
            "left": null,
            "margin": null,
            "max_height": null,
            "max_width": null,
            "min_height": null,
            "min_width": null,
            "object_fit": null,
            "object_position": null,
            "order": null,
            "overflow": null,
            "overflow_x": null,
            "overflow_y": null,
            "padding": null,
            "right": null,
            "top": null,
            "visibility": null,
            "width": null
          }
        },
        "10662ff24050448884afe31c1cecd8b7": {
          "model_module": "@jupyter-widgets/base",
          "model_name": "LayoutModel",
          "model_module_version": "1.2.0",
          "state": {
            "_model_module": "@jupyter-widgets/base",
            "_model_module_version": "1.2.0",
            "_model_name": "LayoutModel",
            "_view_count": null,
            "_view_module": "@jupyter-widgets/base",
            "_view_module_version": "1.2.0",
            "_view_name": "LayoutView",
            "align_content": null,
            "align_items": null,
            "align_self": null,
            "border": null,
            "bottom": null,
            "display": null,
            "flex": null,
            "flex_flow": null,
            "grid_area": null,
            "grid_auto_columns": null,
            "grid_auto_flow": null,
            "grid_auto_rows": null,
            "grid_column": null,
            "grid_gap": null,
            "grid_row": null,
            "grid_template_areas": null,
            "grid_template_columns": null,
            "grid_template_rows": null,
            "height": null,
            "justify_content": null,
            "justify_items": null,
            "left": null,
            "margin": null,
            "max_height": null,
            "max_width": null,
            "min_height": null,
            "min_width": null,
            "object_fit": null,
            "object_position": null,
            "order": null,
            "overflow": null,
            "overflow_x": null,
            "overflow_y": null,
            "padding": null,
            "right": null,
            "top": null,
            "visibility": null,
            "width": null
          }
        },
        "ca5e35ff53664009a949ba7deb5da855": {
          "model_module": "@jupyter-widgets/controls",
          "model_name": "DescriptionStyleModel",
          "model_module_version": "1.5.0",
          "state": {
            "_model_module": "@jupyter-widgets/controls",
            "_model_module_version": "1.5.0",
            "_model_name": "DescriptionStyleModel",
            "_view_count": null,
            "_view_module": "@jupyter-widgets/base",
            "_view_module_version": "1.2.0",
            "_view_name": "StyleView",
            "description_width": ""
          }
        },
        "c91ce80d2857471ea47f211beb5c8772": {
          "model_module": "@jupyter-widgets/base",
          "model_name": "LayoutModel",
          "model_module_version": "1.2.0",
          "state": {
            "_model_module": "@jupyter-widgets/base",
            "_model_module_version": "1.2.0",
            "_model_name": "LayoutModel",
            "_view_count": null,
            "_view_module": "@jupyter-widgets/base",
            "_view_module_version": "1.2.0",
            "_view_name": "LayoutView",
            "align_content": null,
            "align_items": null,
            "align_self": null,
            "border": null,
            "bottom": null,
            "display": null,
            "flex": null,
            "flex_flow": null,
            "grid_area": null,
            "grid_auto_columns": null,
            "grid_auto_flow": null,
            "grid_auto_rows": null,
            "grid_column": null,
            "grid_gap": null,
            "grid_row": null,
            "grid_template_areas": null,
            "grid_template_columns": null,
            "grid_template_rows": null,
            "height": null,
            "justify_content": null,
            "justify_items": null,
            "left": null,
            "margin": null,
            "max_height": null,
            "max_width": null,
            "min_height": null,
            "min_width": null,
            "object_fit": null,
            "object_position": null,
            "order": null,
            "overflow": null,
            "overflow_x": null,
            "overflow_y": null,
            "padding": null,
            "right": null,
            "top": null,
            "visibility": null,
            "width": null
          }
        },
        "d482637959b545379aa92080bbf3d0d3": {
          "model_module": "@jupyter-widgets/controls",
          "model_name": "ProgressStyleModel",
          "model_module_version": "1.5.0",
          "state": {
            "_model_module": "@jupyter-widgets/controls",
            "_model_module_version": "1.5.0",
            "_model_name": "ProgressStyleModel",
            "_view_count": null,
            "_view_module": "@jupyter-widgets/base",
            "_view_module_version": "1.2.0",
            "_view_name": "StyleView",
            "bar_color": null,
            "description_width": ""
          }
        },
        "b84db82ad78a48b4be1b79a9d0aa7eec": {
          "model_module": "@jupyter-widgets/base",
          "model_name": "LayoutModel",
          "model_module_version": "1.2.0",
          "state": {
            "_model_module": "@jupyter-widgets/base",
            "_model_module_version": "1.2.0",
            "_model_name": "LayoutModel",
            "_view_count": null,
            "_view_module": "@jupyter-widgets/base",
            "_view_module_version": "1.2.0",
            "_view_name": "LayoutView",
            "align_content": null,
            "align_items": null,
            "align_self": null,
            "border": null,
            "bottom": null,
            "display": null,
            "flex": null,
            "flex_flow": null,
            "grid_area": null,
            "grid_auto_columns": null,
            "grid_auto_flow": null,
            "grid_auto_rows": null,
            "grid_column": null,
            "grid_gap": null,
            "grid_row": null,
            "grid_template_areas": null,
            "grid_template_columns": null,
            "grid_template_rows": null,
            "height": null,
            "justify_content": null,
            "justify_items": null,
            "left": null,
            "margin": null,
            "max_height": null,
            "max_width": null,
            "min_height": null,
            "min_width": null,
            "object_fit": null,
            "object_position": null,
            "order": null,
            "overflow": null,
            "overflow_x": null,
            "overflow_y": null,
            "padding": null,
            "right": null,
            "top": null,
            "visibility": null,
            "width": null
          }
        },
        "82f8f406815f4d6293430cb0059bace4": {
          "model_module": "@jupyter-widgets/controls",
          "model_name": "DescriptionStyleModel",
          "model_module_version": "1.5.0",
          "state": {
            "_model_module": "@jupyter-widgets/controls",
            "_model_module_version": "1.5.0",
            "_model_name": "DescriptionStyleModel",
            "_view_count": null,
            "_view_module": "@jupyter-widgets/base",
            "_view_module_version": "1.2.0",
            "_view_name": "StyleView",
            "description_width": ""
          }
        }
      }
    }
  },
  "nbformat_minor": 0,
  "nbformat": 4,
  "cells": [
    {
      "cell_type": "markdown",
      "metadata": {
        "id": "view-in-github",
        "colab_type": "text"
      },
      "source": [
        "<a href=\"https://colab.research.google.com/github/junisatria20/DeepLearning/blob/main/TugasWeek6.ipynb\" target=\"_parent\"><img src=\"https://colab.research.google.com/assets/colab-badge.svg\" alt=\"Open In Colab\"/></a>"
      ]
    },
    {
      "cell_type": "markdown",
      "source": [
        "Nama : Juni Satria Siregar\n",
        "\n",
        "NPM : 2306288906\n",
        "\n",
        "Original Code : https://www.kaggle.com/code/scratchpad/notebook8e86976232/edit"
      ],
      "metadata": {
        "id": "44vRIwnM0LSX"
      }
    },
    {
      "source": [
        "\n",
        "# IMPORTANT: RUN THIS CELL IN ORDER TO IMPORT YOUR KAGGLE DATA SOURCES\n",
        "# TO THE CORRECT LOCATION (/kaggle/input) IN YOUR NOTEBOOK,\n",
        "# THEN FEEL FREE TO DELETE THIS CELL.\n",
        "# NOTE: THIS NOTEBOOK ENVIRONMENT DIFFERS FROM KAGGLE'S PYTHON\n",
        "# ENVIRONMENT SO THERE MAY BE MISSING LIBRARIES USED BY YOUR\n",
        "# NOTEBOOK.\n",
        "\n",
        "import os\n",
        "import sys\n",
        "from tempfile import NamedTemporaryFile\n",
        "from urllib.request import urlopen\n",
        "from urllib.parse import unquote, urlparse\n",
        "from urllib.error import HTTPError\n",
        "from zipfile import ZipFile\n",
        "import tarfile\n",
        "import shutil\n",
        "\n",
        "CHUNK_SIZE = 40960\n",
        "DATA_SOURCE_MAPPING = 'imdb-dataset-of-50k-movie-reviews:https%3A%2F%2Fstorage.googleapis.com%2Fkaggle-data-sets%2F134715%2F320111%2Fbundle%2Farchive.zip%3FX-Goog-Algorithm%3DGOOG4-RSA-SHA256%26X-Goog-Credential%3Dgcp-kaggle-com%2540kaggle-161607.iam.gserviceaccount.com%252F20241012%252Fauto%252Fstorage%252Fgoog4_request%26X-Goog-Date%3D20241012T120317Z%26X-Goog-Expires%3D259200%26X-Goog-SignedHeaders%3Dhost%26X-Goog-Signature%3D3152a8db5225cc3db92a4970cdc99216a5ba3ac2875dcc1c0f4c1a8bc42e450e9eed5002cd967c5bab78dad26b843e5360008846edc9e0d09b12ec0aed2e573bab9cd0dca7a51938d2b39e45c46019305b9705b188b4fa46af0d79cb391a44edfaa0acbb66717af33132954d3e108d67e65bf721dcd56a02025a609c6ebe04b4d102a4f05825a51085bda66f8a3758e854314508130e618042e1e3e128a8b81551f499fa0b22076444435f084c5959ab13c4fba3de3646c8c1cd701c6e109b50e9a0a598de8fe5eb6a4f3fc8e042c75128d30613af26da22b47ad4d97805672280849f86a72bdf95465e8828e252a0f19c971e18ab0839eb10e7d05da5c47d8a,twitter-sentiment-dataset:https%3A%2F%2Fstorage.googleapis.com%2Fkaggle-data-sets%2F1340873%2F2231927%2Fbundle%2Farchive.zip%3FX-Goog-Algorithm%3DGOOG4-RSA-SHA256%26X-Goog-Credential%3Dgcp-kaggle-com%2540kaggle-161607.iam.gserviceaccount.com%252F20241012%252Fauto%252Fstorage%252Fgoog4_request%26X-Goog-Date%3D20241012T120317Z%26X-Goog-Expires%3D259200%26X-Goog-SignedHeaders%3Dhost%26X-Goog-Signature%3D7172ad7aaf6b48e5c7b6f8a51d76111a033a4bedfca42d8bc61179b15920f09a1f282943c2ff7057ebf522a7526a772c09ba1979f2b6fb9075af57e4e548ea7569f8514428b574c657592c6be0adc12c0b704862987ecfab968cdfb7e9c6096095fc4d1b76d71afb80d1b9625b2da633584051f1acce4180cb49c68b76a2d1179a3ec6e00e6351d7bd9531f0cc1e09e1d4b10e8894161d2d5fc8f239da8de65e6f0fff7aca5ceef13bbcc18064096af3e64a5984ab49e44fac7254667f2fe7b7f6e783d98501ff8cf21729e5ca2a0393e0a3f461005523b00b6ec9fdfec50684ec2586638868a258f4e692086b665411412e0e71cf3b25d2682686b06f33768b,twitter-entity-sentiment-analysis:https%3A%2F%2Fstorage.googleapis.com%2Fkaggle-data-sets%2F1520310%2F2510329%2Fbundle%2Farchive.zip%3FX-Goog-Algorithm%3DGOOG4-RSA-SHA256%26X-Goog-Credential%3Dgcp-kaggle-com%2540kaggle-161607.iam.gserviceaccount.com%252F20241012%252Fauto%252Fstorage%252Fgoog4_request%26X-Goog-Date%3D20241012T120317Z%26X-Goog-Expires%3D259200%26X-Goog-SignedHeaders%3Dhost%26X-Goog-Signature%3Da5a27156b871f7e7fc9323b0f3534dd741f8ce9f47dbd007fa0e425e5cb39f30a71a04c8db5aeda882e81dad0dd7652caf42b934941e66612eba256aca619fa66962a7a2d3be45a0b45c6624cf12947da7b64aadbbb011f4f0340277e4f50ddda0e04d193e76d3ac4c22430b00b01fe93a120d3c11b9691384f84393b529b46260e3aa54bdb008dd9e020cb8f3a91ff3fc1a710dbf590f3e6a62225e30e9602dc2146c4ef82f08560318e3883bc8ee4f96267b6a2d672cdaf812cdd23c639ce18ce729cd37428cc2e132aea27632226d43da5abed4c0a0bf0fc0964659e5b9bc134a76192d82c62549172e5eceba1ebd84989bcb6ebad8f5ae3783f55b6b410e,harry-potter-books:https%3A%2F%2Fstorage.googleapis.com%2Fkaggle-data-sets%2F4930712%2F8299811%2Fbundle%2Farchive.zip%3FX-Goog-Algorithm%3DGOOG4-RSA-SHA256%26X-Goog-Credential%3Dgcp-kaggle-com%2540kaggle-161607.iam.gserviceaccount.com%252F20241012%252Fauto%252Fstorage%252Fgoog4_request%26X-Goog-Date%3D20241012T120317Z%26X-Goog-Expires%3D259200%26X-Goog-SignedHeaders%3Dhost%26X-Goog-Signature%3D6e33e74d1a93a27c3f20e467a07428fb923dcf2aa9cf3cee69622bb53db52de8ac152557b90841a140f534345a8385cbb3f6e2c08abf23ef46edd98e95cbd7f0adc596b40ac477e25d704f620b33d061249dc6773402339681b0f1c7182ef26badf3c40ef56b31f59906c0e8d61c2b36e112bdfcde0365f9c3eeee03994530565228fabe3498ff287e72c616a93caff69aa7e199fc68e281b332b53c9fb581a9141dc6ed6c994eac92d1298d136decfe3039d1d7e8d69630309df5dd1d22e6b3995054c7bf89c46f2955651705176f56b319a805b9bc0ef3336a901c7c5f5669fa625ea22d1e6e198a2c100c4fb1ffb4f53471d868b7a06d28fc4462c1feceed'\n",
        "\n",
        "KAGGLE_INPUT_PATH='/kaggle/input'\n",
        "KAGGLE_WORKING_PATH='/kaggle/working'\n",
        "KAGGLE_SYMLINK='kaggle'\n",
        "\n",
        "!umount /kaggle/input/ 2> /dev/null\n",
        "shutil.rmtree('/kaggle/input', ignore_errors=True)\n",
        "os.makedirs(KAGGLE_INPUT_PATH, 0o777, exist_ok=True)\n",
        "os.makedirs(KAGGLE_WORKING_PATH, 0o777, exist_ok=True)\n",
        "\n",
        "try:\n",
        "  os.symlink(KAGGLE_INPUT_PATH, os.path.join(\"..\", 'input'), target_is_directory=True)\n",
        "except FileExistsError:\n",
        "  pass\n",
        "try:\n",
        "  os.symlink(KAGGLE_WORKING_PATH, os.path.join(\"..\", 'working'), target_is_directory=True)\n",
        "except FileExistsError:\n",
        "  pass\n",
        "\n",
        "for data_source_mapping in DATA_SOURCE_MAPPING.split(','):\n",
        "    directory, download_url_encoded = data_source_mapping.split(':')\n",
        "    download_url = unquote(download_url_encoded)\n",
        "    filename = urlparse(download_url).path\n",
        "    destination_path = os.path.join(KAGGLE_INPUT_PATH, directory)\n",
        "    try:\n",
        "        with urlopen(download_url) as fileres, NamedTemporaryFile() as tfile:\n",
        "            total_length = fileres.headers['content-length']\n",
        "            print(f'Downloading {directory}, {total_length} bytes compressed')\n",
        "            dl = 0\n",
        "            data = fileres.read(CHUNK_SIZE)\n",
        "            while len(data) > 0:\n",
        "                dl += len(data)\n",
        "                tfile.write(data)\n",
        "                done = int(50 * dl / int(total_length))\n",
        "                sys.stdout.write(f\"\\r[{'=' * done}{' ' * (50-done)}] {dl} bytes downloaded\")\n",
        "                sys.stdout.flush()\n",
        "                data = fileres.read(CHUNK_SIZE)\n",
        "            if filename.endswith('.zip'):\n",
        "              with ZipFile(tfile) as zfile:\n",
        "                zfile.extractall(destination_path)\n",
        "            else:\n",
        "              with tarfile.open(tfile.name) as tarfile:\n",
        "                tarfile.extractall(destination_path)\n",
        "            print(f'\\nDownloaded and uncompressed: {directory}')\n",
        "    except HTTPError as e:\n",
        "        print(f'Failed to load (likely expired) {download_url} to path {destination_path}')\n",
        "        continue\n",
        "    except OSError as e:\n",
        "        print(f'Failed to load {download_url} to path {destination_path}')\n",
        "        continue\n",
        "\n",
        "print('Data source import complete.')\n"
      ],
      "metadata": {
        "colab": {
          "base_uri": "https://localhost:8080/"
        },
        "id": "_S2zaLBnnKlr",
        "outputId": "8adc46bf-43b1-43dc-f512-c27df5bd33df"
      },
      "cell_type": "code",
      "outputs": [
        {
          "output_type": "stream",
          "name": "stdout",
          "text": [
            "Downloading imdb-dataset-of-50k-movie-reviews, 26962657 bytes compressed\n",
            "[==================================================] 26962657 bytes downloaded\n",
            "Downloaded and uncompressed: imdb-dataset-of-50k-movie-reviews\n",
            "Downloading twitter-sentiment-dataset, 7966522 bytes compressed\n",
            "[==================================================] 7966522 bytes downloaded\n",
            "Downloaded and uncompressed: twitter-sentiment-dataset\n",
            "Downloading twitter-entity-sentiment-analysis, 2090169 bytes compressed\n",
            "[==================================================] 2090169 bytes downloaded\n",
            "Downloaded and uncompressed: twitter-entity-sentiment-analysis\n",
            "Downloading harry-potter-books, 2390829 bytes compressed\n",
            "[==================================================] 2390829 bytes downloaded\n",
            "Downloaded and uncompressed: harry-potter-books\n",
            "Data source import complete.\n"
          ]
        }
      ],
      "execution_count": null
    },
    {
      "cell_type": "markdown",
      "source": [
        "<a id=\"1\"></a>\n",
        "# <div style=\"text-align:center; border-radius:15px 50px; padding:7px; color:white; margin:0; font-size:110%; font-family:Pacifico; background-color:#0f7a7a; overflow:hidden\"><b>Complete NLP Pipeline</b></div>\n",
        "\n",
        "#### So hello guys this is my first notebook on NLP where I tried to illustrate  all preprocessing steps in NLP so If this helped in your learning, then please SUPPORT – as they are the source of motivation! Also if you find any flaw so kindly drop in the comment I will try my best to clear these\n",
        "#### Happy Learning\n",
        "\n",
        "### NLP (Natural Language Processing) pipeline typically involves several stages to transform raw text data into meaningful insights or actions. Here's an expanded explanation of each step involved in a typical NLP pipeline:\n",
        "\n",
        "### 1. Text Acquisition\n",
        "This is the initial step where you gather the text data from various sources such as websites, social media, documents, or databases.\n",
        "\n",
        "### 2. Text Preprocessing\n",
        "Preprocessing is crucial to clean and normalize the text data before analysis. This step involves several sub-tasks:\n",
        "\n",
        "- **Tokenization**: Splitting the text into individual words or tokens. For example, \"Hello world!\" becomes [\"Hello\", \"world\", \"!\"].\n",
        "- **Lowercasing**: Converting all characters to lowercase to ensure uniformity (e.g., \"Hello\" and \"hello\" are treated the same).\n",
        "- **Removing Punctuation**: Eliminating punctuation marks since they often do not contribute to the meaning.\n",
        "- **Stop Words Removal**: Removing common words like \"and\", \"the\", \"is\", which do not carry significant meaning.\n",
        "- **Lemmatization**: Converting words to their base or root form (e.g., \"running\" becomes \"run\").\n",
        "- **Stemming**: Similar to lemmatization, but usually more aggressive. It reduces words to their stem (e.g., \"running\" becomes \"run\", \"runner\" becomes \"run\").\n",
        "\n",
        "### 3. Feature Extraction\n",
        "This step transforms the text into numerical features that can be used by machine learning models.\n",
        "\n",
        "- **Bag of Words (BoW)**: Represents text as a collection of words irrespective of grammar and order, giving each word a unique index.\n",
        "- **TF-IDF (Term Frequency-Inverse Document Frequency)**: Measures the importance of a word in a document relative to the entire corpus.\n",
        "- **Word Embeddings**: Converts words into dense vectors that capture semantic meaning. Examples include Word2Vec, GloVe, and FastText.\n",
        "\n",
        "### 4. Model Training\n",
        "Using the features extracted in the previous step, you can now train machine learning models. This could involve various NLP tasks such as:\n",
        "\n",
        "- **Text Classification**: Assigning categories to text (e.g., spam detection, sentiment analysis).\n",
        "- **Named Entity Recognition (NER)**: Identifying entities like names, dates, and locations in text.\n",
        "- **Part-of-Speech (POS) Tagging**: Identifying grammatical parts of speech (nouns, verbs, adjectives, etc.).\n",
        "- **Dependency Parsing**: Analyzing the grammatical structure of a sentence.\n",
        "- **Machine Translation**: Translating text from one language to another.\n",
        "- **Text Summarization**: Condensing a text into a shorter version while retaining its main points.\n",
        "\n",
        "### 5. Model Evaluation\n",
        "Assess the performance of the trained model using metrics like accuracy, precision, recall, F1-score, etc. This helps in understanding how well the model is performing on unseen data.\n",
        "\n",
        "### 6. Model Deployment\n",
        "Once the model is trained and evaluated, it can be deployed to make predictions on new, unseen text data. This could involve integrating the model into a web service, application, or other platforms.\n",
        "\n",
        "### 7. Post-processing\n",
        "Post-processing steps might include formatting the model's output to make it more interpretable or actionable. For example, in a sentiment analysis task, converting numerical predictions into labels like \"Positive\", \"Negative\", or \"Neutral\".\n",
        "\n",
        "### 8. Feedback and Iteration\n",
        "Finally, the model's performance is monitored over time, and the pipeline is iteratively improved based on feedback. This could involve retraining the model with new data, fine-tuning hyperparameters, or experimenting with different preprocessing techniques.\n",
        "\n",
        "Below the complete NLP pipeline is mentioned, please zoom in your screen to read it clearly,"
      ],
      "metadata": {
        "id": "Bv1qhC0bnKlv"
      }
    },
    {
      "cell_type": "markdown",
      "source": [
        "![Untitled Diagram.drawio (3).png](attachment:de1baac8-a145-4764-9dae-0e5a19e0383a.png)"
      ],
      "metadata": {
        "id": "c0lb3OEjnKly"
      }
    },
    {
      "cell_type": "markdown",
      "source": [
        "<a id=\"1\"></a>\n",
        "# <div style=\"text-align:center; border-radius:15px 50px; padding:7px; color:white; margin:0; font-size:110%; font-family:Pacifico; background-color:#0f7a7a; overflow:hidden\"><b>Text Preprocessing\n",
        "</b></div>"
      ],
      "metadata": {
        "id": "mGTMJbKvnKlz"
      }
    },
    {
      "cell_type": "markdown",
      "source": [
        "\n",
        "\n",
        "Text preprocessing is a crucial step in NLP, transforming raw text into a clean and structured format suitable for analysis. It involves tokenization, which splits text into individual words or phrases, and lowercasing to ensure uniformity. Removing punctuation and stopwords (common words like \"and\" or \"the\") reduces noise, while lemmatization converts words to their base forms, capturing their true meaning. Stemming, a more aggressive approach, also reduces words to their root forms. This process ensures that the text is standardized, facilitating accurate feature extraction and model training in subsequent steps of the NLP pipeline."
      ],
      "metadata": {
        "id": "jT-RjDu3nKlz"
      }
    },
    {
      "cell_type": "markdown",
      "source": [
        "<div style=\"padding:10px;color:white;margin:0;font-size:200%;text-align:center;display:fill;border-radius:10px;background-color:#215f95;;overflow:hidden;font-weight:501;font-family:magra\">Lowercasing</div>\n",
        "\n",
        "\n",
        "### If we consider an example: 'Okay, so now we will hang out together, as I was not okay with us hanging out together before.' In Python, which is a case-sensitive language, 'Okay' and 'okay' would be treated as different words during tokenization."
      ],
      "metadata": {
        "id": "hyhQaPSmnKl0"
      }
    },
    {
      "cell_type": "code",
      "source": [
        "import pandas as pd\n",
        "import numpy as np\n",
        "df=pd.read_csv('/kaggle/input/imdb-dataset-of-50k-movie-reviews/IMDB Dataset.csv')\n",
        "df.head()"
      ],
      "metadata": {
        "execution": {
          "iopub.status.busy": "2024-07-15T12:25:40.019235Z",
          "iopub.execute_input": "2024-07-15T12:25:40.019591Z",
          "iopub.status.idle": "2024-07-15T12:25:40.658937Z",
          "shell.execute_reply.started": "2024-07-15T12:25:40.019562Z",
          "shell.execute_reply": "2024-07-15T12:25:40.657977Z"
        },
        "trusted": true,
        "colab": {
          "base_uri": "https://localhost:8080/",
          "height": 206
        },
        "id": "tCZ3VqAcnKl0",
        "outputId": "c7d2eb53-7d31-4e35-ef20-6a01d0f33846"
      },
      "execution_count": null,
      "outputs": [
        {
          "output_type": "execute_result",
          "data": {
            "text/plain": [
              "                                              review sentiment\n",
              "0  One of the other reviewers has mentioned that ...  positive\n",
              "1  A wonderful little production. <br /><br />The...  positive\n",
              "2  I thought this was a wonderful way to spend ti...  positive\n",
              "3  Basically there's a family where a little boy ...  negative\n",
              "4  Petter Mattei's \"Love in the Time of Money\" is...  positive"
            ],
            "text/html": [
              "\n",
              "  <div id=\"df-623bce05-fcc3-494e-a5ca-3ee2fb1d3c4c\" class=\"colab-df-container\">\n",
              "    <div>\n",
              "<style scoped>\n",
              "    .dataframe tbody tr th:only-of-type {\n",
              "        vertical-align: middle;\n",
              "    }\n",
              "\n",
              "    .dataframe tbody tr th {\n",
              "        vertical-align: top;\n",
              "    }\n",
              "\n",
              "    .dataframe thead th {\n",
              "        text-align: right;\n",
              "    }\n",
              "</style>\n",
              "<table border=\"1\" class=\"dataframe\">\n",
              "  <thead>\n",
              "    <tr style=\"text-align: right;\">\n",
              "      <th></th>\n",
              "      <th>review</th>\n",
              "      <th>sentiment</th>\n",
              "    </tr>\n",
              "  </thead>\n",
              "  <tbody>\n",
              "    <tr>\n",
              "      <th>0</th>\n",
              "      <td>One of the other reviewers has mentioned that ...</td>\n",
              "      <td>positive</td>\n",
              "    </tr>\n",
              "    <tr>\n",
              "      <th>1</th>\n",
              "      <td>A wonderful little production. &lt;br /&gt;&lt;br /&gt;The...</td>\n",
              "      <td>positive</td>\n",
              "    </tr>\n",
              "    <tr>\n",
              "      <th>2</th>\n",
              "      <td>I thought this was a wonderful way to spend ti...</td>\n",
              "      <td>positive</td>\n",
              "    </tr>\n",
              "    <tr>\n",
              "      <th>3</th>\n",
              "      <td>Basically there's a family where a little boy ...</td>\n",
              "      <td>negative</td>\n",
              "    </tr>\n",
              "    <tr>\n",
              "      <th>4</th>\n",
              "      <td>Petter Mattei's \"Love in the Time of Money\" is...</td>\n",
              "      <td>positive</td>\n",
              "    </tr>\n",
              "  </tbody>\n",
              "</table>\n",
              "</div>\n",
              "    <div class=\"colab-df-buttons\">\n",
              "\n",
              "  <div class=\"colab-df-container\">\n",
              "    <button class=\"colab-df-convert\" onclick=\"convertToInteractive('df-623bce05-fcc3-494e-a5ca-3ee2fb1d3c4c')\"\n",
              "            title=\"Convert this dataframe to an interactive table.\"\n",
              "            style=\"display:none;\">\n",
              "\n",
              "  <svg xmlns=\"http://www.w3.org/2000/svg\" height=\"24px\" viewBox=\"0 -960 960 960\">\n",
              "    <path d=\"M120-120v-720h720v720H120Zm60-500h600v-160H180v160Zm220 220h160v-160H400v160Zm0 220h160v-160H400v160ZM180-400h160v-160H180v160Zm440 0h160v-160H620v160ZM180-180h160v-160H180v160Zm440 0h160v-160H620v160Z\"/>\n",
              "  </svg>\n",
              "    </button>\n",
              "\n",
              "  <style>\n",
              "    .colab-df-container {\n",
              "      display:flex;\n",
              "      gap: 12px;\n",
              "    }\n",
              "\n",
              "    .colab-df-convert {\n",
              "      background-color: #E8F0FE;\n",
              "      border: none;\n",
              "      border-radius: 50%;\n",
              "      cursor: pointer;\n",
              "      display: none;\n",
              "      fill: #1967D2;\n",
              "      height: 32px;\n",
              "      padding: 0 0 0 0;\n",
              "      width: 32px;\n",
              "    }\n",
              "\n",
              "    .colab-df-convert:hover {\n",
              "      background-color: #E2EBFA;\n",
              "      box-shadow: 0px 1px 2px rgba(60, 64, 67, 0.3), 0px 1px 3px 1px rgba(60, 64, 67, 0.15);\n",
              "      fill: #174EA6;\n",
              "    }\n",
              "\n",
              "    .colab-df-buttons div {\n",
              "      margin-bottom: 4px;\n",
              "    }\n",
              "\n",
              "    [theme=dark] .colab-df-convert {\n",
              "      background-color: #3B4455;\n",
              "      fill: #D2E3FC;\n",
              "    }\n",
              "\n",
              "    [theme=dark] .colab-df-convert:hover {\n",
              "      background-color: #434B5C;\n",
              "      box-shadow: 0px 1px 3px 1px rgba(0, 0, 0, 0.15);\n",
              "      filter: drop-shadow(0px 1px 2px rgba(0, 0, 0, 0.3));\n",
              "      fill: #FFFFFF;\n",
              "    }\n",
              "  </style>\n",
              "\n",
              "    <script>\n",
              "      const buttonEl =\n",
              "        document.querySelector('#df-623bce05-fcc3-494e-a5ca-3ee2fb1d3c4c button.colab-df-convert');\n",
              "      buttonEl.style.display =\n",
              "        google.colab.kernel.accessAllowed ? 'block' : 'none';\n",
              "\n",
              "      async function convertToInteractive(key) {\n",
              "        const element = document.querySelector('#df-623bce05-fcc3-494e-a5ca-3ee2fb1d3c4c');\n",
              "        const dataTable =\n",
              "          await google.colab.kernel.invokeFunction('convertToInteractive',\n",
              "                                                    [key], {});\n",
              "        if (!dataTable) return;\n",
              "\n",
              "        const docLinkHtml = 'Like what you see? Visit the ' +\n",
              "          '<a target=\"_blank\" href=https://colab.research.google.com/notebooks/data_table.ipynb>data table notebook</a>'\n",
              "          + ' to learn more about interactive tables.';\n",
              "        element.innerHTML = '';\n",
              "        dataTable['output_type'] = 'display_data';\n",
              "        await google.colab.output.renderOutput(dataTable, element);\n",
              "        const docLink = document.createElement('div');\n",
              "        docLink.innerHTML = docLinkHtml;\n",
              "        element.appendChild(docLink);\n",
              "      }\n",
              "    </script>\n",
              "  </div>\n",
              "\n",
              "\n",
              "<div id=\"df-418a1c48-a7dd-4ee4-96ca-595c8b6d3da4\">\n",
              "  <button class=\"colab-df-quickchart\" onclick=\"quickchart('df-418a1c48-a7dd-4ee4-96ca-595c8b6d3da4')\"\n",
              "            title=\"Suggest charts\"\n",
              "            style=\"display:none;\">\n",
              "\n",
              "<svg xmlns=\"http://www.w3.org/2000/svg\" height=\"24px\"viewBox=\"0 0 24 24\"\n",
              "     width=\"24px\">\n",
              "    <g>\n",
              "        <path d=\"M19 3H5c-1.1 0-2 .9-2 2v14c0 1.1.9 2 2 2h14c1.1 0 2-.9 2-2V5c0-1.1-.9-2-2-2zM9 17H7v-7h2v7zm4 0h-2V7h2v10zm4 0h-2v-4h2v4z\"/>\n",
              "    </g>\n",
              "</svg>\n",
              "  </button>\n",
              "\n",
              "<style>\n",
              "  .colab-df-quickchart {\n",
              "      --bg-color: #E8F0FE;\n",
              "      --fill-color: #1967D2;\n",
              "      --hover-bg-color: #E2EBFA;\n",
              "      --hover-fill-color: #174EA6;\n",
              "      --disabled-fill-color: #AAA;\n",
              "      --disabled-bg-color: #DDD;\n",
              "  }\n",
              "\n",
              "  [theme=dark] .colab-df-quickchart {\n",
              "      --bg-color: #3B4455;\n",
              "      --fill-color: #D2E3FC;\n",
              "      --hover-bg-color: #434B5C;\n",
              "      --hover-fill-color: #FFFFFF;\n",
              "      --disabled-bg-color: #3B4455;\n",
              "      --disabled-fill-color: #666;\n",
              "  }\n",
              "\n",
              "  .colab-df-quickchart {\n",
              "    background-color: var(--bg-color);\n",
              "    border: none;\n",
              "    border-radius: 50%;\n",
              "    cursor: pointer;\n",
              "    display: none;\n",
              "    fill: var(--fill-color);\n",
              "    height: 32px;\n",
              "    padding: 0;\n",
              "    width: 32px;\n",
              "  }\n",
              "\n",
              "  .colab-df-quickchart:hover {\n",
              "    background-color: var(--hover-bg-color);\n",
              "    box-shadow: 0 1px 2px rgba(60, 64, 67, 0.3), 0 1px 3px 1px rgba(60, 64, 67, 0.15);\n",
              "    fill: var(--button-hover-fill-color);\n",
              "  }\n",
              "\n",
              "  .colab-df-quickchart-complete:disabled,\n",
              "  .colab-df-quickchart-complete:disabled:hover {\n",
              "    background-color: var(--disabled-bg-color);\n",
              "    fill: var(--disabled-fill-color);\n",
              "    box-shadow: none;\n",
              "  }\n",
              "\n",
              "  .colab-df-spinner {\n",
              "    border: 2px solid var(--fill-color);\n",
              "    border-color: transparent;\n",
              "    border-bottom-color: var(--fill-color);\n",
              "    animation:\n",
              "      spin 1s steps(1) infinite;\n",
              "  }\n",
              "\n",
              "  @keyframes spin {\n",
              "    0% {\n",
              "      border-color: transparent;\n",
              "      border-bottom-color: var(--fill-color);\n",
              "      border-left-color: var(--fill-color);\n",
              "    }\n",
              "    20% {\n",
              "      border-color: transparent;\n",
              "      border-left-color: var(--fill-color);\n",
              "      border-top-color: var(--fill-color);\n",
              "    }\n",
              "    30% {\n",
              "      border-color: transparent;\n",
              "      border-left-color: var(--fill-color);\n",
              "      border-top-color: var(--fill-color);\n",
              "      border-right-color: var(--fill-color);\n",
              "    }\n",
              "    40% {\n",
              "      border-color: transparent;\n",
              "      border-right-color: var(--fill-color);\n",
              "      border-top-color: var(--fill-color);\n",
              "    }\n",
              "    60% {\n",
              "      border-color: transparent;\n",
              "      border-right-color: var(--fill-color);\n",
              "    }\n",
              "    80% {\n",
              "      border-color: transparent;\n",
              "      border-right-color: var(--fill-color);\n",
              "      border-bottom-color: var(--fill-color);\n",
              "    }\n",
              "    90% {\n",
              "      border-color: transparent;\n",
              "      border-bottom-color: var(--fill-color);\n",
              "    }\n",
              "  }\n",
              "</style>\n",
              "\n",
              "  <script>\n",
              "    async function quickchart(key) {\n",
              "      const quickchartButtonEl =\n",
              "        document.querySelector('#' + key + ' button');\n",
              "      quickchartButtonEl.disabled = true;  // To prevent multiple clicks.\n",
              "      quickchartButtonEl.classList.add('colab-df-spinner');\n",
              "      try {\n",
              "        const charts = await google.colab.kernel.invokeFunction(\n",
              "            'suggestCharts', [key], {});\n",
              "      } catch (error) {\n",
              "        console.error('Error during call to suggestCharts:', error);\n",
              "      }\n",
              "      quickchartButtonEl.classList.remove('colab-df-spinner');\n",
              "      quickchartButtonEl.classList.add('colab-df-quickchart-complete');\n",
              "    }\n",
              "    (() => {\n",
              "      let quickchartButtonEl =\n",
              "        document.querySelector('#df-418a1c48-a7dd-4ee4-96ca-595c8b6d3da4 button');\n",
              "      quickchartButtonEl.style.display =\n",
              "        google.colab.kernel.accessAllowed ? 'block' : 'none';\n",
              "    })();\n",
              "  </script>\n",
              "</div>\n",
              "\n",
              "    </div>\n",
              "  </div>\n"
            ],
            "application/vnd.google.colaboratory.intrinsic+json": {
              "type": "dataframe",
              "variable_name": "df",
              "summary": "{\n  \"name\": \"df\",\n  \"rows\": 50000,\n  \"fields\": [\n    {\n      \"column\": \"review\",\n      \"properties\": {\n        \"dtype\": \"string\",\n        \"num_unique_values\": 49582,\n        \"samples\": [\n          \"\\\"Soul Plane\\\" is a horrible attempt at comedy that only should appeal people with thick skulls, bloodshot eyes and furry pawns. <br /><br />The plot is not only incoherent but also non-existent, acting is mostly sub sub-par with a gang of highly moronic and dreadful characters thrown in for bad measure, jokes are often spotted miles ahead and almost never even a bit amusing. This movie lacks any structure and is full of racial stereotypes that must have seemed old even in the fifties, the only thing it really has going for it is some pretty ladies, but really, if you want that you can rent something from the \\\"Adult\\\" section. OK?<br /><br />I can hardly see anything here to recommend since you'll probably have a lot a better and productive time chasing rats with a sledgehammer or inventing waterproof teabags or whatever.<br /><br />2/10\",\n          \"Guest from the Future tells a fascinating story of time travel, friendship, battle of good and evil -- all with a small budget, child actors, and few special effects. Something for Spielberg and Lucas to learn from. ;) A sixth-grader Kolya \\\"Nick\\\" Gerasimov finds a time machine in the basement of a decrepit building and travels 100 years into the future. He discovers a near-perfect, utopian society where robots play guitars and write poetry, everyone is kind to each other and people enjoy everything technology has to offer. Alice is the daughter of a prominent scientist who invented a device called Mielophone that allows to read minds of humans and animals. The device can be put to both good and bad use, depending on whose hands it falls into. When two evil space pirates from Saturn who want to rule the universe attempt to steal Mielophone, it falls into the hands of 20th century school boy Nick. With the pirates hot on his tracks, he travels back to his time, followed by the pirates, and Alice. Chaos, confusion and funny situations follow as the luckless pirates try to blend in with the earthlings. Alice enrolls in the same school Nick goes to and demonstrates superhuman abilities in PE class. The catch is, Alice doesn't know what Nick looks like, while the pirates do. Also, the pirates are able to change their appearance and turn literally into anyone. (Hmm, I wonder if this is where James Cameron got the idea for Terminator...) Who gets to Nick -- and Mielophone -- first? Excellent plot, non-stop adventures, and great soundtrack. I wish Hollywood made kid movies like this one...\",\n          \"\\\"National Treasure\\\" (2004) is a thoroughly misguided hodge-podge of plot entanglements that borrow from nearly every cloak and dagger government conspiracy clich\\u00e9 that has ever been written. The film stars Nicholas Cage as Benjamin Franklin Gates (how precious is that, I ask you?); a seemingly normal fellow who, for no other reason than being of a lineage of like-minded misguided fortune hunters, decides to steal a 'national treasure' that has been hidden by the United States founding fathers. After a bit of subtext and background that plays laughably (unintentionally) like Indiana Jones meets The Patriot, the film degenerates into one misguided whimsy after another \\u0096 attempting to create a 'Stanley Goodspeed' regurgitation of Nicholas Cage and launch the whole convoluted mess forward with a series of high octane, but disconnected misadventures.<br /><br />The relevancy and logic to having George Washington and his motley crew of patriots burying a king's ransom someplace on native soil, and then, going through the meticulous plan of leaving clues scattered throughout U.S. currency art work, is something that director Jon Turteltaub never quite gets around to explaining. Couldn't Washington found better usage for such wealth during the start up of the country? Hence, we are left with a mystery built on top of an enigma that is already on shaky ground by the time Ben appoints himself the new custodian of this untold wealth. Ben's intentions are noble \\u0096 if confusing. He's set on protecting the treasure. For who and when?\\u0085your guess is as good as mine.<br /><br />But there are a few problems with Ben's crusade. First up, his friend, Ian Holmes (Sean Bean) decides that he can't wait for Ben to make up his mind about stealing the Declaration of Independence from the National Archives (oh, yeah \\u0096 brilliant idea!). Presumably, the back of that famous document holds the secret answer to the ultimate fortune. So Ian tries to kill Ben. The assassination attempt is, of course, unsuccessful, if overly melodramatic. It also affords Ben the opportunity to pick up, and pick on, the very sultry curator of the archives, Abigail Chase (Diane Kruger). She thinks Ben is clearly a nut \\u0096 at least at the beginning. But true to action/romance form, Abby's resolve melts quicker than you can say, \\\"is that the Hope Diamond?\\\" The film moves into full X-File-ish mode, as the FBI, mistakenly believing that Ben is behind the theft, retaliate in various benign ways that lead to a multi-layering of action sequences reminiscent of Mission Impossible meets The Fugitive. Honestly, don't those guys ever get 'intelligence' information that is correct? In the final analysis, \\\"National Treasure\\\" isn't great film making, so much as it's a patchwork rehash of tired old bits from other movies, woven together from scraps, the likes of which would make IL' Betsy Ross blush.<br /><br />The Buena Vista DVD delivers a far more generous treatment than this film is deserving of. The anamorphic widescreen picture exhibits a very smooth and finely detailed image with very rich colors, natural flesh tones, solid blacks and clean whites. The stylized image is also free of blemishes and digital enhancements. The audio is 5.1 and delivers a nice sonic boom to your side and rear speakers with intensity and realism. Extras include a host of promotional junket material that is rather deep and over the top in its explanation of how and why this film was made. If only, as an audience, we had had more clarification as to why Ben and co. were chasing after an illusive treasure, this might have been one good flick. Extras conclude with the theatrical trailer, audio commentary and deleted scenes. Not for the faint-hearted \\u0096 just the thick-headed.\"\n        ],\n        \"semantic_type\": \"\",\n        \"description\": \"\"\n      }\n    },\n    {\n      \"column\": \"sentiment\",\n      \"properties\": {\n        \"dtype\": \"category\",\n        \"num_unique_values\": 2,\n        \"samples\": [\n          \"negative\",\n          \"positive\"\n        ],\n        \"semantic_type\": \"\",\n        \"description\": \"\"\n      }\n    }\n  ]\n}"
            }
          },
          "metadata": {},
          "execution_count": 9
        }
      ]
    },
    {
      "cell_type": "code",
      "source": [
        "df['review'][100].lower()"
      ],
      "metadata": {
        "execution": {
          "iopub.status.busy": "2024-07-15T12:25:40.660759Z",
          "iopub.execute_input": "2024-07-15T12:25:40.661057Z",
          "iopub.status.idle": "2024-07-15T12:25:40.667384Z",
          "shell.execute_reply.started": "2024-07-15T12:25:40.661031Z",
          "shell.execute_reply": "2024-07-15T12:25:40.666473Z"
        },
        "trusted": true,
        "colab": {
          "base_uri": "https://localhost:8080/",
          "height": 122
        },
        "id": "lxPb0CzOnKl1",
        "outputId": "08615fc2-dddc-411e-beee-79bab2ea7c66"
      },
      "execution_count": null,
      "outputs": [
        {
          "output_type": "execute_result",
          "data": {
            "text/plain": [
              "\"this short film that inspired the soon-to-be full length feature - spatula madness - is a hilarious piece that contends against similar cartoons yielding multiple writers. the short film stars edward the spatula who after being fired from his job, joins in the fight against the evil spoons. this premise allows for some funny content near the beginning, but is barely present for the remainder of the feature. this film's 15-minute running time is absorbed by some odd-ball comedy and a small musical number. unfortunately not much else lies below it. the plot that is set up doesn't really have time to show. but it's surely follows it plot better than many high-budget hollywood films. this film is worth watching at least a few times. take it for what it is, and don't expect a deep story.\""
            ],
            "application/vnd.google.colaboratory.intrinsic+json": {
              "type": "string"
            }
          },
          "metadata": {},
          "execution_count": 10
        }
      ]
    },
    {
      "cell_type": "code",
      "source": [
        "df['review']=df['review'].str.lower()\n",
        "df.head()"
      ],
      "metadata": {
        "execution": {
          "iopub.status.busy": "2024-07-15T12:25:40.668557Z",
          "iopub.execute_input": "2024-07-15T12:25:40.668882Z",
          "iopub.status.idle": "2024-07-15T12:25:40.860437Z",
          "shell.execute_reply.started": "2024-07-15T12:25:40.668854Z",
          "shell.execute_reply": "2024-07-15T12:25:40.858703Z"
        },
        "trusted": true,
        "colab": {
          "base_uri": "https://localhost:8080/",
          "height": 206
        },
        "id": "z0jxXmHknKl1",
        "outputId": "858bc001-6a88-458e-db6b-72c6833ca537"
      },
      "execution_count": null,
      "outputs": [
        {
          "output_type": "execute_result",
          "data": {
            "text/plain": [
              "                                              review sentiment\n",
              "0  one of the other reviewers has mentioned that ...  positive\n",
              "1  a wonderful little production. <br /><br />the...  positive\n",
              "2  i thought this was a wonderful way to spend ti...  positive\n",
              "3  basically there's a family where a little boy ...  negative\n",
              "4  petter mattei's \"love in the time of money\" is...  positive"
            ],
            "text/html": [
              "\n",
              "  <div id=\"df-c271f7b7-4a37-4b2c-b029-7ad1dffa5a64\" class=\"colab-df-container\">\n",
              "    <div>\n",
              "<style scoped>\n",
              "    .dataframe tbody tr th:only-of-type {\n",
              "        vertical-align: middle;\n",
              "    }\n",
              "\n",
              "    .dataframe tbody tr th {\n",
              "        vertical-align: top;\n",
              "    }\n",
              "\n",
              "    .dataframe thead th {\n",
              "        text-align: right;\n",
              "    }\n",
              "</style>\n",
              "<table border=\"1\" class=\"dataframe\">\n",
              "  <thead>\n",
              "    <tr style=\"text-align: right;\">\n",
              "      <th></th>\n",
              "      <th>review</th>\n",
              "      <th>sentiment</th>\n",
              "    </tr>\n",
              "  </thead>\n",
              "  <tbody>\n",
              "    <tr>\n",
              "      <th>0</th>\n",
              "      <td>one of the other reviewers has mentioned that ...</td>\n",
              "      <td>positive</td>\n",
              "    </tr>\n",
              "    <tr>\n",
              "      <th>1</th>\n",
              "      <td>a wonderful little production. &lt;br /&gt;&lt;br /&gt;the...</td>\n",
              "      <td>positive</td>\n",
              "    </tr>\n",
              "    <tr>\n",
              "      <th>2</th>\n",
              "      <td>i thought this was a wonderful way to spend ti...</td>\n",
              "      <td>positive</td>\n",
              "    </tr>\n",
              "    <tr>\n",
              "      <th>3</th>\n",
              "      <td>basically there's a family where a little boy ...</td>\n",
              "      <td>negative</td>\n",
              "    </tr>\n",
              "    <tr>\n",
              "      <th>4</th>\n",
              "      <td>petter mattei's \"love in the time of money\" is...</td>\n",
              "      <td>positive</td>\n",
              "    </tr>\n",
              "  </tbody>\n",
              "</table>\n",
              "</div>\n",
              "    <div class=\"colab-df-buttons\">\n",
              "\n",
              "  <div class=\"colab-df-container\">\n",
              "    <button class=\"colab-df-convert\" onclick=\"convertToInteractive('df-c271f7b7-4a37-4b2c-b029-7ad1dffa5a64')\"\n",
              "            title=\"Convert this dataframe to an interactive table.\"\n",
              "            style=\"display:none;\">\n",
              "\n",
              "  <svg xmlns=\"http://www.w3.org/2000/svg\" height=\"24px\" viewBox=\"0 -960 960 960\">\n",
              "    <path d=\"M120-120v-720h720v720H120Zm60-500h600v-160H180v160Zm220 220h160v-160H400v160Zm0 220h160v-160H400v160ZM180-400h160v-160H180v160Zm440 0h160v-160H620v160ZM180-180h160v-160H180v160Zm440 0h160v-160H620v160Z\"/>\n",
              "  </svg>\n",
              "    </button>\n",
              "\n",
              "  <style>\n",
              "    .colab-df-container {\n",
              "      display:flex;\n",
              "      gap: 12px;\n",
              "    }\n",
              "\n",
              "    .colab-df-convert {\n",
              "      background-color: #E8F0FE;\n",
              "      border: none;\n",
              "      border-radius: 50%;\n",
              "      cursor: pointer;\n",
              "      display: none;\n",
              "      fill: #1967D2;\n",
              "      height: 32px;\n",
              "      padding: 0 0 0 0;\n",
              "      width: 32px;\n",
              "    }\n",
              "\n",
              "    .colab-df-convert:hover {\n",
              "      background-color: #E2EBFA;\n",
              "      box-shadow: 0px 1px 2px rgba(60, 64, 67, 0.3), 0px 1px 3px 1px rgba(60, 64, 67, 0.15);\n",
              "      fill: #174EA6;\n",
              "    }\n",
              "\n",
              "    .colab-df-buttons div {\n",
              "      margin-bottom: 4px;\n",
              "    }\n",
              "\n",
              "    [theme=dark] .colab-df-convert {\n",
              "      background-color: #3B4455;\n",
              "      fill: #D2E3FC;\n",
              "    }\n",
              "\n",
              "    [theme=dark] .colab-df-convert:hover {\n",
              "      background-color: #434B5C;\n",
              "      box-shadow: 0px 1px 3px 1px rgba(0, 0, 0, 0.15);\n",
              "      filter: drop-shadow(0px 1px 2px rgba(0, 0, 0, 0.3));\n",
              "      fill: #FFFFFF;\n",
              "    }\n",
              "  </style>\n",
              "\n",
              "    <script>\n",
              "      const buttonEl =\n",
              "        document.querySelector('#df-c271f7b7-4a37-4b2c-b029-7ad1dffa5a64 button.colab-df-convert');\n",
              "      buttonEl.style.display =\n",
              "        google.colab.kernel.accessAllowed ? 'block' : 'none';\n",
              "\n",
              "      async function convertToInteractive(key) {\n",
              "        const element = document.querySelector('#df-c271f7b7-4a37-4b2c-b029-7ad1dffa5a64');\n",
              "        const dataTable =\n",
              "          await google.colab.kernel.invokeFunction('convertToInteractive',\n",
              "                                                    [key], {});\n",
              "        if (!dataTable) return;\n",
              "\n",
              "        const docLinkHtml = 'Like what you see? Visit the ' +\n",
              "          '<a target=\"_blank\" href=https://colab.research.google.com/notebooks/data_table.ipynb>data table notebook</a>'\n",
              "          + ' to learn more about interactive tables.';\n",
              "        element.innerHTML = '';\n",
              "        dataTable['output_type'] = 'display_data';\n",
              "        await google.colab.output.renderOutput(dataTable, element);\n",
              "        const docLink = document.createElement('div');\n",
              "        docLink.innerHTML = docLinkHtml;\n",
              "        element.appendChild(docLink);\n",
              "      }\n",
              "    </script>\n",
              "  </div>\n",
              "\n",
              "\n",
              "<div id=\"df-da5063c4-ab0b-4a1a-9443-2e010bda53d4\">\n",
              "  <button class=\"colab-df-quickchart\" onclick=\"quickchart('df-da5063c4-ab0b-4a1a-9443-2e010bda53d4')\"\n",
              "            title=\"Suggest charts\"\n",
              "            style=\"display:none;\">\n",
              "\n",
              "<svg xmlns=\"http://www.w3.org/2000/svg\" height=\"24px\"viewBox=\"0 0 24 24\"\n",
              "     width=\"24px\">\n",
              "    <g>\n",
              "        <path d=\"M19 3H5c-1.1 0-2 .9-2 2v14c0 1.1.9 2 2 2h14c1.1 0 2-.9 2-2V5c0-1.1-.9-2-2-2zM9 17H7v-7h2v7zm4 0h-2V7h2v10zm4 0h-2v-4h2v4z\"/>\n",
              "    </g>\n",
              "</svg>\n",
              "  </button>\n",
              "\n",
              "<style>\n",
              "  .colab-df-quickchart {\n",
              "      --bg-color: #E8F0FE;\n",
              "      --fill-color: #1967D2;\n",
              "      --hover-bg-color: #E2EBFA;\n",
              "      --hover-fill-color: #174EA6;\n",
              "      --disabled-fill-color: #AAA;\n",
              "      --disabled-bg-color: #DDD;\n",
              "  }\n",
              "\n",
              "  [theme=dark] .colab-df-quickchart {\n",
              "      --bg-color: #3B4455;\n",
              "      --fill-color: #D2E3FC;\n",
              "      --hover-bg-color: #434B5C;\n",
              "      --hover-fill-color: #FFFFFF;\n",
              "      --disabled-bg-color: #3B4455;\n",
              "      --disabled-fill-color: #666;\n",
              "  }\n",
              "\n",
              "  .colab-df-quickchart {\n",
              "    background-color: var(--bg-color);\n",
              "    border: none;\n",
              "    border-radius: 50%;\n",
              "    cursor: pointer;\n",
              "    display: none;\n",
              "    fill: var(--fill-color);\n",
              "    height: 32px;\n",
              "    padding: 0;\n",
              "    width: 32px;\n",
              "  }\n",
              "\n",
              "  .colab-df-quickchart:hover {\n",
              "    background-color: var(--hover-bg-color);\n",
              "    box-shadow: 0 1px 2px rgba(60, 64, 67, 0.3), 0 1px 3px 1px rgba(60, 64, 67, 0.15);\n",
              "    fill: var(--button-hover-fill-color);\n",
              "  }\n",
              "\n",
              "  .colab-df-quickchart-complete:disabled,\n",
              "  .colab-df-quickchart-complete:disabled:hover {\n",
              "    background-color: var(--disabled-bg-color);\n",
              "    fill: var(--disabled-fill-color);\n",
              "    box-shadow: none;\n",
              "  }\n",
              "\n",
              "  .colab-df-spinner {\n",
              "    border: 2px solid var(--fill-color);\n",
              "    border-color: transparent;\n",
              "    border-bottom-color: var(--fill-color);\n",
              "    animation:\n",
              "      spin 1s steps(1) infinite;\n",
              "  }\n",
              "\n",
              "  @keyframes spin {\n",
              "    0% {\n",
              "      border-color: transparent;\n",
              "      border-bottom-color: var(--fill-color);\n",
              "      border-left-color: var(--fill-color);\n",
              "    }\n",
              "    20% {\n",
              "      border-color: transparent;\n",
              "      border-left-color: var(--fill-color);\n",
              "      border-top-color: var(--fill-color);\n",
              "    }\n",
              "    30% {\n",
              "      border-color: transparent;\n",
              "      border-left-color: var(--fill-color);\n",
              "      border-top-color: var(--fill-color);\n",
              "      border-right-color: var(--fill-color);\n",
              "    }\n",
              "    40% {\n",
              "      border-color: transparent;\n",
              "      border-right-color: var(--fill-color);\n",
              "      border-top-color: var(--fill-color);\n",
              "    }\n",
              "    60% {\n",
              "      border-color: transparent;\n",
              "      border-right-color: var(--fill-color);\n",
              "    }\n",
              "    80% {\n",
              "      border-color: transparent;\n",
              "      border-right-color: var(--fill-color);\n",
              "      border-bottom-color: var(--fill-color);\n",
              "    }\n",
              "    90% {\n",
              "      border-color: transparent;\n",
              "      border-bottom-color: var(--fill-color);\n",
              "    }\n",
              "  }\n",
              "</style>\n",
              "\n",
              "  <script>\n",
              "    async function quickchart(key) {\n",
              "      const quickchartButtonEl =\n",
              "        document.querySelector('#' + key + ' button');\n",
              "      quickchartButtonEl.disabled = true;  // To prevent multiple clicks.\n",
              "      quickchartButtonEl.classList.add('colab-df-spinner');\n",
              "      try {\n",
              "        const charts = await google.colab.kernel.invokeFunction(\n",
              "            'suggestCharts', [key], {});\n",
              "      } catch (error) {\n",
              "        console.error('Error during call to suggestCharts:', error);\n",
              "      }\n",
              "      quickchartButtonEl.classList.remove('colab-df-spinner');\n",
              "      quickchartButtonEl.classList.add('colab-df-quickchart-complete');\n",
              "    }\n",
              "    (() => {\n",
              "      let quickchartButtonEl =\n",
              "        document.querySelector('#df-da5063c4-ab0b-4a1a-9443-2e010bda53d4 button');\n",
              "      quickchartButtonEl.style.display =\n",
              "        google.colab.kernel.accessAllowed ? 'block' : 'none';\n",
              "    })();\n",
              "  </script>\n",
              "</div>\n",
              "\n",
              "    </div>\n",
              "  </div>\n"
            ],
            "application/vnd.google.colaboratory.intrinsic+json": {
              "type": "dataframe",
              "variable_name": "df",
              "summary": "{\n  \"name\": \"df\",\n  \"rows\": 50000,\n  \"fields\": [\n    {\n      \"column\": \"review\",\n      \"properties\": {\n        \"dtype\": \"string\",\n        \"num_unique_values\": 49582,\n        \"samples\": [\n          \"\\\"soul plane\\\" is a horrible attempt at comedy that only should appeal people with thick skulls, bloodshot eyes and furry pawns. <br /><br />the plot is not only incoherent but also non-existent, acting is mostly sub sub-par with a gang of highly moronic and dreadful characters thrown in for bad measure, jokes are often spotted miles ahead and almost never even a bit amusing. this movie lacks any structure and is full of racial stereotypes that must have seemed old even in the fifties, the only thing it really has going for it is some pretty ladies, but really, if you want that you can rent something from the \\\"adult\\\" section. ok?<br /><br />i can hardly see anything here to recommend since you'll probably have a lot a better and productive time chasing rats with a sledgehammer or inventing waterproof teabags or whatever.<br /><br />2/10\",\n          \"guest from the future tells a fascinating story of time travel, friendship, battle of good and evil -- all with a small budget, child actors, and few special effects. something for spielberg and lucas to learn from. ;) a sixth-grader kolya \\\"nick\\\" gerasimov finds a time machine in the basement of a decrepit building and travels 100 years into the future. he discovers a near-perfect, utopian society where robots play guitars and write poetry, everyone is kind to each other and people enjoy everything technology has to offer. alice is the daughter of a prominent scientist who invented a device called mielophone that allows to read minds of humans and animals. the device can be put to both good and bad use, depending on whose hands it falls into. when two evil space pirates from saturn who want to rule the universe attempt to steal mielophone, it falls into the hands of 20th century school boy nick. with the pirates hot on his tracks, he travels back to his time, followed by the pirates, and alice. chaos, confusion and funny situations follow as the luckless pirates try to blend in with the earthlings. alice enrolls in the same school nick goes to and demonstrates superhuman abilities in pe class. the catch is, alice doesn't know what nick looks like, while the pirates do. also, the pirates are able to change their appearance and turn literally into anyone. (hmm, i wonder if this is where james cameron got the idea for terminator...) who gets to nick -- and mielophone -- first? excellent plot, non-stop adventures, and great soundtrack. i wish hollywood made kid movies like this one...\",\n          \"\\\"national treasure\\\" (2004) is a thoroughly misguided hodge-podge of plot entanglements that borrow from nearly every cloak and dagger government conspiracy clich\\u00e9 that has ever been written. the film stars nicholas cage as benjamin franklin gates (how precious is that, i ask you?); a seemingly normal fellow who, for no other reason than being of a lineage of like-minded misguided fortune hunters, decides to steal a 'national treasure' that has been hidden by the united states founding fathers. after a bit of subtext and background that plays laughably (unintentionally) like indiana jones meets the patriot, the film degenerates into one misguided whimsy after another \\u0096 attempting to create a 'stanley goodspeed' regurgitation of nicholas cage and launch the whole convoluted mess forward with a series of high octane, but disconnected misadventures.<br /><br />the relevancy and logic to having george washington and his motley crew of patriots burying a king's ransom someplace on native soil, and then, going through the meticulous plan of leaving clues scattered throughout u.s. currency art work, is something that director jon turteltaub never quite gets around to explaining. couldn't washington found better usage for such wealth during the start up of the country? hence, we are left with a mystery built on top of an enigma that is already on shaky ground by the time ben appoints himself the new custodian of this untold wealth. ben's intentions are noble \\u0096 if confusing. he's set on protecting the treasure. for who and when?\\u0085your guess is as good as mine.<br /><br />but there are a few problems with ben's crusade. first up, his friend, ian holmes (sean bean) decides that he can't wait for ben to make up his mind about stealing the declaration of independence from the national archives (oh, yeah \\u0096 brilliant idea!). presumably, the back of that famous document holds the secret answer to the ultimate fortune. so ian tries to kill ben. the assassination attempt is, of course, unsuccessful, if overly melodramatic. it also affords ben the opportunity to pick up, and pick on, the very sultry curator of the archives, abigail chase (diane kruger). she thinks ben is clearly a nut \\u0096 at least at the beginning. but true to action/romance form, abby's resolve melts quicker than you can say, \\\"is that the hope diamond?\\\" the film moves into full x-file-ish mode, as the fbi, mistakenly believing that ben is behind the theft, retaliate in various benign ways that lead to a multi-layering of action sequences reminiscent of mission impossible meets the fugitive. honestly, don't those guys ever get 'intelligence' information that is correct? in the final analysis, \\\"national treasure\\\" isn't great film making, so much as it's a patchwork rehash of tired old bits from other movies, woven together from scraps, the likes of which would make il' betsy ross blush.<br /><br />the buena vista dvd delivers a far more generous treatment than this film is deserving of. the anamorphic widescreen picture exhibits a very smooth and finely detailed image with very rich colors, natural flesh tones, solid blacks and clean whites. the stylized image is also free of blemishes and digital enhancements. the audio is 5.1 and delivers a nice sonic boom to your side and rear speakers with intensity and realism. extras include a host of promotional junket material that is rather deep and over the top in its explanation of how and why this film was made. if only, as an audience, we had had more clarification as to why ben and co. were chasing after an illusive treasure, this might have been one good flick. extras conclude with the theatrical trailer, audio commentary and deleted scenes. not for the faint-hearted \\u0096 just the thick-headed.\"\n        ],\n        \"semantic_type\": \"\",\n        \"description\": \"\"\n      }\n    },\n    {\n      \"column\": \"sentiment\",\n      \"properties\": {\n        \"dtype\": \"category\",\n        \"num_unique_values\": 2,\n        \"samples\": [\n          \"negative\",\n          \"positive\"\n        ],\n        \"semantic_type\": \"\",\n        \"description\": \"\"\n      }\n    }\n  ]\n}"
            }
          },
          "metadata": {},
          "execution_count": 11
        }
      ]
    },
    {
      "cell_type": "markdown",
      "source": [
        "<div style=\"padding:10px;color:white;margin:0;font-size:200%;text-align:center;display:fill;border-radius:10px;background-color:#215f95;;overflow:hidden;font-weight:501;font-family:magra\">Remove html tags using Regular expressions</div>"
      ],
      "metadata": {
        "id": "IF-no2JlnKl2"
      }
    },
    {
      "cell_type": "code",
      "source": [
        "import re\n",
        "def remove_html_tags(text):\n",
        "    pattern = re.compile('<.*?>')\n",
        "    return pattern.sub('', text)"
      ],
      "metadata": {
        "execution": {
          "iopub.status.busy": "2024-07-15T12:25:40.86171Z",
          "iopub.execute_input": "2024-07-15T12:25:40.862608Z",
          "iopub.status.idle": "2024-07-15T12:25:40.867691Z",
          "shell.execute_reply.started": "2024-07-15T12:25:40.86257Z",
          "shell.execute_reply": "2024-07-15T12:25:40.866587Z"
        },
        "trusted": true,
        "id": "dDx-SXU5nKl2"
      },
      "execution_count": null,
      "outputs": []
    },
    {
      "cell_type": "code",
      "source": [
        "df['review']=df['review'].apply(remove_html_tags)\n",
        "df.head()"
      ],
      "metadata": {
        "execution": {
          "iopub.status.busy": "2024-07-15T12:25:40.870948Z",
          "iopub.execute_input": "2024-07-15T12:25:40.871545Z",
          "iopub.status.idle": "2024-07-15T12:25:41.115916Z",
          "shell.execute_reply.started": "2024-07-15T12:25:40.871509Z",
          "shell.execute_reply": "2024-07-15T12:25:41.114986Z"
        },
        "trusted": true,
        "colab": {
          "base_uri": "https://localhost:8080/",
          "height": 206
        },
        "id": "sCOo5h3znKl2",
        "outputId": "14e1c2fd-e4bc-4392-85ba-a1034632acef"
      },
      "execution_count": null,
      "outputs": [
        {
          "output_type": "execute_result",
          "data": {
            "text/plain": [
              "                                              review sentiment\n",
              "0  one of the other reviewers has mentioned that ...  positive\n",
              "1  a wonderful little production. the filming tec...  positive\n",
              "2  i thought this was a wonderful way to spend ti...  positive\n",
              "3  basically there's a family where a little boy ...  negative\n",
              "4  petter mattei's \"love in the time of money\" is...  positive"
            ],
            "text/html": [
              "\n",
              "  <div id=\"df-b22503ae-a004-4c87-92e3-ff8ac53f3ea1\" class=\"colab-df-container\">\n",
              "    <div>\n",
              "<style scoped>\n",
              "    .dataframe tbody tr th:only-of-type {\n",
              "        vertical-align: middle;\n",
              "    }\n",
              "\n",
              "    .dataframe tbody tr th {\n",
              "        vertical-align: top;\n",
              "    }\n",
              "\n",
              "    .dataframe thead th {\n",
              "        text-align: right;\n",
              "    }\n",
              "</style>\n",
              "<table border=\"1\" class=\"dataframe\">\n",
              "  <thead>\n",
              "    <tr style=\"text-align: right;\">\n",
              "      <th></th>\n",
              "      <th>review</th>\n",
              "      <th>sentiment</th>\n",
              "    </tr>\n",
              "  </thead>\n",
              "  <tbody>\n",
              "    <tr>\n",
              "      <th>0</th>\n",
              "      <td>one of the other reviewers has mentioned that ...</td>\n",
              "      <td>positive</td>\n",
              "    </tr>\n",
              "    <tr>\n",
              "      <th>1</th>\n",
              "      <td>a wonderful little production. the filming tec...</td>\n",
              "      <td>positive</td>\n",
              "    </tr>\n",
              "    <tr>\n",
              "      <th>2</th>\n",
              "      <td>i thought this was a wonderful way to spend ti...</td>\n",
              "      <td>positive</td>\n",
              "    </tr>\n",
              "    <tr>\n",
              "      <th>3</th>\n",
              "      <td>basically there's a family where a little boy ...</td>\n",
              "      <td>negative</td>\n",
              "    </tr>\n",
              "    <tr>\n",
              "      <th>4</th>\n",
              "      <td>petter mattei's \"love in the time of money\" is...</td>\n",
              "      <td>positive</td>\n",
              "    </tr>\n",
              "  </tbody>\n",
              "</table>\n",
              "</div>\n",
              "    <div class=\"colab-df-buttons\">\n",
              "\n",
              "  <div class=\"colab-df-container\">\n",
              "    <button class=\"colab-df-convert\" onclick=\"convertToInteractive('df-b22503ae-a004-4c87-92e3-ff8ac53f3ea1')\"\n",
              "            title=\"Convert this dataframe to an interactive table.\"\n",
              "            style=\"display:none;\">\n",
              "\n",
              "  <svg xmlns=\"http://www.w3.org/2000/svg\" height=\"24px\" viewBox=\"0 -960 960 960\">\n",
              "    <path d=\"M120-120v-720h720v720H120Zm60-500h600v-160H180v160Zm220 220h160v-160H400v160Zm0 220h160v-160H400v160ZM180-400h160v-160H180v160Zm440 0h160v-160H620v160ZM180-180h160v-160H180v160Zm440 0h160v-160H620v160Z\"/>\n",
              "  </svg>\n",
              "    </button>\n",
              "\n",
              "  <style>\n",
              "    .colab-df-container {\n",
              "      display:flex;\n",
              "      gap: 12px;\n",
              "    }\n",
              "\n",
              "    .colab-df-convert {\n",
              "      background-color: #E8F0FE;\n",
              "      border: none;\n",
              "      border-radius: 50%;\n",
              "      cursor: pointer;\n",
              "      display: none;\n",
              "      fill: #1967D2;\n",
              "      height: 32px;\n",
              "      padding: 0 0 0 0;\n",
              "      width: 32px;\n",
              "    }\n",
              "\n",
              "    .colab-df-convert:hover {\n",
              "      background-color: #E2EBFA;\n",
              "      box-shadow: 0px 1px 2px rgba(60, 64, 67, 0.3), 0px 1px 3px 1px rgba(60, 64, 67, 0.15);\n",
              "      fill: #174EA6;\n",
              "    }\n",
              "\n",
              "    .colab-df-buttons div {\n",
              "      margin-bottom: 4px;\n",
              "    }\n",
              "\n",
              "    [theme=dark] .colab-df-convert {\n",
              "      background-color: #3B4455;\n",
              "      fill: #D2E3FC;\n",
              "    }\n",
              "\n",
              "    [theme=dark] .colab-df-convert:hover {\n",
              "      background-color: #434B5C;\n",
              "      box-shadow: 0px 1px 3px 1px rgba(0, 0, 0, 0.15);\n",
              "      filter: drop-shadow(0px 1px 2px rgba(0, 0, 0, 0.3));\n",
              "      fill: #FFFFFF;\n",
              "    }\n",
              "  </style>\n",
              "\n",
              "    <script>\n",
              "      const buttonEl =\n",
              "        document.querySelector('#df-b22503ae-a004-4c87-92e3-ff8ac53f3ea1 button.colab-df-convert');\n",
              "      buttonEl.style.display =\n",
              "        google.colab.kernel.accessAllowed ? 'block' : 'none';\n",
              "\n",
              "      async function convertToInteractive(key) {\n",
              "        const element = document.querySelector('#df-b22503ae-a004-4c87-92e3-ff8ac53f3ea1');\n",
              "        const dataTable =\n",
              "          await google.colab.kernel.invokeFunction('convertToInteractive',\n",
              "                                                    [key], {});\n",
              "        if (!dataTable) return;\n",
              "\n",
              "        const docLinkHtml = 'Like what you see? Visit the ' +\n",
              "          '<a target=\"_blank\" href=https://colab.research.google.com/notebooks/data_table.ipynb>data table notebook</a>'\n",
              "          + ' to learn more about interactive tables.';\n",
              "        element.innerHTML = '';\n",
              "        dataTable['output_type'] = 'display_data';\n",
              "        await google.colab.output.renderOutput(dataTable, element);\n",
              "        const docLink = document.createElement('div');\n",
              "        docLink.innerHTML = docLinkHtml;\n",
              "        element.appendChild(docLink);\n",
              "      }\n",
              "    </script>\n",
              "  </div>\n",
              "\n",
              "\n",
              "<div id=\"df-4c931ab4-f51d-460a-923c-9608da6c8978\">\n",
              "  <button class=\"colab-df-quickchart\" onclick=\"quickchart('df-4c931ab4-f51d-460a-923c-9608da6c8978')\"\n",
              "            title=\"Suggest charts\"\n",
              "            style=\"display:none;\">\n",
              "\n",
              "<svg xmlns=\"http://www.w3.org/2000/svg\" height=\"24px\"viewBox=\"0 0 24 24\"\n",
              "     width=\"24px\">\n",
              "    <g>\n",
              "        <path d=\"M19 3H5c-1.1 0-2 .9-2 2v14c0 1.1.9 2 2 2h14c1.1 0 2-.9 2-2V5c0-1.1-.9-2-2-2zM9 17H7v-7h2v7zm4 0h-2V7h2v10zm4 0h-2v-4h2v4z\"/>\n",
              "    </g>\n",
              "</svg>\n",
              "  </button>\n",
              "\n",
              "<style>\n",
              "  .colab-df-quickchart {\n",
              "      --bg-color: #E8F0FE;\n",
              "      --fill-color: #1967D2;\n",
              "      --hover-bg-color: #E2EBFA;\n",
              "      --hover-fill-color: #174EA6;\n",
              "      --disabled-fill-color: #AAA;\n",
              "      --disabled-bg-color: #DDD;\n",
              "  }\n",
              "\n",
              "  [theme=dark] .colab-df-quickchart {\n",
              "      --bg-color: #3B4455;\n",
              "      --fill-color: #D2E3FC;\n",
              "      --hover-bg-color: #434B5C;\n",
              "      --hover-fill-color: #FFFFFF;\n",
              "      --disabled-bg-color: #3B4455;\n",
              "      --disabled-fill-color: #666;\n",
              "  }\n",
              "\n",
              "  .colab-df-quickchart {\n",
              "    background-color: var(--bg-color);\n",
              "    border: none;\n",
              "    border-radius: 50%;\n",
              "    cursor: pointer;\n",
              "    display: none;\n",
              "    fill: var(--fill-color);\n",
              "    height: 32px;\n",
              "    padding: 0;\n",
              "    width: 32px;\n",
              "  }\n",
              "\n",
              "  .colab-df-quickchart:hover {\n",
              "    background-color: var(--hover-bg-color);\n",
              "    box-shadow: 0 1px 2px rgba(60, 64, 67, 0.3), 0 1px 3px 1px rgba(60, 64, 67, 0.15);\n",
              "    fill: var(--button-hover-fill-color);\n",
              "  }\n",
              "\n",
              "  .colab-df-quickchart-complete:disabled,\n",
              "  .colab-df-quickchart-complete:disabled:hover {\n",
              "    background-color: var(--disabled-bg-color);\n",
              "    fill: var(--disabled-fill-color);\n",
              "    box-shadow: none;\n",
              "  }\n",
              "\n",
              "  .colab-df-spinner {\n",
              "    border: 2px solid var(--fill-color);\n",
              "    border-color: transparent;\n",
              "    border-bottom-color: var(--fill-color);\n",
              "    animation:\n",
              "      spin 1s steps(1) infinite;\n",
              "  }\n",
              "\n",
              "  @keyframes spin {\n",
              "    0% {\n",
              "      border-color: transparent;\n",
              "      border-bottom-color: var(--fill-color);\n",
              "      border-left-color: var(--fill-color);\n",
              "    }\n",
              "    20% {\n",
              "      border-color: transparent;\n",
              "      border-left-color: var(--fill-color);\n",
              "      border-top-color: var(--fill-color);\n",
              "    }\n",
              "    30% {\n",
              "      border-color: transparent;\n",
              "      border-left-color: var(--fill-color);\n",
              "      border-top-color: var(--fill-color);\n",
              "      border-right-color: var(--fill-color);\n",
              "    }\n",
              "    40% {\n",
              "      border-color: transparent;\n",
              "      border-right-color: var(--fill-color);\n",
              "      border-top-color: var(--fill-color);\n",
              "    }\n",
              "    60% {\n",
              "      border-color: transparent;\n",
              "      border-right-color: var(--fill-color);\n",
              "    }\n",
              "    80% {\n",
              "      border-color: transparent;\n",
              "      border-right-color: var(--fill-color);\n",
              "      border-bottom-color: var(--fill-color);\n",
              "    }\n",
              "    90% {\n",
              "      border-color: transparent;\n",
              "      border-bottom-color: var(--fill-color);\n",
              "    }\n",
              "  }\n",
              "</style>\n",
              "\n",
              "  <script>\n",
              "    async function quickchart(key) {\n",
              "      const quickchartButtonEl =\n",
              "        document.querySelector('#' + key + ' button');\n",
              "      quickchartButtonEl.disabled = true;  // To prevent multiple clicks.\n",
              "      quickchartButtonEl.classList.add('colab-df-spinner');\n",
              "      try {\n",
              "        const charts = await google.colab.kernel.invokeFunction(\n",
              "            'suggestCharts', [key], {});\n",
              "      } catch (error) {\n",
              "        console.error('Error during call to suggestCharts:', error);\n",
              "      }\n",
              "      quickchartButtonEl.classList.remove('colab-df-spinner');\n",
              "      quickchartButtonEl.classList.add('colab-df-quickchart-complete');\n",
              "    }\n",
              "    (() => {\n",
              "      let quickchartButtonEl =\n",
              "        document.querySelector('#df-4c931ab4-f51d-460a-923c-9608da6c8978 button');\n",
              "      quickchartButtonEl.style.display =\n",
              "        google.colab.kernel.accessAllowed ? 'block' : 'none';\n",
              "    })();\n",
              "  </script>\n",
              "</div>\n",
              "\n",
              "    </div>\n",
              "  </div>\n"
            ],
            "application/vnd.google.colaboratory.intrinsic+json": {
              "type": "dataframe",
              "variable_name": "df",
              "summary": "{\n  \"name\": \"df\",\n  \"rows\": 50000,\n  \"fields\": [\n    {\n      \"column\": \"review\",\n      \"properties\": {\n        \"dtype\": \"string\",\n        \"num_unique_values\": 49581,\n        \"samples\": [\n          \"poorly done political actioner. badly photographed, acted, and directed. every single scene is underlighted, including those very few that are shot during the daytime. it doesn't matter what the location is. at an important conference in the white house, no lights are on, and the only available lighting is a gloomy blue that is filtered through a few windows. the primier of china conducts an earth-shattering phone conversation under conditions of such intense chiaroscuro that he should be contemplating a bust of homer in a rembrandt painting. honest. it's as if he had a tiny spotlight on his face and was otherwise in total darkness. the slow motion deaths are by now obligatory in any ill-thought-out movie.roy scheider and maria conchita alonzo do well by their roles, but scheider is rarely on screen. the other performances are dismissable. there is a pretty oriental woman in a short tight skirt who totes a gun and is right out of a bond movie who's accent suggests a childhood spent in basset, nebraska, and who should have remained the model she probably started out as. whoever plays the surviving secret service agent aboard the cruise ship was probably picked for the part because he looked most like johnny depp, not because of any display of talent. the chinese villains, representing both taiwan and mainland china, hiss and grin as they threaten the heroes. the script is pretty awful, recycled from other, better films. there is a lot of shooting aboard the ship and practically everyone winds up mincemeat. two thirds of the way through, the ship explodes into the expected series of fireballs. then the movie splits into two related parts. part one, another shootout, this time in a waterfront warehouse. part two, an exchange between the vice president, now acting president, and the oily chinese premiere, lifted out of both \\\"dr. strangelove\\\" and \\\"fail safe.\\\" we unwittingly launch our missiles. they launch theirs in retaliation. we cannot convince them that our launch was accidental, even though we offer to help them destroy our own missiles. there is even the george c. scott/ walter matthau general who argues that their \\\"nucular\\\" armory can't match ours so we should hit them with everything we've got. more fireballs. the end comes none too soon.\",\n          \"in sri lanka, a country divided by religion and language, the civil war between the pro-sinhalese government and the liberation tigers of tamil eelam (ltte), a separatist organization, has claimed an estimated 68,000 lives since 1983. human rights groups have said that, as a result of the war, more than one million people have been displaced, homeless or living in camps. the impact on children and families caught in the conflict is sensitively dramatized by acclaimed tamil director mani ratnam in his 2002 film a peck on the cheek, winner of several awards at the national film awards in india. while the civil war is merely a backdrop for the story of a young girl's voyage of discovery, the human cost of war is made quite clear and ratnam gives the fighting a universal context, pointing the finger at global arms traffickers as the source of wrongdoing.beautifully photographed in southern india by cinematographer ravi k chandran in a setting mirroring the terrain of sri lanka, the film tells a moving story about an adopted 9-year old girl who sets out to find her real mother in the middle of the fighting in sri lanka. played with deep feeling and expressiveness by p.s. keerthana in a memorable performance, amudha is brought up by a loving middle class family with two younger brothers after her natural parents shyama (nandita das) and dileepan (j.d. chakravarthi) were forced to flee when the fighting broke out, leaving her in a red cross camp. in a loving flashback, we see amudha's adoptive parents, father thiru (madhavan) a prominent tamil writer, and mother indra (simran) a tv personality, marry to facilitate their adoption of the darker-skinned little girl.young amudha has no idea that she is adopted until it is sprung upon her abruptly on her ninth birthday, according to the parents' prior agreement. while she is playing, thiru tells her almost in a matter of fact tone that \\\"you are not our daughter\\\" and the response is predictable. distraught, she questions who her father was, what her mother's name was, why she gave her up, and so forth but few answers are forthcoming. amudha runs away several times until her parents agree to go to sri lanka to help her find her true mother, now a fighter for the tamil separatists. the family's immersion in the reality of the civil war leads to some traumatic moments and difficult decisions, handled mostly with skill by ratnam, though a sequence where the family was caught in a crossfire felt amateurish.a peck on the cheek is of course a bollywood-style film and that means tons of music and melodrama. the melodrama did not get in the way because of the strong performances by the lead actors; however, i found the musical dramatizations of songs by a. r. rahman counter to the mood of the film with their slick, high production techniques and fast-paced music video-style editing. yet the compelling nature of the story and the honesty in which it is told transcend the film's limitations. tamil cinema has been criticized by many, even within the country as being too clich\\u00e9d and commercial, yet a peck on the cheek is both a film of entertainment and one that tackles serious issues. that it successfully straddles the line between art and commerce is not a rejection but a tribute.\",\n          \"futz is the only show preserved from the experimental theatre movement in new york in the 1960s (the origins of off off broadway). though it's not for everyone, it is a genuinely brilliant, darkly funny, even more often deeply disturbing tale about love, sex, personal liberty, and revenge, a serious morality tale even more relevant now in a time when congress wants to outlaw gay marriage by trashing our constitution. the story is not about being gay, though -- it's about love and sex that don't conform to social norms and therefore must be removed through violence and hate. on the surface, it tells the story of a man who falls in love with a pig, but like any great fable, it's not really about animals, it's about something bigger -- stifling conformity in america.the stage version won international acclaim in its original production, it toured the u.s. and europe, and with others of its kind, influenced almost all theatre that came after it. luckily, we have preserved here the show pretty much as it was originally conceived, with the original cast and original director, tom o'horgan (who also directed hair and jesus christ superstar on broadway).this is not a mainstream, easy-to-take, studio film -- this is an aggressive, unsettling, glorious, deeply emotional, wildly imaginative piece of storytelling that you'll never forget. and it just might change the way you see the world...\"\n        ],\n        \"semantic_type\": \"\",\n        \"description\": \"\"\n      }\n    },\n    {\n      \"column\": \"sentiment\",\n      \"properties\": {\n        \"dtype\": \"category\",\n        \"num_unique_values\": 2,\n        \"samples\": [\n          \"negative\",\n          \"positive\"\n        ],\n        \"semantic_type\": \"\",\n        \"description\": \"\"\n      }\n    }\n  ]\n}"
            }
          },
          "metadata": {},
          "execution_count": 13
        }
      ]
    },
    {
      "cell_type": "markdown",
      "source": [
        "<div style=\"padding:10px;color:white;margin:0;font-size:200%;text-align:center;display:fill;border-radius:10px;background-color:#215f95;;overflow:hidden;font-weight:501;font-family:magra\">Removing URLs</div>"
      ],
      "metadata": {
        "id": "_IgSDaPknKl2"
      }
    },
    {
      "cell_type": "code",
      "source": [
        "def remove_url(text):\n",
        "    pattern=re.compile(r'https?://\\S+|www\\.\\S+')\n",
        "    return pattern.sub(r'',text)\n",
        "\n",
        "text='Checkout this webpage to learn more about deep learning https://www.deeplearning.ai/ai-notes/initialization/index.html'\n",
        "remove_url(text)"
      ],
      "metadata": {
        "execution": {
          "iopub.status.busy": "2024-07-15T12:25:41.117022Z",
          "iopub.execute_input": "2024-07-15T12:25:41.117321Z",
          "iopub.status.idle": "2024-07-15T12:25:41.124195Z",
          "shell.execute_reply.started": "2024-07-15T12:25:41.117296Z",
          "shell.execute_reply": "2024-07-15T12:25:41.123245Z"
        },
        "trusted": true,
        "colab": {
          "base_uri": "https://localhost:8080/",
          "height": 35
        },
        "id": "-jN03Oy2nKl3",
        "outputId": "97f1721f-a263-4778-db59-9a5f444dd377"
      },
      "execution_count": null,
      "outputs": [
        {
          "output_type": "execute_result",
          "data": {
            "text/plain": [
              "'Checkout this webpage to learn more about deep learning '"
            ],
            "application/vnd.google.colaboratory.intrinsic+json": {
              "type": "string"
            }
          },
          "metadata": {},
          "execution_count": 14
        }
      ]
    },
    {
      "cell_type": "markdown",
      "source": [
        "\n",
        "<div style=\"padding:10px;color:white;margin:0;font-size:200%;text-align:center;display:fill;border-radius:10px;background-color:#215f95;;overflow:hidden;font-weight:501;font-family:magra\">Removing punchuation</div>"
      ],
      "metadata": {
        "id": "Au-QWIoznKl3"
      }
    },
    {
      "cell_type": "markdown",
      "source": [
        "It matters in tokenization as these males document bekar mei large"
      ],
      "metadata": {
        "id": "x9H7qrEjnKl3"
      }
    },
    {
      "cell_type": "code",
      "source": [
        "import string,time\n",
        "string.punctuation"
      ],
      "metadata": {
        "execution": {
          "iopub.status.busy": "2024-07-15T12:25:41.125267Z",
          "iopub.execute_input": "2024-07-15T12:25:41.125566Z",
          "iopub.status.idle": "2024-07-15T12:25:41.13426Z",
          "shell.execute_reply.started": "2024-07-15T12:25:41.125543Z",
          "shell.execute_reply": "2024-07-15T12:25:41.133335Z"
        },
        "trusted": true,
        "colab": {
          "base_uri": "https://localhost:8080/",
          "height": 35
        },
        "id": "gWK1-xHqnKl3",
        "outputId": "6ba15a5c-3dfc-45bf-e926-d6b442a0144b"
      },
      "execution_count": null,
      "outputs": [
        {
          "output_type": "execute_result",
          "data": {
            "text/plain": [
              "'!\"#$%&\\'()*+,-./:;<=>?@[\\\\]^_`{|}~'"
            ],
            "application/vnd.google.colaboratory.intrinsic+json": {
              "type": "string"
            }
          },
          "metadata": {},
          "execution_count": 15
        }
      ]
    },
    {
      "cell_type": "markdown",
      "source": [
        "##### These are the punchuations in python"
      ],
      "metadata": {
        "id": "GLAg0vcInKl4"
      }
    },
    {
      "cell_type": "code",
      "source": [
        "exclude=string.punctuation\n",
        "def remove_punc(text):\n",
        "    for char in exclude:\n",
        "        text=text.replace(char,'')\n",
        "    return text\n",
        "\n",
        "text='okay, so. this, is/ just a, text, with. punc'\n",
        "remove_punc(text)"
      ],
      "metadata": {
        "execution": {
          "iopub.status.busy": "2024-07-15T12:25:41.135363Z",
          "iopub.execute_input": "2024-07-15T12:25:41.135623Z",
          "iopub.status.idle": "2024-07-15T12:25:41.14529Z",
          "shell.execute_reply.started": "2024-07-15T12:25:41.135601Z",
          "shell.execute_reply": "2024-07-15T12:25:41.144445Z"
        },
        "trusted": true,
        "colab": {
          "base_uri": "https://localhost:8080/",
          "height": 35
        },
        "id": "JD3CKxmwnKl4",
        "outputId": "e6090f53-32ba-4304-ac20-68afe1ca82c2"
      },
      "execution_count": null,
      "outputs": [
        {
          "output_type": "execute_result",
          "data": {
            "text/plain": [
              "'okay so this is just a text with punc'"
            ],
            "application/vnd.google.colaboratory.intrinsic+json": {
              "type": "string"
            }
          },
          "metadata": {},
          "execution_count": 16
        }
      ]
    },
    {
      "cell_type": "code",
      "source": [
        "start=time.time()\n",
        "print(remove_punc(text))\n",
        "time1=time.time()-start\n",
        "print(time1)"
      ],
      "metadata": {
        "execution": {
          "iopub.status.busy": "2024-07-15T12:25:41.146432Z",
          "iopub.execute_input": "2024-07-15T12:25:41.147103Z",
          "iopub.status.idle": "2024-07-15T12:25:41.154138Z",
          "shell.execute_reply.started": "2024-07-15T12:25:41.147073Z",
          "shell.execute_reply": "2024-07-15T12:25:41.153183Z"
        },
        "trusted": true,
        "colab": {
          "base_uri": "https://localhost:8080/"
        },
        "id": "wNFoCHiAnKl4",
        "outputId": "fc413db7-2707-442d-9f5a-da421cbb22d1"
      },
      "execution_count": null,
      "outputs": [
        {
          "output_type": "stream",
          "name": "stdout",
          "text": [
            "okay so this is just a text with punc\n",
            "0.00018835067749023438\n"
          ]
        }
      ]
    },
    {
      "cell_type": "code",
      "source": [
        "def remove_punc1(text):\n",
        "    return text.translate(str.maketrans('','',exclude))\n",
        "\n",
        "remove_punc(text)"
      ],
      "metadata": {
        "execution": {
          "iopub.status.busy": "2024-07-15T12:25:41.15528Z",
          "iopub.execute_input": "2024-07-15T12:25:41.155597Z",
          "iopub.status.idle": "2024-07-15T12:25:41.164331Z",
          "shell.execute_reply.started": "2024-07-15T12:25:41.155567Z",
          "shell.execute_reply": "2024-07-15T12:25:41.163445Z"
        },
        "trusted": true,
        "colab": {
          "base_uri": "https://localhost:8080/",
          "height": 35
        },
        "id": "CfU9x-clnKl4",
        "outputId": "311c3d6d-84b3-479e-9ec6-1118e1e9a149"
      },
      "execution_count": null,
      "outputs": [
        {
          "output_type": "execute_result",
          "data": {
            "text/plain": [
              "'okay so this is just a text with punc'"
            ],
            "application/vnd.google.colaboratory.intrinsic+json": {
              "type": "string"
            }
          },
          "metadata": {},
          "execution_count": 18
        }
      ]
    },
    {
      "cell_type": "code",
      "source": [
        "start=time.time()\n",
        "print(remove_punc1(text))\n",
        "time1=time.time()-start\n",
        "print(time1)"
      ],
      "metadata": {
        "execution": {
          "iopub.status.busy": "2024-07-15T12:25:41.165388Z",
          "iopub.execute_input": "2024-07-15T12:25:41.165662Z",
          "iopub.status.idle": "2024-07-15T12:25:41.173498Z",
          "shell.execute_reply.started": "2024-07-15T12:25:41.165623Z",
          "shell.execute_reply": "2024-07-15T12:25:41.172647Z"
        },
        "trusted": true,
        "colab": {
          "base_uri": "https://localhost:8080/"
        },
        "id": "T_rTXzu4nKl5",
        "outputId": "64d543fa-37a2-415f-e534-c26656a1e17d"
      },
      "execution_count": null,
      "outputs": [
        {
          "output_type": "stream",
          "name": "stdout",
          "text": [
            "okay so this is just a text with punc\n",
            "0.00018358230590820312\n"
          ]
        }
      ]
    },
    {
      "cell_type": "markdown",
      "source": [
        "\n",
        "<div style=\"padding:10px;color:white;margin:0;font-size:200%;text-align:center;display:fill;border-radius:10px;background-color:#215f95;;overflow:hidden;font-weight:501;font-family:magra\">GenZ Lingo treatment</div>"
      ],
      "metadata": {
        "id": "DOqofEpDnKl5"
      }
    },
    {
      "cell_type": "code",
      "source": [
        "chat_word = {\n",
        "    'AFAIK': 'As Far As I Know',\n",
        "    'AFK': 'Away From Keyboard',\n",
        "    'ASAP': 'As Soon As Possible',\n",
        "    'ATK': 'At The Keyboard',\n",
        "    'ATM': 'At The Moment',\n",
        "    'A3': 'Anytime, Anywhere, Anyplace',\n",
        "    'BAK': 'Back At Keyboard',\n",
        "    'BBL': 'Be Back Later',\n",
        "    'BBS': 'Be Back Soon',\n",
        "    'BFN': 'Bye For Now',\n",
        "    'B4N': 'Bye For Now',\n",
        "    'BRB': 'Be Right Back',\n",
        "    'BRT': 'Be Right There',\n",
        "    'BTW': 'By The Way',\n",
        "    'B4': 'Before',\n",
        "    'CU': 'See You',\n",
        "    'CUL8R': 'See You Later',\n",
        "    'CYA': 'See You',\n",
        "    'FAQ': 'Frequently Asked Questions',\n",
        "    'FC': 'Fingers Crossed',\n",
        "    'FWIW': \"For What It's Worth\",\n",
        "    'FYI': 'For Your Information',\n",
        "    'GAL': 'Get A Life',\n",
        "    'GG': 'Good Game',\n",
        "    'GN': 'Good Night',\n",
        "    'GMTA': 'Great Minds Think Alike',\n",
        "    'GR8': 'Great!',\n",
        "    'G9': 'Genius',\n",
        "    'IC': 'I See',\n",
        "    'ICQ': 'I Seek you (also a chat program)',\n",
        "    'ILU': 'ILU: I Love You',\n",
        "    'IMHO': 'In My Honest/Humble Opinion',\n",
        "    'IMO': 'In My Opinion',\n",
        "    'IOW': 'In Other Words',\n",
        "    'IRL': 'In Real Life',\n",
        "    'KISS': 'Keep It Simple, Stupid',\n",
        "    'LDR': 'Long Distance Relationship',\n",
        "    'LMAO': 'Laugh My A.. Off',\n",
        "    'LOL': 'Laughing Out Loud',\n",
        "    'LTNS': 'Long Time No See',\n",
        "    'L8R': 'Later',\n",
        "    'MTE': 'My Thoughts Exactly',\n",
        "    'M8': 'Mate',\n",
        "    'NRN': 'No Reply Necessary',\n",
        "    'OIC': 'Oh I See',\n",
        "    'PITA': 'Pain In The A..',\n",
        "    'PRT': 'Party',\n",
        "    'PRW': 'Parents Are Watching',\n",
        "    'QPSA?': 'Que Pasa?',\n",
        "    'ROFL': 'Rolling On The Floor Laughing',\n",
        "    'ROFLOL': 'Rolling On The Floor Laughing Out Loud',\n",
        "    'ROTFLMAO': 'Rolling On The Floor Laughing My A.. Off',\n",
        "    'SK8': 'Skate',\n",
        "    'STATS': 'Your sex and age',\n",
        "    'ASL': 'Age, Sex, Location',\n",
        "    'THX': 'Thank You',\n",
        "    'TTFN': 'Ta-Ta For Now!',\n",
        "    'TTYL': 'Talk To You Later',\n",
        "    'U': 'You',\n",
        "    'U2': 'You Too',\n",
        "    'U4E': 'Yours For Ever',\n",
        "    'WB': 'Welcome Back',\n",
        "    'WTF': 'What The F...',\n",
        "    'WTG': 'Way To Go!',\n",
        "    'WUF': 'Where Are You From?',\n",
        "    'W8': 'Wait...',\n",
        "    '7K': 'Sick:-D Laugher',\n",
        "    'TFW': 'That feeling when',\n",
        "    'MFW': 'My face when',\n",
        "    'MRW': 'My reaction when',\n",
        "    'IFYP': 'I feel your pain',\n",
        "    'TNTL': 'Trying not to laugh',\n",
        "    'JK': 'Just kidding',\n",
        "    'IDC': \"I don't care\",\n",
        "    'ILY': 'I love you',\n",
        "    'IMU': 'I miss you',\n",
        "    'ADIH': 'Another day in hell',\n",
        "    'ZZZ': 'Sleeping, bored, tired',\n",
        "    'WYWH': 'Wish you were here',\n",
        "    'TIME': 'Tears in my eyes',\n",
        "    'BAE': 'Before anyone else',\n",
        "    'FIMH': 'Forever in my heart',\n",
        "    'BSAAW': 'Big smile and a wink',\n",
        "    'BWL': 'Bursting with laughter',\n",
        "    'BFF': 'Best friends forever',\n",
        "    'CSL': \"Can't stop laughing\"\n",
        "}"
      ],
      "metadata": {
        "execution": {
          "iopub.status.busy": "2024-07-15T12:25:41.174798Z",
          "iopub.execute_input": "2024-07-15T12:25:41.175111Z",
          "iopub.status.idle": "2024-07-15T12:25:41.186985Z",
          "shell.execute_reply.started": "2024-07-15T12:25:41.175088Z",
          "shell.execute_reply": "2024-07-15T12:25:41.186146Z"
        },
        "trusted": true,
        "id": "kcp6JvfSnKl5"
      },
      "execution_count": null,
      "outputs": []
    },
    {
      "cell_type": "code",
      "source": [
        "def short_conv(text):\n",
        "    new_text = []\n",
        "    for w in text.split():\n",
        "        if w.upper() in chat_word:\n",
        "            new_text.append(chat_word[w.upper()])\n",
        "        else:\n",
        "            new_text.append(w)\n",
        "    return \" \".join(new_text)\n",
        "\n",
        "\n",
        "short_conv(\"ASAP let me know please\")"
      ],
      "metadata": {
        "execution": {
          "iopub.status.busy": "2024-07-15T12:25:41.188026Z",
          "iopub.execute_input": "2024-07-15T12:25:41.189453Z",
          "iopub.status.idle": "2024-07-15T12:25:41.203029Z",
          "shell.execute_reply.started": "2024-07-15T12:25:41.189428Z",
          "shell.execute_reply": "2024-07-15T12:25:41.202094Z"
        },
        "trusted": true,
        "colab": {
          "base_uri": "https://localhost:8080/",
          "height": 35
        },
        "id": "7QeFV1KLnKl5",
        "outputId": "f57bbfcb-79ec-4e76-f5bc-11668b0a7fba"
      },
      "execution_count": null,
      "outputs": [
        {
          "output_type": "execute_result",
          "data": {
            "text/plain": [
              "'As Soon As Possible let me know please'"
            ],
            "application/vnd.google.colaboratory.intrinsic+json": {
              "type": "string"
            }
          },
          "metadata": {},
          "execution_count": 21
        }
      ]
    },
    {
      "cell_type": "markdown",
      "source": [
        "<div style=\"padding:10px;color:white;margin:0;font-size:200%;text-align:center;display:fill;border-radius:10px;background-color:#215f95;;overflow:hidden;font-weight:501;font-family:magra\">Spelling correction</div>"
      ],
      "metadata": {
        "id": "ZVHeLeBdnKl6"
      }
    },
    {
      "cell_type": "code",
      "source": [
        "from textblob import TextBlob\n",
        "\n",
        "text=\" ceertainli I dont kniw what is wrrong herre\"\n",
        "textblb=TextBlob(text)\n",
        "textblb.correct().string"
      ],
      "metadata": {
        "execution": {
          "iopub.status.busy": "2024-07-15T12:25:41.208002Z",
          "iopub.execute_input": "2024-07-15T12:25:41.208279Z",
          "iopub.status.idle": "2024-07-15T12:25:41.693017Z",
          "shell.execute_reply.started": "2024-07-15T12:25:41.208255Z",
          "shell.execute_reply": "2024-07-15T12:25:41.692081Z"
        },
        "trusted": true,
        "colab": {
          "base_uri": "https://localhost:8080/",
          "height": 35
        },
        "id": "MflvBEn2nKl6",
        "outputId": "89da6ee4-81e7-4dda-eb1b-bfd77b0a6318"
      },
      "execution_count": null,
      "outputs": [
        {
          "output_type": "execute_result",
          "data": {
            "text/plain": [
              "' certainly I dont know what is wrong here'"
            ],
            "application/vnd.google.colaboratory.intrinsic+json": {
              "type": "string"
            }
          },
          "metadata": {},
          "execution_count": 22
        }
      ]
    },
    {
      "cell_type": "markdown",
      "source": [
        "\n",
        "<div style=\"padding:10px;color:white;margin:0;font-size:200%;text-align:center;display:fill;border-radius:10px;background-color:#215f95;;overflow:hidden;font-weight:501;font-family:magra\">Removing StopWords</div>\n",
        "\n",
        "##### Stop words are common words in a language that are often removed because they carry little semantic weight and can clutter analysis. These words include articles (e.g., \"a\", \"the\"), conjunctions (e.g., \"and\", \"or\"), prepositions (e.g., \"in\", \"on\"), and other frequently occurring terms that do not significantly contribute to the meaning of a sentence. By removing stop words, the focus shifts to more meaningful words that better represent the content of the text, improving the efficiency and accuracy of text analysis and machine learning models."
      ],
      "metadata": {
        "id": "8AT5eMDvnKl6"
      }
    },
    {
      "source": [
        "import nltk\n",
        "\n",
        "# Download the 'stopwords' dataset\n",
        "nltk.download('stopwords')\n",
        "\n",
        "from nltk.corpus import stopwords\n",
        "\n",
        "stopwords.words(\"english\")"
      ],
      "cell_type": "code",
      "metadata": {
        "colab": {
          "base_uri": "https://localhost:8080/"
        },
        "id": "EJxVqBTen8nU",
        "outputId": "52b0256c-1e58-4a67-e349-3d6e935f47d4"
      },
      "execution_count": null,
      "outputs": [
        {
          "output_type": "stream",
          "name": "stderr",
          "text": [
            "[nltk_data] Downloading package stopwords to /root/nltk_data...\n",
            "[nltk_data]   Unzipping corpora/stopwords.zip.\n"
          ]
        },
        {
          "output_type": "execute_result",
          "data": {
            "text/plain": [
              "['i',\n",
              " 'me',\n",
              " 'my',\n",
              " 'myself',\n",
              " 'we',\n",
              " 'our',\n",
              " 'ours',\n",
              " 'ourselves',\n",
              " 'you',\n",
              " \"you're\",\n",
              " \"you've\",\n",
              " \"you'll\",\n",
              " \"you'd\",\n",
              " 'your',\n",
              " 'yours',\n",
              " 'yourself',\n",
              " 'yourselves',\n",
              " 'he',\n",
              " 'him',\n",
              " 'his',\n",
              " 'himself',\n",
              " 'she',\n",
              " \"she's\",\n",
              " 'her',\n",
              " 'hers',\n",
              " 'herself',\n",
              " 'it',\n",
              " \"it's\",\n",
              " 'its',\n",
              " 'itself',\n",
              " 'they',\n",
              " 'them',\n",
              " 'their',\n",
              " 'theirs',\n",
              " 'themselves',\n",
              " 'what',\n",
              " 'which',\n",
              " 'who',\n",
              " 'whom',\n",
              " 'this',\n",
              " 'that',\n",
              " \"that'll\",\n",
              " 'these',\n",
              " 'those',\n",
              " 'am',\n",
              " 'is',\n",
              " 'are',\n",
              " 'was',\n",
              " 'were',\n",
              " 'be',\n",
              " 'been',\n",
              " 'being',\n",
              " 'have',\n",
              " 'has',\n",
              " 'had',\n",
              " 'having',\n",
              " 'do',\n",
              " 'does',\n",
              " 'did',\n",
              " 'doing',\n",
              " 'a',\n",
              " 'an',\n",
              " 'the',\n",
              " 'and',\n",
              " 'but',\n",
              " 'if',\n",
              " 'or',\n",
              " 'because',\n",
              " 'as',\n",
              " 'until',\n",
              " 'while',\n",
              " 'of',\n",
              " 'at',\n",
              " 'by',\n",
              " 'for',\n",
              " 'with',\n",
              " 'about',\n",
              " 'against',\n",
              " 'between',\n",
              " 'into',\n",
              " 'through',\n",
              " 'during',\n",
              " 'before',\n",
              " 'after',\n",
              " 'above',\n",
              " 'below',\n",
              " 'to',\n",
              " 'from',\n",
              " 'up',\n",
              " 'down',\n",
              " 'in',\n",
              " 'out',\n",
              " 'on',\n",
              " 'off',\n",
              " 'over',\n",
              " 'under',\n",
              " 'again',\n",
              " 'further',\n",
              " 'then',\n",
              " 'once',\n",
              " 'here',\n",
              " 'there',\n",
              " 'when',\n",
              " 'where',\n",
              " 'why',\n",
              " 'how',\n",
              " 'all',\n",
              " 'any',\n",
              " 'both',\n",
              " 'each',\n",
              " 'few',\n",
              " 'more',\n",
              " 'most',\n",
              " 'other',\n",
              " 'some',\n",
              " 'such',\n",
              " 'no',\n",
              " 'nor',\n",
              " 'not',\n",
              " 'only',\n",
              " 'own',\n",
              " 'same',\n",
              " 'so',\n",
              " 'than',\n",
              " 'too',\n",
              " 'very',\n",
              " 's',\n",
              " 't',\n",
              " 'can',\n",
              " 'will',\n",
              " 'just',\n",
              " 'don',\n",
              " \"don't\",\n",
              " 'should',\n",
              " \"should've\",\n",
              " 'now',\n",
              " 'd',\n",
              " 'll',\n",
              " 'm',\n",
              " 'o',\n",
              " 're',\n",
              " 've',\n",
              " 'y',\n",
              " 'ain',\n",
              " 'aren',\n",
              " \"aren't\",\n",
              " 'couldn',\n",
              " \"couldn't\",\n",
              " 'didn',\n",
              " \"didn't\",\n",
              " 'doesn',\n",
              " \"doesn't\",\n",
              " 'hadn',\n",
              " \"hadn't\",\n",
              " 'hasn',\n",
              " \"hasn't\",\n",
              " 'haven',\n",
              " \"haven't\",\n",
              " 'isn',\n",
              " \"isn't\",\n",
              " 'ma',\n",
              " 'mightn',\n",
              " \"mightn't\",\n",
              " 'mustn',\n",
              " \"mustn't\",\n",
              " 'needn',\n",
              " \"needn't\",\n",
              " 'shan',\n",
              " \"shan't\",\n",
              " 'shouldn',\n",
              " \"shouldn't\",\n",
              " 'wasn',\n",
              " \"wasn't\",\n",
              " 'weren',\n",
              " \"weren't\",\n",
              " 'won',\n",
              " \"won't\",\n",
              " 'wouldn',\n",
              " \"wouldn't\"]"
            ]
          },
          "metadata": {},
          "execution_count": 23
        }
      ]
    },
    {
      "cell_type": "code",
      "source": [
        "from nltk.corpus import stopwords\n",
        "stopwords.words(\"english\")"
      ],
      "metadata": {
        "execution": {
          "iopub.status.busy": "2024-07-15T12:25:41.694062Z",
          "iopub.execute_input": "2024-07-15T12:25:41.694368Z",
          "iopub.status.idle": "2024-07-15T12:25:41.704261Z",
          "shell.execute_reply.started": "2024-07-15T12:25:41.694344Z",
          "shell.execute_reply": "2024-07-15T12:25:41.703293Z"
        },
        "trusted": true,
        "colab": {
          "base_uri": "https://localhost:8080/"
        },
        "id": "0Iyca5hSnKl7",
        "outputId": "dfba6081-e465-4aea-ae0e-d0c3210443fe"
      },
      "execution_count": null,
      "outputs": [
        {
          "output_type": "execute_result",
          "data": {
            "text/plain": [
              "['i',\n",
              " 'me',\n",
              " 'my',\n",
              " 'myself',\n",
              " 'we',\n",
              " 'our',\n",
              " 'ours',\n",
              " 'ourselves',\n",
              " 'you',\n",
              " \"you're\",\n",
              " \"you've\",\n",
              " \"you'll\",\n",
              " \"you'd\",\n",
              " 'your',\n",
              " 'yours',\n",
              " 'yourself',\n",
              " 'yourselves',\n",
              " 'he',\n",
              " 'him',\n",
              " 'his',\n",
              " 'himself',\n",
              " 'she',\n",
              " \"she's\",\n",
              " 'her',\n",
              " 'hers',\n",
              " 'herself',\n",
              " 'it',\n",
              " \"it's\",\n",
              " 'its',\n",
              " 'itself',\n",
              " 'they',\n",
              " 'them',\n",
              " 'their',\n",
              " 'theirs',\n",
              " 'themselves',\n",
              " 'what',\n",
              " 'which',\n",
              " 'who',\n",
              " 'whom',\n",
              " 'this',\n",
              " 'that',\n",
              " \"that'll\",\n",
              " 'these',\n",
              " 'those',\n",
              " 'am',\n",
              " 'is',\n",
              " 'are',\n",
              " 'was',\n",
              " 'were',\n",
              " 'be',\n",
              " 'been',\n",
              " 'being',\n",
              " 'have',\n",
              " 'has',\n",
              " 'had',\n",
              " 'having',\n",
              " 'do',\n",
              " 'does',\n",
              " 'did',\n",
              " 'doing',\n",
              " 'a',\n",
              " 'an',\n",
              " 'the',\n",
              " 'and',\n",
              " 'but',\n",
              " 'if',\n",
              " 'or',\n",
              " 'because',\n",
              " 'as',\n",
              " 'until',\n",
              " 'while',\n",
              " 'of',\n",
              " 'at',\n",
              " 'by',\n",
              " 'for',\n",
              " 'with',\n",
              " 'about',\n",
              " 'against',\n",
              " 'between',\n",
              " 'into',\n",
              " 'through',\n",
              " 'during',\n",
              " 'before',\n",
              " 'after',\n",
              " 'above',\n",
              " 'below',\n",
              " 'to',\n",
              " 'from',\n",
              " 'up',\n",
              " 'down',\n",
              " 'in',\n",
              " 'out',\n",
              " 'on',\n",
              " 'off',\n",
              " 'over',\n",
              " 'under',\n",
              " 'again',\n",
              " 'further',\n",
              " 'then',\n",
              " 'once',\n",
              " 'here',\n",
              " 'there',\n",
              " 'when',\n",
              " 'where',\n",
              " 'why',\n",
              " 'how',\n",
              " 'all',\n",
              " 'any',\n",
              " 'both',\n",
              " 'each',\n",
              " 'few',\n",
              " 'more',\n",
              " 'most',\n",
              " 'other',\n",
              " 'some',\n",
              " 'such',\n",
              " 'no',\n",
              " 'nor',\n",
              " 'not',\n",
              " 'only',\n",
              " 'own',\n",
              " 'same',\n",
              " 'so',\n",
              " 'than',\n",
              " 'too',\n",
              " 'very',\n",
              " 's',\n",
              " 't',\n",
              " 'can',\n",
              " 'will',\n",
              " 'just',\n",
              " 'don',\n",
              " \"don't\",\n",
              " 'should',\n",
              " \"should've\",\n",
              " 'now',\n",
              " 'd',\n",
              " 'll',\n",
              " 'm',\n",
              " 'o',\n",
              " 're',\n",
              " 've',\n",
              " 'y',\n",
              " 'ain',\n",
              " 'aren',\n",
              " \"aren't\",\n",
              " 'couldn',\n",
              " \"couldn't\",\n",
              " 'didn',\n",
              " \"didn't\",\n",
              " 'doesn',\n",
              " \"doesn't\",\n",
              " 'hadn',\n",
              " \"hadn't\",\n",
              " 'hasn',\n",
              " \"hasn't\",\n",
              " 'haven',\n",
              " \"haven't\",\n",
              " 'isn',\n",
              " \"isn't\",\n",
              " 'ma',\n",
              " 'mightn',\n",
              " \"mightn't\",\n",
              " 'mustn',\n",
              " \"mustn't\",\n",
              " 'needn',\n",
              " \"needn't\",\n",
              " 'shan',\n",
              " \"shan't\",\n",
              " 'shouldn',\n",
              " \"shouldn't\",\n",
              " 'wasn',\n",
              " \"wasn't\",\n",
              " 'weren',\n",
              " \"weren't\",\n",
              " 'won',\n",
              " \"won't\",\n",
              " 'wouldn',\n",
              " \"wouldn't\"]"
            ]
          },
          "metadata": {},
          "execution_count": 24
        }
      ]
    },
    {
      "cell_type": "code",
      "source": [
        "def remove_stopwords(text):\n",
        "    new_text=[]\n",
        "    for word in text.split():\n",
        "        if word in stopwords.words('english'):\n",
        "            new_text.append('')\n",
        "        else:\n",
        "            new_text.append(word)\n",
        "\n",
        "    x=new_text[:]\n",
        "    new_text.clear()\n",
        "    return \" \".join(x)\n",
        "\n",
        "text=\"I wasn't sure that this might happened\"\n",
        "remove_stopwords(text)"
      ],
      "metadata": {
        "execution": {
          "iopub.status.busy": "2024-07-15T12:25:41.705685Z",
          "iopub.execute_input": "2024-07-15T12:25:41.70602Z",
          "iopub.status.idle": "2024-07-15T12:25:41.717056Z",
          "shell.execute_reply.started": "2024-07-15T12:25:41.70599Z",
          "shell.execute_reply": "2024-07-15T12:25:41.716259Z"
        },
        "trusted": true,
        "colab": {
          "base_uri": "https://localhost:8080/",
          "height": 35
        },
        "id": "es7fYM2bnKl7",
        "outputId": "82b8008e-59f9-4406-a387-1fa4d2447314"
      },
      "execution_count": null,
      "outputs": [
        {
          "output_type": "execute_result",
          "data": {
            "text/plain": [
              "'I  sure   might happened'"
            ],
            "application/vnd.google.colaboratory.intrinsic+json": {
              "type": "string"
            }
          },
          "metadata": {},
          "execution_count": 25
        }
      ]
    },
    {
      "cell_type": "markdown",
      "source": [
        "\n",
        "<div style=\"padding:10px;color:white;margin:0;font-size:200%;text-align:center;display:fill;border-radius:10px;background-color:#215f95;;overflow:hidden;font-weight:501;font-family:magra\">Handling emojis</div>"
      ],
      "metadata": {
        "id": "TQRhgi4hnKl7"
      }
    },
    {
      "cell_type": "markdown",
      "source": [
        "#### Either remove or replace"
      ],
      "metadata": {
        "id": "brLxtmcSnKl7"
      }
    },
    {
      "cell_type": "code",
      "source": [
        "# Removing\n",
        "import re\n",
        "def remove_emoji(text):\n",
        "    emoji_pattern=re.compile(\"[\"\n",
        "                             u\"\\U0001F600-\\U0001F64F\" #emoticons\n",
        "                             u\"\\U0001F300-\\U0001F5FF\" #symbols, pictograph\n",
        "                              u\"\\U0001F680-\\U0001F6FF\" #transport and map symbol\n",
        "                              u\"\\U0001F1E0-\\U0001F1FF\" # flags(IOS)\n",
        "                              u\"\\U00002702-\\U000027B0\"\n",
        "                              u\"\\U00002FC2-\\U0001F251\"\n",
        "                             \"]+\",flags=re.UNICODE)\n",
        "    return emoji_pattern.sub(r'',text)\n",
        "\n",
        "text=\"that is not so funny please stop 😭\"\n",
        "remove_emoji(text)"
      ],
      "metadata": {
        "execution": {
          "iopub.status.busy": "2024-07-15T12:25:41.718256Z",
          "iopub.execute_input": "2024-07-15T12:25:41.718614Z",
          "iopub.status.idle": "2024-07-15T12:25:41.725995Z",
          "shell.execute_reply.started": "2024-07-15T12:25:41.718585Z",
          "shell.execute_reply": "2024-07-15T12:25:41.725254Z"
        },
        "trusted": true,
        "colab": {
          "base_uri": "https://localhost:8080/",
          "height": 35
        },
        "id": "BvtGzKBjnKl8",
        "outputId": "efebf607-b3b5-4d77-8f32-a5f09c9781cd"
      },
      "execution_count": null,
      "outputs": [
        {
          "output_type": "execute_result",
          "data": {
            "text/plain": [
              "'that is not so funny please stop '"
            ],
            "application/vnd.google.colaboratory.intrinsic+json": {
              "type": "string"
            }
          },
          "metadata": {},
          "execution_count": 26
        }
      ]
    },
    {
      "source": [
        "!pip install emoji"
      ],
      "cell_type": "code",
      "metadata": {
        "colab": {
          "base_uri": "https://localhost:8080/"
        },
        "id": "854aM6v8oJHj",
        "outputId": "07818627-ccc5-48e9-d150-12f61ac85ef1"
      },
      "execution_count": null,
      "outputs": [
        {
          "output_type": "stream",
          "name": "stdout",
          "text": [
            "Requirement already satisfied: emoji in /usr/local/lib/python3.10/dist-packages (2.14.0)\n"
          ]
        }
      ]
    },
    {
      "source": [
        "# Replace\n",
        "import emoji\n",
        "print(emoji.demojize(text))"
      ],
      "cell_type": "code",
      "metadata": {
        "colab": {
          "base_uri": "https://localhost:8080/"
        },
        "id": "ePkE7GhzoOpa",
        "outputId": "b64286f4-33ba-4cfc-d1b4-13b50f487bfe"
      },
      "execution_count": null,
      "outputs": [
        {
          "output_type": "stream",
          "name": "stdout",
          "text": [
            "that is not so funny please stop :loudly_crying_face:\n"
          ]
        }
      ]
    },
    {
      "cell_type": "code",
      "source": [
        "# Replace\n",
        "import emoji\n",
        "print(emoji.demojize(text))"
      ],
      "metadata": {
        "execution": {
          "iopub.status.busy": "2024-07-15T12:25:41.72711Z",
          "iopub.execute_input": "2024-07-15T12:25:41.727653Z",
          "iopub.status.idle": "2024-07-15T12:25:41.736992Z",
          "shell.execute_reply.started": "2024-07-15T12:25:41.727621Z",
          "shell.execute_reply": "2024-07-15T12:25:41.736198Z"
        },
        "trusted": true,
        "colab": {
          "base_uri": "https://localhost:8080/"
        },
        "id": "zDmhDhyMnKl8",
        "outputId": "5c5f0598-64fa-475c-b321-6a84fe68afd0"
      },
      "execution_count": null,
      "outputs": [
        {
          "output_type": "stream",
          "name": "stdout",
          "text": [
            "that is not so funny please stop :loudly_crying_face:\n"
          ]
        }
      ]
    },
    {
      "cell_type": "markdown",
      "source": [
        "\n",
        "<div style=\"padding:10px;color:white;margin:0;font-size:200%;text-align:center;display:fill;border-radius:10px;background-color:#215f95;;overflow:hidden;font-weight:501;font-family:magra\">Tokenization</div>\n",
        "\n",
        "##### Tokenization is the most fundamental step in NLP that involves splitting text into smaller units called tokens, which can be words, phrases, or sentences. This process helps in converting the raw text into a structured format for analysis. There are different types of tokenization, including word tokenization (splitting text into individual words) and sentence tokenization (splitting text into sentences). Proper tokenization considers punctuation, spaces, and language-specific rules to accurately represent the text's structure and meaning, enabling more effective text processing and feature extraction in NLP tasks.\n",
        "\n",
        "##### We will look at it using three ways\n",
        "1. Python split\n",
        "2. Regular expression\n",
        "3. NLTK\n",
        "4. Spacy"
      ],
      "metadata": {
        "id": "61M9oveDnKl8"
      }
    },
    {
      "cell_type": "code",
      "source": [
        "# Using split function\n",
        "sent1=\"I am going to delhi\"\n",
        "sent1.split()"
      ],
      "metadata": {
        "execution": {
          "iopub.status.busy": "2024-07-15T12:25:41.738015Z",
          "iopub.execute_input": "2024-07-15T12:25:41.738302Z",
          "iopub.status.idle": "2024-07-15T12:25:41.750126Z",
          "shell.execute_reply.started": "2024-07-15T12:25:41.738279Z",
          "shell.execute_reply": "2024-07-15T12:25:41.749326Z"
        },
        "trusted": true,
        "colab": {
          "base_uri": "https://localhost:8080/"
        },
        "id": "98cDh-I2nKl9",
        "outputId": "0dab52a2-c9f8-430f-a507-fce499d232b7"
      },
      "execution_count": null,
      "outputs": [
        {
          "output_type": "execute_result",
          "data": {
            "text/plain": [
              "['I', 'am', 'going', 'to', 'delhi']"
            ]
          },
          "metadata": {},
          "execution_count": 31
        }
      ]
    },
    {
      "cell_type": "code",
      "source": [
        "# Using split function\n",
        "sent1=\"I am, going to delhi\"\n",
        "sent1.split(',')"
      ],
      "metadata": {
        "execution": {
          "iopub.status.busy": "2024-07-15T12:25:41.751179Z",
          "iopub.execute_input": "2024-07-15T12:25:41.751465Z",
          "iopub.status.idle": "2024-07-15T12:25:41.760861Z",
          "shell.execute_reply.started": "2024-07-15T12:25:41.751438Z",
          "shell.execute_reply": "2024-07-15T12:25:41.75992Z"
        },
        "trusted": true,
        "colab": {
          "base_uri": "https://localhost:8080/"
        },
        "id": "WkrR73bNnKl9",
        "outputId": "43293a54-fa27-4808-86b2-2c7cabdaae0a"
      },
      "execution_count": null,
      "outputs": [
        {
          "output_type": "execute_result",
          "data": {
            "text/plain": [
              "['I am', ' going to delhi']"
            ]
          },
          "metadata": {},
          "execution_count": 32
        }
      ]
    },
    {
      "cell_type": "code",
      "source": [
        "#peoblem where it fails, as it cannout seperate `!!!!!`\n",
        "sent1=\"I am, going to delhi!!!\"\n",
        "sent1.split(',')"
      ],
      "metadata": {
        "execution": {
          "iopub.status.busy": "2024-07-15T12:25:41.761861Z",
          "iopub.execute_input": "2024-07-15T12:25:41.7621Z",
          "iopub.status.idle": "2024-07-15T12:25:41.773909Z",
          "shell.execute_reply.started": "2024-07-15T12:25:41.762078Z",
          "shell.execute_reply": "2024-07-15T12:25:41.773003Z"
        },
        "trusted": true,
        "colab": {
          "base_uri": "https://localhost:8080/"
        },
        "id": "E33Ea9k9nKl9",
        "outputId": "b0a0db58-c018-4bfe-a337-470d0637d770"
      },
      "execution_count": null,
      "outputs": [
        {
          "output_type": "execute_result",
          "data": {
            "text/plain": [
              "['I am', ' going to delhi!!!']"
            ]
          },
          "metadata": {},
          "execution_count": 33
        }
      ]
    },
    {
      "cell_type": "code",
      "source": [
        "# Regular expression\n",
        "import re\n",
        "tokens=re.findall(\"[\\w']+\",sent1)\n",
        "tokens"
      ],
      "metadata": {
        "execution": {
          "iopub.status.busy": "2024-07-15T12:25:41.774793Z",
          "iopub.execute_input": "2024-07-15T12:25:41.775086Z",
          "iopub.status.idle": "2024-07-15T12:25:41.784432Z",
          "shell.execute_reply.started": "2024-07-15T12:25:41.775063Z",
          "shell.execute_reply": "2024-07-15T12:25:41.783593Z"
        },
        "trusted": true,
        "colab": {
          "base_uri": "https://localhost:8080/"
        },
        "id": "U-SApmU_nKl9",
        "outputId": "03da5cd9-8b44-4696-cd02-6922e2f1615e"
      },
      "execution_count": null,
      "outputs": [
        {
          "output_type": "execute_result",
          "data": {
            "text/plain": [
              "['I', 'am', 'going', 'to', 'delhi']"
            ]
          },
          "metadata": {},
          "execution_count": 34
        }
      ]
    },
    {
      "source": [
        "!pip install nltk\n",
        "import nltk\n",
        "nltk.download('punkt')\n",
        "\n",
        "#NLTK\n",
        "from nltk.tokenize import word_tokenize,sent_tokenize\n",
        "word_tokenize(sent1)"
      ],
      "cell_type": "code",
      "metadata": {
        "colab": {
          "base_uri": "https://localhost:8080/"
        },
        "id": "OuK9oFieonm-",
        "outputId": "e1669f61-4195-4cc0-d91c-edcf73e64736"
      },
      "execution_count": null,
      "outputs": [
        {
          "output_type": "stream",
          "name": "stdout",
          "text": [
            "Requirement already satisfied: nltk in /usr/local/lib/python3.10/dist-packages (3.8.1)\n",
            "Requirement already satisfied: click in /usr/local/lib/python3.10/dist-packages (from nltk) (8.1.7)\n",
            "Requirement already satisfied: joblib in /usr/local/lib/python3.10/dist-packages (from nltk) (1.4.2)\n",
            "Requirement already satisfied: regex>=2021.8.3 in /usr/local/lib/python3.10/dist-packages (from nltk) (2024.9.11)\n",
            "Requirement already satisfied: tqdm in /usr/local/lib/python3.10/dist-packages (from nltk) (4.66.5)\n"
          ]
        },
        {
          "output_type": "stream",
          "name": "stderr",
          "text": [
            "[nltk_data] Downloading package punkt to /root/nltk_data...\n",
            "[nltk_data]   Unzipping tokenizers/punkt.zip.\n"
          ]
        },
        {
          "output_type": "execute_result",
          "data": {
            "text/plain": [
              "['I', 'am', ',', 'going', 'to', 'delhi', '!', '!', '!']"
            ]
          },
          "metadata": {},
          "execution_count": 35
        }
      ]
    },
    {
      "cell_type": "code",
      "source": [
        "#NLTK\n",
        "from nltk.tokenize import word_tokenize,sent_tokenize\n",
        "word_tokenize(sent1)"
      ],
      "metadata": {
        "execution": {
          "iopub.status.busy": "2024-07-15T12:25:41.785568Z",
          "iopub.execute_input": "2024-07-15T12:25:41.785828Z",
          "iopub.status.idle": "2024-07-15T12:25:41.797022Z",
          "shell.execute_reply.started": "2024-07-15T12:25:41.785806Z",
          "shell.execute_reply": "2024-07-15T12:25:41.796171Z"
        },
        "trusted": true,
        "colab": {
          "base_uri": "https://localhost:8080/"
        },
        "id": "Egy4Elw1nKl9",
        "outputId": "d9639ccd-abf3-482c-bad6-fedb074391e2"
      },
      "execution_count": null,
      "outputs": [
        {
          "output_type": "execute_result",
          "data": {
            "text/plain": [
              "['I', 'am', ',', 'going', 'to', 'delhi', '!', '!', '!']"
            ]
          },
          "metadata": {},
          "execution_count": 36
        }
      ]
    },
    {
      "cell_type": "code",
      "source": [
        "sent2='I have a Ph.D in M.L'\n",
        "sent3=\"We're here to help! mail us at xuz@gmail.com\""
      ],
      "metadata": {
        "execution": {
          "iopub.status.busy": "2024-07-15T12:25:41.798029Z",
          "iopub.execute_input": "2024-07-15T12:25:41.798319Z",
          "iopub.status.idle": "2024-07-15T12:25:41.808753Z",
          "shell.execute_reply.started": "2024-07-15T12:25:41.798297Z",
          "shell.execute_reply": "2024-07-15T12:25:41.807924Z"
        },
        "trusted": true,
        "id": "avzZZAK1nKl-"
      },
      "execution_count": null,
      "outputs": []
    },
    {
      "cell_type": "code",
      "source": [
        "word_tokenize(sent2)"
      ],
      "metadata": {
        "execution": {
          "iopub.status.busy": "2024-07-15T12:25:41.809753Z",
          "iopub.execute_input": "2024-07-15T12:25:41.810016Z",
          "iopub.status.idle": "2024-07-15T12:25:41.822143Z",
          "shell.execute_reply.started": "2024-07-15T12:25:41.809985Z",
          "shell.execute_reply": "2024-07-15T12:25:41.821278Z"
        },
        "trusted": true,
        "colab": {
          "base_uri": "https://localhost:8080/"
        },
        "id": "Vi6bm44JnKl-",
        "outputId": "0563f779-0d6c-499b-d39a-abf2cb3dc49c"
      },
      "execution_count": null,
      "outputs": [
        {
          "output_type": "execute_result",
          "data": {
            "text/plain": [
              "['I', 'have', 'a', 'Ph.D', 'in', 'M.L']"
            ]
          },
          "metadata": {},
          "execution_count": 38
        }
      ]
    },
    {
      "cell_type": "code",
      "source": [
        "# fails at this sentence as it seperated email id on the basics of @\n",
        "word_tokenize(sent3)"
      ],
      "metadata": {
        "execution": {
          "iopub.status.busy": "2024-07-15T12:25:41.823142Z",
          "iopub.execute_input": "2024-07-15T12:25:41.823444Z",
          "iopub.status.idle": "2024-07-15T12:25:41.834597Z",
          "shell.execute_reply.started": "2024-07-15T12:25:41.823416Z",
          "shell.execute_reply": "2024-07-15T12:25:41.833684Z"
        },
        "trusted": true,
        "colab": {
          "base_uri": "https://localhost:8080/"
        },
        "id": "enuOuxBQnKl-",
        "outputId": "086c4ab6-7308-4e8c-ae42-73eadd6cad19"
      },
      "execution_count": null,
      "outputs": [
        {
          "output_type": "execute_result",
          "data": {
            "text/plain": [
              "['We',\n",
              " \"'re\",\n",
              " 'here',\n",
              " 'to',\n",
              " 'help',\n",
              " '!',\n",
              " 'mail',\n",
              " 'us',\n",
              " 'at',\n",
              " 'xuz',\n",
              " '@',\n",
              " 'gmail.com']"
            ]
          },
          "metadata": {},
          "execution_count": 39
        }
      ]
    },
    {
      "cell_type": "code",
      "source": [
        "#spacy\n",
        "import spacy\n",
        "nlp=spacy.load('en_core_web_sm')\n",
        "\n",
        "doc1=nlp(sent1)\n",
        "doc2=nlp(sent2)\n",
        "doc3=nlp(sent3)\n",
        "\n",
        "for token in doc2:\n",
        "    print(token)"
      ],
      "metadata": {
        "execution": {
          "iopub.status.busy": "2024-07-15T12:25:41.835587Z",
          "iopub.execute_input": "2024-07-15T12:25:41.836408Z",
          "iopub.status.idle": "2024-07-15T12:25:50.233508Z",
          "shell.execute_reply.started": "2024-07-15T12:25:41.836371Z",
          "shell.execute_reply": "2024-07-15T12:25:50.232591Z"
        },
        "trusted": true,
        "colab": {
          "base_uri": "https://localhost:8080/"
        },
        "id": "AC-fYe6NnKl-",
        "outputId": "593d80fd-b6f3-4fd8-e9c1-7410b9357a71"
      },
      "execution_count": null,
      "outputs": [
        {
          "output_type": "stream",
          "name": "stdout",
          "text": [
            "I\n",
            "have\n",
            "a\n",
            "Ph\n",
            ".\n",
            "D\n",
            "in\n",
            "M.L\n"
          ]
        }
      ]
    },
    {
      "cell_type": "markdown",
      "source": [
        "<div style=\"padding:10px;color:white;margin:0;font-size:200%;text-align:center;display:fill;border-radius:10px;background-color:#215f95;;overflow:hidden;font-weight:501;font-family:magra\">Stemming</div>"
      ],
      "metadata": {
        "id": "Bxm11WXknKl-"
      }
    },
    {
      "cell_type": "markdown",
      "source": [
        "##### Stemming reduces words to their root or base form by removing suffixes. Unlike lemmatization, which relies on linguistic rules, stemming uses heuristic methods to strip affixes. For example, \"running,\" \"runner,\" and \"ran\" might all be reduced to \"run.\" Common algorithms include the Porter Stemmer, which applies a series of rules to iteratively strip suffixes, and the Snowball Stemmer, which is an improved version of the Porter Stemmer. While stemming is faster and simpler than lemmatization, it can be less accurate, sometimes producing stems that are not actual words."
      ],
      "metadata": {
        "id": "536y9CDznKl_"
      }
    },
    {
      "cell_type": "code",
      "source": [
        "from nltk.stem.porter import PorterStemmer\n",
        "\n",
        "ps=PorterStemmer()\n",
        "def stem_words(text):\n",
        "    return \" \".join([ps.stem(word) for word in text.split()])\n",
        "\n",
        "sample=\"Walk walking walked walks\"\n",
        "stem_words(sample)\n",
        "\n",
        "# sometimes root word is not even english word sometimes"
      ],
      "metadata": {
        "execution": {
          "iopub.status.busy": "2024-07-15T12:25:50.23498Z",
          "iopub.execute_input": "2024-07-15T12:25:50.235842Z",
          "iopub.status.idle": "2024-07-15T12:25:50.243503Z",
          "shell.execute_reply.started": "2024-07-15T12:25:50.235807Z",
          "shell.execute_reply": "2024-07-15T12:25:50.242561Z"
        },
        "trusted": true,
        "colab": {
          "base_uri": "https://localhost:8080/",
          "height": 35
        },
        "id": "HOUzQYFGnKl_",
        "outputId": "23172ebf-d902-43c2-9524-e41ad03f7114"
      },
      "execution_count": null,
      "outputs": [
        {
          "output_type": "execute_result",
          "data": {
            "text/plain": [
              "'walk walk walk walk'"
            ],
            "application/vnd.google.colaboratory.intrinsic+json": {
              "type": "string"
            }
          },
          "metadata": {},
          "execution_count": 41
        }
      ]
    },
    {
      "cell_type": "code",
      "source": [
        "sample2='Stemming is a text preprocessing technique in NLP that reduces words to their root or base form by removing suffixes. Unlike lemmatization, which relies on linguistic rules, stemming uses heuristic methods to strip affixes. For example, \"running,\" \"runner,\" and \"ran\" might all be reduced to \"run.\" Common algorithms include the Porter Stemmer, which applies a series of rules to iteratively strip suffixes, and the Snowball Stemmer, which is an improved version of the Porter Stemmer. While stemming is faster and simpler than lemmatization, it can be less accurate, sometimes producing stems that are not actual words.'\n",
        "stem_words(sample2)"
      ],
      "metadata": {
        "execution": {
          "iopub.status.busy": "2024-07-15T12:25:50.244716Z",
          "iopub.execute_input": "2024-07-15T12:25:50.245009Z",
          "iopub.status.idle": "2024-07-15T12:25:50.26207Z",
          "shell.execute_reply.started": "2024-07-15T12:25:50.244984Z",
          "shell.execute_reply": "2024-07-15T12:25:50.261346Z"
        },
        "trusted": true,
        "colab": {
          "base_uri": "https://localhost:8080/",
          "height": 104
        },
        "id": "AlDG3LLynKl_",
        "outputId": "7b0718c0-7422-438a-ecc7-ded5b821ee06"
      },
      "execution_count": null,
      "outputs": [
        {
          "output_type": "execute_result",
          "data": {
            "text/plain": [
              "'stem is a text preprocess techniqu in nlp that reduc word to their root or base form by remov suffixes. unlik lemmatization, which reli on linguist rules, stem use heurist method to strip affixes. for example, \"running,\" \"runner,\" and \"ran\" might all be reduc to \"run.\" common algorithm includ the porter stemmer, which appli a seri of rule to iter strip suffixes, and the snowbal stemmer, which is an improv version of the porter stemmer. while stem is faster and simpler than lemmatization, it can be less accurate, sometim produc stem that are not actual words.'"
            ],
            "application/vnd.google.colaboratory.intrinsic+json": {
              "type": "string"
            }
          },
          "metadata": {},
          "execution_count": 42
        }
      ]
    },
    {
      "cell_type": "markdown",
      "source": [
        "##### You can already see the disadvantage of using stemming as some words are not even english words so we should use stemming when we dont need to show the output to anyone, if we need to the we should go for lemmatization"
      ],
      "metadata": {
        "id": "ueN6Q517nKl_"
      }
    },
    {
      "cell_type": "markdown",
      "source": [
        "<div style=\"padding:10px;color:white;margin:0;font-size:200%;text-align:center;display:fill;border-radius:10px;background-color:#215f95;;overflow:hidden;font-weight:501;font-family:magra\">Lemmatization</div>\n",
        "\n",
        "##### Lemmatization reduces words to their base or root form, known as a lemma. Unlike stemming, which simply trims word endings, lemmatization considers the context and morphological analysis of words, ensuring that words are transformed into meaningful base forms. For instance, \"running\" becomes \"run\" and \"better\" becomes \"good.\" This process helps in standardizing words, improving the accuracy of text analysis by grouping different inflected forms of a word into a single item. Lemmatization is essential for tasks like text classification, sentiment analysis, and information retrieval, as it enhances the quality of features extracted from the text."
      ],
      "metadata": {
        "id": "zCc5PpzXnKl_"
      }
    },
    {
      "cell_type": "code",
      "source": [
        "\n",
        "import spacy\n",
        "\n",
        "nlp = spacy.load('en_core_web_sm')\n",
        "\n",
        "sentence = \"The children were playing in the park, running and laughing as they enjoyed their freedom, unaware of the time passing quickly by.\"\n",
        "doc = nlp(sentence)\n",
        "\n",
        "print(\"Original Word - Lemmatized Word\")\n",
        "for token in doc:\n",
        "    print(f\"{token.text} - {token.lemma_}\")\n",
        "\n"
      ],
      "metadata": {
        "execution": {
          "iopub.status.busy": "2024-07-15T12:25:50.263426Z",
          "iopub.execute_input": "2024-07-15T12:25:50.263742Z",
          "iopub.status.idle": "2024-07-15T12:25:51.307589Z",
          "shell.execute_reply.started": "2024-07-15T12:25:50.263712Z",
          "shell.execute_reply": "2024-07-15T12:25:51.306654Z"
        },
        "trusted": true,
        "colab": {
          "base_uri": "https://localhost:8080/"
        },
        "id": "YBlOT3rQnKl_",
        "outputId": "bf527622-c47f-4997-bb40-82cf983aa5e7"
      },
      "execution_count": null,
      "outputs": [
        {
          "output_type": "stream",
          "name": "stderr",
          "text": [
            "/usr/local/lib/python3.10/dist-packages/spacy/util.py:1740: UserWarning: [W111] Jupyter notebook detected: if using `prefer_gpu()` or `require_gpu()`, include it in the same cell right before `spacy.load()` to ensure that the model is loaded on the correct device. More information: http://spacy.io/usage/v3#jupyter-notebook-gpu\n",
            "  warnings.warn(Warnings.W111)\n"
          ]
        },
        {
          "output_type": "stream",
          "name": "stdout",
          "text": [
            "Original Word - Lemmatized Word\n",
            "The - the\n",
            "children - child\n",
            "were - be\n",
            "playing - play\n",
            "in - in\n",
            "the - the\n",
            "park - park\n",
            ", - ,\n",
            "running - run\n",
            "and - and\n",
            "laughing - laugh\n",
            "as - as\n",
            "they - they\n",
            "enjoyed - enjoy\n",
            "their - their\n",
            "freedom - freedom\n",
            ", - ,\n",
            "unaware - unaware\n",
            "of - of\n",
            "the - the\n",
            "time - time\n",
            "passing - pass\n",
            "quickly - quickly\n",
            "by - by\n",
            ". - .\n"
          ]
        }
      ]
    },
    {
      "cell_type": "markdown",
      "source": [
        "<a id=\"2\"></a>\n",
        "# <div style=\"text-align:center; border-radius:15px 50px; padding:7px; color:white; margin:0; font-size:110%; font-family:Pacifico; background-color:#0f7a7a; overflow:hidden\"><b>One hot encoding\n",
        "</b></div>"
      ],
      "metadata": {
        "id": "fXhm8Qs-nKmA"
      }
    },
    {
      "cell_type": "markdown",
      "source": [
        "# One-hot encoding\n",
        "#### One-hot encoding is a technique used to convert categorical data into a numerical format that can be used by machine learning algorithms. This method transforms each category value into a new binary column and assigns a 1 or 0 (True/False) to indicate the presence of that category in the data.\n",
        "\n",
        "#### Example Dataset\n",
        "\n",
        "Consider a small dataset with a single categorical feature \"Color\":\n",
        "\n",
        "| ID | Color  |\n",
        "|----|--------|\n",
        "| 1  | Red    |\n",
        "| 2  | Green  |\n",
        "| 3  | Blue   |\n",
        "| 4  | Green  |\n",
        "| 5  | Blue   |\n",
        "| 6  | Red    |\n",
        "\n",
        "#### One-Hot Encoding\n",
        "\n",
        "Using one-hot encoding, we create new binary columns for each unique category in the \"Color\" feature:\n",
        "\n",
        "| ID | Red | Green | Blue |\n",
        "|----|-----|-------|------|\n",
        "| 1  | 1   | 0     | 0    |\n",
        "| 2  | 0   | 1     | 0    |\n",
        "| 3  | 0   | 0     | 1    |\n",
        "| 4  | 0   | 1     | 0    |\n",
        "| 5  | 0   | 0     | 1    |\n",
        "| 6  | 1   | 0     | 0    |\n",
        "\n",
        "\n",
        "Each row now has a binary representation of the \"Color\" feature, making it suitable for machine learning algorithms that require numerical input. This transformation ensures that the categorical data is expressed in a format that maintains the uniqueness and relationship of each category without implying any ordinal relationship.\n",
        "\n",
        "### Advantages and Disadvantages of One-Hot Encoding\n",
        "\n",
        "#### Advantages\n",
        "\n",
        "1. **Simplicity and Ease of Implementation**:\n",
        "   - One-hot encoding is straightforward to implement and understand, making it a go-to method for converting categorical data into numerical format.\n",
        "\n",
        "2. **No Ordinal Assumptions**:\n",
        "   - Unlike label encoding, one-hot encoding does not impose any ordinal relationship between categories, preserving the true nature of categorical data.\n",
        "\n",
        "3. **Compatibility with Machine Learning Algorithms**:\n",
        "   - Many machine learning algorithms, especially those that rely on distance calculations (e.g., k-nearest neighbors, linear regression), perform better with one-hot encoded data.\n",
        "\n",
        "4. **Avoidance of Bias**:\n",
        "   - Since each category is represented independently, there is no inherent bias introduced by the encoding process.\n",
        "\n",
        "#### Disadvantages\n",
        "\n",
        "1. **High Dimensionality**:\n",
        "   - One-hot encoding can lead to a significant increase in the number of features, especially when dealing with categorical variables with many unique values. This high dimensionality can make the model computationally expensive and harder to train.\n",
        "\n",
        "2. **Sparse Data**:\n",
        "   - The resulting one-hot encoded data is sparse, containing many zeros. Sparse matrices can lead to inefficiencies in storage and processing.\n",
        "\n",
        "3. **Curse of Dimensionality**:\n",
        "   - The increase in dimensionality can lead to the curse of dimensionality, where the performance of machine learning algorithms degrades with the addition of too many features.\n",
        "\n",
        "4. **Scalability Issues**:\n",
        "   - For large datasets with high cardinality categorical variables, one-hot encoding may not be scalable and can result in memory and computational challenges.\n",
        "\n",
        "5. **Irrelevance in Some Algorithms**:\n",
        "   - Some machine learning algorithms, like decision trees, do not benefit from one-hot encoding as they can handle categorical data directly.\n"
      ],
      "metadata": {
        "id": "R8fKDTcQnKmA"
      }
    },
    {
      "cell_type": "code",
      "source": [
        "import pandas as pd\n",
        "from sklearn.preprocessing import OneHotEncoder\n",
        "\n",
        "data = {\n",
        "    'ID': [1, 2, 3, 4, 5],\n",
        "    'Color': ['Red', 'Green', 'Blue', 'Green', 'Blue']\n",
        "}\n",
        "\n",
        "df = pd.DataFrame(data)\n",
        "\n",
        "encoder = OneHotEncoder()\n",
        "encoded_data = encoder.fit_transform(df[['Color']])\n",
        "encoded_df = pd.DataFrame(encoded_data.toarray(), columns=encoder.get_feature_names_out(['Color']))\n",
        "final_df = pd.concat([df, encoded_df], axis=1)\n",
        "\n",
        "print(\"Original DataFrame:\")\n",
        "print(df)\n",
        "print(\"\\nOne-Hot Encoded DataFrame:\")\n",
        "print(final_df)\n"
      ],
      "metadata": {
        "execution": {
          "iopub.status.busy": "2024-07-15T12:25:51.308651Z",
          "iopub.execute_input": "2024-07-15T12:25:51.308926Z",
          "iopub.status.idle": "2024-07-15T12:25:51.332164Z",
          "shell.execute_reply.started": "2024-07-15T12:25:51.308902Z",
          "shell.execute_reply": "2024-07-15T12:25:51.331278Z"
        },
        "trusted": true,
        "colab": {
          "base_uri": "https://localhost:8080/"
        },
        "id": "KJi8uamdnKmA",
        "outputId": "e17fefeb-d834-46cc-a12d-03ab59e22559"
      },
      "execution_count": null,
      "outputs": [
        {
          "output_type": "stream",
          "name": "stdout",
          "text": [
            "Original DataFrame:\n",
            "   ID  Color\n",
            "0   1    Red\n",
            "1   2  Green\n",
            "2   3   Blue\n",
            "3   4  Green\n",
            "4   5   Blue\n",
            "\n",
            "One-Hot Encoded DataFrame:\n",
            "   ID  Color  Color_Blue  Color_Green  Color_Red\n",
            "0   1    Red         0.0          0.0        1.0\n",
            "1   2  Green         0.0          1.0        0.0\n",
            "2   3   Blue         1.0          0.0        0.0\n",
            "3   4  Green         0.0          1.0        0.0\n",
            "4   5   Blue         1.0          0.0        0.0\n"
          ]
        }
      ]
    },
    {
      "cell_type": "markdown",
      "source": [
        "\n",
        "<a id=\"1\"></a>\n",
        "# <div style=\"text-align:center; border-radius:15px 50px; padding:7px; color:white; margin:0; font-size:110%; font-family:Pacifico; background-color:#0f7a7a; overflow:hidden\"><b>Bag of Words\n",
        "</b></div>"
      ],
      "metadata": {
        "id": "li3z9x3PnKmB"
      }
    },
    {
      "cell_type": "markdown",
      "source": [
        "# Bag of words\n",
        "\n",
        "The core intuition behind the Bag of Words (BoW) model is that if our algorithm detects similar words occurring with similar frequencies, it will classify the documents as being in the same class. Here, the order of words and context do not matter; what matters is the presence and frequency of words.\n",
        "\n",
        "In BoW, each word is represented as a coordinate in an n-dimensional space. If we set the binary parameter to `True`, any word that appears more than once is still treated as if it appears only once. Consequently, the coordinates will be binary, filled only with 0s and 1s.\n",
        "\n",
        "### Example Data\n",
        "| Index | Text                     | Output |\n",
        "|-------|--------------------------|--------|\n",
        "| D1    | People Follow Mr.Beast   | 1      |\n",
        "| D2    | Mr.Beast Follow Mr.Beast | 1      |\n",
        "| D3    | People Write comment     | 0      |\n",
        "| D4    | Mr.Beast Write comment   | 0      |\n",
        "\n",
        "### BoW with `binary=False`\n",
        "\n",
        "| People | Follow | Mr.Beast | Write | Comment | Index |\n",
        "|--------|--------|----------|-------|---------|-------|\n",
        "| 1      | 1      | 1        | 0     | 0       | D1    |\n",
        "| 0      | 1      | 2        | 0     | 0       | D2    |\n",
        "| 1      | 0      | 0        | 1     | 1       | D3    |\n",
        "| 0      | 0      | 1        | 1     | 1       | D4    |\n",
        "\n",
        "### BoW with `binary=True`\n",
        "\n",
        "| People | Follow | Mr.Beast | Write | Comment | Index |\n",
        "|--------|--------|----------|-------|---------|-------|\n",
        "| 1      | 1      | 1        | 0     | 0       | D1    |\n",
        "| 0      | 1      | 1        | 0     | 0       | D2    |\n",
        "| 1      | 0      | 0        | 1     | 1       | D3    |\n",
        "| 0      | 0      | 1        | 1     | 1       | D4    |\n",
        "\n",
        "### Filtering Rare Words\n",
        "\n",
        "To remove rare words, you can use the `max_features` parameter, which limits the vocabulary to the most frequent words. For instance, setting `max_features=1/2` ignores all words with frequencies less than this threshold.\n",
        "\n",
        "### Advantages of Bag of Words\n",
        "\n",
        "- **Simplicity and Intuitiveness**: Easy to implement and understand.\n",
        "- **Out-of-Vocabulary (OOV) Issue Mitigation**: Since the model uses a fixed vocabulary, it avoids the OOV issue that plagues one-hot encoding.\n",
        "\n",
        "### Disadvantages of Bag of Words\n",
        "\n",
        "- **Sparsity**: With a large vocabulary, the representation will have many 0s, potentially leading to overfitting.\n",
        "- **Information Loss**: Ignores word order and context, leading to loss of semantic meaning.\n",
        "  - Example: \"This is a very good movie\" and \"This is not a very good movie\" might be represented similarly, which can cause issues with cosine similarity.\n",
        "\n",
        "### Cosine Similarity\n",
        "\n",
        "Cosine similarity measures the cosine of the angle between two vectors, providing a metric for their similarity. The formula is:\n",
        "\n",
        "$$\n",
        "\\text{cosine similarity} = \\cos(\\theta) = \\frac{A \\cdot B}{\\|A\\| \\|B\\|}\n",
        "$$\n",
        "\n",
        "Using cosine similarity, \"This is a very good movie\" and \"This is not a very good movie\" might appear similar due to the close angle between their vector representations in the BoW model.\n",
        "\n",
        "By using BoW, you can quickly and efficiently convert text data into numerical features for machine learning algorithms. However, be aware of its limitations and consider more advanced techniques like TF-IDF, word embeddings, or language models for capturing more nuanced textual information."
      ],
      "metadata": {
        "id": "jTdUpasLnKmB"
      }
    },
    {
      "cell_type": "code",
      "source": [
        "import pandas as pd\n",
        "from sklearn.feature_extraction.text import CountVectorizer\n",
        "\n",
        "# Define the dataset\n",
        "data = {\n",
        "    'Index': ['D1', 'D2', 'D3', 'D4'],\n",
        "    'Text': [\n",
        "        'People Follow Mr.Beast',\n",
        "        'Mr.Beast Follow Mr.Beast',\n",
        "        'People Write comment',\n",
        "        'Mr.Beast Write comment'\n",
        "    ],\n",
        "    'Output': [1, 1, 0, 0]\n",
        "}\n",
        "\n",
        "# Create a DataFrame\n",
        "df = pd.DataFrame(data)\n",
        "df"
      ],
      "metadata": {
        "execution": {
          "iopub.status.busy": "2024-07-15T12:25:51.333457Z",
          "iopub.execute_input": "2024-07-15T12:25:51.333808Z",
          "iopub.status.idle": "2024-07-15T12:25:51.347357Z",
          "shell.execute_reply.started": "2024-07-15T12:25:51.333755Z",
          "shell.execute_reply": "2024-07-15T12:25:51.346386Z"
        },
        "trusted": true,
        "colab": {
          "base_uri": "https://localhost:8080/",
          "height": 175
        },
        "id": "HyufjH4wnKmB",
        "outputId": "a21960f3-0c98-40cb-cb6a-e649d998a738"
      },
      "execution_count": null,
      "outputs": [
        {
          "output_type": "execute_result",
          "data": {
            "text/plain": [
              "  Index                      Text  Output\n",
              "0    D1    People Follow Mr.Beast       1\n",
              "1    D2  Mr.Beast Follow Mr.Beast       1\n",
              "2    D3      People Write comment       0\n",
              "3    D4    Mr.Beast Write comment       0"
            ],
            "text/html": [
              "\n",
              "  <div id=\"df-6ba11e0a-6fac-496c-8480-93c1338d0bbd\" class=\"colab-df-container\">\n",
              "    <div>\n",
              "<style scoped>\n",
              "    .dataframe tbody tr th:only-of-type {\n",
              "        vertical-align: middle;\n",
              "    }\n",
              "\n",
              "    .dataframe tbody tr th {\n",
              "        vertical-align: top;\n",
              "    }\n",
              "\n",
              "    .dataframe thead th {\n",
              "        text-align: right;\n",
              "    }\n",
              "</style>\n",
              "<table border=\"1\" class=\"dataframe\">\n",
              "  <thead>\n",
              "    <tr style=\"text-align: right;\">\n",
              "      <th></th>\n",
              "      <th>Index</th>\n",
              "      <th>Text</th>\n",
              "      <th>Output</th>\n",
              "    </tr>\n",
              "  </thead>\n",
              "  <tbody>\n",
              "    <tr>\n",
              "      <th>0</th>\n",
              "      <td>D1</td>\n",
              "      <td>People Follow Mr.Beast</td>\n",
              "      <td>1</td>\n",
              "    </tr>\n",
              "    <tr>\n",
              "      <th>1</th>\n",
              "      <td>D2</td>\n",
              "      <td>Mr.Beast Follow Mr.Beast</td>\n",
              "      <td>1</td>\n",
              "    </tr>\n",
              "    <tr>\n",
              "      <th>2</th>\n",
              "      <td>D3</td>\n",
              "      <td>People Write comment</td>\n",
              "      <td>0</td>\n",
              "    </tr>\n",
              "    <tr>\n",
              "      <th>3</th>\n",
              "      <td>D4</td>\n",
              "      <td>Mr.Beast Write comment</td>\n",
              "      <td>0</td>\n",
              "    </tr>\n",
              "  </tbody>\n",
              "</table>\n",
              "</div>\n",
              "    <div class=\"colab-df-buttons\">\n",
              "\n",
              "  <div class=\"colab-df-container\">\n",
              "    <button class=\"colab-df-convert\" onclick=\"convertToInteractive('df-6ba11e0a-6fac-496c-8480-93c1338d0bbd')\"\n",
              "            title=\"Convert this dataframe to an interactive table.\"\n",
              "            style=\"display:none;\">\n",
              "\n",
              "  <svg xmlns=\"http://www.w3.org/2000/svg\" height=\"24px\" viewBox=\"0 -960 960 960\">\n",
              "    <path d=\"M120-120v-720h720v720H120Zm60-500h600v-160H180v160Zm220 220h160v-160H400v160Zm0 220h160v-160H400v160ZM180-400h160v-160H180v160Zm440 0h160v-160H620v160ZM180-180h160v-160H180v160Zm440 0h160v-160H620v160Z\"/>\n",
              "  </svg>\n",
              "    </button>\n",
              "\n",
              "  <style>\n",
              "    .colab-df-container {\n",
              "      display:flex;\n",
              "      gap: 12px;\n",
              "    }\n",
              "\n",
              "    .colab-df-convert {\n",
              "      background-color: #E8F0FE;\n",
              "      border: none;\n",
              "      border-radius: 50%;\n",
              "      cursor: pointer;\n",
              "      display: none;\n",
              "      fill: #1967D2;\n",
              "      height: 32px;\n",
              "      padding: 0 0 0 0;\n",
              "      width: 32px;\n",
              "    }\n",
              "\n",
              "    .colab-df-convert:hover {\n",
              "      background-color: #E2EBFA;\n",
              "      box-shadow: 0px 1px 2px rgba(60, 64, 67, 0.3), 0px 1px 3px 1px rgba(60, 64, 67, 0.15);\n",
              "      fill: #174EA6;\n",
              "    }\n",
              "\n",
              "    .colab-df-buttons div {\n",
              "      margin-bottom: 4px;\n",
              "    }\n",
              "\n",
              "    [theme=dark] .colab-df-convert {\n",
              "      background-color: #3B4455;\n",
              "      fill: #D2E3FC;\n",
              "    }\n",
              "\n",
              "    [theme=dark] .colab-df-convert:hover {\n",
              "      background-color: #434B5C;\n",
              "      box-shadow: 0px 1px 3px 1px rgba(0, 0, 0, 0.15);\n",
              "      filter: drop-shadow(0px 1px 2px rgba(0, 0, 0, 0.3));\n",
              "      fill: #FFFFFF;\n",
              "    }\n",
              "  </style>\n",
              "\n",
              "    <script>\n",
              "      const buttonEl =\n",
              "        document.querySelector('#df-6ba11e0a-6fac-496c-8480-93c1338d0bbd button.colab-df-convert');\n",
              "      buttonEl.style.display =\n",
              "        google.colab.kernel.accessAllowed ? 'block' : 'none';\n",
              "\n",
              "      async function convertToInteractive(key) {\n",
              "        const element = document.querySelector('#df-6ba11e0a-6fac-496c-8480-93c1338d0bbd');\n",
              "        const dataTable =\n",
              "          await google.colab.kernel.invokeFunction('convertToInteractive',\n",
              "                                                    [key], {});\n",
              "        if (!dataTable) return;\n",
              "\n",
              "        const docLinkHtml = 'Like what you see? Visit the ' +\n",
              "          '<a target=\"_blank\" href=https://colab.research.google.com/notebooks/data_table.ipynb>data table notebook</a>'\n",
              "          + ' to learn more about interactive tables.';\n",
              "        element.innerHTML = '';\n",
              "        dataTable['output_type'] = 'display_data';\n",
              "        await google.colab.output.renderOutput(dataTable, element);\n",
              "        const docLink = document.createElement('div');\n",
              "        docLink.innerHTML = docLinkHtml;\n",
              "        element.appendChild(docLink);\n",
              "      }\n",
              "    </script>\n",
              "  </div>\n",
              "\n",
              "\n",
              "<div id=\"df-87413946-8aea-45fd-b391-35c25ed14c46\">\n",
              "  <button class=\"colab-df-quickchart\" onclick=\"quickchart('df-87413946-8aea-45fd-b391-35c25ed14c46')\"\n",
              "            title=\"Suggest charts\"\n",
              "            style=\"display:none;\">\n",
              "\n",
              "<svg xmlns=\"http://www.w3.org/2000/svg\" height=\"24px\"viewBox=\"0 0 24 24\"\n",
              "     width=\"24px\">\n",
              "    <g>\n",
              "        <path d=\"M19 3H5c-1.1 0-2 .9-2 2v14c0 1.1.9 2 2 2h14c1.1 0 2-.9 2-2V5c0-1.1-.9-2-2-2zM9 17H7v-7h2v7zm4 0h-2V7h2v10zm4 0h-2v-4h2v4z\"/>\n",
              "    </g>\n",
              "</svg>\n",
              "  </button>\n",
              "\n",
              "<style>\n",
              "  .colab-df-quickchart {\n",
              "      --bg-color: #E8F0FE;\n",
              "      --fill-color: #1967D2;\n",
              "      --hover-bg-color: #E2EBFA;\n",
              "      --hover-fill-color: #174EA6;\n",
              "      --disabled-fill-color: #AAA;\n",
              "      --disabled-bg-color: #DDD;\n",
              "  }\n",
              "\n",
              "  [theme=dark] .colab-df-quickchart {\n",
              "      --bg-color: #3B4455;\n",
              "      --fill-color: #D2E3FC;\n",
              "      --hover-bg-color: #434B5C;\n",
              "      --hover-fill-color: #FFFFFF;\n",
              "      --disabled-bg-color: #3B4455;\n",
              "      --disabled-fill-color: #666;\n",
              "  }\n",
              "\n",
              "  .colab-df-quickchart {\n",
              "    background-color: var(--bg-color);\n",
              "    border: none;\n",
              "    border-radius: 50%;\n",
              "    cursor: pointer;\n",
              "    display: none;\n",
              "    fill: var(--fill-color);\n",
              "    height: 32px;\n",
              "    padding: 0;\n",
              "    width: 32px;\n",
              "  }\n",
              "\n",
              "  .colab-df-quickchart:hover {\n",
              "    background-color: var(--hover-bg-color);\n",
              "    box-shadow: 0 1px 2px rgba(60, 64, 67, 0.3), 0 1px 3px 1px rgba(60, 64, 67, 0.15);\n",
              "    fill: var(--button-hover-fill-color);\n",
              "  }\n",
              "\n",
              "  .colab-df-quickchart-complete:disabled,\n",
              "  .colab-df-quickchart-complete:disabled:hover {\n",
              "    background-color: var(--disabled-bg-color);\n",
              "    fill: var(--disabled-fill-color);\n",
              "    box-shadow: none;\n",
              "  }\n",
              "\n",
              "  .colab-df-spinner {\n",
              "    border: 2px solid var(--fill-color);\n",
              "    border-color: transparent;\n",
              "    border-bottom-color: var(--fill-color);\n",
              "    animation:\n",
              "      spin 1s steps(1) infinite;\n",
              "  }\n",
              "\n",
              "  @keyframes spin {\n",
              "    0% {\n",
              "      border-color: transparent;\n",
              "      border-bottom-color: var(--fill-color);\n",
              "      border-left-color: var(--fill-color);\n",
              "    }\n",
              "    20% {\n",
              "      border-color: transparent;\n",
              "      border-left-color: var(--fill-color);\n",
              "      border-top-color: var(--fill-color);\n",
              "    }\n",
              "    30% {\n",
              "      border-color: transparent;\n",
              "      border-left-color: var(--fill-color);\n",
              "      border-top-color: var(--fill-color);\n",
              "      border-right-color: var(--fill-color);\n",
              "    }\n",
              "    40% {\n",
              "      border-color: transparent;\n",
              "      border-right-color: var(--fill-color);\n",
              "      border-top-color: var(--fill-color);\n",
              "    }\n",
              "    60% {\n",
              "      border-color: transparent;\n",
              "      border-right-color: var(--fill-color);\n",
              "    }\n",
              "    80% {\n",
              "      border-color: transparent;\n",
              "      border-right-color: var(--fill-color);\n",
              "      border-bottom-color: var(--fill-color);\n",
              "    }\n",
              "    90% {\n",
              "      border-color: transparent;\n",
              "      border-bottom-color: var(--fill-color);\n",
              "    }\n",
              "  }\n",
              "</style>\n",
              "\n",
              "  <script>\n",
              "    async function quickchart(key) {\n",
              "      const quickchartButtonEl =\n",
              "        document.querySelector('#' + key + ' button');\n",
              "      quickchartButtonEl.disabled = true;  // To prevent multiple clicks.\n",
              "      quickchartButtonEl.classList.add('colab-df-spinner');\n",
              "      try {\n",
              "        const charts = await google.colab.kernel.invokeFunction(\n",
              "            'suggestCharts', [key], {});\n",
              "      } catch (error) {\n",
              "        console.error('Error during call to suggestCharts:', error);\n",
              "      }\n",
              "      quickchartButtonEl.classList.remove('colab-df-spinner');\n",
              "      quickchartButtonEl.classList.add('colab-df-quickchart-complete');\n",
              "    }\n",
              "    (() => {\n",
              "      let quickchartButtonEl =\n",
              "        document.querySelector('#df-87413946-8aea-45fd-b391-35c25ed14c46 button');\n",
              "      quickchartButtonEl.style.display =\n",
              "        google.colab.kernel.accessAllowed ? 'block' : 'none';\n",
              "    })();\n",
              "  </script>\n",
              "</div>\n",
              "\n",
              "  <div id=\"id_26dd5f2f-091b-4ceb-a45d-48db166605cd\">\n",
              "    <style>\n",
              "      .colab-df-generate {\n",
              "        background-color: #E8F0FE;\n",
              "        border: none;\n",
              "        border-radius: 50%;\n",
              "        cursor: pointer;\n",
              "        display: none;\n",
              "        fill: #1967D2;\n",
              "        height: 32px;\n",
              "        padding: 0 0 0 0;\n",
              "        width: 32px;\n",
              "      }\n",
              "\n",
              "      .colab-df-generate:hover {\n",
              "        background-color: #E2EBFA;\n",
              "        box-shadow: 0px 1px 2px rgba(60, 64, 67, 0.3), 0px 1px 3px 1px rgba(60, 64, 67, 0.15);\n",
              "        fill: #174EA6;\n",
              "      }\n",
              "\n",
              "      [theme=dark] .colab-df-generate {\n",
              "        background-color: #3B4455;\n",
              "        fill: #D2E3FC;\n",
              "      }\n",
              "\n",
              "      [theme=dark] .colab-df-generate:hover {\n",
              "        background-color: #434B5C;\n",
              "        box-shadow: 0px 1px 3px 1px rgba(0, 0, 0, 0.15);\n",
              "        filter: drop-shadow(0px 1px 2px rgba(0, 0, 0, 0.3));\n",
              "        fill: #FFFFFF;\n",
              "      }\n",
              "    </style>\n",
              "    <button class=\"colab-df-generate\" onclick=\"generateWithVariable('df')\"\n",
              "            title=\"Generate code using this dataframe.\"\n",
              "            style=\"display:none;\">\n",
              "\n",
              "  <svg xmlns=\"http://www.w3.org/2000/svg\" height=\"24px\"viewBox=\"0 0 24 24\"\n",
              "       width=\"24px\">\n",
              "    <path d=\"M7,19H8.4L18.45,9,17,7.55,7,17.6ZM5,21V16.75L18.45,3.32a2,2,0,0,1,2.83,0l1.4,1.43a1.91,1.91,0,0,1,.58,1.4,1.91,1.91,0,0,1-.58,1.4L9.25,21ZM18.45,9,17,7.55Zm-12,3A5.31,5.31,0,0,0,4.9,8.1,5.31,5.31,0,0,0,1,6.5,5.31,5.31,0,0,0,4.9,4.9,5.31,5.31,0,0,0,6.5,1,5.31,5.31,0,0,0,8.1,4.9,5.31,5.31,0,0,0,12,6.5,5.46,5.46,0,0,0,6.5,12Z\"/>\n",
              "  </svg>\n",
              "    </button>\n",
              "    <script>\n",
              "      (() => {\n",
              "      const buttonEl =\n",
              "        document.querySelector('#id_26dd5f2f-091b-4ceb-a45d-48db166605cd button.colab-df-generate');\n",
              "      buttonEl.style.display =\n",
              "        google.colab.kernel.accessAllowed ? 'block' : 'none';\n",
              "\n",
              "      buttonEl.onclick = () => {\n",
              "        google.colab.notebook.generateWithVariable('df');\n",
              "      }\n",
              "      })();\n",
              "    </script>\n",
              "  </div>\n",
              "\n",
              "    </div>\n",
              "  </div>\n"
            ],
            "application/vnd.google.colaboratory.intrinsic+json": {
              "type": "dataframe",
              "variable_name": "df",
              "summary": "{\n  \"name\": \"df\",\n  \"rows\": 4,\n  \"fields\": [\n    {\n      \"column\": \"Index\",\n      \"properties\": {\n        \"dtype\": \"string\",\n        \"num_unique_values\": 4,\n        \"samples\": [\n          \"D2\",\n          \"D4\",\n          \"D1\"\n        ],\n        \"semantic_type\": \"\",\n        \"description\": \"\"\n      }\n    },\n    {\n      \"column\": \"Text\",\n      \"properties\": {\n        \"dtype\": \"string\",\n        \"num_unique_values\": 4,\n        \"samples\": [\n          \"Mr.Beast Follow Mr.Beast\",\n          \"Mr.Beast Write comment\",\n          \"People Follow Mr.Beast\"\n        ],\n        \"semantic_type\": \"\",\n        \"description\": \"\"\n      }\n    },\n    {\n      \"column\": \"Output\",\n      \"properties\": {\n        \"dtype\": \"number\",\n        \"std\": 0,\n        \"min\": 0,\n        \"max\": 1,\n        \"num_unique_values\": 2,\n        \"samples\": [\n          0,\n          1\n        ],\n        \"semantic_type\": \"\",\n        \"description\": \"\"\n      }\n    }\n  ]\n}"
            }
          },
          "metadata": {},
          "execution_count": 45
        }
      ]
    },
    {
      "cell_type": "code",
      "source": [
        "\n",
        "vectorizer = CountVectorizer()\n",
        "X = vectorizer.fit_transform(df['Text'])\n",
        "\n",
        "vocab = vectorizer.get_feature_names_out()\n",
        "print(vocab)"
      ],
      "metadata": {
        "execution": {
          "iopub.status.busy": "2024-07-15T12:25:51.348451Z",
          "iopub.execute_input": "2024-07-15T12:25:51.348696Z",
          "iopub.status.idle": "2024-07-15T12:25:51.368903Z",
          "shell.execute_reply.started": "2024-07-15T12:25:51.348676Z",
          "shell.execute_reply": "2024-07-15T12:25:51.367961Z"
        },
        "trusted": true,
        "colab": {
          "base_uri": "https://localhost:8080/"
        },
        "id": "3vZkyHC-nKmC",
        "outputId": "c4a67739-4ddd-4109-858a-d0e124e7ed4b"
      },
      "execution_count": null,
      "outputs": [
        {
          "output_type": "stream",
          "name": "stdout",
          "text": [
            "['beast' 'comment' 'follow' 'mr' 'people' 'write']\n"
          ]
        }
      ]
    },
    {
      "cell_type": "code",
      "source": [
        "print(vectorizer.vocabulary_)"
      ],
      "metadata": {
        "execution": {
          "iopub.status.busy": "2024-07-15T12:25:51.369878Z",
          "iopub.execute_input": "2024-07-15T12:25:51.370173Z",
          "iopub.status.idle": "2024-07-15T12:25:51.375243Z",
          "shell.execute_reply.started": "2024-07-15T12:25:51.370139Z",
          "shell.execute_reply": "2024-07-15T12:25:51.374462Z"
        },
        "trusted": true,
        "colab": {
          "base_uri": "https://localhost:8080/"
        },
        "id": "cmHsWxNMnKmC",
        "outputId": "d4ce15c2-1f6c-4936-a11b-0d54cf67cc30"
      },
      "execution_count": null,
      "outputs": [
        {
          "output_type": "stream",
          "name": "stdout",
          "text": [
            "{'people': 4, 'follow': 2, 'mr': 3, 'beast': 0, 'write': 5, 'comment': 1}\n"
          ]
        }
      ]
    },
    {
      "cell_type": "code",
      "source": [
        "bow_df = pd.DataFrame(X.toarray(), columns=vocab)\n",
        "\n",
        "final_df = pd.concat([df[['Index', 'Output']], bow_df], axis=1)\n",
        "\n",
        "print(\"Original DataFrame:\")\n",
        "print(df)\n",
        "print(\"\\nBag of Words DataFrame with binary parameter as False:\")\n",
        "print(final_df)\n"
      ],
      "metadata": {
        "execution": {
          "iopub.status.busy": "2024-07-15T12:25:51.376146Z",
          "iopub.execute_input": "2024-07-15T12:25:51.376417Z",
          "iopub.status.idle": "2024-07-15T12:25:51.392195Z",
          "shell.execute_reply.started": "2024-07-15T12:25:51.376386Z",
          "shell.execute_reply": "2024-07-15T12:25:51.391387Z"
        },
        "trusted": true,
        "colab": {
          "base_uri": "https://localhost:8080/"
        },
        "id": "EBg-qqymnKmC",
        "outputId": "822b7c8a-b143-4387-9fdb-24a45cd45c38"
      },
      "execution_count": null,
      "outputs": [
        {
          "output_type": "stream",
          "name": "stdout",
          "text": [
            "Original DataFrame:\n",
            "  Index                      Text  Output\n",
            "0    D1    People Follow Mr.Beast       1\n",
            "1    D2  Mr.Beast Follow Mr.Beast       1\n",
            "2    D3      People Write comment       0\n",
            "3    D4    Mr.Beast Write comment       0\n",
            "\n",
            "Bag of Words DataFrame with binary parameter as False:\n",
            "  Index  Output  beast  comment  follow  mr  people  write\n",
            "0    D1       1      1        0       1   1       1      0\n",
            "1    D2       1      2        0       1   2       0      0\n",
            "2    D3       0      0        1       0   0       1      1\n",
            "3    D4       0      1        1       0   1       0      1\n"
          ]
        }
      ]
    },
    {
      "cell_type": "code",
      "source": [
        "vectorizer = CountVectorizer(binary=True)\n",
        "X = vectorizer.fit_transform(df['Text'])\n",
        "\n",
        "vocab = vectorizer.get_feature_names_out()\n",
        "\n",
        "bow_df = pd.DataFrame(X.toarray(), columns=vocab)\n",
        "\n",
        "final_df = pd.concat([df[['Index', 'Output']], bow_df], axis=1)\n",
        "\n",
        "print(\"Original DataFrame:\")\n",
        "print(df)\n",
        "print(\"\\nBag of Words DataFrame with binary parameter as True:\")\n",
        "print(final_df)\n"
      ],
      "metadata": {
        "execution": {
          "iopub.status.busy": "2024-07-15T12:25:51.393182Z",
          "iopub.execute_input": "2024-07-15T12:25:51.393463Z",
          "iopub.status.idle": "2024-07-15T12:25:51.407435Z",
          "shell.execute_reply.started": "2024-07-15T12:25:51.393441Z",
          "shell.execute_reply": "2024-07-15T12:25:51.406588Z"
        },
        "trusted": true,
        "colab": {
          "base_uri": "https://localhost:8080/"
        },
        "id": "F8iKYncnnKmC",
        "outputId": "72ec4b3b-d73f-4773-fe71-dcfd81d2849f"
      },
      "execution_count": null,
      "outputs": [
        {
          "output_type": "stream",
          "name": "stdout",
          "text": [
            "Original DataFrame:\n",
            "  Index                      Text  Output\n",
            "0    D1    People Follow Mr.Beast       1\n",
            "1    D2  Mr.Beast Follow Mr.Beast       1\n",
            "2    D3      People Write comment       0\n",
            "3    D4    Mr.Beast Write comment       0\n",
            "\n",
            "Bag of Words DataFrame with binary parameter as True:\n",
            "  Index  Output  beast  comment  follow  mr  people  write\n",
            "0    D1       1      1        0       1   1       1      0\n",
            "1    D2       1      1        0       1   1       0      0\n",
            "2    D3       0      0        1       0   0       1      1\n",
            "3    D4       0      1        1       0   1       0      1\n"
          ]
        }
      ]
    },
    {
      "cell_type": "markdown",
      "source": [
        "\n",
        "<a id=\"1\"></a>\n",
        "# <div style=\"text-align:center; border-radius:15px 50px; padding:7px; color:white; margin:0; font-size:110%; font-family:Pacifico; background-color:#0f7a7a; overflow:hidden\"><b> N-Gram\n",
        "</b></div>"
      ],
      "metadata": {
        "id": "RLgT8VUGnKmC"
      }
    },
    {
      "cell_type": "markdown",
      "source": [
        "# N-grams\n",
        "\n",
        "#### N-grams are an extension of the Bag of Words (BoW) model, where instead of considering single words, we also include sequences of n consecutive words from the text. This approach captures more contextual information than BoW by preserving some degree of word order.\n",
        "\n",
        "### Bag of N-Gram Example\n",
        "\n",
        "Using the same example dataset:\n",
        "\n",
        "| Index | Text                     | Output |\n",
        "|-------|--------------------------|--------|\n",
        "| D1    | People Follow Mr.Beast   | 1      |\n",
        "| D2    | Mr.Beast Follow Mr.Beast | 1      |\n",
        "| D3    | People Write comment     | 0      |\n",
        "| D4    | Mr.Beast Write comment   | 0      |\n",
        "\n",
        "### Bag of Bigram (2-Gram)\n",
        "\n",
        "For bigrams, we consider pairs of consecutive words. For instance:\n",
        "\n",
        "| Index | People Follow | Follow Mr.Beast | Mr.Beast Follow | People Write | Write comment | Mr.Beast Write |\n",
        "|-------|---------------|-----------------|-----------------|--------------|---------------|----------------|\n",
        "| D1    | 1             | 1               | 0               | 0            | 0             | 0              |\n",
        "| D2    | 0             | 1               | 1               | 0            | 0             | 0              |\n",
        "| D3    | 0             | 0               | 0               | 1            | 1             | 0              |\n",
        "| D4    | 0             | 0               | 0               | 0            | 1             | 1              |\n",
        "\n",
        "### Combination of Bi-Gram and Uni-Gram (1,2-Gram)\n",
        "\n",
        "In sklearn, specifying `(1, 2)` means we use both unigrams and bigrams and `(2,2)` means bigram\n",
        "\n",
        "### Advantages of N-Gram Models\n",
        "\n",
        "- **Capturing Semantic Meaning**: Unlike BoW, which may treat \"very good movie\" and \"not a very good movie\" similarly, N-grams can capture some semantic differences due to word sequences.\n",
        "- **Contextual Information**: Preserves some order of words, providing more context to the model.\n",
        "\n",
        "### Disadvantages of N-Gram Models\n",
        "\n",
        "- **Out-of-Vocabulary Words**: Similar to BoW, N-gram models suffer from the issue of out-of-vocabulary words if the vocabulary is not predefined.\n",
        "\n",
        "### Conclusion\n",
        "\n",
        "N-gram models enhance the BoW approach by considering sequences of words, thereby capturing more context and improving the model's ability to understand the semantics of text. They are widely used in tasks such as language modeling, sentiment analysis, and machine translation to extract more meaningful features from text data. However, like BoW, they have limitations in handling rare or out-of-vocabulary words."
      ],
      "metadata": {
        "id": "YiRJwyN2nKmD"
      }
    },
    {
      "cell_type": "code",
      "source": [
        "from sklearn.feature_extraction.text import CountVectorizer\n",
        "data = {\n",
        "    'Index': ['D1', 'D2', 'D3', 'D4'],\n",
        "    'Text': [\n",
        "        'People Follow Mr.Beast',\n",
        "        'Mr.Beast Follow Mr.Beast',\n",
        "        'People Write comment',\n",
        "        'Mr.Beast Write comment'\n",
        "    ],\n",
        "    'Output': [1, 1, 0, 0]\n",
        "}\n",
        "df = pd.DataFrame(data)\n",
        "texts = df['Text']\n",
        "labels = df['Output']\n"
      ],
      "metadata": {
        "execution": {
          "iopub.status.busy": "2024-07-15T12:25:51.408447Z",
          "iopub.execute_input": "2024-07-15T12:25:51.408696Z",
          "iopub.status.idle": "2024-07-15T12:25:51.418304Z",
          "shell.execute_reply.started": "2024-07-15T12:25:51.408669Z",
          "shell.execute_reply": "2024-07-15T12:25:51.417648Z"
        },
        "trusted": true,
        "id": "7nQt5EilnKmD"
      },
      "execution_count": null,
      "outputs": []
    },
    {
      "cell_type": "code",
      "source": [
        "\n",
        "ngram_vectorizer = CountVectorizer(ngram_range=(1, 2))  # Adjust ngram_range for different n-gram sizes\n",
        "X_ngram = ngram_vectorizer.fit_transform(texts)\n",
        "\n",
        "feature_names = ngram_vectorizer.get_feature_names_out()\n",
        "\n",
        "df_ngram = pd.DataFrame(X_ngram.toarray(), columns=feature_names)\n",
        "\n",
        "df_final = pd.concat([df[['Index', 'Output']], df_ngram], axis=1)\n",
        "\n",
        "print(\"Final DataFrame with uni-bi-gram:\")\n",
        "df_final"
      ],
      "metadata": {
        "execution": {
          "iopub.status.busy": "2024-07-15T12:25:51.419469Z",
          "iopub.execute_input": "2024-07-15T12:25:51.419707Z",
          "iopub.status.idle": "2024-07-15T12:25:51.440629Z",
          "shell.execute_reply.started": "2024-07-15T12:25:51.419681Z",
          "shell.execute_reply": "2024-07-15T12:25:51.439713Z"
        },
        "trusted": true,
        "colab": {
          "base_uri": "https://localhost:8080/",
          "height": 210
        },
        "id": "lodfS1ecnKmD",
        "outputId": "a53afb81-d465-47b5-990d-b74d9d2a20ec"
      },
      "execution_count": null,
      "outputs": [
        {
          "output_type": "stream",
          "name": "stdout",
          "text": [
            "Final DataFrame with uni-bi-gram:\n"
          ]
        },
        {
          "output_type": "execute_result",
          "data": {
            "text/plain": [
              "  Index  Output  beast  beast follow  beast write  comment  follow  follow mr  \\\n",
              "0    D1       1      1             0            0        0       1          1   \n",
              "1    D2       1      2             1            0        0       1          1   \n",
              "2    D3       0      0             0            0        1       0          0   \n",
              "3    D4       0      1             0            1        1       0          0   \n",
              "\n",
              "   mr  mr beast  people  people follow  people write  write  write comment  \n",
              "0   1         1       1              1             0      0              0  \n",
              "1   2         2       0              0             0      0              0  \n",
              "2   0         0       1              0             1      1              1  \n",
              "3   1         1       0              0             0      1              1  "
            ],
            "text/html": [
              "\n",
              "  <div id=\"df-cbb8b0e4-d542-46e3-8c84-42b369ac2b74\" class=\"colab-df-container\">\n",
              "    <div>\n",
              "<style scoped>\n",
              "    .dataframe tbody tr th:only-of-type {\n",
              "        vertical-align: middle;\n",
              "    }\n",
              "\n",
              "    .dataframe tbody tr th {\n",
              "        vertical-align: top;\n",
              "    }\n",
              "\n",
              "    .dataframe thead th {\n",
              "        text-align: right;\n",
              "    }\n",
              "</style>\n",
              "<table border=\"1\" class=\"dataframe\">\n",
              "  <thead>\n",
              "    <tr style=\"text-align: right;\">\n",
              "      <th></th>\n",
              "      <th>Index</th>\n",
              "      <th>Output</th>\n",
              "      <th>beast</th>\n",
              "      <th>beast follow</th>\n",
              "      <th>beast write</th>\n",
              "      <th>comment</th>\n",
              "      <th>follow</th>\n",
              "      <th>follow mr</th>\n",
              "      <th>mr</th>\n",
              "      <th>mr beast</th>\n",
              "      <th>people</th>\n",
              "      <th>people follow</th>\n",
              "      <th>people write</th>\n",
              "      <th>write</th>\n",
              "      <th>write comment</th>\n",
              "    </tr>\n",
              "  </thead>\n",
              "  <tbody>\n",
              "    <tr>\n",
              "      <th>0</th>\n",
              "      <td>D1</td>\n",
              "      <td>1</td>\n",
              "      <td>1</td>\n",
              "      <td>0</td>\n",
              "      <td>0</td>\n",
              "      <td>0</td>\n",
              "      <td>1</td>\n",
              "      <td>1</td>\n",
              "      <td>1</td>\n",
              "      <td>1</td>\n",
              "      <td>1</td>\n",
              "      <td>1</td>\n",
              "      <td>0</td>\n",
              "      <td>0</td>\n",
              "      <td>0</td>\n",
              "    </tr>\n",
              "    <tr>\n",
              "      <th>1</th>\n",
              "      <td>D2</td>\n",
              "      <td>1</td>\n",
              "      <td>2</td>\n",
              "      <td>1</td>\n",
              "      <td>0</td>\n",
              "      <td>0</td>\n",
              "      <td>1</td>\n",
              "      <td>1</td>\n",
              "      <td>2</td>\n",
              "      <td>2</td>\n",
              "      <td>0</td>\n",
              "      <td>0</td>\n",
              "      <td>0</td>\n",
              "      <td>0</td>\n",
              "      <td>0</td>\n",
              "    </tr>\n",
              "    <tr>\n",
              "      <th>2</th>\n",
              "      <td>D3</td>\n",
              "      <td>0</td>\n",
              "      <td>0</td>\n",
              "      <td>0</td>\n",
              "      <td>0</td>\n",
              "      <td>1</td>\n",
              "      <td>0</td>\n",
              "      <td>0</td>\n",
              "      <td>0</td>\n",
              "      <td>0</td>\n",
              "      <td>1</td>\n",
              "      <td>0</td>\n",
              "      <td>1</td>\n",
              "      <td>1</td>\n",
              "      <td>1</td>\n",
              "    </tr>\n",
              "    <tr>\n",
              "      <th>3</th>\n",
              "      <td>D4</td>\n",
              "      <td>0</td>\n",
              "      <td>1</td>\n",
              "      <td>0</td>\n",
              "      <td>1</td>\n",
              "      <td>1</td>\n",
              "      <td>0</td>\n",
              "      <td>0</td>\n",
              "      <td>1</td>\n",
              "      <td>1</td>\n",
              "      <td>0</td>\n",
              "      <td>0</td>\n",
              "      <td>0</td>\n",
              "      <td>1</td>\n",
              "      <td>1</td>\n",
              "    </tr>\n",
              "  </tbody>\n",
              "</table>\n",
              "</div>\n",
              "    <div class=\"colab-df-buttons\">\n",
              "\n",
              "  <div class=\"colab-df-container\">\n",
              "    <button class=\"colab-df-convert\" onclick=\"convertToInteractive('df-cbb8b0e4-d542-46e3-8c84-42b369ac2b74')\"\n",
              "            title=\"Convert this dataframe to an interactive table.\"\n",
              "            style=\"display:none;\">\n",
              "\n",
              "  <svg xmlns=\"http://www.w3.org/2000/svg\" height=\"24px\" viewBox=\"0 -960 960 960\">\n",
              "    <path d=\"M120-120v-720h720v720H120Zm60-500h600v-160H180v160Zm220 220h160v-160H400v160Zm0 220h160v-160H400v160ZM180-400h160v-160H180v160Zm440 0h160v-160H620v160ZM180-180h160v-160H180v160Zm440 0h160v-160H620v160Z\"/>\n",
              "  </svg>\n",
              "    </button>\n",
              "\n",
              "  <style>\n",
              "    .colab-df-container {\n",
              "      display:flex;\n",
              "      gap: 12px;\n",
              "    }\n",
              "\n",
              "    .colab-df-convert {\n",
              "      background-color: #E8F0FE;\n",
              "      border: none;\n",
              "      border-radius: 50%;\n",
              "      cursor: pointer;\n",
              "      display: none;\n",
              "      fill: #1967D2;\n",
              "      height: 32px;\n",
              "      padding: 0 0 0 0;\n",
              "      width: 32px;\n",
              "    }\n",
              "\n",
              "    .colab-df-convert:hover {\n",
              "      background-color: #E2EBFA;\n",
              "      box-shadow: 0px 1px 2px rgba(60, 64, 67, 0.3), 0px 1px 3px 1px rgba(60, 64, 67, 0.15);\n",
              "      fill: #174EA6;\n",
              "    }\n",
              "\n",
              "    .colab-df-buttons div {\n",
              "      margin-bottom: 4px;\n",
              "    }\n",
              "\n",
              "    [theme=dark] .colab-df-convert {\n",
              "      background-color: #3B4455;\n",
              "      fill: #D2E3FC;\n",
              "    }\n",
              "\n",
              "    [theme=dark] .colab-df-convert:hover {\n",
              "      background-color: #434B5C;\n",
              "      box-shadow: 0px 1px 3px 1px rgba(0, 0, 0, 0.15);\n",
              "      filter: drop-shadow(0px 1px 2px rgba(0, 0, 0, 0.3));\n",
              "      fill: #FFFFFF;\n",
              "    }\n",
              "  </style>\n",
              "\n",
              "    <script>\n",
              "      const buttonEl =\n",
              "        document.querySelector('#df-cbb8b0e4-d542-46e3-8c84-42b369ac2b74 button.colab-df-convert');\n",
              "      buttonEl.style.display =\n",
              "        google.colab.kernel.accessAllowed ? 'block' : 'none';\n",
              "\n",
              "      async function convertToInteractive(key) {\n",
              "        const element = document.querySelector('#df-cbb8b0e4-d542-46e3-8c84-42b369ac2b74');\n",
              "        const dataTable =\n",
              "          await google.colab.kernel.invokeFunction('convertToInteractive',\n",
              "                                                    [key], {});\n",
              "        if (!dataTable) return;\n",
              "\n",
              "        const docLinkHtml = 'Like what you see? Visit the ' +\n",
              "          '<a target=\"_blank\" href=https://colab.research.google.com/notebooks/data_table.ipynb>data table notebook</a>'\n",
              "          + ' to learn more about interactive tables.';\n",
              "        element.innerHTML = '';\n",
              "        dataTable['output_type'] = 'display_data';\n",
              "        await google.colab.output.renderOutput(dataTable, element);\n",
              "        const docLink = document.createElement('div');\n",
              "        docLink.innerHTML = docLinkHtml;\n",
              "        element.appendChild(docLink);\n",
              "      }\n",
              "    </script>\n",
              "  </div>\n",
              "\n",
              "\n",
              "<div id=\"df-acc62fb6-c088-48dc-bf54-933b8925d097\">\n",
              "  <button class=\"colab-df-quickchart\" onclick=\"quickchart('df-acc62fb6-c088-48dc-bf54-933b8925d097')\"\n",
              "            title=\"Suggest charts\"\n",
              "            style=\"display:none;\">\n",
              "\n",
              "<svg xmlns=\"http://www.w3.org/2000/svg\" height=\"24px\"viewBox=\"0 0 24 24\"\n",
              "     width=\"24px\">\n",
              "    <g>\n",
              "        <path d=\"M19 3H5c-1.1 0-2 .9-2 2v14c0 1.1.9 2 2 2h14c1.1 0 2-.9 2-2V5c0-1.1-.9-2-2-2zM9 17H7v-7h2v7zm4 0h-2V7h2v10zm4 0h-2v-4h2v4z\"/>\n",
              "    </g>\n",
              "</svg>\n",
              "  </button>\n",
              "\n",
              "<style>\n",
              "  .colab-df-quickchart {\n",
              "      --bg-color: #E8F0FE;\n",
              "      --fill-color: #1967D2;\n",
              "      --hover-bg-color: #E2EBFA;\n",
              "      --hover-fill-color: #174EA6;\n",
              "      --disabled-fill-color: #AAA;\n",
              "      --disabled-bg-color: #DDD;\n",
              "  }\n",
              "\n",
              "  [theme=dark] .colab-df-quickchart {\n",
              "      --bg-color: #3B4455;\n",
              "      --fill-color: #D2E3FC;\n",
              "      --hover-bg-color: #434B5C;\n",
              "      --hover-fill-color: #FFFFFF;\n",
              "      --disabled-bg-color: #3B4455;\n",
              "      --disabled-fill-color: #666;\n",
              "  }\n",
              "\n",
              "  .colab-df-quickchart {\n",
              "    background-color: var(--bg-color);\n",
              "    border: none;\n",
              "    border-radius: 50%;\n",
              "    cursor: pointer;\n",
              "    display: none;\n",
              "    fill: var(--fill-color);\n",
              "    height: 32px;\n",
              "    padding: 0;\n",
              "    width: 32px;\n",
              "  }\n",
              "\n",
              "  .colab-df-quickchart:hover {\n",
              "    background-color: var(--hover-bg-color);\n",
              "    box-shadow: 0 1px 2px rgba(60, 64, 67, 0.3), 0 1px 3px 1px rgba(60, 64, 67, 0.15);\n",
              "    fill: var(--button-hover-fill-color);\n",
              "  }\n",
              "\n",
              "  .colab-df-quickchart-complete:disabled,\n",
              "  .colab-df-quickchart-complete:disabled:hover {\n",
              "    background-color: var(--disabled-bg-color);\n",
              "    fill: var(--disabled-fill-color);\n",
              "    box-shadow: none;\n",
              "  }\n",
              "\n",
              "  .colab-df-spinner {\n",
              "    border: 2px solid var(--fill-color);\n",
              "    border-color: transparent;\n",
              "    border-bottom-color: var(--fill-color);\n",
              "    animation:\n",
              "      spin 1s steps(1) infinite;\n",
              "  }\n",
              "\n",
              "  @keyframes spin {\n",
              "    0% {\n",
              "      border-color: transparent;\n",
              "      border-bottom-color: var(--fill-color);\n",
              "      border-left-color: var(--fill-color);\n",
              "    }\n",
              "    20% {\n",
              "      border-color: transparent;\n",
              "      border-left-color: var(--fill-color);\n",
              "      border-top-color: var(--fill-color);\n",
              "    }\n",
              "    30% {\n",
              "      border-color: transparent;\n",
              "      border-left-color: var(--fill-color);\n",
              "      border-top-color: var(--fill-color);\n",
              "      border-right-color: var(--fill-color);\n",
              "    }\n",
              "    40% {\n",
              "      border-color: transparent;\n",
              "      border-right-color: var(--fill-color);\n",
              "      border-top-color: var(--fill-color);\n",
              "    }\n",
              "    60% {\n",
              "      border-color: transparent;\n",
              "      border-right-color: var(--fill-color);\n",
              "    }\n",
              "    80% {\n",
              "      border-color: transparent;\n",
              "      border-right-color: var(--fill-color);\n",
              "      border-bottom-color: var(--fill-color);\n",
              "    }\n",
              "    90% {\n",
              "      border-color: transparent;\n",
              "      border-bottom-color: var(--fill-color);\n",
              "    }\n",
              "  }\n",
              "</style>\n",
              "\n",
              "  <script>\n",
              "    async function quickchart(key) {\n",
              "      const quickchartButtonEl =\n",
              "        document.querySelector('#' + key + ' button');\n",
              "      quickchartButtonEl.disabled = true;  // To prevent multiple clicks.\n",
              "      quickchartButtonEl.classList.add('colab-df-spinner');\n",
              "      try {\n",
              "        const charts = await google.colab.kernel.invokeFunction(\n",
              "            'suggestCharts', [key], {});\n",
              "      } catch (error) {\n",
              "        console.error('Error during call to suggestCharts:', error);\n",
              "      }\n",
              "      quickchartButtonEl.classList.remove('colab-df-spinner');\n",
              "      quickchartButtonEl.classList.add('colab-df-quickchart-complete');\n",
              "    }\n",
              "    (() => {\n",
              "      let quickchartButtonEl =\n",
              "        document.querySelector('#df-acc62fb6-c088-48dc-bf54-933b8925d097 button');\n",
              "      quickchartButtonEl.style.display =\n",
              "        google.colab.kernel.accessAllowed ? 'block' : 'none';\n",
              "    })();\n",
              "  </script>\n",
              "</div>\n",
              "\n",
              "  <div id=\"id_4252a49f-ae25-46f3-af64-9068f63b9e38\">\n",
              "    <style>\n",
              "      .colab-df-generate {\n",
              "        background-color: #E8F0FE;\n",
              "        border: none;\n",
              "        border-radius: 50%;\n",
              "        cursor: pointer;\n",
              "        display: none;\n",
              "        fill: #1967D2;\n",
              "        height: 32px;\n",
              "        padding: 0 0 0 0;\n",
              "        width: 32px;\n",
              "      }\n",
              "\n",
              "      .colab-df-generate:hover {\n",
              "        background-color: #E2EBFA;\n",
              "        box-shadow: 0px 1px 2px rgba(60, 64, 67, 0.3), 0px 1px 3px 1px rgba(60, 64, 67, 0.15);\n",
              "        fill: #174EA6;\n",
              "      }\n",
              "\n",
              "      [theme=dark] .colab-df-generate {\n",
              "        background-color: #3B4455;\n",
              "        fill: #D2E3FC;\n",
              "      }\n",
              "\n",
              "      [theme=dark] .colab-df-generate:hover {\n",
              "        background-color: #434B5C;\n",
              "        box-shadow: 0px 1px 3px 1px rgba(0, 0, 0, 0.15);\n",
              "        filter: drop-shadow(0px 1px 2px rgba(0, 0, 0, 0.3));\n",
              "        fill: #FFFFFF;\n",
              "      }\n",
              "    </style>\n",
              "    <button class=\"colab-df-generate\" onclick=\"generateWithVariable('df_final')\"\n",
              "            title=\"Generate code using this dataframe.\"\n",
              "            style=\"display:none;\">\n",
              "\n",
              "  <svg xmlns=\"http://www.w3.org/2000/svg\" height=\"24px\"viewBox=\"0 0 24 24\"\n",
              "       width=\"24px\">\n",
              "    <path d=\"M7,19H8.4L18.45,9,17,7.55,7,17.6ZM5,21V16.75L18.45,3.32a2,2,0,0,1,2.83,0l1.4,1.43a1.91,1.91,0,0,1,.58,1.4,1.91,1.91,0,0,1-.58,1.4L9.25,21ZM18.45,9,17,7.55Zm-12,3A5.31,5.31,0,0,0,4.9,8.1,5.31,5.31,0,0,0,1,6.5,5.31,5.31,0,0,0,4.9,4.9,5.31,5.31,0,0,0,6.5,1,5.31,5.31,0,0,0,8.1,4.9,5.31,5.31,0,0,0,12,6.5,5.46,5.46,0,0,0,6.5,12Z\"/>\n",
              "  </svg>\n",
              "    </button>\n",
              "    <script>\n",
              "      (() => {\n",
              "      const buttonEl =\n",
              "        document.querySelector('#id_4252a49f-ae25-46f3-af64-9068f63b9e38 button.colab-df-generate');\n",
              "      buttonEl.style.display =\n",
              "        google.colab.kernel.accessAllowed ? 'block' : 'none';\n",
              "\n",
              "      buttonEl.onclick = () => {\n",
              "        google.colab.notebook.generateWithVariable('df_final');\n",
              "      }\n",
              "      })();\n",
              "    </script>\n",
              "  </div>\n",
              "\n",
              "    </div>\n",
              "  </div>\n"
            ],
            "application/vnd.google.colaboratory.intrinsic+json": {
              "type": "dataframe",
              "variable_name": "df_final",
              "summary": "{\n  \"name\": \"df_final\",\n  \"rows\": 4,\n  \"fields\": [\n    {\n      \"column\": \"Index\",\n      \"properties\": {\n        \"dtype\": \"string\",\n        \"num_unique_values\": 4,\n        \"samples\": [\n          \"D2\",\n          \"D4\",\n          \"D1\"\n        ],\n        \"semantic_type\": \"\",\n        \"description\": \"\"\n      }\n    },\n    {\n      \"column\": \"Output\",\n      \"properties\": {\n        \"dtype\": \"number\",\n        \"std\": 0,\n        \"min\": 0,\n        \"max\": 1,\n        \"num_unique_values\": 2,\n        \"samples\": [\n          0,\n          1\n        ],\n        \"semantic_type\": \"\",\n        \"description\": \"\"\n      }\n    },\n    {\n      \"column\": \"beast\",\n      \"properties\": {\n        \"dtype\": \"number\",\n        \"std\": 0,\n        \"min\": 0,\n        \"max\": 2,\n        \"num_unique_values\": 3,\n        \"samples\": [\n          1,\n          2\n        ],\n        \"semantic_type\": \"\",\n        \"description\": \"\"\n      }\n    },\n    {\n      \"column\": \"beast follow\",\n      \"properties\": {\n        \"dtype\": \"number\",\n        \"std\": 0,\n        \"min\": 0,\n        \"max\": 1,\n        \"num_unique_values\": 2,\n        \"samples\": [\n          1,\n          0\n        ],\n        \"semantic_type\": \"\",\n        \"description\": \"\"\n      }\n    },\n    {\n      \"column\": \"beast write\",\n      \"properties\": {\n        \"dtype\": \"number\",\n        \"std\": 0,\n        \"min\": 0,\n        \"max\": 1,\n        \"num_unique_values\": 2,\n        \"samples\": [\n          1,\n          0\n        ],\n        \"semantic_type\": \"\",\n        \"description\": \"\"\n      }\n    },\n    {\n      \"column\": \"comment\",\n      \"properties\": {\n        \"dtype\": \"number\",\n        \"std\": 0,\n        \"min\": 0,\n        \"max\": 1,\n        \"num_unique_values\": 2,\n        \"samples\": [\n          1,\n          0\n        ],\n        \"semantic_type\": \"\",\n        \"description\": \"\"\n      }\n    },\n    {\n      \"column\": \"follow\",\n      \"properties\": {\n        \"dtype\": \"number\",\n        \"std\": 0,\n        \"min\": 0,\n        \"max\": 1,\n        \"num_unique_values\": 2,\n        \"samples\": [\n          0,\n          1\n        ],\n        \"semantic_type\": \"\",\n        \"description\": \"\"\n      }\n    },\n    {\n      \"column\": \"follow mr\",\n      \"properties\": {\n        \"dtype\": \"number\",\n        \"std\": 0,\n        \"min\": 0,\n        \"max\": 1,\n        \"num_unique_values\": 2,\n        \"samples\": [\n          0,\n          1\n        ],\n        \"semantic_type\": \"\",\n        \"description\": \"\"\n      }\n    },\n    {\n      \"column\": \"mr\",\n      \"properties\": {\n        \"dtype\": \"number\",\n        \"std\": 0,\n        \"min\": 0,\n        \"max\": 2,\n        \"num_unique_values\": 3,\n        \"samples\": [\n          1,\n          2\n        ],\n        \"semantic_type\": \"\",\n        \"description\": \"\"\n      }\n    },\n    {\n      \"column\": \"mr beast\",\n      \"properties\": {\n        \"dtype\": \"number\",\n        \"std\": 0,\n        \"min\": 0,\n        \"max\": 2,\n        \"num_unique_values\": 3,\n        \"samples\": [\n          1,\n          2\n        ],\n        \"semantic_type\": \"\",\n        \"description\": \"\"\n      }\n    },\n    {\n      \"column\": \"people\",\n      \"properties\": {\n        \"dtype\": \"number\",\n        \"std\": 0,\n        \"min\": 0,\n        \"max\": 1,\n        \"num_unique_values\": 2,\n        \"samples\": [\n          0,\n          1\n        ],\n        \"semantic_type\": \"\",\n        \"description\": \"\"\n      }\n    },\n    {\n      \"column\": \"people follow\",\n      \"properties\": {\n        \"dtype\": \"number\",\n        \"std\": 0,\n        \"min\": 0,\n        \"max\": 1,\n        \"num_unique_values\": 2,\n        \"samples\": [\n          0,\n          1\n        ],\n        \"semantic_type\": \"\",\n        \"description\": \"\"\n      }\n    },\n    {\n      \"column\": \"people write\",\n      \"properties\": {\n        \"dtype\": \"number\",\n        \"std\": 0,\n        \"min\": 0,\n        \"max\": 1,\n        \"num_unique_values\": 2,\n        \"samples\": [\n          1,\n          0\n        ],\n        \"semantic_type\": \"\",\n        \"description\": \"\"\n      }\n    },\n    {\n      \"column\": \"write\",\n      \"properties\": {\n        \"dtype\": \"number\",\n        \"std\": 0,\n        \"min\": 0,\n        \"max\": 1,\n        \"num_unique_values\": 2,\n        \"samples\": [\n          1,\n          0\n        ],\n        \"semantic_type\": \"\",\n        \"description\": \"\"\n      }\n    },\n    {\n      \"column\": \"write comment\",\n      \"properties\": {\n        \"dtype\": \"number\",\n        \"std\": 0,\n        \"min\": 0,\n        \"max\": 1,\n        \"num_unique_values\": 2,\n        \"samples\": [\n          1,\n          0\n        ],\n        \"semantic_type\": \"\",\n        \"description\": \"\"\n      }\n    }\n  ]\n}"
            }
          },
          "metadata": {},
          "execution_count": 51
        }
      ]
    },
    {
      "cell_type": "code",
      "source": [
        "ngram_vectorizer = CountVectorizer(ngram_range=(2, 2))  # Adjust ngram_range for different n-gram sizes\n",
        "X_ngram = ngram_vectorizer.fit_transform(texts)\n",
        "\n",
        "feature_names = ngram_vectorizer.get_feature_names_out()\n",
        "\n",
        "df_ngram = pd.DataFrame(X_ngram.toarray(), columns=feature_names)\n",
        "\n",
        "df_final = pd.concat([df[['Index', 'Output']], df_ngram], axis=1)\n",
        "\n",
        "print(\"Final DataFrame with bi-gram:\")\n",
        "df_final"
      ],
      "metadata": {
        "execution": {
          "iopub.status.busy": "2024-07-15T12:25:51.44168Z",
          "iopub.execute_input": "2024-07-15T12:25:51.441955Z",
          "iopub.status.idle": "2024-07-15T12:25:51.4582Z",
          "shell.execute_reply.started": "2024-07-15T12:25:51.441934Z",
          "shell.execute_reply": "2024-07-15T12:25:51.45716Z"
        },
        "trusted": true,
        "colab": {
          "base_uri": "https://localhost:8080/",
          "height": 192
        },
        "id": "S2dHMxJ0nKmD",
        "outputId": "e377ac0c-bc86-4128-8b87-500df07b1ace"
      },
      "execution_count": null,
      "outputs": [
        {
          "output_type": "stream",
          "name": "stdout",
          "text": [
            "Final DataFrame with bi-gram:\n"
          ]
        },
        {
          "output_type": "execute_result",
          "data": {
            "text/plain": [
              "  Index  Output  beast follow  beast write  follow mr  mr beast  \\\n",
              "0    D1       1             0            0          1         1   \n",
              "1    D2       1             1            0          1         2   \n",
              "2    D3       0             0            0          0         0   \n",
              "3    D4       0             0            1          0         1   \n",
              "\n",
              "   people follow  people write  write comment  \n",
              "0              1             0              0  \n",
              "1              0             0              0  \n",
              "2              0             1              1  \n",
              "3              0             0              1  "
            ],
            "text/html": [
              "\n",
              "  <div id=\"df-2f805d6f-0239-426d-8849-e45f98352879\" class=\"colab-df-container\">\n",
              "    <div>\n",
              "<style scoped>\n",
              "    .dataframe tbody tr th:only-of-type {\n",
              "        vertical-align: middle;\n",
              "    }\n",
              "\n",
              "    .dataframe tbody tr th {\n",
              "        vertical-align: top;\n",
              "    }\n",
              "\n",
              "    .dataframe thead th {\n",
              "        text-align: right;\n",
              "    }\n",
              "</style>\n",
              "<table border=\"1\" class=\"dataframe\">\n",
              "  <thead>\n",
              "    <tr style=\"text-align: right;\">\n",
              "      <th></th>\n",
              "      <th>Index</th>\n",
              "      <th>Output</th>\n",
              "      <th>beast follow</th>\n",
              "      <th>beast write</th>\n",
              "      <th>follow mr</th>\n",
              "      <th>mr beast</th>\n",
              "      <th>people follow</th>\n",
              "      <th>people write</th>\n",
              "      <th>write comment</th>\n",
              "    </tr>\n",
              "  </thead>\n",
              "  <tbody>\n",
              "    <tr>\n",
              "      <th>0</th>\n",
              "      <td>D1</td>\n",
              "      <td>1</td>\n",
              "      <td>0</td>\n",
              "      <td>0</td>\n",
              "      <td>1</td>\n",
              "      <td>1</td>\n",
              "      <td>1</td>\n",
              "      <td>0</td>\n",
              "      <td>0</td>\n",
              "    </tr>\n",
              "    <tr>\n",
              "      <th>1</th>\n",
              "      <td>D2</td>\n",
              "      <td>1</td>\n",
              "      <td>1</td>\n",
              "      <td>0</td>\n",
              "      <td>1</td>\n",
              "      <td>2</td>\n",
              "      <td>0</td>\n",
              "      <td>0</td>\n",
              "      <td>0</td>\n",
              "    </tr>\n",
              "    <tr>\n",
              "      <th>2</th>\n",
              "      <td>D3</td>\n",
              "      <td>0</td>\n",
              "      <td>0</td>\n",
              "      <td>0</td>\n",
              "      <td>0</td>\n",
              "      <td>0</td>\n",
              "      <td>0</td>\n",
              "      <td>1</td>\n",
              "      <td>1</td>\n",
              "    </tr>\n",
              "    <tr>\n",
              "      <th>3</th>\n",
              "      <td>D4</td>\n",
              "      <td>0</td>\n",
              "      <td>0</td>\n",
              "      <td>1</td>\n",
              "      <td>0</td>\n",
              "      <td>1</td>\n",
              "      <td>0</td>\n",
              "      <td>0</td>\n",
              "      <td>1</td>\n",
              "    </tr>\n",
              "  </tbody>\n",
              "</table>\n",
              "</div>\n",
              "    <div class=\"colab-df-buttons\">\n",
              "\n",
              "  <div class=\"colab-df-container\">\n",
              "    <button class=\"colab-df-convert\" onclick=\"convertToInteractive('df-2f805d6f-0239-426d-8849-e45f98352879')\"\n",
              "            title=\"Convert this dataframe to an interactive table.\"\n",
              "            style=\"display:none;\">\n",
              "\n",
              "  <svg xmlns=\"http://www.w3.org/2000/svg\" height=\"24px\" viewBox=\"0 -960 960 960\">\n",
              "    <path d=\"M120-120v-720h720v720H120Zm60-500h600v-160H180v160Zm220 220h160v-160H400v160Zm0 220h160v-160H400v160ZM180-400h160v-160H180v160Zm440 0h160v-160H620v160ZM180-180h160v-160H180v160Zm440 0h160v-160H620v160Z\"/>\n",
              "  </svg>\n",
              "    </button>\n",
              "\n",
              "  <style>\n",
              "    .colab-df-container {\n",
              "      display:flex;\n",
              "      gap: 12px;\n",
              "    }\n",
              "\n",
              "    .colab-df-convert {\n",
              "      background-color: #E8F0FE;\n",
              "      border: none;\n",
              "      border-radius: 50%;\n",
              "      cursor: pointer;\n",
              "      display: none;\n",
              "      fill: #1967D2;\n",
              "      height: 32px;\n",
              "      padding: 0 0 0 0;\n",
              "      width: 32px;\n",
              "    }\n",
              "\n",
              "    .colab-df-convert:hover {\n",
              "      background-color: #E2EBFA;\n",
              "      box-shadow: 0px 1px 2px rgba(60, 64, 67, 0.3), 0px 1px 3px 1px rgba(60, 64, 67, 0.15);\n",
              "      fill: #174EA6;\n",
              "    }\n",
              "\n",
              "    .colab-df-buttons div {\n",
              "      margin-bottom: 4px;\n",
              "    }\n",
              "\n",
              "    [theme=dark] .colab-df-convert {\n",
              "      background-color: #3B4455;\n",
              "      fill: #D2E3FC;\n",
              "    }\n",
              "\n",
              "    [theme=dark] .colab-df-convert:hover {\n",
              "      background-color: #434B5C;\n",
              "      box-shadow: 0px 1px 3px 1px rgba(0, 0, 0, 0.15);\n",
              "      filter: drop-shadow(0px 1px 2px rgba(0, 0, 0, 0.3));\n",
              "      fill: #FFFFFF;\n",
              "    }\n",
              "  </style>\n",
              "\n",
              "    <script>\n",
              "      const buttonEl =\n",
              "        document.querySelector('#df-2f805d6f-0239-426d-8849-e45f98352879 button.colab-df-convert');\n",
              "      buttonEl.style.display =\n",
              "        google.colab.kernel.accessAllowed ? 'block' : 'none';\n",
              "\n",
              "      async function convertToInteractive(key) {\n",
              "        const element = document.querySelector('#df-2f805d6f-0239-426d-8849-e45f98352879');\n",
              "        const dataTable =\n",
              "          await google.colab.kernel.invokeFunction('convertToInteractive',\n",
              "                                                    [key], {});\n",
              "        if (!dataTable) return;\n",
              "\n",
              "        const docLinkHtml = 'Like what you see? Visit the ' +\n",
              "          '<a target=\"_blank\" href=https://colab.research.google.com/notebooks/data_table.ipynb>data table notebook</a>'\n",
              "          + ' to learn more about interactive tables.';\n",
              "        element.innerHTML = '';\n",
              "        dataTable['output_type'] = 'display_data';\n",
              "        await google.colab.output.renderOutput(dataTable, element);\n",
              "        const docLink = document.createElement('div');\n",
              "        docLink.innerHTML = docLinkHtml;\n",
              "        element.appendChild(docLink);\n",
              "      }\n",
              "    </script>\n",
              "  </div>\n",
              "\n",
              "\n",
              "<div id=\"df-a965449c-b310-4d53-84c1-ce455f4bf06a\">\n",
              "  <button class=\"colab-df-quickchart\" onclick=\"quickchart('df-a965449c-b310-4d53-84c1-ce455f4bf06a')\"\n",
              "            title=\"Suggest charts\"\n",
              "            style=\"display:none;\">\n",
              "\n",
              "<svg xmlns=\"http://www.w3.org/2000/svg\" height=\"24px\"viewBox=\"0 0 24 24\"\n",
              "     width=\"24px\">\n",
              "    <g>\n",
              "        <path d=\"M19 3H5c-1.1 0-2 .9-2 2v14c0 1.1.9 2 2 2h14c1.1 0 2-.9 2-2V5c0-1.1-.9-2-2-2zM9 17H7v-7h2v7zm4 0h-2V7h2v10zm4 0h-2v-4h2v4z\"/>\n",
              "    </g>\n",
              "</svg>\n",
              "  </button>\n",
              "\n",
              "<style>\n",
              "  .colab-df-quickchart {\n",
              "      --bg-color: #E8F0FE;\n",
              "      --fill-color: #1967D2;\n",
              "      --hover-bg-color: #E2EBFA;\n",
              "      --hover-fill-color: #174EA6;\n",
              "      --disabled-fill-color: #AAA;\n",
              "      --disabled-bg-color: #DDD;\n",
              "  }\n",
              "\n",
              "  [theme=dark] .colab-df-quickchart {\n",
              "      --bg-color: #3B4455;\n",
              "      --fill-color: #D2E3FC;\n",
              "      --hover-bg-color: #434B5C;\n",
              "      --hover-fill-color: #FFFFFF;\n",
              "      --disabled-bg-color: #3B4455;\n",
              "      --disabled-fill-color: #666;\n",
              "  }\n",
              "\n",
              "  .colab-df-quickchart {\n",
              "    background-color: var(--bg-color);\n",
              "    border: none;\n",
              "    border-radius: 50%;\n",
              "    cursor: pointer;\n",
              "    display: none;\n",
              "    fill: var(--fill-color);\n",
              "    height: 32px;\n",
              "    padding: 0;\n",
              "    width: 32px;\n",
              "  }\n",
              "\n",
              "  .colab-df-quickchart:hover {\n",
              "    background-color: var(--hover-bg-color);\n",
              "    box-shadow: 0 1px 2px rgba(60, 64, 67, 0.3), 0 1px 3px 1px rgba(60, 64, 67, 0.15);\n",
              "    fill: var(--button-hover-fill-color);\n",
              "  }\n",
              "\n",
              "  .colab-df-quickchart-complete:disabled,\n",
              "  .colab-df-quickchart-complete:disabled:hover {\n",
              "    background-color: var(--disabled-bg-color);\n",
              "    fill: var(--disabled-fill-color);\n",
              "    box-shadow: none;\n",
              "  }\n",
              "\n",
              "  .colab-df-spinner {\n",
              "    border: 2px solid var(--fill-color);\n",
              "    border-color: transparent;\n",
              "    border-bottom-color: var(--fill-color);\n",
              "    animation:\n",
              "      spin 1s steps(1) infinite;\n",
              "  }\n",
              "\n",
              "  @keyframes spin {\n",
              "    0% {\n",
              "      border-color: transparent;\n",
              "      border-bottom-color: var(--fill-color);\n",
              "      border-left-color: var(--fill-color);\n",
              "    }\n",
              "    20% {\n",
              "      border-color: transparent;\n",
              "      border-left-color: var(--fill-color);\n",
              "      border-top-color: var(--fill-color);\n",
              "    }\n",
              "    30% {\n",
              "      border-color: transparent;\n",
              "      border-left-color: var(--fill-color);\n",
              "      border-top-color: var(--fill-color);\n",
              "      border-right-color: var(--fill-color);\n",
              "    }\n",
              "    40% {\n",
              "      border-color: transparent;\n",
              "      border-right-color: var(--fill-color);\n",
              "      border-top-color: var(--fill-color);\n",
              "    }\n",
              "    60% {\n",
              "      border-color: transparent;\n",
              "      border-right-color: var(--fill-color);\n",
              "    }\n",
              "    80% {\n",
              "      border-color: transparent;\n",
              "      border-right-color: var(--fill-color);\n",
              "      border-bottom-color: var(--fill-color);\n",
              "    }\n",
              "    90% {\n",
              "      border-color: transparent;\n",
              "      border-bottom-color: var(--fill-color);\n",
              "    }\n",
              "  }\n",
              "</style>\n",
              "\n",
              "  <script>\n",
              "    async function quickchart(key) {\n",
              "      const quickchartButtonEl =\n",
              "        document.querySelector('#' + key + ' button');\n",
              "      quickchartButtonEl.disabled = true;  // To prevent multiple clicks.\n",
              "      quickchartButtonEl.classList.add('colab-df-spinner');\n",
              "      try {\n",
              "        const charts = await google.colab.kernel.invokeFunction(\n",
              "            'suggestCharts', [key], {});\n",
              "      } catch (error) {\n",
              "        console.error('Error during call to suggestCharts:', error);\n",
              "      }\n",
              "      quickchartButtonEl.classList.remove('colab-df-spinner');\n",
              "      quickchartButtonEl.classList.add('colab-df-quickchart-complete');\n",
              "    }\n",
              "    (() => {\n",
              "      let quickchartButtonEl =\n",
              "        document.querySelector('#df-a965449c-b310-4d53-84c1-ce455f4bf06a button');\n",
              "      quickchartButtonEl.style.display =\n",
              "        google.colab.kernel.accessAllowed ? 'block' : 'none';\n",
              "    })();\n",
              "  </script>\n",
              "</div>\n",
              "\n",
              "  <div id=\"id_77b16595-e35e-4da5-9743-8e9502481ed5\">\n",
              "    <style>\n",
              "      .colab-df-generate {\n",
              "        background-color: #E8F0FE;\n",
              "        border: none;\n",
              "        border-radius: 50%;\n",
              "        cursor: pointer;\n",
              "        display: none;\n",
              "        fill: #1967D2;\n",
              "        height: 32px;\n",
              "        padding: 0 0 0 0;\n",
              "        width: 32px;\n",
              "      }\n",
              "\n",
              "      .colab-df-generate:hover {\n",
              "        background-color: #E2EBFA;\n",
              "        box-shadow: 0px 1px 2px rgba(60, 64, 67, 0.3), 0px 1px 3px 1px rgba(60, 64, 67, 0.15);\n",
              "        fill: #174EA6;\n",
              "      }\n",
              "\n",
              "      [theme=dark] .colab-df-generate {\n",
              "        background-color: #3B4455;\n",
              "        fill: #D2E3FC;\n",
              "      }\n",
              "\n",
              "      [theme=dark] .colab-df-generate:hover {\n",
              "        background-color: #434B5C;\n",
              "        box-shadow: 0px 1px 3px 1px rgba(0, 0, 0, 0.15);\n",
              "        filter: drop-shadow(0px 1px 2px rgba(0, 0, 0, 0.3));\n",
              "        fill: #FFFFFF;\n",
              "      }\n",
              "    </style>\n",
              "    <button class=\"colab-df-generate\" onclick=\"generateWithVariable('df_final')\"\n",
              "            title=\"Generate code using this dataframe.\"\n",
              "            style=\"display:none;\">\n",
              "\n",
              "  <svg xmlns=\"http://www.w3.org/2000/svg\" height=\"24px\"viewBox=\"0 0 24 24\"\n",
              "       width=\"24px\">\n",
              "    <path d=\"M7,19H8.4L18.45,9,17,7.55,7,17.6ZM5,21V16.75L18.45,3.32a2,2,0,0,1,2.83,0l1.4,1.43a1.91,1.91,0,0,1,.58,1.4,1.91,1.91,0,0,1-.58,1.4L9.25,21ZM18.45,9,17,7.55Zm-12,3A5.31,5.31,0,0,0,4.9,8.1,5.31,5.31,0,0,0,1,6.5,5.31,5.31,0,0,0,4.9,4.9,5.31,5.31,0,0,0,6.5,1,5.31,5.31,0,0,0,8.1,4.9,5.31,5.31,0,0,0,12,6.5,5.46,5.46,0,0,0,6.5,12Z\"/>\n",
              "  </svg>\n",
              "    </button>\n",
              "    <script>\n",
              "      (() => {\n",
              "      const buttonEl =\n",
              "        document.querySelector('#id_77b16595-e35e-4da5-9743-8e9502481ed5 button.colab-df-generate');\n",
              "      buttonEl.style.display =\n",
              "        google.colab.kernel.accessAllowed ? 'block' : 'none';\n",
              "\n",
              "      buttonEl.onclick = () => {\n",
              "        google.colab.notebook.generateWithVariable('df_final');\n",
              "      }\n",
              "      })();\n",
              "    </script>\n",
              "  </div>\n",
              "\n",
              "    </div>\n",
              "  </div>\n"
            ],
            "application/vnd.google.colaboratory.intrinsic+json": {
              "type": "dataframe",
              "variable_name": "df_final",
              "summary": "{\n  \"name\": \"df_final\",\n  \"rows\": 4,\n  \"fields\": [\n    {\n      \"column\": \"Index\",\n      \"properties\": {\n        \"dtype\": \"string\",\n        \"num_unique_values\": 4,\n        \"samples\": [\n          \"D2\",\n          \"D4\",\n          \"D1\"\n        ],\n        \"semantic_type\": \"\",\n        \"description\": \"\"\n      }\n    },\n    {\n      \"column\": \"Output\",\n      \"properties\": {\n        \"dtype\": \"number\",\n        \"std\": 0,\n        \"min\": 0,\n        \"max\": 1,\n        \"num_unique_values\": 2,\n        \"samples\": [\n          0,\n          1\n        ],\n        \"semantic_type\": \"\",\n        \"description\": \"\"\n      }\n    },\n    {\n      \"column\": \"beast follow\",\n      \"properties\": {\n        \"dtype\": \"number\",\n        \"std\": 0,\n        \"min\": 0,\n        \"max\": 1,\n        \"num_unique_values\": 2,\n        \"samples\": [\n          1,\n          0\n        ],\n        \"semantic_type\": \"\",\n        \"description\": \"\"\n      }\n    },\n    {\n      \"column\": \"beast write\",\n      \"properties\": {\n        \"dtype\": \"number\",\n        \"std\": 0,\n        \"min\": 0,\n        \"max\": 1,\n        \"num_unique_values\": 2,\n        \"samples\": [\n          1,\n          0\n        ],\n        \"semantic_type\": \"\",\n        \"description\": \"\"\n      }\n    },\n    {\n      \"column\": \"follow mr\",\n      \"properties\": {\n        \"dtype\": \"number\",\n        \"std\": 0,\n        \"min\": 0,\n        \"max\": 1,\n        \"num_unique_values\": 2,\n        \"samples\": [\n          0,\n          1\n        ],\n        \"semantic_type\": \"\",\n        \"description\": \"\"\n      }\n    },\n    {\n      \"column\": \"mr beast\",\n      \"properties\": {\n        \"dtype\": \"number\",\n        \"std\": 0,\n        \"min\": 0,\n        \"max\": 2,\n        \"num_unique_values\": 3,\n        \"samples\": [\n          1,\n          2\n        ],\n        \"semantic_type\": \"\",\n        \"description\": \"\"\n      }\n    },\n    {\n      \"column\": \"people follow\",\n      \"properties\": {\n        \"dtype\": \"number\",\n        \"std\": 0,\n        \"min\": 0,\n        \"max\": 1,\n        \"num_unique_values\": 2,\n        \"samples\": [\n          0,\n          1\n        ],\n        \"semantic_type\": \"\",\n        \"description\": \"\"\n      }\n    },\n    {\n      \"column\": \"people write\",\n      \"properties\": {\n        \"dtype\": \"number\",\n        \"std\": 0,\n        \"min\": 0,\n        \"max\": 1,\n        \"num_unique_values\": 2,\n        \"samples\": [\n          1,\n          0\n        ],\n        \"semantic_type\": \"\",\n        \"description\": \"\"\n      }\n    },\n    {\n      \"column\": \"write comment\",\n      \"properties\": {\n        \"dtype\": \"number\",\n        \"std\": 0,\n        \"min\": 0,\n        \"max\": 1,\n        \"num_unique_values\": 2,\n        \"samples\": [\n          1,\n          0\n        ],\n        \"semantic_type\": \"\",\n        \"description\": \"\"\n      }\n    }\n  ]\n}"
            }
          },
          "metadata": {},
          "execution_count": 52
        }
      ]
    },
    {
      "cell_type": "markdown",
      "source": [
        "\n",
        "<a id=\"1\"></a>\n",
        "# <div style=\"text-align:center; border-radius:15px 50px; padding:7px; color:white; margin:0; font-size:110%; font-family:Pacifico; background-color:#0f7a7a; overflow:hidden\"><b> TF-IDF (Term Frequency-Inverse Document Frequency)\n",
        "</b></div>"
      ],
      "metadata": {
        "id": "GH7_cF22nKmE"
      }
    },
    {
      "cell_type": "markdown",
      "source": [
        "# TD-IDF\n",
        "\n",
        "TF-IDF addresses the limitation of equal weighting of terms in Bag of Words by giving higher weights to terms that are rare in the corpus but frequent in a particular document. This approach is crucial in capturing the importance of terms in documents for tasks like information retrieval and text mining.\n",
        "\n",
        "### Term Frequency (TF)\n",
        "\n",
        "Term Frequency (TF) measures how frequently a term appears in a document relative to the total number of terms in that document. It is computed as:\n",
        "\n",
        "$$\n",
        "\\text{TF}(t, d) = \\frac{\\text{Number of times term } t \\text{ appears in document } d}{\\text{Total number of terms in document } d}\n",
        "$$\n",
        "\n",
        "#### Example:\n",
        "\n",
        "Consider a document: \"The cat sat on the mat.\"\n",
        "\n",
        "- Term Frequency for each term:\n",
        "  - TF(\"the\") = 2/6 = 1/3\n",
        "  - TF(\"cat\") = 1/6\n",
        "  - TF(\"sat\") = 1/6\n",
        "  - TF(\"on\") = 1/6\n",
        "  - TF(\"mat\") = 1/6\n",
        "\n",
        "### Inverse Document Frequency (IDF)\n",
        "\n",
        "Inverse Document Frequency (IDF) measures how important a term is across all documents in a corpus. It is calculated as:\n",
        "\n",
        "$$\n",
        "\\text{IDF}(t) = \\log\\left(\\frac{\\text{Total number of documents}}{\\text{Number of documents containing term } t}\\right)\n",
        "$$\n",
        "\n",
        "It quantifies the rarity of a term across documents, giving higher weights to terms that are less frequent across all documents.\n",
        "\n",
        "#### Example:\n",
        "\n",
        "Consider a corpus containing 100 documents and the term \"cat\" appears in 10 of them:\n",
        "\n",
        "- IDF(\"cat\") = log(100/10) = log(10) ≈ 2.3026\n",
        "\n",
        "### TF-IDF Score\n",
        "\n",
        "TF-IDF score for a term in a document is the product of its Term Frequency and Inverse Document Frequency:\n",
        "\n",
        "$$\n",
        "\\text{TF-IDF}(t, d) = \\text{TF}(t, d) \\times \\text{IDF}(t)\n",
        "$$\n",
        "\n",
        "### Example Calculation:\n",
        "\n",
        "Let's calculate TF-IDF for the given example dataset:\n",
        "\n",
        "#### Step 1: Calculate TF\n",
        "\n",
        "Assuming binary counting for simplicity:\n",
        "\n",
        "| Index | Text                     | Terms               | TF                         |\n",
        "|-------|--------------------------|---------------------|----------------------------|\n",
        "| D1    | People Follow Mr.Beast   | people, follow, mr.beast | 1/3 for each term           |\n",
        "| D2    | Mr.Beast Follow Mr.Beast | mr.beast, follow    | 1/2 for mr.beast, 1/2 for follow |\n",
        "| D3    | People Write comment     | people, write, comment | 1/3 for each term           |\n",
        "| D4    | Mr.Beast Write comment   | mr.beast, write, comment | 1/3 for mr.beast, 1/3 for write, 1/3 for comment |\n",
        "\n",
        "#### Step 2: Calculate IDF\n",
        "\n",
        "Assuming a total of 4 documents in the corpus:\n",
        "\n",
        "| Term      | IDF Formula                         | IDF (assuming log base 2) |\n",
        "|-----------|-------------------------------------|--------------------------|\n",
        "| people    | log(4/2)    | log(2) = 1          |\n",
        "| follow    | log(4/3)    | log(4/3)=0.415      |\n",
        "| Mr.Beast  | log(4/3)    | log(4/3)=0.415      |\n",
        "\n",
        "\n",
        "### Advantages and Disadvantages\n",
        "\n",
        "**Advantages**:\n",
        "- **Information Retrieval**: Used in search engines like Google to rank documents based on relevance.\n",
        "- **Term Importance**: Highlights terms that are distinct or important in a document compared to others.\n",
        "\n",
        "**Disadvantages**:\n",
        "- **Sparcity**: Sparse vectors can lead to challenges in handling large vocabularies.\n",
        "- **Out-of-Bag Words**: Terms not present in the training corpus can lead to zero IDF and ineffective representation.\n",
        "- **Semantic Relationship**: Does not capture semantic relationships between words (e.g., \"beautiful\" and \"gorgeous\" may have similar TF-IDF despite different meanings).\n",
        "\n",
        "In practical implementations such as in sklearn, a smoothing term `(1+TFIDF)` is often added to avoid division by zero and ensure non-zero IDF values even for terms that appear in all documents.\n"
      ],
      "metadata": {
        "id": "qx9wzSrWnKmE"
      }
    },
    {
      "cell_type": "code",
      "source": [
        "from sklearn.feature_extraction.text import TfidfVectorizer\n",
        "\n",
        "data = {\n",
        "    'Index': ['D1', 'D2', 'D3', 'D4'],\n",
        "    'Text': [\n",
        "        'People Follow Mr.Beast',\n",
        "        'Mr.Beast Follow Mr.Beast',\n",
        "        'People Write comment',\n",
        "        'Mr.Beast Write comment'\n",
        "    ],\n",
        "    'Output': [1, 1, 0, 0]\n",
        "}\n",
        "\n",
        "df = pd.DataFrame(data)\n",
        "texts = df['Text']\n",
        "labels = df['Output']"
      ],
      "metadata": {
        "execution": {
          "iopub.status.busy": "2024-07-15T12:25:51.459281Z",
          "iopub.execute_input": "2024-07-15T12:25:51.459573Z",
          "iopub.status.idle": "2024-07-15T12:25:51.471716Z",
          "shell.execute_reply.started": "2024-07-15T12:25:51.459551Z",
          "shell.execute_reply": "2024-07-15T12:25:51.47095Z"
        },
        "trusted": true,
        "id": "NQHLzJQFnKmE"
      },
      "execution_count": null,
      "outputs": []
    },
    {
      "cell_type": "code",
      "source": [
        "tfidf_vectorizer = TfidfVectorizer()\n",
        "\n",
        "X_tfidf = tfidf_vectorizer.fit_transform(texts)\n",
        "\n",
        "feature_names = tfidf_vectorizer.get_feature_names_out()\n",
        "\n",
        "df_tfidf = pd.DataFrame(X_tfidf.toarray(), columns=feature_names)\n",
        "df_final = pd.concat([df[['Index', 'Output']], df_tfidf], axis=1)\n",
        "\n",
        "print(\"Final DataFrame with TF-IDF:\")\n",
        "df_final"
      ],
      "metadata": {
        "execution": {
          "iopub.status.busy": "2024-07-15T12:25:51.483877Z",
          "iopub.execute_input": "2024-07-15T12:25:51.484127Z",
          "iopub.status.idle": "2024-07-15T12:25:51.506005Z",
          "shell.execute_reply.started": "2024-07-15T12:25:51.484106Z",
          "shell.execute_reply": "2024-07-15T12:25:51.505055Z"
        },
        "trusted": true,
        "colab": {
          "base_uri": "https://localhost:8080/",
          "height": 192
        },
        "id": "yn9Wxl_SnKmE",
        "outputId": "032075bb-1cae-4442-e9cd-8388cfe7530d"
      },
      "execution_count": null,
      "outputs": [
        {
          "output_type": "stream",
          "name": "stdout",
          "text": [
            "Final DataFrame with TF-IDF:\n"
          ]
        },
        {
          "output_type": "execute_result",
          "data": {
            "text/plain": [
              "  Index  Output     beast   comment    follow        mr    people     write\n",
              "0    D1       1  0.444931  0.000000  0.549578  0.444931  0.549578  0.000000\n",
              "1    D2       1  0.648009  0.000000  0.400210  0.648009  0.000000  0.000000\n",
              "2    D3       0  0.000000  0.577350  0.000000  0.000000  0.577350  0.577350\n",
              "3    D4       0  0.444931  0.549578  0.000000  0.444931  0.000000  0.549578"
            ],
            "text/html": [
              "\n",
              "  <div id=\"df-9edc89e4-e9e7-4205-85f7-4f190afa480a\" class=\"colab-df-container\">\n",
              "    <div>\n",
              "<style scoped>\n",
              "    .dataframe tbody tr th:only-of-type {\n",
              "        vertical-align: middle;\n",
              "    }\n",
              "\n",
              "    .dataframe tbody tr th {\n",
              "        vertical-align: top;\n",
              "    }\n",
              "\n",
              "    .dataframe thead th {\n",
              "        text-align: right;\n",
              "    }\n",
              "</style>\n",
              "<table border=\"1\" class=\"dataframe\">\n",
              "  <thead>\n",
              "    <tr style=\"text-align: right;\">\n",
              "      <th></th>\n",
              "      <th>Index</th>\n",
              "      <th>Output</th>\n",
              "      <th>beast</th>\n",
              "      <th>comment</th>\n",
              "      <th>follow</th>\n",
              "      <th>mr</th>\n",
              "      <th>people</th>\n",
              "      <th>write</th>\n",
              "    </tr>\n",
              "  </thead>\n",
              "  <tbody>\n",
              "    <tr>\n",
              "      <th>0</th>\n",
              "      <td>D1</td>\n",
              "      <td>1</td>\n",
              "      <td>0.444931</td>\n",
              "      <td>0.000000</td>\n",
              "      <td>0.549578</td>\n",
              "      <td>0.444931</td>\n",
              "      <td>0.549578</td>\n",
              "      <td>0.000000</td>\n",
              "    </tr>\n",
              "    <tr>\n",
              "      <th>1</th>\n",
              "      <td>D2</td>\n",
              "      <td>1</td>\n",
              "      <td>0.648009</td>\n",
              "      <td>0.000000</td>\n",
              "      <td>0.400210</td>\n",
              "      <td>0.648009</td>\n",
              "      <td>0.000000</td>\n",
              "      <td>0.000000</td>\n",
              "    </tr>\n",
              "    <tr>\n",
              "      <th>2</th>\n",
              "      <td>D3</td>\n",
              "      <td>0</td>\n",
              "      <td>0.000000</td>\n",
              "      <td>0.577350</td>\n",
              "      <td>0.000000</td>\n",
              "      <td>0.000000</td>\n",
              "      <td>0.577350</td>\n",
              "      <td>0.577350</td>\n",
              "    </tr>\n",
              "    <tr>\n",
              "      <th>3</th>\n",
              "      <td>D4</td>\n",
              "      <td>0</td>\n",
              "      <td>0.444931</td>\n",
              "      <td>0.549578</td>\n",
              "      <td>0.000000</td>\n",
              "      <td>0.444931</td>\n",
              "      <td>0.000000</td>\n",
              "      <td>0.549578</td>\n",
              "    </tr>\n",
              "  </tbody>\n",
              "</table>\n",
              "</div>\n",
              "    <div class=\"colab-df-buttons\">\n",
              "\n",
              "  <div class=\"colab-df-container\">\n",
              "    <button class=\"colab-df-convert\" onclick=\"convertToInteractive('df-9edc89e4-e9e7-4205-85f7-4f190afa480a')\"\n",
              "            title=\"Convert this dataframe to an interactive table.\"\n",
              "            style=\"display:none;\">\n",
              "\n",
              "  <svg xmlns=\"http://www.w3.org/2000/svg\" height=\"24px\" viewBox=\"0 -960 960 960\">\n",
              "    <path d=\"M120-120v-720h720v720H120Zm60-500h600v-160H180v160Zm220 220h160v-160H400v160Zm0 220h160v-160H400v160ZM180-400h160v-160H180v160Zm440 0h160v-160H620v160ZM180-180h160v-160H180v160Zm440 0h160v-160H620v160Z\"/>\n",
              "  </svg>\n",
              "    </button>\n",
              "\n",
              "  <style>\n",
              "    .colab-df-container {\n",
              "      display:flex;\n",
              "      gap: 12px;\n",
              "    }\n",
              "\n",
              "    .colab-df-convert {\n",
              "      background-color: #E8F0FE;\n",
              "      border: none;\n",
              "      border-radius: 50%;\n",
              "      cursor: pointer;\n",
              "      display: none;\n",
              "      fill: #1967D2;\n",
              "      height: 32px;\n",
              "      padding: 0 0 0 0;\n",
              "      width: 32px;\n",
              "    }\n",
              "\n",
              "    .colab-df-convert:hover {\n",
              "      background-color: #E2EBFA;\n",
              "      box-shadow: 0px 1px 2px rgba(60, 64, 67, 0.3), 0px 1px 3px 1px rgba(60, 64, 67, 0.15);\n",
              "      fill: #174EA6;\n",
              "    }\n",
              "\n",
              "    .colab-df-buttons div {\n",
              "      margin-bottom: 4px;\n",
              "    }\n",
              "\n",
              "    [theme=dark] .colab-df-convert {\n",
              "      background-color: #3B4455;\n",
              "      fill: #D2E3FC;\n",
              "    }\n",
              "\n",
              "    [theme=dark] .colab-df-convert:hover {\n",
              "      background-color: #434B5C;\n",
              "      box-shadow: 0px 1px 3px 1px rgba(0, 0, 0, 0.15);\n",
              "      filter: drop-shadow(0px 1px 2px rgba(0, 0, 0, 0.3));\n",
              "      fill: #FFFFFF;\n",
              "    }\n",
              "  </style>\n",
              "\n",
              "    <script>\n",
              "      const buttonEl =\n",
              "        document.querySelector('#df-9edc89e4-e9e7-4205-85f7-4f190afa480a button.colab-df-convert');\n",
              "      buttonEl.style.display =\n",
              "        google.colab.kernel.accessAllowed ? 'block' : 'none';\n",
              "\n",
              "      async function convertToInteractive(key) {\n",
              "        const element = document.querySelector('#df-9edc89e4-e9e7-4205-85f7-4f190afa480a');\n",
              "        const dataTable =\n",
              "          await google.colab.kernel.invokeFunction('convertToInteractive',\n",
              "                                                    [key], {});\n",
              "        if (!dataTable) return;\n",
              "\n",
              "        const docLinkHtml = 'Like what you see? Visit the ' +\n",
              "          '<a target=\"_blank\" href=https://colab.research.google.com/notebooks/data_table.ipynb>data table notebook</a>'\n",
              "          + ' to learn more about interactive tables.';\n",
              "        element.innerHTML = '';\n",
              "        dataTable['output_type'] = 'display_data';\n",
              "        await google.colab.output.renderOutput(dataTable, element);\n",
              "        const docLink = document.createElement('div');\n",
              "        docLink.innerHTML = docLinkHtml;\n",
              "        element.appendChild(docLink);\n",
              "      }\n",
              "    </script>\n",
              "  </div>\n",
              "\n",
              "\n",
              "<div id=\"df-fb94d911-3673-4019-ae4b-7cb640287574\">\n",
              "  <button class=\"colab-df-quickchart\" onclick=\"quickchart('df-fb94d911-3673-4019-ae4b-7cb640287574')\"\n",
              "            title=\"Suggest charts\"\n",
              "            style=\"display:none;\">\n",
              "\n",
              "<svg xmlns=\"http://www.w3.org/2000/svg\" height=\"24px\"viewBox=\"0 0 24 24\"\n",
              "     width=\"24px\">\n",
              "    <g>\n",
              "        <path d=\"M19 3H5c-1.1 0-2 .9-2 2v14c0 1.1.9 2 2 2h14c1.1 0 2-.9 2-2V5c0-1.1-.9-2-2-2zM9 17H7v-7h2v7zm4 0h-2V7h2v10zm4 0h-2v-4h2v4z\"/>\n",
              "    </g>\n",
              "</svg>\n",
              "  </button>\n",
              "\n",
              "<style>\n",
              "  .colab-df-quickchart {\n",
              "      --bg-color: #E8F0FE;\n",
              "      --fill-color: #1967D2;\n",
              "      --hover-bg-color: #E2EBFA;\n",
              "      --hover-fill-color: #174EA6;\n",
              "      --disabled-fill-color: #AAA;\n",
              "      --disabled-bg-color: #DDD;\n",
              "  }\n",
              "\n",
              "  [theme=dark] .colab-df-quickchart {\n",
              "      --bg-color: #3B4455;\n",
              "      --fill-color: #D2E3FC;\n",
              "      --hover-bg-color: #434B5C;\n",
              "      --hover-fill-color: #FFFFFF;\n",
              "      --disabled-bg-color: #3B4455;\n",
              "      --disabled-fill-color: #666;\n",
              "  }\n",
              "\n",
              "  .colab-df-quickchart {\n",
              "    background-color: var(--bg-color);\n",
              "    border: none;\n",
              "    border-radius: 50%;\n",
              "    cursor: pointer;\n",
              "    display: none;\n",
              "    fill: var(--fill-color);\n",
              "    height: 32px;\n",
              "    padding: 0;\n",
              "    width: 32px;\n",
              "  }\n",
              "\n",
              "  .colab-df-quickchart:hover {\n",
              "    background-color: var(--hover-bg-color);\n",
              "    box-shadow: 0 1px 2px rgba(60, 64, 67, 0.3), 0 1px 3px 1px rgba(60, 64, 67, 0.15);\n",
              "    fill: var(--button-hover-fill-color);\n",
              "  }\n",
              "\n",
              "  .colab-df-quickchart-complete:disabled,\n",
              "  .colab-df-quickchart-complete:disabled:hover {\n",
              "    background-color: var(--disabled-bg-color);\n",
              "    fill: var(--disabled-fill-color);\n",
              "    box-shadow: none;\n",
              "  }\n",
              "\n",
              "  .colab-df-spinner {\n",
              "    border: 2px solid var(--fill-color);\n",
              "    border-color: transparent;\n",
              "    border-bottom-color: var(--fill-color);\n",
              "    animation:\n",
              "      spin 1s steps(1) infinite;\n",
              "  }\n",
              "\n",
              "  @keyframes spin {\n",
              "    0% {\n",
              "      border-color: transparent;\n",
              "      border-bottom-color: var(--fill-color);\n",
              "      border-left-color: var(--fill-color);\n",
              "    }\n",
              "    20% {\n",
              "      border-color: transparent;\n",
              "      border-left-color: var(--fill-color);\n",
              "      border-top-color: var(--fill-color);\n",
              "    }\n",
              "    30% {\n",
              "      border-color: transparent;\n",
              "      border-left-color: var(--fill-color);\n",
              "      border-top-color: var(--fill-color);\n",
              "      border-right-color: var(--fill-color);\n",
              "    }\n",
              "    40% {\n",
              "      border-color: transparent;\n",
              "      border-right-color: var(--fill-color);\n",
              "      border-top-color: var(--fill-color);\n",
              "    }\n",
              "    60% {\n",
              "      border-color: transparent;\n",
              "      border-right-color: var(--fill-color);\n",
              "    }\n",
              "    80% {\n",
              "      border-color: transparent;\n",
              "      border-right-color: var(--fill-color);\n",
              "      border-bottom-color: var(--fill-color);\n",
              "    }\n",
              "    90% {\n",
              "      border-color: transparent;\n",
              "      border-bottom-color: var(--fill-color);\n",
              "    }\n",
              "  }\n",
              "</style>\n",
              "\n",
              "  <script>\n",
              "    async function quickchart(key) {\n",
              "      const quickchartButtonEl =\n",
              "        document.querySelector('#' + key + ' button');\n",
              "      quickchartButtonEl.disabled = true;  // To prevent multiple clicks.\n",
              "      quickchartButtonEl.classList.add('colab-df-spinner');\n",
              "      try {\n",
              "        const charts = await google.colab.kernel.invokeFunction(\n",
              "            'suggestCharts', [key], {});\n",
              "      } catch (error) {\n",
              "        console.error('Error during call to suggestCharts:', error);\n",
              "      }\n",
              "      quickchartButtonEl.classList.remove('colab-df-spinner');\n",
              "      quickchartButtonEl.classList.add('colab-df-quickchart-complete');\n",
              "    }\n",
              "    (() => {\n",
              "      let quickchartButtonEl =\n",
              "        document.querySelector('#df-fb94d911-3673-4019-ae4b-7cb640287574 button');\n",
              "      quickchartButtonEl.style.display =\n",
              "        google.colab.kernel.accessAllowed ? 'block' : 'none';\n",
              "    })();\n",
              "  </script>\n",
              "</div>\n",
              "\n",
              "  <div id=\"id_968c4849-da45-4b52-a421-e83c8711f71b\">\n",
              "    <style>\n",
              "      .colab-df-generate {\n",
              "        background-color: #E8F0FE;\n",
              "        border: none;\n",
              "        border-radius: 50%;\n",
              "        cursor: pointer;\n",
              "        display: none;\n",
              "        fill: #1967D2;\n",
              "        height: 32px;\n",
              "        padding: 0 0 0 0;\n",
              "        width: 32px;\n",
              "      }\n",
              "\n",
              "      .colab-df-generate:hover {\n",
              "        background-color: #E2EBFA;\n",
              "        box-shadow: 0px 1px 2px rgba(60, 64, 67, 0.3), 0px 1px 3px 1px rgba(60, 64, 67, 0.15);\n",
              "        fill: #174EA6;\n",
              "      }\n",
              "\n",
              "      [theme=dark] .colab-df-generate {\n",
              "        background-color: #3B4455;\n",
              "        fill: #D2E3FC;\n",
              "      }\n",
              "\n",
              "      [theme=dark] .colab-df-generate:hover {\n",
              "        background-color: #434B5C;\n",
              "        box-shadow: 0px 1px 3px 1px rgba(0, 0, 0, 0.15);\n",
              "        filter: drop-shadow(0px 1px 2px rgba(0, 0, 0, 0.3));\n",
              "        fill: #FFFFFF;\n",
              "      }\n",
              "    </style>\n",
              "    <button class=\"colab-df-generate\" onclick=\"generateWithVariable('df_final')\"\n",
              "            title=\"Generate code using this dataframe.\"\n",
              "            style=\"display:none;\">\n",
              "\n",
              "  <svg xmlns=\"http://www.w3.org/2000/svg\" height=\"24px\"viewBox=\"0 0 24 24\"\n",
              "       width=\"24px\">\n",
              "    <path d=\"M7,19H8.4L18.45,9,17,7.55,7,17.6ZM5,21V16.75L18.45,3.32a2,2,0,0,1,2.83,0l1.4,1.43a1.91,1.91,0,0,1,.58,1.4,1.91,1.91,0,0,1-.58,1.4L9.25,21ZM18.45,9,17,7.55Zm-12,3A5.31,5.31,0,0,0,4.9,8.1,5.31,5.31,0,0,0,1,6.5,5.31,5.31,0,0,0,4.9,4.9,5.31,5.31,0,0,0,6.5,1,5.31,5.31,0,0,0,8.1,4.9,5.31,5.31,0,0,0,12,6.5,5.46,5.46,0,0,0,6.5,12Z\"/>\n",
              "  </svg>\n",
              "    </button>\n",
              "    <script>\n",
              "      (() => {\n",
              "      const buttonEl =\n",
              "        document.querySelector('#id_968c4849-da45-4b52-a421-e83c8711f71b button.colab-df-generate');\n",
              "      buttonEl.style.display =\n",
              "        google.colab.kernel.accessAllowed ? 'block' : 'none';\n",
              "\n",
              "      buttonEl.onclick = () => {\n",
              "        google.colab.notebook.generateWithVariable('df_final');\n",
              "      }\n",
              "      })();\n",
              "    </script>\n",
              "  </div>\n",
              "\n",
              "    </div>\n",
              "  </div>\n"
            ],
            "application/vnd.google.colaboratory.intrinsic+json": {
              "type": "dataframe",
              "variable_name": "df_final",
              "summary": "{\n  \"name\": \"df_final\",\n  \"rows\": 4,\n  \"fields\": [\n    {\n      \"column\": \"Index\",\n      \"properties\": {\n        \"dtype\": \"string\",\n        \"num_unique_values\": 4,\n        \"samples\": [\n          \"D2\",\n          \"D4\",\n          \"D1\"\n        ],\n        \"semantic_type\": \"\",\n        \"description\": \"\"\n      }\n    },\n    {\n      \"column\": \"Output\",\n      \"properties\": {\n        \"dtype\": \"number\",\n        \"std\": 0,\n        \"min\": 0,\n        \"max\": 1,\n        \"num_unique_values\": 2,\n        \"samples\": [\n          0,\n          1\n        ],\n        \"semantic_type\": \"\",\n        \"description\": \"\"\n      }\n    },\n    {\n      \"column\": \"beast\",\n      \"properties\": {\n        \"dtype\": \"number\",\n        \"std\": 0.2736062655723713,\n        \"min\": 0.0,\n        \"max\": 0.6480091991189469,\n        \"num_unique_values\": 3,\n        \"samples\": [\n          0.4449310425319985,\n          0.6480091991189469\n        ],\n        \"semantic_type\": \"\",\n        \"description\": \"\"\n      }\n    },\n    {\n      \"column\": \"comment\",\n      \"properties\": {\n        \"dtype\": \"number\",\n        \"std\": 0.3255137837215106,\n        \"min\": 0.0,\n        \"max\": 0.5773502691896257,\n        \"num_unique_values\": 3,\n        \"samples\": [\n          0.0,\n          0.5773502691896257\n        ],\n        \"semantic_type\": \"\",\n        \"description\": \"\"\n      }\n    },\n    {\n      \"column\": \"follow\",\n      \"properties\": {\n        \"dtype\": \"number\",\n        \"std\": 0.2808795574896625,\n        \"min\": 0.0,\n        \"max\": 0.5495783541874525,\n        \"num_unique_values\": 3,\n        \"samples\": [\n          0.5495783541874525,\n          0.4002101394448194\n        ],\n        \"semantic_type\": \"\",\n        \"description\": \"\"\n      }\n    },\n    {\n      \"column\": \"mr\",\n      \"properties\": {\n        \"dtype\": \"number\",\n        \"std\": 0.2736062655723713,\n        \"min\": 0.0,\n        \"max\": 0.6480091991189469,\n        \"num_unique_values\": 3,\n        \"samples\": [\n          0.4449310425319985,\n          0.6480091991189469\n        ],\n        \"semantic_type\": \"\",\n        \"description\": \"\"\n      }\n    },\n    {\n      \"column\": \"people\",\n      \"properties\": {\n        \"dtype\": \"number\",\n        \"std\": 0.3255137837215106,\n        \"min\": 0.0,\n        \"max\": 0.5773502691896257,\n        \"num_unique_values\": 3,\n        \"samples\": [\n          0.5495783541874525,\n          0.0\n        ],\n        \"semantic_type\": \"\",\n        \"description\": \"\"\n      }\n    },\n    {\n      \"column\": \"write\",\n      \"properties\": {\n        \"dtype\": \"number\",\n        \"std\": 0.3255137837215106,\n        \"min\": 0.0,\n        \"max\": 0.5773502691896257,\n        \"num_unique_values\": 3,\n        \"samples\": [\n          0.0,\n          0.5773502691896257\n        ],\n        \"semantic_type\": \"\",\n        \"description\": \"\"\n      }\n    }\n  ]\n}"
            }
          },
          "metadata": {},
          "execution_count": 54
        }
      ]
    },
    {
      "cell_type": "markdown",
      "source": [
        "<a id=\"1\"></a>\n",
        "# <div style=\"text-align:center; border-radius:15px 50px; padding:7px; color:white; margin:0; font-size:110%; font-family:Pacifico; background-color:#0f7a7a; overflow:hidden\"><b> WordNet\n",
        "</b></div>"
      ],
      "metadata": {
        "id": "XTDsFn2nnKmE"
      }
    },
    {
      "cell_type": "markdown",
      "source": [
        "# WordNet\n",
        "\n",
        "\n",
        "\n",
        "##### WordNet is an early attempt to store word meanings, was essentially a thesaurus that cataloged synonym sets and hierarchical relationships like hypernyms (a \"is a\" relationship). However, it faced several limitations: it struggled to effectively capture nuanced meanings, failed to incorporate evolving word usages, and was challenging to maintain with current updates. It relied on distributional semantics, which defines a word's meaning based on words frequently found nearby. In contrast, word embeddings, which followed WordNet, now underpin the majority of modern NLP tasks, offering more dynamic and effective representations of language."
      ],
      "metadata": {
        "id": "P-i1Ssz8nKmF"
      }
    },
    {
      "cell_type": "markdown",
      "source": [
        "\n",
        "<a id=\"1\"></a>\n",
        "# <div style=\"text-align:center; border-radius:15px 50px; padding:7px; color:white; margin:0; font-size:110%; font-family:Pacifico; background-color:#0f7a7a; overflow:hidden\"><b> Word2Vec: CBOW and Skipgram\n",
        "</b></div>"
      ],
      "metadata": {
        "id": "xKTS0eSznKmF"
      }
    },
    {
      "cell_type": "markdown",
      "source": [
        "# Word2Vec: CBOW and Skipgram\n",
        "\n",
        "***Word2Vec algorithm showed that we can use a vector (a list of numbers) to properly represent words in a way that captures semantic or meaning-related relationships (e.g. the ability to tell if words are similar, or opposites, or that a pair of words like “Stockholm” and “Sweden” have the same relationship between them as “Cairo” and “Egypt” have between them) as well as syntactic, or grammar-based, relationships (e.g. the relationship between “had” and “has” is the same as that between “was” and “is”).***\n",
        "\n",
        "Before delving into Word2Vec, let's first understand word embedding in Natural Language Processing (NLP). Word embedding refers to the representation of words as real-valued vectors in a continuous vector space, where words with similar meanings are expected to have closer vector representations.\n",
        "\n",
        "### Types of Word Embeddings\n",
        "\n",
        "There are two main types of word embeddings:\n",
        "\n",
        "- **Frequency-based Embeddings**: Such as Bag of Words, TF-IDF, and GloVe (Global Vectors for Word Representation).\n",
        "- **Prediction-based Embeddings**: Such as Word2Vec.\n",
        "\n",
        "### Word2Vec\n",
        "\n",
        "Word2Vec is a popular method for generating word embeddings that capture semantic meaning. It transforms words into low-dimensional dense vectors, which are more efficient and meaningful compared to sparse representations.\n",
        "\n",
        "### Key Features of Word2Vec:\n",
        "\n",
        "1. **Semantic Meaning**: Word2Vec captures semantic relationships between words based on their usage contexts.\n",
        "\n",
        "2. **Dense Vectors**: Unlike sparse representations like one-hot encoding, Word2Vec provides dense vector representations, making them computationally more efficient.\n",
        "\n",
        "3. **Pretrained Models**: Pretrained Word2Vec models, such as those trained on large datasets like Google News (with 3 billion unique words), offer embeddings for millions of words in a 300-dimensional vector space.\n",
        "\n",
        "### Intuitive Understanding:\n",
        "\n",
        "Imagine a simplified example where we reduce dimensions to 5 for clarity:\n",
        "\n",
        "|     | King | Queen | Man | Woman | Monkey |\n",
        "|-----|------|-------|-----|-------|--------|\n",
        "| Gender | 1 | 0 | 1 | 0 | 1 |\n",
        "| Wealth | 1 | 1 | 0.3 | 0.3 | 0 |\n",
        "| Power | 1 | 0.7 | 0.2 | 0.2 | 0 |\n",
        "| Weight | 0.8 | 0.4 | 0.6 | 0.5 | 0.3 |\n",
        "| Speak | 1 | 1 | 1 | 1 | 0 |\n",
        "\n",
        "In this hypothetical example, each row represents a feature (such as gender, wealth, power, etc.), and each column represents a word (King, Queen, Man, etc.). The values in the table indicate the extent to which each word possesses that feature.\n",
        "\n",
        "### Challenges and Solutions:\n",
        "\n",
        "- **Vocabulary Size**: Handling a large vocabulary (e.g., 3 million words in Google News dataset) requires automated methods like neural networks for generating embeddings.\n",
        "- **Neural Network Approach**: Word2Vec utilizes neural networks to learn embeddings, focusing on predicting words based on their surrounding context in sentences.\n",
        "\n",
        "### Underlying Assumption:\n",
        "\n",
        "Word2Vec operates on the assumption that words appearing in similar contexts share similar meanings and should therefore have similar vector representations in the model.\n",
        "\n",
        "Word2Vec has revolutionized NLP by providing efficient and meaningful word representations that enhance various tasks such as text classification, sentiment analysis, and machine translation. Its ability to capture semantic relationships has made it a cornerstone in modern NLP applications."
      ],
      "metadata": {
        "id": "RfVGGpTznKmF"
      }
    },
    {
      "cell_type": "markdown",
      "source": [
        "\n",
        "<div style=\"padding:10px;color:white;margin:0;font-size:200%;text-align:center;display:fill;border-radius:10px;background-color:#215f95;;overflow:hidden;font-weight:501;font-family:magra\">CBOW (Continuous Bag of Words)</div>\n",
        "\n",
        "#### CBOW is a model used in natural language processing (NLP) to learn word embeddings from a corpus of text. It aims to predict the target word (center word) based on its surrounding context words. Let's delve into how CBOW works and its applications.\n",
        "\n",
        "### Understanding CBOW\n",
        "\n",
        "CBOW operates by predicting a target word given its context words. It treats this prediction task as a supervised learning problem, where the input is the context words and the output is the target word.\n",
        "\n",
        "### Example Scenario\n",
        "\n",
        "Consider the following text snippet and let's select a window size of 3 for simplicity:\n",
        "\n",
        "**Text:**\n",
        "\"Use kaggle for data science\"\n",
        "\n",
        "For a window size of 3, we generate training pairs:\n",
        "\n",
        "1. Window 1: Context words = [\"Use\", \"for\"], Target word = \"kaggle\"\n",
        "2. Window 2: Context words = [\"kaggle\", \"data\"], Target word = \"for\"\n",
        "3. Window 3: Context words = [\"for\", \"science\"], Target word = \"data\"\n",
        "\n",
        "### Data Preparation\n",
        "\n",
        "After selecting context and target pairs, we convert the context words into a one-hot encoded vector representation:\n",
        "\n",
        "\n",
        "| Context (X)         | Target (Y) |\n",
        "|---------------------|------------|\n",
        "| `[1 0 0 0 0 0] [0 1 0 0 0 0]` | kaggle     |\n",
        "| `[0 1 0 0 0 0] [0 0 1 0 0 0]` | for        |\n",
        "| `[0 0 1 0 0 0] [0 0 0 1 0 0]` | data       |\n",
        "\n",
        "\n",
        "\n",
        "\n",
        "### Training the Neural Network\n",
        "\n",
        "We feed these pairs into a neural network where the input is the one-hot encoded context vector and the output is the target word. The network learns to predict the target word based on the context words.\n",
        "\n",
        "\n",
        "\n",
        "\n",
        "\n",
        "<div style=\"padding:10px;color:white;margin:0;font-size:200%;text-align:center;display:fill;border-radius:10px;background-color:#215f95;;overflow:hidden;font-weight:501;font-family:magra\">Skipgram</div>\n",
        "\n",
        "\n",
        "\n",
        "#### In contrast to CBOW, the Skipgram model predicts context words from a given target word. It reverses the CBOW approach, aiming to predict the context words surrounding a target word. Skipgram is beneficial when dealing with larger datasets but requires more computational resources compared to CBOW.\n",
        "\n",
        "| Target (Y) | Context (X)                   |\n",
        "|------------|-------------------------------|\n",
        "| kaggle     | `[1 0 0 0 0 0] [0 1 0 0 0 0]`  |\n",
        "| for        | `[0 1 0 0 0 0] [0 0 1 0 0 0]`  |\n",
        "| data       | `[0 0 1 0 0 0] [0 0 0 1 0 0]`  |\n",
        "\n",
        "\n",
        "![image.png](attachment:ed359025-3a1b-44cc-b7cc-a8f65eda0e7c.png)\n",
        "\n",
        "### Improving Word2Vec Performance\n",
        "\n",
        "To enhance Word2Vec performance:\n",
        "- **Increase Training Data**: Use larger datasets to train the model more effectively.\n",
        "- **Increase Vector Dimensions**: Higher-dimensional embeddings capture more semantic nuances but require more computational resources.\n",
        "- **Expand Context Window**: Enlarging the context window captures broader semantic relationships but increases training time.\n",
        "\n",
        "### Conclusion\n",
        "\n",
        "CBOW provides an efficient method for learning word embeddings by predicting a target word from its context. It is suitable for smaller datasets due to its faster training time compared to Skipgram. By optimizing parameters like training data size, vector dimensions, and context window, CBOW can be tailored to specific NLP tasks, enhancing its effectiveness in various applications such as text classification and information retrieval."
      ],
      "metadata": {
        "id": "dExO6ljmnKmF"
      }
    },
    {
      "cell_type": "markdown",
      "source": [
        "\n",
        "<div style=\"padding:10px;color:white;margin:0;font-size:200%;text-align:center;display:fill;border-radius:10px;background-color:#215f95;;overflow:hidden;font-weight:501;font-family:magra\">Word2Vec using pretrained weights on Google news dataset</div>"
      ],
      "metadata": {
        "id": "yDOkdprrnKmG"
      }
    },
    {
      "cell_type": "code",
      "source": [
        "!pip install gensim"
      ],
      "metadata": {
        "execution": {
          "iopub.status.busy": "2024-07-15T12:25:51.506948Z",
          "iopub.execute_input": "2024-07-15T12:25:51.507254Z",
          "iopub.status.idle": "2024-07-15T12:26:03.797777Z",
          "shell.execute_reply.started": "2024-07-15T12:25:51.507188Z",
          "shell.execute_reply": "2024-07-15T12:26:03.796825Z"
        },
        "trusted": true,
        "colab": {
          "base_uri": "https://localhost:8080/"
        },
        "id": "CcqKta_dnKmG",
        "outputId": "467e5943-0d2c-43e6-c793-39a1c05aff06"
      },
      "execution_count": null,
      "outputs": [
        {
          "output_type": "stream",
          "name": "stdout",
          "text": [
            "Requirement already satisfied: gensim in /usr/local/lib/python3.10/dist-packages (4.3.3)\n",
            "Requirement already satisfied: numpy<2.0,>=1.18.5 in /usr/local/lib/python3.10/dist-packages (from gensim) (1.26.4)\n",
            "Requirement already satisfied: scipy<1.14.0,>=1.7.0 in /usr/local/lib/python3.10/dist-packages (from gensim) (1.13.1)\n",
            "Requirement already satisfied: smart-open>=1.8.1 in /usr/local/lib/python3.10/dist-packages (from gensim) (7.0.5)\n",
            "Requirement already satisfied: wrapt in /usr/local/lib/python3.10/dist-packages (from smart-open>=1.8.1->gensim) (1.16.0)\n"
          ]
        }
      ]
    },
    {
      "cell_type": "code",
      "source": [
        "import gensim\n",
        "from gensim.models import Word2Vec,KeyedVectors"
      ],
      "metadata": {
        "execution": {
          "iopub.status.busy": "2024-07-15T12:26:03.799566Z",
          "iopub.execute_input": "2024-07-15T12:26:03.800418Z",
          "iopub.status.idle": "2024-07-15T12:26:18.940895Z",
          "shell.execute_reply.started": "2024-07-15T12:26:03.800373Z",
          "shell.execute_reply": "2024-07-15T12:26:18.940153Z"
        },
        "trusted": true,
        "id": "lnHQbratnKmG"
      },
      "execution_count": null,
      "outputs": []
    },
    {
      "cell_type": "code",
      "source": [
        "import gensim.downloader\n",
        "# Show all available models in gensim-data\n",
        "print(list(gensim.downloader.info()['models'].keys()))"
      ],
      "metadata": {
        "execution": {
          "iopub.status.busy": "2024-07-15T12:26:18.941943Z",
          "iopub.execute_input": "2024-07-15T12:26:18.942472Z",
          "iopub.status.idle": "2024-07-15T12:26:18.996977Z",
          "shell.execute_reply.started": "2024-07-15T12:26:18.942445Z",
          "shell.execute_reply": "2024-07-15T12:26:18.99615Z"
        },
        "trusted": true,
        "colab": {
          "base_uri": "https://localhost:8080/"
        },
        "id": "GF_2LwgZnKmG",
        "outputId": "09dd9555-8824-4063-b6ba-cf3fdafafeae"
      },
      "execution_count": null,
      "outputs": [
        {
          "output_type": "stream",
          "name": "stdout",
          "text": [
            "['fasttext-wiki-news-subwords-300', 'conceptnet-numberbatch-17-06-300', 'word2vec-ruscorpora-300', 'word2vec-google-news-300', 'glove-wiki-gigaword-50', 'glove-wiki-gigaword-100', 'glove-wiki-gigaword-200', 'glove-wiki-gigaword-300', 'glove-twitter-25', 'glove-twitter-50', 'glove-twitter-100', 'glove-twitter-200', '__testing_word2vec-matrix-synopsis']\n"
          ]
        }
      ]
    },
    {
      "cell_type": "code",
      "source": [
        "glove_vectors = gensim.downloader.load('glove-twitter-25')"
      ],
      "metadata": {
        "execution": {
          "iopub.status.busy": "2024-07-15T12:26:18.997943Z",
          "iopub.execute_input": "2024-07-15T12:26:18.998209Z",
          "iopub.status.idle": "2024-07-15T12:27:14.241486Z",
          "shell.execute_reply.started": "2024-07-15T12:26:18.998185Z",
          "shell.execute_reply": "2024-07-15T12:27:14.240523Z"
        },
        "trusted": true,
        "colab": {
          "base_uri": "https://localhost:8080/"
        },
        "id": "LnEwwrA8nKmG",
        "outputId": "41a40589-1635-45ac-bbad-844b22a2f2b5"
      },
      "execution_count": null,
      "outputs": [
        {
          "output_type": "stream",
          "name": "stdout",
          "text": [
            "[==================================================] 100.0% 104.8/104.8MB downloaded\n"
          ]
        }
      ]
    },
    {
      "cell_type": "markdown",
      "source": [
        "##### I used twitter dataset with 25 dimension because simply it is lightweight but to use google news dataset you can change `glove-twitter-25` to `word2vec-google-news-300`"
      ],
      "metadata": {
        "id": "6gRETRXMnKmH"
      }
    },
    {
      "cell_type": "code",
      "source": [
        "glove_vectors['cricket']"
      ],
      "metadata": {
        "execution": {
          "iopub.status.busy": "2024-07-15T12:27:14.242821Z",
          "iopub.execute_input": "2024-07-15T12:27:14.243476Z",
          "iopub.status.idle": "2024-07-15T12:27:14.250605Z",
          "shell.execute_reply.started": "2024-07-15T12:27:14.24343Z",
          "shell.execute_reply": "2024-07-15T12:27:14.249756Z"
        },
        "trusted": true,
        "colab": {
          "base_uri": "https://localhost:8080/"
        },
        "id": "0PJGxRXVnKmH",
        "outputId": "fafdfe2c-fd26-4590-f831-abe8207ed154"
      },
      "execution_count": null,
      "outputs": [
        {
          "output_type": "execute_result",
          "data": {
            "text/plain": [
              "array([ 0.48169 , -0.066325, -0.44454 , -1.7274  , -1.0247  , -0.78493 ,\n",
              "        0.50351 , -0.65595 ,  0.56451 , -0.03321 , -0.14383 ,  0.71937 ,\n",
              "       -2.8215  ,  0.86131 ,  0.79783 , -0.49762 ,  0.044193, -0.24435 ,\n",
              "        0.051926,  1.0575  , -1.1741  ,  0.84042 ,  0.35934 , -1.0306  ,\n",
              "       -0.69021 ], dtype=float32)"
            ]
          },
          "metadata": {},
          "execution_count": 59
        }
      ]
    },
    {
      "cell_type": "code",
      "source": [
        "glove_vectors.most_similar('batman')"
      ],
      "metadata": {
        "execution": {
          "iopub.status.busy": "2024-07-15T12:27:14.251674Z",
          "iopub.execute_input": "2024-07-15T12:27:14.251962Z",
          "iopub.status.idle": "2024-07-15T12:27:14.373055Z",
          "shell.execute_reply.started": "2024-07-15T12:27:14.251939Z",
          "shell.execute_reply": "2024-07-15T12:27:14.371965Z"
        },
        "trusted": true,
        "colab": {
          "base_uri": "https://localhost:8080/"
        },
        "id": "mvZ0RO8ynKmH",
        "outputId": "93bee688-85b4-4ecb-f20c-2a2afb1715e3"
      },
      "execution_count": null,
      "outputs": [
        {
          "output_type": "execute_result",
          "data": {
            "text/plain": [
              "[('thor', 0.9278313517570496),\n",
              " ('potter', 0.9092318415641785),\n",
              " ('superman', 0.9090892672538757),\n",
              " ('spiderman', 0.9049674868583679),\n",
              " ('gangnam', 0.8759423494338989),\n",
              " ('hobbit', 0.8744966387748718),\n",
              " ('transformers', 0.869874119758606),\n",
              " ('bob', 0.8696601390838623),\n",
              " ('barney', 0.8690288662910461),\n",
              " ('disney', 0.8650587201118469)]"
            ]
          },
          "metadata": {},
          "execution_count": 60
        }
      ]
    },
    {
      "cell_type": "code",
      "source": [
        "glove_vectors.most_similar('facebook')"
      ],
      "metadata": {
        "execution": {
          "iopub.status.busy": "2024-07-15T12:27:14.375464Z",
          "iopub.execute_input": "2024-07-15T12:27:14.375959Z",
          "iopub.status.idle": "2024-07-15T12:27:14.424194Z",
          "shell.execute_reply.started": "2024-07-15T12:27:14.375915Z",
          "shell.execute_reply": "2024-07-15T12:27:14.422933Z"
        },
        "trusted": true,
        "colab": {
          "base_uri": "https://localhost:8080/"
        },
        "id": "m81Ix1n1nKmH",
        "outputId": "01f529ec-4f4f-477c-8388-54c0e07b2c9c"
      },
      "execution_count": null,
      "outputs": [
        {
          "output_type": "execute_result",
          "data": {
            "text/plain": [
              "[('twitter', 0.9480050802230835),\n",
              " ('google', 0.9231430888175964),\n",
              " ('instagram', 0.9184155464172363),\n",
              " ('internet', 0.914387583732605),\n",
              " ('youtube', 0.9113808274269104),\n",
              " ('tumblr', 0.9077149033546448),\n",
              " ('link', 0.8995786905288696),\n",
              " ('fb', 0.8734270334243774),\n",
              " ('post', 0.8671452403068542),\n",
              " ('site', 0.8642723560333252)]"
            ]
          },
          "metadata": {},
          "execution_count": 61
        }
      ]
    },
    {
      "cell_type": "code",
      "source": [
        "glove_vectors.doesnt_match(['cofee','batman','superman'])"
      ],
      "metadata": {
        "execution": {
          "iopub.status.busy": "2024-07-15T12:27:14.426312Z",
          "iopub.execute_input": "2024-07-15T12:27:14.426792Z",
          "iopub.status.idle": "2024-07-15T12:27:14.435323Z",
          "shell.execute_reply.started": "2024-07-15T12:27:14.426751Z",
          "shell.execute_reply": "2024-07-15T12:27:14.434277Z"
        },
        "trusted": true,
        "colab": {
          "base_uri": "https://localhost:8080/",
          "height": 35
        },
        "id": "8jEr6IapnKmI",
        "outputId": "853743d1-368e-48fa-803e-601f26965683"
      },
      "execution_count": null,
      "outputs": [
        {
          "output_type": "execute_result",
          "data": {
            "text/plain": [
              "'cofee'"
            ],
            "application/vnd.google.colaboratory.intrinsic+json": {
              "type": "string"
            }
          },
          "metadata": {},
          "execution_count": 62
        }
      ]
    },
    {
      "cell_type": "code",
      "source": [
        "glove_vectors.similarity('man','woman')"
      ],
      "metadata": {
        "execution": {
          "iopub.status.busy": "2024-07-15T12:27:14.437063Z",
          "iopub.execute_input": "2024-07-15T12:27:14.437868Z",
          "iopub.status.idle": "2024-07-15T12:27:14.447959Z",
          "shell.execute_reply.started": "2024-07-15T12:27:14.437822Z",
          "shell.execute_reply": "2024-07-15T12:27:14.446806Z"
        },
        "trusted": true,
        "colab": {
          "base_uri": "https://localhost:8080/"
        },
        "id": "GmUsOLfMnKmI",
        "outputId": "473b3e53-fcca-400d-fce4-77accdea8efe"
      },
      "execution_count": null,
      "outputs": [
        {
          "output_type": "execute_result",
          "data": {
            "text/plain": [
              "0.76541775"
            ]
          },
          "metadata": {},
          "execution_count": 63
        }
      ]
    },
    {
      "cell_type": "markdown",
      "source": [
        "<div style=\"padding:10px;color:white;margin:0;font-size:200%;text-align:center;display:fill;border-radius:10px;background-color:#215f95;;overflow:hidden;font-weight:501;font-family:magra\">Creating our own Word2Vec Model using words from Harry Potter Book ;)</div>"
      ],
      "metadata": {
        "id": "c5LvX1jGnKmI"
      }
    },
    {
      "cell_type": "code",
      "source": [
        "import numpy as np\n",
        "import pandas as pd"
      ],
      "metadata": {
        "execution": {
          "iopub.status.busy": "2024-07-15T12:27:14.450127Z",
          "iopub.execute_input": "2024-07-15T12:27:14.451465Z",
          "iopub.status.idle": "2024-07-15T12:27:14.457369Z",
          "shell.execute_reply.started": "2024-07-15T12:27:14.451423Z",
          "shell.execute_reply": "2024-07-15T12:27:14.456149Z"
        },
        "trusted": true,
        "id": "6aaThDJRnKmI"
      },
      "execution_count": null,
      "outputs": []
    },
    {
      "cell_type": "code",
      "source": [
        "import gensim\n",
        "import os\n",
        "\n",
        "from nltk import sent_tokenize\n",
        "from gensim.utils import simple_preprocess\n",
        "\n",
        "story = []\n",
        "for filename in os.listdir('/kaggle/input/harry-potter-books'):\n",
        "\n",
        "    f = open(os.path.join('/kaggle/input/harry-potter-books',filename))\n",
        "    corpus = f.read()\n",
        "    raw_sent = sent_tokenize(corpus)\n",
        "    for sent in raw_sent:\n",
        "        story.append(simple_preprocess(sent))\n"
      ],
      "metadata": {
        "execution": {
          "iopub.status.busy": "2024-07-15T12:27:14.45943Z",
          "iopub.execute_input": "2024-07-15T12:27:14.459847Z",
          "iopub.status.idle": "2024-07-15T12:27:20.448315Z",
          "shell.execute_reply.started": "2024-07-15T12:27:14.45981Z",
          "shell.execute_reply": "2024-07-15T12:27:20.447522Z"
        },
        "trusted": true,
        "id": "ay-qXanAnKmI"
      },
      "execution_count": null,
      "outputs": []
    },
    {
      "cell_type": "code",
      "source": [
        "len(story)"
      ],
      "metadata": {
        "execution": {
          "iopub.status.busy": "2024-07-15T12:27:20.449478Z",
          "iopub.execute_input": "2024-07-15T12:27:20.449816Z",
          "iopub.status.idle": "2024-07-15T12:27:20.455346Z",
          "shell.execute_reply.started": "2024-07-15T12:27:20.449784Z",
          "shell.execute_reply": "2024-07-15T12:27:20.454416Z"
        },
        "trusted": true,
        "colab": {
          "base_uri": "https://localhost:8080/"
        },
        "id": "VZytoyTqnKmJ",
        "outputId": "4b60021a-9989-4d8e-e4ff-88f3a06d4c69"
      },
      "execution_count": null,
      "outputs": [
        {
          "output_type": "execute_result",
          "data": {
            "text/plain": [
              "66129"
            ]
          },
          "metadata": {},
          "execution_count": 66
        }
      ]
    },
    {
      "cell_type": "code",
      "source": [
        "model = gensim.models.Word2Vec(\n",
        "    window=20,\n",
        "    min_count=2 #sentence with atleast 2 words\n",
        ")\n",
        "\n",
        "model.build_vocab(story)\n",
        "model.train(story, total_examples=model.corpus_count, epochs=model.epochs)"
      ],
      "metadata": {
        "execution": {
          "iopub.status.busy": "2024-07-15T12:27:20.456451Z",
          "iopub.execute_input": "2024-07-15T12:27:20.456727Z",
          "iopub.status.idle": "2024-07-15T12:27:26.408707Z",
          "shell.execute_reply.started": "2024-07-15T12:27:20.456703Z",
          "shell.execute_reply": "2024-07-15T12:27:26.407829Z"
        },
        "trusted": true,
        "colab": {
          "base_uri": "https://localhost:8080/"
        },
        "id": "SbIQFgAUnKmJ",
        "outputId": "d79bba49-7717-4d7b-9abb-e5f79d27e2e4"
      },
      "execution_count": null,
      "outputs": [
        {
          "output_type": "execute_result",
          "data": {
            "text/plain": [
              "(4029146, 5322610)"
            ]
          },
          "metadata": {},
          "execution_count": 67
        }
      ]
    },
    {
      "cell_type": "code",
      "source": [
        "model.wv.most_similar('voldemort')"
      ],
      "metadata": {
        "execution": {
          "iopub.status.busy": "2024-07-15T12:27:26.409754Z",
          "iopub.execute_input": "2024-07-15T12:27:26.41002Z",
          "iopub.status.idle": "2024-07-15T12:27:26.425433Z",
          "shell.execute_reply.started": "2024-07-15T12:27:26.409996Z",
          "shell.execute_reply": "2024-07-15T12:27:26.42412Z"
        },
        "trusted": true,
        "colab": {
          "base_uri": "https://localhost:8080/"
        },
        "id": "Z--K8iz3nKmJ",
        "outputId": "16b6a6b3-7671-40d0-ca8f-9207322355d1"
      },
      "execution_count": null,
      "outputs": [
        {
          "output_type": "execute_result",
          "data": {
            "text/plain": [
              "[('sirius', 0.7554982900619507),\n",
              " ('terrible', 0.7368838787078857),\n",
              " ('dumbledore', 0.7215433716773987),\n",
              " ('curse', 0.6985413432121277),\n",
              " ('riddle', 0.6648805737495422),\n",
              " ('wormtail', 0.6642675399780273),\n",
              " ('trepidation', 0.6513330340385437),\n",
              " ('snape', 0.6497669219970703),\n",
              " ('power', 0.6453552842140198),\n",
              " ('james', 0.6452841758728027)]"
            ]
          },
          "metadata": {},
          "execution_count": 68
        }
      ]
    },
    {
      "cell_type": "code",
      "source": [
        "model.wv.doesnt_match(['voldemort','harry','dumbledore','hermione','draco'])"
      ],
      "metadata": {
        "execution": {
          "iopub.status.busy": "2024-07-15T12:27:26.430442Z",
          "iopub.execute_input": "2024-07-15T12:27:26.431137Z",
          "iopub.status.idle": "2024-07-15T12:27:26.43947Z",
          "shell.execute_reply.started": "2024-07-15T12:27:26.431094Z",
          "shell.execute_reply": "2024-07-15T12:27:26.438412Z"
        },
        "trusted": true,
        "colab": {
          "base_uri": "https://localhost:8080/",
          "height": 35
        },
        "id": "-WDyPyIlnKmJ",
        "outputId": "ed8ce0e2-40e4-447f-e6d9-944da063ec57"
      },
      "execution_count": null,
      "outputs": [
        {
          "output_type": "execute_result",
          "data": {
            "text/plain": [
              "'hermione'"
            ],
            "application/vnd.google.colaboratory.intrinsic+json": {
              "type": "string"
            }
          },
          "metadata": {},
          "execution_count": 69
        }
      ]
    },
    {
      "cell_type": "code",
      "source": [
        "model.wv['wizard']"
      ],
      "metadata": {
        "execution": {
          "iopub.status.busy": "2024-07-15T12:27:26.440782Z",
          "iopub.execute_input": "2024-07-15T12:27:26.441204Z",
          "iopub.status.idle": "2024-07-15T12:27:26.453397Z",
          "shell.execute_reply.started": "2024-07-15T12:27:26.441173Z",
          "shell.execute_reply": "2024-07-15T12:27:26.452207Z"
        },
        "trusted": true,
        "colab": {
          "base_uri": "https://localhost:8080/"
        },
        "id": "3iRUbPK7nKmK",
        "outputId": "ba592b88-eedf-4d38-c52a-a91671888133"
      },
      "execution_count": null,
      "outputs": [
        {
          "output_type": "execute_result",
          "data": {
            "text/plain": [
              "array([-8.71990100e-02,  7.48588800e-01,  9.45432186e-02,  8.19710642e-02,\n",
              "       -9.74026561e-01, -9.10825610e-01, -8.90820920e-02,  1.87701613e-01,\n",
              "       -5.06923854e-01, -1.38826549e+00, -5.25888801e-01,  8.14865112e-01,\n",
              "        4.20705020e-01,  4.86615568e-01, -4.17520583e-01, -1.47317290e-01,\n",
              "       -2.65052050e-01, -5.95354378e-01, -1.11936510e+00,  1.48656595e+00,\n",
              "        3.79622817e-01, -9.20939445e-02,  2.17803741e+00, -4.46772516e-01,\n",
              "       -8.41112375e-01, -1.91552639e-01, -9.74043310e-01, -2.20163371e-02,\n",
              "       -4.64038849e-01,  5.82353413e-01,  4.08228487e-01, -4.76149350e-01,\n",
              "        8.40273276e-02,  2.06508666e-01, -7.76770711e-02, -3.66222300e-02,\n",
              "       -1.37985706e+00, -1.17739642e+00, -4.12219077e-01, -7.02486873e-01,\n",
              "       -1.01540756e+00,  8.61426711e-01, -1.15953125e-02, -1.01739490e+00,\n",
              "        1.64555758e-01, -8.12295258e-01,  1.06016519e-02, -7.06807196e-01,\n",
              "        4.67295766e-01,  2.02608675e-01,  4.20730598e-02, -9.05263901e-01,\n",
              "       -8.91031623e-01,  1.20163977e-01,  1.06271553e+00,  7.98971593e-01,\n",
              "        4.75793242e-01, -4.72422034e-01,  4.58387792e-01, -9.87940729e-01,\n",
              "       -1.12855509e-01, -7.31509268e-01, -1.11864376e+00, -1.11588739e-01,\n",
              "       -1.26592267e+00, -9.22995284e-02, -1.96858734e-01,  8.73677141e-04,\n",
              "       -9.64369118e-01,  4.35288429e-01, -1.39001250e-01,  3.65624160e-01,\n",
              "        1.48703679e-01,  3.88132453e-01, -2.82073438e-01,  4.35485542e-01,\n",
              "       -7.33121753e-01, -1.46332395e+00, -1.42735922e+00,  6.57331765e-01,\n",
              "       -7.83109009e-01,  1.06008224e-01,  5.21393307e-02,  6.89279079e-01,\n",
              "        7.16657817e-01,  3.30957741e-01, -5.51727474e-01,  7.30154634e-01,\n",
              "       -1.19879842e+00, -4.20493454e-01, -1.31911442e-01, -1.11666608e+00,\n",
              "       -2.68536687e-01, -6.34526312e-01,  2.20330143e+00, -4.67736095e-01,\n",
              "        1.21709034e-01,  4.56547260e-01,  5.75187355e-02, -1.26622105e+00],\n",
              "      dtype=float32)"
            ]
          },
          "metadata": {},
          "execution_count": 70
        }
      ]
    },
    {
      "cell_type": "code",
      "source": [
        "model.wv.similarity('hermione','harry')"
      ],
      "metadata": {
        "execution": {
          "iopub.status.busy": "2024-07-15T12:27:26.454685Z",
          "iopub.execute_input": "2024-07-15T12:27:26.455086Z",
          "iopub.status.idle": "2024-07-15T12:27:26.463362Z",
          "shell.execute_reply.started": "2024-07-15T12:27:26.455055Z",
          "shell.execute_reply": "2024-07-15T12:27:26.462372Z"
        },
        "trusted": true,
        "colab": {
          "base_uri": "https://localhost:8080/"
        },
        "id": "15BRsfsOnKmK",
        "outputId": "a7bb6173-c67b-4777-c7c6-a31b626a6749"
      },
      "execution_count": null,
      "outputs": [
        {
          "output_type": "execute_result",
          "data": {
            "text/plain": [
              "0.21874003"
            ]
          },
          "metadata": {},
          "execution_count": 77
        }
      ]
    },
    {
      "cell_type": "code",
      "source": [
        "model.wv.similarity('wizard','magic')"
      ],
      "metadata": {
        "execution": {
          "iopub.status.busy": "2024-07-15T12:27:26.465041Z",
          "iopub.execute_input": "2024-07-15T12:27:26.465463Z",
          "iopub.status.idle": "2024-07-15T12:27:26.473653Z",
          "shell.execute_reply.started": "2024-07-15T12:27:26.465433Z",
          "shell.execute_reply": "2024-07-15T12:27:26.472753Z"
        },
        "trusted": true,
        "colab": {
          "base_uri": "https://localhost:8080/"
        },
        "id": "IxDk72henKmK",
        "outputId": "11bbe2bd-aefa-4da8-e833-9f0a1e884399"
      },
      "execution_count": null,
      "outputs": [
        {
          "output_type": "execute_result",
          "data": {
            "text/plain": [
              "0.70242226"
            ]
          },
          "metadata": {},
          "execution_count": 78
        }
      ]
    },
    {
      "cell_type": "code",
      "source": [
        "model.wv.get_normed_vectors().shape"
      ],
      "metadata": {
        "execution": {
          "iopub.status.busy": "2024-07-15T12:27:26.475755Z",
          "iopub.execute_input": "2024-07-15T12:27:26.476117Z",
          "iopub.status.idle": "2024-07-15T12:27:26.486489Z",
          "shell.execute_reply.started": "2024-07-15T12:27:26.476085Z",
          "shell.execute_reply": "2024-07-15T12:27:26.485427Z"
        },
        "trusted": true,
        "colab": {
          "base_uri": "https://localhost:8080/"
        },
        "id": "0qz8xkNbnKmK",
        "outputId": "fedb1203-05d0-49cd-8c7f-888956be40de"
      },
      "execution_count": null,
      "outputs": [
        {
          "output_type": "execute_result",
          "data": {
            "text/plain": [
              "(14675, 100)"
            ]
          },
          "metadata": {},
          "execution_count": 79
        }
      ]
    },
    {
      "cell_type": "code",
      "source": [
        "y = model.wv.index_to_key"
      ],
      "metadata": {
        "execution": {
          "iopub.status.busy": "2024-07-15T12:27:26.488031Z",
          "iopub.execute_input": "2024-07-15T12:27:26.488484Z",
          "iopub.status.idle": "2024-07-15T12:27:26.493191Z",
          "shell.execute_reply.started": "2024-07-15T12:27:26.488441Z",
          "shell.execute_reply": "2024-07-15T12:27:26.49226Z"
        },
        "trusted": true,
        "id": "4J3kTm_hnKmK"
      },
      "execution_count": null,
      "outputs": []
    },
    {
      "cell_type": "code",
      "source": [
        "from sklearn.decomposition import PCA\n",
        "pca = PCA(n_components=3)\n",
        "X = pca.fit_transform(model.wv.get_normed_vectors())\n",
        "X.shape"
      ],
      "metadata": {
        "execution": {
          "iopub.status.busy": "2024-07-15T12:27:26.495209Z",
          "iopub.execute_input": "2024-07-15T12:27:26.49566Z",
          "iopub.status.idle": "2024-07-15T12:27:26.643405Z",
          "shell.execute_reply.started": "2024-07-15T12:27:26.495628Z",
          "shell.execute_reply": "2024-07-15T12:27:26.642342Z"
        },
        "trusted": true,
        "colab": {
          "base_uri": "https://localhost:8080/"
        },
        "id": "3hWJUtgWnKmK",
        "outputId": "17302e5f-e4f2-406d-fb77-6d516abb2c84"
      },
      "execution_count": null,
      "outputs": [
        {
          "output_type": "execute_result",
          "data": {
            "text/plain": [
              "(14675, 3)"
            ]
          },
          "metadata": {},
          "execution_count": 81
        }
      ]
    },
    {
      "cell_type": "code",
      "source": [
        "import pandas as pd\n",
        "import plotly.express as px\n",
        "\n",
        "# Select a range of rows from X and y\n",
        "X_subset = X[100:300]  # Assuming X has at least 300 rows and 3 columns\n",
        "y_subset = y[100:300]  # Ensure y has the same number of elements as the selected range in X\n",
        "\n",
        "# Create a DataFrame from the subset of X\n",
        "df = pd.DataFrame(X_subset, columns=['x', 'y', 'z'])\n",
        "\n",
        "# Create the 3D scatter plot\n",
        "fig = px.scatter_3d(df, x='x', y='y', z='z', color=y_subset)\n",
        "fig.show()\n",
        "\n"
      ],
      "metadata": {
        "execution": {
          "iopub.status.busy": "2024-07-15T12:27:26.648391Z",
          "iopub.execute_input": "2024-07-15T12:27:26.652273Z",
          "iopub.status.idle": "2024-07-15T12:27:29.749124Z",
          "shell.execute_reply.started": "2024-07-15T12:27:26.652217Z",
          "shell.execute_reply": "2024-07-15T12:27:29.748281Z"
        },
        "trusted": true,
        "colab": {
          "base_uri": "https://localhost:8080/",
          "height": 542
        },
        "id": "kueXhJGjnKmL",
        "outputId": "5ba2f663-2433-41fb-f029-56f85d86bc2f"
      },
      "execution_count": null,
      "outputs": [
        {
          "output_type": "display_data",
          "data": {
            "text/html": [
              "<html>\n",
              "<head><meta charset=\"utf-8\" /></head>\n",
              "<body>\n",
              "    <div>            <script src=\"https://cdnjs.cloudflare.com/ajax/libs/mathjax/2.7.5/MathJax.js?config=TeX-AMS-MML_SVG\"></script><script type=\"text/javascript\">if (window.MathJax && window.MathJax.Hub && window.MathJax.Hub.Config) {window.MathJax.Hub.Config({SVG: {font: \"STIX-Web\"}});}</script>                <script type=\"text/javascript\">window.PlotlyConfig = {MathJaxConfig: 'local'};</script>\n",
              "        <script charset=\"utf-8\" src=\"https://cdn.plot.ly/plotly-2.35.2.min.js\"></script>                <div id=\"2589741c-c1cb-49e7-a38b-1813baaadc49\" class=\"plotly-graph-div\" style=\"height:525px; width:100%;\"></div>            <script type=\"text/javascript\">                                    window.PLOTLYENV=window.PLOTLYENV || {};                                    if (document.getElementById(\"2589741c-c1cb-49e7-a38b-1813baaadc49\")) {                    Plotly.newPlot(                        \"2589741c-c1cb-49e7-a38b-1813baaadc49\",                        [{\"hovertemplate\":\"color=which\\u003cbr\\u003ex=%{x}\\u003cbr\\u003ey=%{y}\\u003cbr\\u003ez=%{z}\\u003cextra\\u003e\\u003c\\u002fextra\\u003e\",\"legendgroup\":\"which\",\"marker\":{\"color\":\"#636efa\",\"symbol\":\"circle\"},\"mode\":\"markers\",\"name\":\"which\",\"scene\":\"scene\",\"showlegend\":true,\"x\":[0.11946585774421692],\"y\":[-0.46573904156684875],\"z\":[-0.4726932644844055],\"type\":\"scatter3d\"},{\"hovertemplate\":\"color=going\\u003cbr\\u003ex=%{x}\\u003cbr\\u003ey=%{y}\\u003cbr\\u003ez=%{z}\\u003cextra\\u003e\\u003c\\u002fextra\\u003e\",\"legendgroup\":\"going\",\"marker\":{\"color\":\"#EF553B\",\"symbol\":\"circle\"},\"mode\":\"markers\",\"name\":\"going\",\"scene\":\"scene\",\"showlegend\":true,\"x\":[-0.49865251779556274],\"y\":[-0.5742279291152954],\"z\":[0.10901931673288345],\"type\":\"scatter3d\"},{\"hovertemplate\":\"color=before\\u003cbr\\u003ex=%{x}\\u003cbr\\u003ey=%{y}\\u003cbr\\u003ez=%{z}\\u003cextra\\u003e\\u003c\\u002fextra\\u003e\",\"legendgroup\":\"before\",\"marker\":{\"color\":\"#00cc96\",\"symbol\":\"circle\"},\"mode\":\"markers\",\"name\":\"before\",\"scene\":\"scene\",\"showlegend\":true,\"x\":[-0.1926342248916626],\"y\":[-0.6653215885162354],\"z\":[-0.04618009179830551],\"type\":\"scatter3d\"},{\"hovertemplate\":\"color=voice\\u003cbr\\u003ex=%{x}\\u003cbr\\u003ey=%{y}\\u003cbr\\u003ez=%{z}\\u003cextra\\u003e\\u003c\\u002fextra\\u003e\",\"legendgroup\":\"voice\",\"marker\":{\"color\":\"#ab63fa\",\"symbol\":\"circle\"},\"mode\":\"markers\",\"name\":\"voice\",\"scene\":\"scene\",\"showlegend\":true,\"x\":[-0.11489351093769073],\"y\":[-0.3712705969810486],\"z\":[0.4914400577545166],\"type\":\"scatter3d\"},{\"hovertemplate\":\"color=here\\u003cbr\\u003ex=%{x}\\u003cbr\\u003ey=%{y}\\u003cbr\\u003ez=%{z}\\u003cextra\\u003e\\u003c\\u002fextra\\u003e\",\"legendgroup\":\"here\",\"marker\":{\"color\":\"#FFA15A\",\"symbol\":\"circle\"},\"mode\":\"markers\",\"name\":\"here\",\"scene\":\"scene\",\"showlegend\":true,\"x\":[-0.4585188925266266],\"y\":[-0.44947949051856995],\"z\":[0.15335750579833984],\"type\":\"scatter3d\"},{\"hovertemplate\":\"color=look\\u003cbr\\u003ex=%{x}\\u003cbr\\u003ey=%{y}\\u003cbr\\u003ez=%{z}\\u003cextra\\u003e\\u003c\\u002fextra\\u003e\",\"legendgroup\":\"look\",\"marker\":{\"color\":\"#19d3f3\",\"symbol\":\"circle\"},\"mode\":\"markers\",\"name\":\"look\",\"scene\":\"scene\",\"showlegend\":true,\"x\":[-0.16834931075572968],\"y\":[-0.4727684259414673],\"z\":[0.5126931071281433],\"type\":\"scatter3d\"},{\"hovertemplate\":\"color=go\\u003cbr\\u003ex=%{x}\\u003cbr\\u003ey=%{y}\\u003cbr\\u003ez=%{z}\\u003cextra\\u003e\\u003c\\u002fextra\\u003e\",\"legendgroup\":\"go\",\"marker\":{\"color\":\"#FF6692\",\"symbol\":\"circle\"},\"mode\":\"markers\",\"name\":\"go\",\"scene\":\"scene\",\"showlegend\":true,\"x\":[-0.4466484785079956],\"y\":[-0.6326519250869751],\"z\":[0.22385263442993164],\"type\":\"scatter3d\"},{\"hovertemplate\":\"color=didn\\u003cbr\\u003ex=%{x}\\u003cbr\\u003ey=%{y}\\u003cbr\\u003ez=%{z}\\u003cextra\\u003e\\u003c\\u002fextra\\u003e\",\"legendgroup\":\"didn\",\"marker\":{\"color\":\"#B6E880\",\"symbol\":\"circle\"},\"mode\":\"markers\",\"name\":\"didn\",\"scene\":\"scene\",\"showlegend\":true,\"x\":[-0.601835310459137],\"y\":[-0.47686561942100525],\"z\":[0.352010041475296],\"type\":\"scatter3d\"},{\"hovertemplate\":\"color=where\\u003cbr\\u003ex=%{x}\\u003cbr\\u003ey=%{y}\\u003cbr\\u003ez=%{z}\\u003cextra\\u003e\\u003c\\u002fextra\\u003e\",\"legendgroup\":\"where\",\"marker\":{\"color\":\"#FF97FF\",\"symbol\":\"circle\"},\"mode\":\"markers\",\"name\":\"where\",\"scene\":\"scene\",\"showlegend\":true,\"x\":[-0.012040793895721436],\"y\":[-0.6227337121963501],\"z\":[-0.15809717774391174],\"type\":\"scatter3d\"},{\"hovertemplate\":\"color=than\\u003cbr\\u003ex=%{x}\\u003cbr\\u003ey=%{y}\\u003cbr\\u003ez=%{z}\\u003cextra\\u003e\\u003c\\u002fextra\\u003e\",\"legendgroup\":\"than\",\"marker\":{\"color\":\"#FECB52\",\"symbol\":\"circle\"},\"mode\":\"markers\",\"name\":\"than\",\"scene\":\"scene\",\"showlegend\":true,\"x\":[-0.3208414316177368],\"y\":[-0.4473037123680115],\"z\":[0.008818462491035461],\"type\":\"scatter3d\"},{\"hovertemplate\":\"color=will\\u003cbr\\u003ex=%{x}\\u003cbr\\u003ey=%{y}\\u003cbr\\u003ez=%{z}\\u003cextra\\u003e\\u003c\\u002fextra\\u003e\",\"legendgroup\":\"will\",\"marker\":{\"color\":\"#636efa\",\"symbol\":\"circle\"},\"mode\":\"markers\",\"name\":\"will\",\"scene\":\"scene\",\"showlegend\":true,\"x\":[-0.6269396543502808],\"y\":[-0.3446824550628662],\"z\":[-0.07142622023820877],\"type\":\"scatter3d\"},{\"hovertemplate\":\"color=room\\u003cbr\\u003ex=%{x}\\u003cbr\\u003ey=%{y}\\u003cbr\\u003ez=%{z}\\u003cextra\\u003e\\u003c\\u002fextra\\u003e\",\"legendgroup\":\"room\",\"marker\":{\"color\":\"#EF553B\",\"symbol\":\"circle\"},\"mode\":\"markers\",\"name\":\"room\",\"scene\":\"scene\",\"showlegend\":true,\"x\":[0.22589445114135742],\"y\":[-0.6322241425514221],\"z\":[-0.2746826708316803],\"type\":\"scatter3d\"},{\"hovertemplate\":\"color=only\\u003cbr\\u003ex=%{x}\\u003cbr\\u003ey=%{y}\\u003cbr\\u003ez=%{z}\\u003cextra\\u003e\\u003c\\u002fextra\\u003e\",\"legendgroup\":\"only\",\"marker\":{\"color\":\"#00cc96\",\"symbol\":\"circle\"},\"mode\":\"markers\",\"name\":\"only\",\"scene\":\"scene\",\"showlegend\":true,\"x\":[-0.5387492179870605],\"y\":[-0.5502867102622986],\"z\":[-0.3377096354961395],\"type\":\"scatter3d\"},{\"hovertemplate\":\"color=potter\\u003cbr\\u003ex=%{x}\\u003cbr\\u003ey=%{y}\\u003cbr\\u003ez=%{z}\\u003cextra\\u003e\\u003c\\u002fextra\\u003e\",\"legendgroup\":\"potter\",\"marker\":{\"color\":\"#ab63fa\",\"symbol\":\"circle\"},\"mode\":\"markers\",\"name\":\"potter\",\"scene\":\"scene\",\"showlegend\":true,\"x\":[-0.5249362587928772],\"y\":[-0.3179483115673065],\"z\":[-0.012341268360614777],\"type\":\"scatter3d\"},{\"hovertemplate\":\"color=come\\u003cbr\\u003ex=%{x}\\u003cbr\\u003ey=%{y}\\u003cbr\\u003ez=%{z}\\u003cextra\\u003e\\u003c\\u002fextra\\u003e\",\"legendgroup\":\"come\",\"marker\":{\"color\":\"#FFA15A\",\"symbol\":\"circle\"},\"mode\":\"markers\",\"name\":\"come\",\"scene\":\"scene\",\"showlegend\":true,\"x\":[-0.48516958951950073],\"y\":[-0.594487726688385],\"z\":[0.17991489171981812],\"type\":\"scatter3d\"},{\"hovertemplate\":\"color=too\\u003cbr\\u003ex=%{x}\\u003cbr\\u003ey=%{y}\\u003cbr\\u003ez=%{z}\\u003cextra\\u003e\\u003c\\u002fextra\\u003e\",\"legendgroup\":\"too\",\"marker\":{\"color\":\"#19d3f3\",\"symbol\":\"circle\"},\"mode\":\"markers\",\"name\":\"too\",\"scene\":\"scene\",\"showlegend\":true,\"x\":[-0.3607505261898041],\"y\":[-0.44474753737449646],\"z\":[0.344820499420166],\"type\":\"scatter3d\"},{\"hovertemplate\":\"color=head\\u003cbr\\u003ex=%{x}\\u003cbr\\u003ey=%{y}\\u003cbr\\u003ez=%{z}\\u003cextra\\u003e\\u003c\\u002fextra\\u003e\",\"legendgroup\":\"head\",\"marker\":{\"color\":\"#FF6692\",\"symbol\":\"circle\"},\"mode\":\"markers\",\"name\":\"head\",\"scene\":\"scene\",\"showlegend\":true,\"x\":[0.34023064374923706],\"y\":[-0.4449293613433838],\"z\":[0.399781733751297],\"type\":\"scatter3d\"},{\"hovertemplate\":\"color=malfoy\\u003cbr\\u003ex=%{x}\\u003cbr\\u003ey=%{y}\\u003cbr\\u003ez=%{z}\\u003cextra\\u003e\\u003c\\u002fextra\\u003e\",\"legendgroup\":\"malfoy\",\"marker\":{\"color\":\"#B6E880\",\"symbol\":\"circle\"},\"mode\":\"markers\",\"name\":\"malfoy\",\"scene\":\"scene\",\"showlegend\":true,\"x\":[-0.13076233863830566],\"y\":[-0.4184862971305847],\"z\":[0.33587586879730225],\"type\":\"scatter3d\"},{\"hovertemplate\":\"color=door\\u003cbr\\u003ex=%{x}\\u003cbr\\u003ey=%{y}\\u003cbr\\u003ez=%{z}\\u003cextra\\u003e\\u003c\\u002fextra\\u003e\",\"legendgroup\":\"door\",\"marker\":{\"color\":\"#FF97FF\",\"symbol\":\"circle\"},\"mode\":\"markers\",\"name\":\"door\",\"scene\":\"scene\",\"showlegend\":true,\"x\":[0.34287238121032715],\"y\":[-0.6662371754646301],\"z\":[0.11341676115989685],\"type\":\"scatter3d\"},{\"hovertemplate\":\"color=mr\\u003cbr\\u003ex=%{x}\\u003cbr\\u003ey=%{y}\\u003cbr\\u003ez=%{z}\\u003cextra\\u003e\\u003c\\u002fextra\\u003e\",\"legendgroup\":\"mr\",\"marker\":{\"color\":\"#FECB52\",\"symbol\":\"circle\"},\"mode\":\"markers\",\"name\":\"mr\",\"scene\":\"scene\",\"showlegend\":true,\"x\":[-0.27351853251457214],\"y\":[-0.3213961720466614],\"z\":[0.15280994772911072],\"type\":\"scatter3d\"},{\"hovertemplate\":\"color=thought\\u003cbr\\u003ex=%{x}\\u003cbr\\u003ey=%{y}\\u003cbr\\u003ez=%{z}\\u003cextra\\u003e\\u003c\\u002fextra\\u003e\",\"legendgroup\":\"thought\",\"marker\":{\"color\":\"#636efa\",\"symbol\":\"circle\"},\"mode\":\"markers\",\"name\":\"thought\",\"scene\":\"scene\",\"showlegend\":true,\"x\":[-0.5485547184944153],\"y\":[-0.5334032773971558],\"z\":[0.26531779766082764],\"type\":\"scatter3d\"},{\"hovertemplate\":\"color=voldemort\\u003cbr\\u003ex=%{x}\\u003cbr\\u003ey=%{y}\\u003cbr\\u003ez=%{z}\\u003cextra\\u003e\\u003c\\u002fextra\\u003e\",\"legendgroup\":\"voldemort\",\"marker\":{\"color\":\"#EF553B\",\"symbol\":\"circle\"},\"mode\":\"markers\",\"name\":\"voldemort\",\"scene\":\"scene\",\"showlegend\":true,\"x\":[-0.41505661606788635],\"y\":[-0.47296807169914246],\"z\":[0.00914810597896576],\"type\":\"scatter3d\"},{\"hovertemplate\":\"color=something\\u003cbr\\u003ex=%{x}\\u003cbr\\u003ey=%{y}\\u003cbr\\u003ez=%{z}\\u003cextra\\u003e\\u003c\\u002fextra\\u003e\",\"legendgroup\":\"something\",\"marker\":{\"color\":\"#00cc96\",\"symbol\":\"circle\"},\"mode\":\"markers\",\"name\":\"something\",\"scene\":\"scene\",\"showlegend\":true,\"x\":[-0.18884028494358063],\"y\":[-0.551415741443634],\"z\":[0.3248864710330963],\"type\":\"scatter3d\"},{\"hovertemplate\":\"color=saw\\u003cbr\\u003ex=%{x}\\u003cbr\\u003ey=%{y}\\u003cbr\\u003ez=%{z}\\u003cextra\\u003e\\u003c\\u002fextra\\u003e\",\"legendgroup\":\"saw\",\"marker\":{\"color\":\"#ab63fa\",\"symbol\":\"circle\"},\"mode\":\"markers\",\"name\":\"saw\",\"scene\":\"scene\",\"showlegend\":true,\"x\":[0.34042638540267944],\"y\":[-0.5109189748764038],\"z\":[0.1399393081665039],\"type\":\"scatter3d\"},{\"hovertemplate\":\"color=after\\u003cbr\\u003ex=%{x}\\u003cbr\\u003ey=%{y}\\u003cbr\\u003ez=%{z}\\u003cextra\\u003e\\u003c\\u002fextra\\u003e\",\"legendgroup\":\"after\",\"marker\":{\"color\":\"#FFA15A\",\"symbol\":\"circle\"},\"mode\":\"markers\",\"name\":\"after\",\"scene\":\"scene\",\"showlegend\":true,\"x\":[-0.347859650850296],\"y\":[-0.5519999265670776],\"z\":[-0.10021407157182693],\"type\":\"scatter3d\"},{\"hovertemplate\":\"color=hand\\u003cbr\\u003ex=%{x}\\u003cbr\\u003ey=%{y}\\u003cbr\\u003ez=%{z}\\u003cextra\\u003e\\u003c\\u002fextra\\u003e\",\"legendgroup\":\"hand\",\"marker\":{\"color\":\"#19d3f3\",\"symbol\":\"circle\"},\"mode\":\"markers\",\"name\":\"hand\",\"scene\":\"scene\",\"showlegend\":true,\"x\":[0.3343238830566406],\"y\":[-0.4875497817993164],\"z\":[0.4686468839645386],\"type\":\"scatter3d\"},{\"hovertemplate\":\"color=other\\u003cbr\\u003ex=%{x}\\u003cbr\\u003ey=%{y}\\u003cbr\\u003ez=%{z}\\u003cextra\\u003e\\u003c\\u002fextra\\u003e\",\"legendgroup\":\"other\",\"marker\":{\"color\":\"#FF6692\",\"symbol\":\"circle\"},\"mode\":\"markers\",\"name\":\"other\",\"scene\":\"scene\",\"showlegend\":true,\"x\":[-0.16107159852981567],\"y\":[-0.517509400844574],\"z\":[-0.3145546317100525],\"type\":\"scatter3d\"},{\"hovertemplate\":\"color=behind\\u003cbr\\u003ex=%{x}\\u003cbr\\u003ey=%{y}\\u003cbr\\u003ez=%{z}\\u003cextra\\u003e\\u003c\\u002fextra\\u003e\",\"legendgroup\":\"behind\",\"marker\":{\"color\":\"#B6E880\",\"symbol\":\"circle\"},\"mode\":\"markers\",\"name\":\"behind\",\"scene\":\"scene\",\"showlegend\":true,\"x\":[0.48217612504959106],\"y\":[-0.5344228744506836],\"z\":[0.13054735958576202],\"type\":\"scatter3d\"},{\"hovertemplate\":\"color=never\\u003cbr\\u003ex=%{x}\\u003cbr\\u003ey=%{y}\\u003cbr\\u003ez=%{z}\\u003cextra\\u003e\\u003c\\u002fextra\\u003e\",\"legendgroup\":\"never\",\"marker\":{\"color\":\"#FF97FF\",\"symbol\":\"circle\"},\"mode\":\"markers\",\"name\":\"never\",\"scene\":\"scene\",\"showlegend\":true,\"x\":[-0.747287392616272],\"y\":[-0.44008374214172363],\"z\":[0.026456691324710846],\"type\":\"scatter3d\"},{\"hovertemplate\":\"color=way\\u003cbr\\u003ex=%{x}\\u003cbr\\u003ey=%{y}\\u003cbr\\u003ez=%{z}\\u003cextra\\u003e\\u003c\\u002fextra\\u003e\",\"legendgroup\":\"way\",\"marker\":{\"color\":\"#FECB52\",\"symbol\":\"circle\"},\"mode\":\"markers\",\"name\":\"way\",\"scene\":\"scene\",\"showlegend\":true,\"x\":[-0.04764961451292038],\"y\":[-0.677842915058136],\"z\":[-0.09174799174070358],\"type\":\"scatter3d\"},{\"hovertemplate\":\"color=sirius\\u003cbr\\u003ex=%{x}\\u003cbr\\u003ey=%{y}\\u003cbr\\u003ez=%{z}\\u003cextra\\u003e\\u003c\\u002fextra\\u003e\",\"legendgroup\":\"sirius\",\"marker\":{\"color\":\"#636efa\",\"symbol\":\"circle\"},\"mode\":\"markers\",\"name\":\"sirius\",\"scene\":\"scene\",\"showlegend\":true,\"x\":[-0.5104892253875732],\"y\":[-0.4318728446960449],\"z\":[0.20764008164405823],\"type\":\"scatter3d\"},{\"hovertemplate\":\"color=seemed\\u003cbr\\u003ex=%{x}\\u003cbr\\u003ey=%{y}\\u003cbr\\u003ez=%{z}\\u003cextra\\u003e\\u003c\\u002fextra\\u003e\",\"legendgroup\":\"seemed\",\"marker\":{\"color\":\"#EF553B\",\"symbol\":\"circle\"},\"mode\":\"markers\",\"name\":\"seemed\",\"scene\":\"scene\",\"showlegend\":true,\"x\":[-0.0728539526462555],\"y\":[-0.47036629915237427],\"z\":[0.00782807171344757],\"type\":\"scatter3d\"},{\"hovertemplate\":\"color=away\\u003cbr\\u003ex=%{x}\\u003cbr\\u003ey=%{y}\\u003cbr\\u003ez=%{z}\\u003cextra\\u003e\\u003c\\u002fextra\\u003e\",\"legendgroup\":\"away\",\"marker\":{\"color\":\"#00cc96\",\"symbol\":\"circle\"},\"mode\":\"markers\",\"name\":\"away\",\"scene\":\"scene\",\"showlegend\":true,\"x\":[0.27606847882270813],\"y\":[-0.6062214374542236],\"z\":[0.19826465845108032],\"type\":\"scatter3d\"},{\"hovertemplate\":\"color=himself\\u003cbr\\u003ex=%{x}\\u003cbr\\u003ey=%{y}\\u003cbr\\u003ez=%{z}\\u003cextra\\u003e\\u003c\\u002fextra\\u003e\",\"legendgroup\":\"himself\",\"marker\":{\"color\":\"#ab63fa\",\"symbol\":\"circle\"},\"mode\":\"markers\",\"name\":\"himself\",\"scene\":\"scene\",\"showlegend\":true,\"x\":[-0.03166079521179199],\"y\":[-0.5958630442619324],\"z\":[0.2089325487613678],\"type\":\"scatter3d\"},{\"hovertemplate\":\"color=asked\\u003cbr\\u003ex=%{x}\\u003cbr\\u003ey=%{y}\\u003cbr\\u003ez=%{z}\\u003cextra\\u003e\\u003c\\u002fextra\\u003e\",\"legendgroup\":\"asked\",\"marker\":{\"color\":\"#FFA15A\",\"symbol\":\"circle\"},\"mode\":\"markers\",\"name\":\"asked\",\"scene\":\"scene\",\"showlegend\":true,\"x\":[-0.5018168687820435],\"y\":[-0.36602336168289185],\"z\":[0.4180125594139099],\"type\":\"scatter3d\"},{\"hovertemplate\":\"color=told\\u003cbr\\u003ex=%{x}\\u003cbr\\u003ey=%{y}\\u003cbr\\u003ez=%{z}\\u003cextra\\u003e\\u003c\\u002fextra\\u003e\",\"legendgroup\":\"told\",\"marker\":{\"color\":\"#19d3f3\",\"symbol\":\"circle\"},\"mode\":\"markers\",\"name\":\"told\",\"scene\":\"scene\",\"showlegend\":true,\"x\":[-0.6203458309173584],\"y\":[-0.4613826274871826],\"z\":[0.23101726174354553],\"type\":\"scatter3d\"},{\"hovertemplate\":\"color=turned\\u003cbr\\u003ex=%{x}\\u003cbr\\u003ey=%{y}\\u003cbr\\u003ez=%{z}\\u003cextra\\u003e\\u003c\\u002fextra\\u003e\",\"legendgroup\":\"turned\",\"marker\":{\"color\":\"#FF6692\",\"symbol\":\"circle\"},\"mode\":\"markers\",\"name\":\"turned\",\"scene\":\"scene\",\"showlegend\":true,\"x\":[0.3644610643386841],\"y\":[-0.5302920341491699],\"z\":[0.3399980962276459],\"type\":\"scatter3d\"},{\"hovertemplate\":\"color=once\\u003cbr\\u003ex=%{x}\\u003cbr\\u003ey=%{y}\\u003cbr\\u003ez=%{z}\\u003cextra\\u003e\\u003c\\u002fextra\\u003e\",\"legendgroup\":\"once\",\"marker\":{\"color\":\"#B6E880\",\"symbol\":\"circle\"},\"mode\":\"markers\",\"name\":\"once\",\"scene\":\"scene\",\"showlegend\":true,\"x\":[-0.0823722705245018],\"y\":[-0.5289226174354553],\"z\":[-0.03154949098825455],\"type\":\"scatter3d\"},{\"hovertemplate\":\"color=last\\u003cbr\\u003ex=%{x}\\u003cbr\\u003ey=%{y}\\u003cbr\\u003ez=%{z}\\u003cextra\\u003e\\u003c\\u002fextra\\u003e\",\"legendgroup\":\"last\",\"marker\":{\"color\":\"#FF97FF\",\"symbol\":\"circle\"},\"mode\":\"markers\",\"name\":\"last\",\"scene\":\"scene\",\"showlegend\":true,\"x\":[-0.3736661672592163],\"y\":[-0.5736280679702759],\"z\":[-0.32169073820114136],\"type\":\"scatter3d\"},{\"hovertemplate\":\"color=two\\u003cbr\\u003ex=%{x}\\u003cbr\\u003ey=%{y}\\u003cbr\\u003ez=%{z}\\u003cextra\\u003e\\u003c\\u002fextra\\u003e\",\"legendgroup\":\"two\",\"marker\":{\"color\":\"#FECB52\",\"symbol\":\"circle\"},\"mode\":\"markers\",\"name\":\"two\",\"scene\":\"scene\",\"showlegend\":true,\"x\":[0.01319923996925354],\"y\":[-0.5083215236663818],\"z\":[-0.6531968712806702],\"type\":\"scatter3d\"},{\"hovertemplate\":\"color=good\\u003cbr\\u003ex=%{x}\\u003cbr\\u003ey=%{y}\\u003cbr\\u003ez=%{z}\\u003cextra\\u003e\\u003c\\u002fextra\\u003e\",\"legendgroup\":\"good\",\"marker\":{\"color\":\"#636efa\",\"symbol\":\"circle\"},\"mode\":\"markers\",\"name\":\"good\",\"scene\":\"scene\",\"showlegend\":true,\"x\":[-0.6820840239524841],\"y\":[-0.23194193840026855],\"z\":[0.17514997720718384],\"type\":\"scatter3d\"},{\"hovertemplate\":\"color=long\\u003cbr\\u003ex=%{x}\\u003cbr\\u003ey=%{y}\\u003cbr\\u003ez=%{z}\\u003cextra\\u003e\\u003c\\u002fextra\\u003e\",\"legendgroup\":\"long\",\"marker\":{\"color\":\"#EF553B\",\"symbol\":\"circle\"},\"mode\":\"markers\",\"name\":\"long\",\"scene\":\"scene\",\"showlegend\":true,\"x\":[0.2932664155960083],\"y\":[-0.2758777141571045],\"z\":[-0.21109095215797424],\"type\":\"scatter3d\"},{\"hovertemplate\":\"color=us\\u003cbr\\u003ex=%{x}\\u003cbr\\u003ey=%{y}\\u003cbr\\u003ez=%{z}\\u003cextra\\u003e\\u003c\\u002fextra\\u003e\",\"legendgroup\":\"us\",\"marker\":{\"color\":\"#00cc96\",\"symbol\":\"circle\"},\"mode\":\"markers\",\"name\":\"us\",\"scene\":\"scene\",\"showlegend\":true,\"x\":[-0.7380838990211487],\"y\":[-0.47459471225738525],\"z\":[-0.09018335491418839],\"type\":\"scatter3d\"},{\"hovertemplate\":\"color=much\\u003cbr\\u003ex=%{x}\\u003cbr\\u003ey=%{y}\\u003cbr\\u003ez=%{z}\\u003cextra\\u003e\\u003c\\u002fextra\\u003e\",\"legendgroup\":\"much\",\"marker\":{\"color\":\"#ab63fa\",\"symbol\":\"circle\"},\"mode\":\"markers\",\"name\":\"much\",\"scene\":\"scene\",\"showlegend\":true,\"x\":[-0.6007585525512695],\"y\":[-0.3344075083732605],\"z\":[0.10832197964191437],\"type\":\"scatter3d\"},{\"hovertemplate\":\"color=dark\\u003cbr\\u003ex=%{x}\\u003cbr\\u003ey=%{y}\\u003cbr\\u003ez=%{z}\\u003cextra\\u003e\\u003c\\u002fextra\\u003e\",\"legendgroup\":\"dark\",\"marker\":{\"color\":\"#FFA15A\",\"symbol\":\"circle\"},\"mode\":\"markers\",\"name\":\"dark\",\"scene\":\"scene\",\"showlegend\":true,\"x\":[-0.1588672697544098],\"y\":[-0.3749011158943176],\"z\":[-0.37602895498275757],\"type\":\"scatter3d\"},{\"hovertemplate\":\"color=why\\u003cbr\\u003ex=%{x}\\u003cbr\\u003ey=%{y}\\u003cbr\\u003ez=%{z}\\u003cextra\\u003e\\u003c\\u002fextra\\u003e\",\"legendgroup\":\"why\",\"marker\":{\"color\":\"#19d3f3\",\"symbol\":\"circle\"},\"mode\":\"markers\",\"name\":\"why\",\"scene\":\"scene\",\"showlegend\":true,\"x\":[-0.8252270817756653],\"y\":[-0.44308650493621826],\"z\":[0.19469591975212097],\"type\":\"scatter3d\"},{\"hovertemplate\":\"color=little\\u003cbr\\u003ex=%{x}\\u003cbr\\u003ey=%{y}\\u003cbr\\u003ez=%{z}\\u003cextra\\u003e\\u003c\\u002fextra\\u003e\",\"legendgroup\":\"little\",\"marker\":{\"color\":\"#FF6692\",\"symbol\":\"circle\"},\"mode\":\"markers\",\"name\":\"little\",\"scene\":\"scene\",\"showlegend\":true,\"x\":[0.0954086184501648],\"y\":[-0.11016157269477844],\"z\":[0.05006415396928787],\"type\":\"scatter3d\"},{\"hovertemplate\":\"color=even\\u003cbr\\u003ex=%{x}\\u003cbr\\u003ey=%{y}\\u003cbr\\u003ez=%{z}\\u003cextra\\u003e\\u003c\\u002fextra\\u003e\",\"legendgroup\":\"even\",\"marker\":{\"color\":\"#B6E880\",\"symbol\":\"circle\"},\"mode\":\"markers\",\"name\":\"even\",\"scene\":\"scene\",\"showlegend\":true,\"x\":[-0.5037485361099243],\"y\":[-0.4675138592720032],\"z\":[-0.0015306919813156128],\"type\":\"scatter3d\"},{\"hovertemplate\":\"color=knew\\u003cbr\\u003ex=%{x}\\u003cbr\\u003ey=%{y}\\u003cbr\\u003ez=%{z}\\u003cextra\\u003e\\u003c\\u002fextra\\u003e\",\"legendgroup\":\"knew\",\"marker\":{\"color\":\"#FF97FF\",\"symbol\":\"circle\"},\"mode\":\"markers\",\"name\":\"knew\",\"scene\":\"scene\",\"showlegend\":true,\"x\":[-0.4743524491786957],\"y\":[-0.5324803590774536],\"z\":[0.1467210054397583],\"type\":\"scatter3d\"},{\"hovertemplate\":\"color=want\\u003cbr\\u003ex=%{x}\\u003cbr\\u003ey=%{y}\\u003cbr\\u003ez=%{z}\\u003cextra\\u003e\\u003c\\u002fextra\\u003e\",\"legendgroup\":\"want\",\"marker\":{\"color\":\"#FECB52\",\"symbol\":\"circle\"},\"mode\":\"markers\",\"name\":\"want\",\"scene\":\"scene\",\"showlegend\":true,\"x\":[-0.6716261506080627],\"y\":[-0.47377532720565796],\"z\":[0.3261135220527649],\"type\":\"scatter3d\"},{\"hovertemplate\":\"color=oh\\u003cbr\\u003ex=%{x}\\u003cbr\\u003ey=%{y}\\u003cbr\\u003ez=%{z}\\u003cextra\\u003e\\u003c\\u002fextra\\u003e\",\"legendgroup\":\"oh\",\"marker\":{\"color\":\"#636efa\",\"symbol\":\"circle\"},\"mode\":\"markers\",\"name\":\"oh\",\"scene\":\"scene\",\"showlegend\":true,\"x\":[-0.46235451102256775],\"y\":[-0.2109326720237732],\"z\":[0.6351353526115417],\"type\":\"scatter3d\"},{\"hovertemplate\":\"color=first\\u003cbr\\u003ex=%{x}\\u003cbr\\u003ey=%{y}\\u003cbr\\u003ez=%{z}\\u003cextra\\u003e\\u003c\\u002fextra\\u003e\",\"legendgroup\":\"first\",\"marker\":{\"color\":\"#EF553B\",\"symbol\":\"circle\"},\"mode\":\"markers\",\"name\":\"first\",\"scene\":\"scene\",\"showlegend\":true,\"x\":[-0.497201532125473],\"y\":[-0.5235341191291809],\"z\":[-0.40648889541625977],\"type\":\"scatter3d\"},{\"hovertemplate\":\"color=tell\\u003cbr\\u003ex=%{x}\\u003cbr\\u003ey=%{y}\\u003cbr\\u003ez=%{z}\\u003cextra\\u003e\\u003c\\u002fextra\\u003e\",\"legendgroup\":\"tell\",\"marker\":{\"color\":\"#00cc96\",\"symbol\":\"circle\"},\"mode\":\"markers\",\"name\":\"tell\",\"scene\":\"scene\",\"showlegend\":true,\"x\":[-0.6343287825584412],\"y\":[-0.4967295527458191],\"z\":[0.2882220447063446],\"type\":\"scatter3d\"},{\"hovertemplate\":\"color=black\\u003cbr\\u003ex=%{x}\\u003cbr\\u003ey=%{y}\\u003cbr\\u003ez=%{z}\\u003cextra\\u003e\\u003c\\u002fextra\\u003e\",\"legendgroup\":\"black\",\"marker\":{\"color\":\"#ab63fa\",\"symbol\":\"circle\"},\"mode\":\"markers\",\"name\":\"black\",\"scene\":\"scene\",\"showlegend\":true,\"x\":[0.3858495354652405],\"y\":[-0.27119776606559753],\"z\":[-0.1683853268623352],\"type\":\"scatter3d\"},{\"hovertemplate\":\"color=any\\u003cbr\\u003ex=%{x}\\u003cbr\\u003ey=%{y}\\u003cbr\\u003ez=%{z}\\u003cextra\\u003e\\u003c\\u002fextra\\u003e\",\"legendgroup\":\"any\",\"marker\":{\"color\":\"#FFA15A\",\"symbol\":\"circle\"},\"mode\":\"markers\",\"name\":\"any\",\"scene\":\"scene\",\"showlegend\":true,\"x\":[-0.7259073257446289],\"y\":[-0.41862887144088745],\"z\":[-0.18381178379058838],\"type\":\"scatter3d\"},{\"hovertemplate\":\"color=made\\u003cbr\\u003ex=%{x}\\u003cbr\\u003ey=%{y}\\u003cbr\\u003ez=%{z}\\u003cextra\\u003e\\u003c\\u002fextra\\u003e\",\"legendgroup\":\"made\",\"marker\":{\"color\":\"#19d3f3\",\"symbol\":\"circle\"},\"mode\":\"markers\",\"name\":\"made\",\"scene\":\"scene\",\"showlegend\":true,\"x\":[-0.17971627414226532],\"y\":[-0.3852100074291229],\"z\":[0.22589251399040222],\"type\":\"scatter3d\"},{\"hovertemplate\":\"color=some\\u003cbr\\u003ex=%{x}\\u003cbr\\u003ey=%{y}\\u003cbr\\u003ez=%{z}\\u003cextra\\u003e\\u003c\\u002fextra\\u003e\",\"legendgroup\":\"some\",\"marker\":{\"color\":\"#FF6692\",\"symbol\":\"circle\"},\"mode\":\"markers\",\"name\":\"some\",\"scene\":\"scene\",\"showlegend\":true,\"x\":[-0.48961198329925537],\"y\":[-0.33346909284591675],\"z\":[-0.4340605139732361],\"type\":\"scatter3d\"},{\"hovertemplate\":\"color=people\\u003cbr\\u003ex=%{x}\\u003cbr\\u003ey=%{y}\\u003cbr\\u003ez=%{z}\\u003cextra\\u003e\\u003c\\u002fextra\\u003e\",\"legendgroup\":\"people\",\"marker\":{\"color\":\"#B6E880\",\"symbol\":\"circle\"},\"mode\":\"markers\",\"name\":\"people\",\"scene\":\"scene\",\"showlegend\":true,\"x\":[-0.4207344949245453],\"y\":[-0.46985378861427307],\"z\":[-0.40878432989120483],\"type\":\"scatter3d\"},{\"hovertemplate\":\"color=let\\u003cbr\\u003ex=%{x}\\u003cbr\\u003ey=%{y}\\u003cbr\\u003ez=%{z}\\u003cextra\\u003e\\u003c\\u002fextra\\u003e\",\"legendgroup\":\"let\",\"marker\":{\"color\":\"#FF97FF\",\"symbol\":\"circle\"},\"mode\":\"markers\",\"name\":\"let\",\"scene\":\"scene\",\"showlegend\":true,\"x\":[-0.32110756635665894],\"y\":[-0.4894888997077942],\"z\":[0.4609914720058441],\"type\":\"scatter3d\"},{\"hovertemplate\":\"color=heard\\u003cbr\\u003ex=%{x}\\u003cbr\\u003ey=%{y}\\u003cbr\\u003ez=%{z}\\u003cextra\\u003e\\u003c\\u002fextra\\u003e\",\"legendgroup\":\"heard\",\"marker\":{\"color\":\"#FECB52\",\"symbol\":\"circle\"},\"mode\":\"markers\",\"name\":\"heard\",\"scene\":\"scene\",\"showlegend\":true,\"x\":[-0.10564445704221725],\"y\":[-0.5479802489280701],\"z\":[0.14599359035491943],\"type\":\"scatter3d\"},{\"hovertemplate\":\"color=left\\u003cbr\\u003ex=%{x}\\u003cbr\\u003ey=%{y}\\u003cbr\\u003ez=%{z}\\u003cextra\\u003e\\u003c\\u002fextra\\u003e\",\"legendgroup\":\"left\",\"marker\":{\"color\":\"#636efa\",\"symbol\":\"circle\"},\"mode\":\"markers\",\"name\":\"left\",\"scene\":\"scene\",\"showlegend\":true,\"x\":[-0.07445710152387619],\"y\":[-0.5637797117233276],\"z\":[-0.15470582246780396],\"type\":\"scatter3d\"},{\"hovertemplate\":\"color=fred\\u003cbr\\u003ex=%{x}\\u003cbr\\u003ey=%{y}\\u003cbr\\u003ez=%{z}\\u003cextra\\u003e\\u003c\\u002fextra\\u003e\",\"legendgroup\":\"fred\",\"marker\":{\"color\":\"#EF553B\",\"symbol\":\"circle\"},\"mode\":\"markers\",\"name\":\"fred\",\"scene\":\"scene\",\"showlegend\":true,\"x\":[-0.1155446320772171],\"y\":[-0.3612101078033447],\"z\":[0.08400706946849823],\"type\":\"scatter3d\"},{\"hovertemplate\":\"color=yes\\u003cbr\\u003ex=%{x}\\u003cbr\\u003ey=%{y}\\u003cbr\\u003ez=%{z}\\u003cextra\\u003e\\u003c\\u002fextra\\u003e\",\"legendgroup\":\"yes\",\"marker\":{\"color\":\"#00cc96\",\"symbol\":\"circle\"},\"mode\":\"markers\",\"name\":\"yes\",\"scene\":\"scene\",\"showlegend\":true,\"x\":[-0.6327929496765137],\"y\":[-0.13634544610977173],\"z\":[0.5002976059913635],\"type\":\"scatter3d\"},{\"hovertemplate\":\"color=really\\u003cbr\\u003ex=%{x}\\u003cbr\\u003ey=%{y}\\u003cbr\\u003ez=%{z}\\u003cextra\\u003e\\u003c\\u002fextra\\u003e\",\"legendgroup\":\"really\",\"marker\":{\"color\":\"#ab63fa\",\"symbol\":\"circle\"},\"mode\":\"markers\",\"name\":\"really\",\"scene\":\"scene\",\"showlegend\":true,\"x\":[-0.8714860081672668],\"y\":[-0.3202476501464844],\"z\":[0.3197610378265381],\"type\":\"scatter3d\"},{\"hovertemplate\":\"color=its\\u003cbr\\u003ex=%{x}\\u003cbr\\u003ey=%{y}\\u003cbr\\u003ez=%{z}\\u003cextra\\u003e\\u003c\\u002fextra\\u003e\",\"legendgroup\":\"its\",\"marker\":{\"color\":\"#FFA15A\",\"symbol\":\"circle\"},\"mode\":\"markers\",\"name\":\"its\",\"scene\":\"scene\",\"showlegend\":true,\"x\":[0.49430137872695923],\"y\":[-0.388353168964386],\"z\":[-0.15963739156723022],\"type\":\"scatter3d\"},{\"hovertemplate\":\"color=moment\\u003cbr\\u003ex=%{x}\\u003cbr\\u003ey=%{y}\\u003cbr\\u003ez=%{z}\\u003cextra\\u003e\\u003c\\u002fextra\\u003e\",\"legendgroup\":\"moment\",\"marker\":{\"color\":\"#19d3f3\",\"symbol\":\"circle\"},\"mode\":\"markers\",\"name\":\"moment\",\"scene\":\"scene\",\"showlegend\":true,\"x\":[0.05046771466732025],\"y\":[-0.633974552154541],\"z\":[0.18881937861442566],\"type\":\"scatter3d\"},{\"hovertemplate\":\"color=because\\u003cbr\\u003ex=%{x}\\u003cbr\\u003ey=%{y}\\u003cbr\\u003ez=%{z}\\u003cextra\\u003e\\u003c\\u002fextra\\u003e\",\"legendgroup\":\"because\",\"marker\":{\"color\":\"#FF6692\",\"symbol\":\"circle\"},\"mode\":\"markers\",\"name\":\"because\",\"scene\":\"scene\",\"showlegend\":true,\"x\":[-0.8051060438156128],\"y\":[-0.48487311601638794],\"z\":[-0.0042679160833358765],\"type\":\"scatter3d\"},{\"hovertemplate\":\"color=mrs\\u003cbr\\u003ex=%{x}\\u003cbr\\u003ey=%{y}\\u003cbr\\u003ez=%{z}\\u003cextra\\u003e\\u003c\\u002fextra\\u003e\",\"legendgroup\":\"mrs\",\"marker\":{\"color\":\"#B6E880\",\"symbol\":\"circle\"},\"mode\":\"markers\",\"name\":\"mrs\",\"scene\":\"scene\",\"showlegend\":true,\"x\":[-0.01352943480014801],\"y\":[-0.32176196575164795],\"z\":[0.1551135778427124],\"type\":\"scatter3d\"},{\"hovertemplate\":\"color=say\\u003cbr\\u003ex=%{x}\\u003cbr\\u003ey=%{y}\\u003cbr\\u003ez=%{z}\\u003cextra\\u003e\\u003c\\u002fextra\\u003e\",\"legendgroup\":\"say\",\"marker\":{\"color\":\"#FF97FF\",\"symbol\":\"circle\"},\"mode\":\"markers\",\"name\":\"say\",\"scene\":\"scene\",\"showlegend\":true,\"x\":[-0.6852880716323853],\"y\":[-0.4193080961704254],\"z\":[0.443275511264801],\"type\":\"scatter3d\"},{\"hovertemplate\":\"color=felt\\u003cbr\\u003ex=%{x}\\u003cbr\\u003ey=%{y}\\u003cbr\\u003ez=%{z}\\u003cextra\\u003e\\u003c\\u002fextra\\u003e\",\"legendgroup\":\"felt\",\"marker\":{\"color\":\"#FECB52\",\"symbol\":\"circle\"},\"mode\":\"markers\",\"name\":\"felt\",\"scene\":\"scene\",\"showlegend\":true,\"x\":[0.05427229404449463],\"y\":[-0.5335797667503357],\"z\":[0.24772489070892334],\"type\":\"scatter3d\"},{\"hovertemplate\":\"color=hogwarts\\u003cbr\\u003ex=%{x}\\u003cbr\\u003ey=%{y}\\u003cbr\\u003ez=%{z}\\u003cextra\\u003e\\u003c\\u002fextra\\u003e\",\"legendgroup\":\"hogwarts\",\"marker\":{\"color\":\"#636efa\",\"symbol\":\"circle\"},\"mode\":\"markers\",\"name\":\"hogwarts\",\"scene\":\"scene\",\"showlegend\":true,\"x\":[-0.6260201930999756],\"y\":[-0.44534578919410706],\"z\":[-0.5152229070663452],\"type\":\"scatter3d\"},{\"hovertemplate\":\"color=great\\u003cbr\\u003ex=%{x}\\u003cbr\\u003ey=%{y}\\u003cbr\\u003ez=%{z}\\u003cextra\\u003e\\u003c\\u002fextra\\u003e\",\"legendgroup\":\"great\",\"marker\":{\"color\":\"#EF553B\",\"symbol\":\"circle\"},\"mode\":\"markers\",\"name\":\"great\",\"scene\":\"scene\",\"showlegend\":true,\"x\":[0.26003924012184143],\"y\":[-0.32781168818473816],\"z\":[-0.4081961512565613],\"type\":\"scatter3d\"},{\"hovertemplate\":\"color=might\\u003cbr\\u003ex=%{x}\\u003cbr\\u003ey=%{y}\\u003cbr\\u003ez=%{z}\\u003cextra\\u003e\\u003c\\u002fextra\\u003e\",\"legendgroup\":\"might\",\"marker\":{\"color\":\"#00cc96\",\"symbol\":\"circle\"},\"mode\":\"markers\",\"name\":\"might\",\"scene\":\"scene\",\"showlegend\":true,\"x\":[-0.5681546330451965],\"y\":[-0.4358454644680023],\"z\":[0.05362643674015999],\"type\":\"scatter3d\"},{\"hovertemplate\":\"color=has\\u003cbr\\u003ex=%{x}\\u003cbr\\u003ey=%{y}\\u003cbr\\u003ez=%{z}\\u003cextra\\u003e\\u003c\\u002fextra\\u003e\",\"legendgroup\":\"has\",\"marker\":{\"color\":\"#ab63fa\",\"symbol\":\"circle\"},\"mode\":\"markers\",\"name\":\"has\",\"scene\":\"scene\",\"showlegend\":true,\"x\":[-0.7297264337539673],\"y\":[-0.27253034710884094],\"z\":[-0.07129805535078049],\"type\":\"scatter3d\"},{\"hovertemplate\":\"color=ever\\u003cbr\\u003ex=%{x}\\u003cbr\\u003ey=%{y}\\u003cbr\\u003ez=%{z}\\u003cextra\\u003e\\u003c\\u002fextra\\u003e\",\"legendgroup\":\"ever\",\"marker\":{\"color\":\"#FFA15A\",\"symbol\":\"circle\"},\"mode\":\"markers\",\"name\":\"ever\",\"scene\":\"scene\",\"showlegend\":true,\"x\":[-0.4618975818157196],\"y\":[-0.3753400146961212],\"z\":[-0.051497556269168854],\"type\":\"scatter3d\"},{\"hovertemplate\":\"color=front\\u003cbr\\u003ex=%{x}\\u003cbr\\u003ey=%{y}\\u003cbr\\u003ez=%{z}\\u003cextra\\u003e\\u003c\\u002fextra\\u003e\",\"legendgroup\":\"front\",\"marker\":{\"color\":\"#19d3f3\",\"symbol\":\"circle\"},\"mode\":\"markers\",\"name\":\"front\",\"scene\":\"scene\",\"showlegend\":true,\"x\":[0.48599159717559814],\"y\":[-0.49962058663368225],\"z\":[-0.13637545704841614],\"type\":\"scatter3d\"},{\"hovertemplate\":\"color=lupin\\u003cbr\\u003ex=%{x}\\u003cbr\\u003ey=%{y}\\u003cbr\\u003ez=%{z}\\u003cextra\\u003e\\u003c\\u002fextra\\u003e\",\"legendgroup\":\"lupin\",\"marker\":{\"color\":\"#FF6692\",\"symbol\":\"circle\"},\"mode\":\"markers\",\"name\":\"lupin\",\"scene\":\"scene\",\"showlegend\":true,\"x\":[-0.20187953114509583],\"y\":[-0.30432412028312683],\"z\":[0.4571917951107025],\"type\":\"scatter3d\"},{\"hovertemplate\":\"color=george\\u003cbr\\u003ex=%{x}\\u003cbr\\u003ey=%{y}\\u003cbr\\u003ez=%{z}\\u003cextra\\u003e\\u003c\\u002fextra\\u003e\",\"legendgroup\":\"george\",\"marker\":{\"color\":\"#B6E880\",\"symbol\":\"circle\"},\"mode\":\"markers\",\"name\":\"george\",\"scene\":\"scene\",\"showlegend\":true,\"x\":[-0.11376751959323883],\"y\":[-0.38745439052581787],\"z\":[0.012240245938301086],\"type\":\"scatter3d\"},{\"hovertemplate\":\"color=neville\\u003cbr\\u003ex=%{x}\\u003cbr\\u003ey=%{y}\\u003cbr\\u003ez=%{z}\\u003cextra\\u003e\\u003c\\u002fextra\\u003e\",\"legendgroup\":\"neville\",\"marker\":{\"color\":\"#FF97FF\",\"symbol\":\"circle\"},\"mode\":\"markers\",\"name\":\"neville\",\"scene\":\"scene\",\"showlegend\":true,\"x\":[0.1682291030883789],\"y\":[-0.3273433744907379],\"z\":[0.49434685707092285],\"type\":\"scatter3d\"},{\"hovertemplate\":\"color=ginny\\u003cbr\\u003ex=%{x}\\u003cbr\\u003ey=%{y}\\u003cbr\\u003ez=%{z}\\u003cextra\\u003e\\u003c\\u002fextra\\u003e\",\"legendgroup\":\"ginny\",\"marker\":{\"color\":\"#FECB52\",\"symbol\":\"circle\"},\"mode\":\"markers\",\"name\":\"ginny\",\"scene\":\"scene\",\"showlegend\":true,\"x\":[-0.05473461002111435],\"y\":[-0.3732736110687256],\"z\":[0.296653151512146],\"type\":\"scatter3d\"},{\"hovertemplate\":\"color=death\\u003cbr\\u003ex=%{x}\\u003cbr\\u003ey=%{y}\\u003cbr\\u003ez=%{z}\\u003cextra\\u003e\\u003c\\u002fextra\\u003e\",\"legendgroup\":\"death\",\"marker\":{\"color\":\"#636efa\",\"symbol\":\"circle\"},\"mode\":\"markers\",\"name\":\"death\",\"scene\":\"scene\",\"showlegend\":true,\"x\":[-0.3653488755226135],\"y\":[-0.5418196320533752],\"z\":[-0.38409462571144104],\"type\":\"scatter3d\"},{\"hovertemplate\":\"color=came\\u003cbr\\u003ex=%{x}\\u003cbr\\u003ey=%{y}\\u003cbr\\u003ez=%{z}\\u003cextra\\u003e\\u003c\\u002fextra\\u003e\",\"legendgroup\":\"came\",\"marker\":{\"color\":\"#EF553B\",\"symbol\":\"circle\"},\"mode\":\"markers\",\"name\":\"came\",\"scene\":\"scene\",\"showlegend\":true,\"x\":[0.24381357431411743],\"y\":[-0.5215257406234741],\"z\":[-0.05852944403886795],\"type\":\"scatter3d\"},{\"hovertemplate\":\"color=three\\u003cbr\\u003ex=%{x}\\u003cbr\\u003ey=%{y}\\u003cbr\\u003ez=%{z}\\u003cextra\\u003e\\u003c\\u002fextra\\u003e\",\"legendgroup\":\"three\",\"marker\":{\"color\":\"#00cc96\",\"symbol\":\"circle\"},\"mode\":\"markers\",\"name\":\"three\",\"scene\":\"scene\",\"showlegend\":true,\"x\":[-0.06641240417957306],\"y\":[-0.4799165725708008],\"z\":[-0.6206629276275635],\"type\":\"scatter3d\"},{\"hovertemplate\":\"color=take\\u003cbr\\u003ex=%{x}\\u003cbr\\u003ey=%{y}\\u003cbr\\u003ez=%{z}\\u003cextra\\u003e\\u003c\\u002fextra\\u003e\",\"legendgroup\":\"take\",\"marker\":{\"color\":\"#ab63fa\",\"symbol\":\"circle\"},\"mode\":\"markers\",\"name\":\"take\",\"scene\":\"scene\",\"showlegend\":true,\"x\":[-0.5952609777450562],\"y\":[-0.5012075304985046],\"z\":[0.08092021942138672],\"type\":\"scatter3d\"},{\"hovertemplate\":\"color=feet\\u003cbr\\u003ex=%{x}\\u003cbr\\u003ey=%{y}\\u003cbr\\u003ez=%{z}\\u003cextra\\u003e\\u003c\\u002fextra\\u003e\",\"legendgroup\":\"feet\",\"marker\":{\"color\":\"#FFA15A\",\"symbol\":\"circle\"},\"mode\":\"markers\",\"name\":\"feet\",\"scene\":\"scene\",\"showlegend\":true,\"x\":[0.5045589804649353],\"y\":[-0.5961602926254272],\"z\":[0.15023387968540192],\"type\":\"scatter3d\"},{\"hovertemplate\":\"color=must\\u003cbr\\u003ex=%{x}\\u003cbr\\u003ey=%{y}\\u003cbr\\u003ez=%{z}\\u003cextra\\u003e\\u003c\\u002fextra\\u003e\",\"legendgroup\":\"must\",\"marker\":{\"color\":\"#19d3f3\",\"symbol\":\"circle\"},\"mode\":\"markers\",\"name\":\"must\",\"scene\":\"scene\",\"showlegend\":true,\"x\":[-0.6545729637145996],\"y\":[-0.36224788427352905],\"z\":[0.05190441384911537],\"type\":\"scatter3d\"},{\"hovertemplate\":\"color=anything\\u003cbr\\u003ex=%{x}\\u003cbr\\u003ey=%{y}\\u003cbr\\u003ez=%{z}\\u003cextra\\u003e\\u003c\\u002fextra\\u003e\",\"legendgroup\":\"anything\",\"marker\":{\"color\":\"#FF6692\",\"symbol\":\"circle\"},\"mode\":\"markers\",\"name\":\"anything\",\"scene\":\"scene\",\"showlegend\":true,\"x\":[-0.6894969344139099],\"y\":[-0.3997218608856201],\"z\":[0.24526888132095337],\"type\":\"scatter3d\"},{\"hovertemplate\":\"color=sure\\u003cbr\\u003ex=%{x}\\u003cbr\\u003ey=%{y}\\u003cbr\\u003ez=%{z}\\u003cextra\\u003e\\u003c\\u002fextra\\u003e\",\"legendgroup\":\"sure\",\"marker\":{\"color\":\"#B6E880\",\"symbol\":\"circle\"},\"mode\":\"markers\",\"name\":\"sure\",\"scene\":\"scene\",\"showlegend\":true,\"x\":[-0.591023325920105],\"y\":[-0.4577150046825409],\"z\":[0.13913585245609283],\"type\":\"scatter3d\"},{\"hovertemplate\":\"color=mcgonagall\\u003cbr\\u003ex=%{x}\\u003cbr\\u003ey=%{y}\\u003cbr\\u003ez=%{z}\\u003cextra\\u003e\\u003c\\u002fextra\\u003e\",\"legendgroup\":\"mcgonagall\",\"marker\":{\"color\":\"#FF97FF\",\"symbol\":\"circle\"},\"mode\":\"markers\",\"name\":\"mcgonagall\",\"scene\":\"scene\",\"showlegend\":true,\"x\":[-0.1497420370578766],\"y\":[-0.3778902292251587],\"z\":[0.10306241363286972],\"type\":\"scatter3d\"},{\"hovertemplate\":\"color=next\\u003cbr\\u003ex=%{x}\\u003cbr\\u003ey=%{y}\\u003cbr\\u003ez=%{z}\\u003cextra\\u003e\\u003c\\u002fextra\\u003e\",\"legendgroup\":\"next\",\"marker\":{\"color\":\"#FECB52\",\"symbol\":\"circle\"},\"mode\":\"markers\",\"name\":\"next\",\"scene\":\"scene\",\"showlegend\":true,\"x\":[-0.0628756508231163],\"y\":[-0.5567173957824707],\"z\":[-0.28234410285949707],\"type\":\"scatter3d\"},{\"hovertemplate\":\"color=took\\u003cbr\\u003ex=%{x}\\u003cbr\\u003ey=%{y}\\u003cbr\\u003ez=%{z}\\u003cextra\\u003e\\u003c\\u002fextra\\u003e\",\"legendgroup\":\"took\",\"marker\":{\"color\":\"#636efa\",\"symbol\":\"circle\"},\"mode\":\"markers\",\"name\":\"took\",\"scene\":\"scene\",\"showlegend\":true,\"x\":[0.1407751739025116],\"y\":[-0.4571582078933716],\"z\":[0.06357558071613312],\"type\":\"scatter3d\"},{\"hovertemplate\":\"color=old\\u003cbr\\u003ex=%{x}\\u003cbr\\u003ey=%{y}\\u003cbr\\u003ez=%{z}\\u003cextra\\u003e\\u003c\\u002fextra\\u003e\",\"legendgroup\":\"old\",\"marker\":{\"color\":\"#EF553B\",\"symbol\":\"circle\"},\"mode\":\"markers\",\"name\":\"old\",\"scene\":\"scene\",\"showlegend\":true,\"x\":[-0.16581591963768005],\"y\":[-0.1110939085483551],\"z\":[-0.21461477875709534],\"type\":\"scatter3d\"},{\"hovertemplate\":\"color=trying\\u003cbr\\u003ex=%{x}\\u003cbr\\u003ey=%{y}\\u003cbr\\u003ez=%{z}\\u003cextra\\u003e\\u003c\\u002fextra\\u003e\",\"legendgroup\":\"trying\",\"marker\":{\"color\":\"#00cc96\",\"symbol\":\"circle\"},\"mode\":\"markers\",\"name\":\"trying\",\"scene\":\"scene\",\"showlegend\":true,\"x\":[-0.30257633328437805],\"y\":[-0.564749002456665],\"z\":[0.23541852831840515],\"type\":\"scatter3d\"},{\"hovertemplate\":\"color=yeah\\u003cbr\\u003ex=%{x}\\u003cbr\\u003ey=%{y}\\u003cbr\\u003ez=%{z}\\u003cextra\\u003e\\u003c\\u002fextra\\u003e\",\"legendgroup\":\"yeah\",\"marker\":{\"color\":\"#ab63fa\",\"symbol\":\"circle\"},\"mode\":\"markers\",\"name\":\"yeah\",\"scene\":\"scene\",\"showlegend\":true,\"x\":[-0.5492088794708252],\"y\":[-0.3092139661312103],\"z\":[0.5021268129348755],\"type\":\"scatter3d\"},{\"hovertemplate\":\"color=open\\u003cbr\\u003ex=%{x}\\u003cbr\\u003ey=%{y}\\u003cbr\\u003ez=%{z}\\u003cextra\\u003e\\u003c\\u002fextra\\u003e\",\"legendgroup\":\"open\",\"marker\":{\"color\":\"#FFA15A\",\"symbol\":\"circle\"},\"mode\":\"markers\",\"name\":\"open\",\"scene\":\"scene\",\"showlegend\":true,\"x\":[0.508496880531311],\"y\":[-0.573023796081543],\"z\":[0.18451464176177979],\"type\":\"scatter3d\"},{\"hovertemplate\":\"color=make\\u003cbr\\u003ex=%{x}\\u003cbr\\u003ey=%{y}\\u003cbr\\u003ez=%{z}\\u003cextra\\u003e\\u003c\\u002fextra\\u003e\",\"legendgroup\":\"make\",\"marker\":{\"color\":\"#19d3f3\",\"symbol\":\"circle\"},\"mode\":\"markers\",\"name\":\"make\",\"scene\":\"scene\",\"showlegend\":true,\"x\":[-0.5878735780715942],\"y\":[-0.5338006019592285],\"z\":[0.10802993923425674],\"type\":\"scatter3d\"},{\"hovertemplate\":\"color=another\\u003cbr\\u003ex=%{x}\\u003cbr\\u003ey=%{y}\\u003cbr\\u003ez=%{z}\\u003cextra\\u003e\\u003c\\u002fextra\\u003e\",\"legendgroup\":\"another\",\"marker\":{\"color\":\"#FF6692\",\"symbol\":\"circle\"},\"mode\":\"markers\",\"name\":\"another\",\"scene\":\"scene\",\"showlegend\":true,\"x\":[-0.034205734729766846],\"y\":[-0.45253491401672363],\"z\":[-0.25604385137557983],\"type\":\"scatter3d\"},{\"hovertemplate\":\"color=nothing\\u003cbr\\u003ex=%{x}\\u003cbr\\u003ey=%{y}\\u003cbr\\u003ez=%{z}\\u003cextra\\u003e\\u003c\\u002fextra\\u003e\",\"legendgroup\":\"nothing\",\"marker\":{\"color\":\"#B6E880\",\"symbol\":\"circle\"},\"mode\":\"markers\",\"name\":\"nothing\",\"scene\":\"scene\",\"showlegend\":true,\"x\":[-0.32762327790260315],\"y\":[-0.4023350477218628],\"z\":[0.2169416844844818],\"type\":\"scatter3d\"},{\"hovertemplate\":\"color=house\\u003cbr\\u003ex=%{x}\\u003cbr\\u003ey=%{y}\\u003cbr\\u003ez=%{z}\\u003cextra\\u003e\\u003c\\u002fextra\\u003e\",\"legendgroup\":\"house\",\"marker\":{\"color\":\"#FF97FF\",\"symbol\":\"circle\"},\"mode\":\"markers\",\"name\":\"house\",\"scene\":\"scene\",\"showlegend\":true,\"x\":[-0.4330388009548187],\"y\":[-0.3383095860481262],\"z\":[-0.5063678622245789],\"type\":\"scatter3d\"},{\"hovertemplate\":\"color=few\\u003cbr\\u003ex=%{x}\\u003cbr\\u003ey=%{y}\\u003cbr\\u003ez=%{z}\\u003cextra\\u003e\\u003c\\u002fextra\\u003e\",\"legendgroup\":\"few\",\"marker\":{\"color\":\"#FECB52\",\"symbol\":\"circle\"},\"mode\":\"markers\",\"name\":\"few\",\"scene\":\"scene\",\"showlegend\":true,\"x\":[0.010064780712127686],\"y\":[-0.5696020126342773],\"z\":[-0.5226753950119019],\"type\":\"scatter3d\"},{\"hovertemplate\":\"color=while\\u003cbr\\u003ex=%{x}\\u003cbr\\u003ey=%{y}\\u003cbr\\u003ez=%{z}\\u003cextra\\u003e\\u003c\\u002fextra\\u003e\",\"legendgroup\":\"while\",\"marker\":{\"color\":\"#636efa\",\"symbol\":\"circle\"},\"mode\":\"markers\",\"name\":\"while\",\"scene\":\"scene\",\"showlegend\":true,\"x\":[-0.09557440131902695],\"y\":[-0.5393690466880798],\"z\":[-0.25665661692619324],\"type\":\"scatter3d\"},{\"hovertemplate\":\"color=table\\u003cbr\\u003ex=%{x}\\u003cbr\\u003ey=%{y}\\u003cbr\\u003ez=%{z}\\u003cextra\\u003e\\u003c\\u002fextra\\u003e\",\"legendgroup\":\"table\",\"marker\":{\"color\":\"#EF553B\",\"symbol\":\"circle\"},\"mode\":\"markers\",\"name\":\"table\",\"scene\":\"scene\",\"showlegend\":true,\"x\":[0.49184226989746094],\"y\":[-0.46579259634017944],\"z\":[-0.11495750397443771],\"type\":\"scatter3d\"},{\"hovertemplate\":\"color=went\\u003cbr\\u003ex=%{x}\\u003cbr\\u003ey=%{y}\\u003cbr\\u003ez=%{z}\\u003cextra\\u003e\\u003c\\u002fextra\\u003e\",\"legendgroup\":\"went\",\"marker\":{\"color\":\"#00cc96\",\"symbol\":\"circle\"},\"mode\":\"markers\",\"name\":\"went\",\"scene\":\"scene\",\"showlegend\":true,\"x\":[-0.17790921032428741],\"y\":[-0.5290141105651855],\"z\":[0.05678300932049751],\"type\":\"scatter3d\"},{\"hovertemplate\":\"color=inside\\u003cbr\\u003ex=%{x}\\u003cbr\\u003ey=%{y}\\u003cbr\\u003ez=%{z}\\u003cextra\\u003e\\u003c\\u002fextra\\u003e\",\"legendgroup\":\"inside\",\"marker\":{\"color\":\"#ab63fa\",\"symbol\":\"circle\"},\"mode\":\"markers\",\"name\":\"inside\",\"scene\":\"scene\",\"showlegend\":true,\"x\":[0.3478601574897766],\"y\":[-0.5045734643936157],\"z\":[0.029713742434978485],\"type\":\"scatter3d\"},{\"hovertemplate\":\"color=course\\u003cbr\\u003ex=%{x}\\u003cbr\\u003ey=%{y}\\u003cbr\\u003ez=%{z}\\u003cextra\\u003e\\u003c\\u002fextra\\u003e\",\"legendgroup\":\"course\",\"marker\":{\"color\":\"#FFA15A\",\"symbol\":\"circle\"},\"mode\":\"markers\",\"name\":\"course\",\"scene\":\"scene\",\"showlegend\":true,\"x\":[-0.7881980538368225],\"y\":[-0.2222532033920288],\"z\":[0.05570797249674797],\"type\":\"scatter3d\"},{\"hovertemplate\":\"color=floor\\u003cbr\\u003ex=%{x}\\u003cbr\\u003ey=%{y}\\u003cbr\\u003ez=%{z}\\u003cextra\\u003e\\u003c\\u002fextra\\u003e\",\"legendgroup\":\"floor\",\"marker\":{\"color\":\"#19d3f3\",\"symbol\":\"circle\"},\"mode\":\"markers\",\"name\":\"floor\",\"scene\":\"scene\",\"showlegend\":true,\"x\":[0.6670024394989014],\"y\":[-0.5407284498214722],\"z\":[-0.12487251311540604],\"type\":\"scatter3d\"},{\"hovertemplate\":\"color=against\\u003cbr\\u003ex=%{x}\\u003cbr\\u003ey=%{y}\\u003cbr\\u003ez=%{z}\\u003cextra\\u003e\\u003c\\u002fextra\\u003e\",\"legendgroup\":\"against\",\"marker\":{\"color\":\"#FF6692\",\"symbol\":\"circle\"},\"mode\":\"markers\",\"name\":\"against\",\"scene\":\"scene\",\"showlegend\":true,\"x\":[0.05999945104122162],\"y\":[-0.4272930324077606],\"z\":[-0.30990278720855713],\"type\":\"scatter3d\"},{\"hovertemplate\":\"color=school\\u003cbr\\u003ex=%{x}\\u003cbr\\u003ey=%{y}\\u003cbr\\u003ez=%{z}\\u003cextra\\u003e\\u003c\\u002fextra\\u003e\",\"legendgroup\":\"school\",\"marker\":{\"color\":\"#B6E880\",\"symbol\":\"circle\"},\"mode\":\"markers\",\"name\":\"school\",\"scene\":\"scene\",\"showlegend\":true,\"x\":[-0.7275434732437134],\"y\":[-0.4207349419593811],\"z\":[-0.5149931311607361],\"type\":\"scatter3d\"},{\"hovertemplate\":\"color=find\\u003cbr\\u003ex=%{x}\\u003cbr\\u003ey=%{y}\\u003cbr\\u003ez=%{z}\\u003cextra\\u003e\\u003c\\u002fextra\\u003e\",\"legendgroup\":\"find\",\"marker\":{\"color\":\"#FF97FF\",\"symbol\":\"circle\"},\"mode\":\"markers\",\"name\":\"find\",\"scene\":\"scene\",\"showlegend\":true,\"x\":[-0.6186281442642212],\"y\":[-0.5722572803497314],\"z\":[0.016544297337532043],\"type\":\"scatter3d\"},{\"hovertemplate\":\"color=own\\u003cbr\\u003ex=%{x}\\u003cbr\\u003ey=%{y}\\u003cbr\\u003ez=%{z}\\u003cextra\\u003e\\u003c\\u002fextra\\u003e\",\"legendgroup\":\"own\",\"marker\":{\"color\":\"#FECB52\",\"symbol\":\"circle\"},\"mode\":\"markers\",\"name\":\"own\",\"scene\":\"scene\",\"showlegend\":true,\"x\":[-0.07213068753480911],\"y\":[-0.36239081621170044],\"z\":[0.1398078352212906],\"type\":\"scatter3d\"},{\"hovertemplate\":\"color=large\\u003cbr\\u003ex=%{x}\\u003cbr\\u003ey=%{y}\\u003cbr\\u003ez=%{z}\\u003cextra\\u003e\\u003c\\u002fextra\\u003e\",\"legendgroup\":\"large\",\"marker\":{\"color\":\"#636efa\",\"symbol\":\"circle\"},\"mode\":\"markers\",\"name\":\"large\",\"scene\":\"scene\",\"showlegend\":true,\"x\":[0.6140541434288025],\"y\":[-0.2780780792236328],\"z\":[-0.2234421670436859],\"type\":\"scatter3d\"},{\"hovertemplate\":\"color=put\\u003cbr\\u003ex=%{x}\\u003cbr\\u003ey=%{y}\\u003cbr\\u003ez=%{z}\\u003cextra\\u003e\\u003c\\u002fextra\\u003e\",\"legendgroup\":\"put\",\"marker\":{\"color\":\"#EF553B\",\"symbol\":\"circle\"},\"mode\":\"markers\",\"name\":\"put\",\"scene\":\"scene\",\"showlegend\":true,\"x\":[-0.3461489677429199],\"y\":[-0.4960614740848541],\"z\":[0.11980143934488297],\"type\":\"scatter3d\"},{\"hovertemplate\":\"color=under\\u003cbr\\u003ex=%{x}\\u003cbr\\u003ey=%{y}\\u003cbr\\u003ez=%{z}\\u003cextra\\u003e\\u003c\\u002fextra\\u003e\",\"legendgroup\":\"under\",\"marker\":{\"color\":\"#00cc96\",\"symbol\":\"circle\"},\"mode\":\"markers\",\"name\":\"under\",\"scene\":\"scene\",\"showlegend\":true,\"x\":[0.36753392219543457],\"y\":[-0.3869149684906006],\"z\":[0.03678233548998833],\"type\":\"scatter3d\"},{\"hovertemplate\":\"color=umbridge\\u003cbr\\u003ex=%{x}\\u003cbr\\u003ey=%{y}\\u003cbr\\u003ez=%{z}\\u003cextra\\u003e\\u003c\\u002fextra\\u003e\",\"legendgroup\":\"umbridge\",\"marker\":{\"color\":\"#ab63fa\",\"symbol\":\"circle\"},\"mode\":\"markers\",\"name\":\"umbridge\",\"scene\":\"scene\",\"showlegend\":true,\"x\":[-0.1951979100704193],\"y\":[-0.2669393718242645],\"z\":[0.1902928650379181],\"type\":\"scatter3d\"},{\"hovertemplate\":\"color=toward\\u003cbr\\u003ex=%{x}\\u003cbr\\u003ey=%{y}\\u003cbr\\u003ez=%{z}\\u003cextra\\u003e\\u003c\\u002fextra\\u003e\",\"legendgroup\":\"toward\",\"marker\":{\"color\":\"#FFA15A\",\"symbol\":\"circle\"},\"mode\":\"markers\",\"name\":\"toward\",\"scene\":\"scene\",\"showlegend\":true,\"x\":[0.5347380042076111],\"y\":[-0.5305981040000916],\"z\":[0.08141445368528366],\"type\":\"scatter3d\"},{\"hovertemplate\":\"color=every\\u003cbr\\u003ex=%{x}\\u003cbr\\u003ey=%{y}\\u003cbr\\u003ez=%{z}\\u003cextra\\u003e\\u003c\\u002fextra\\u003e\",\"legendgroup\":\"every\",\"marker\":{\"color\":\"#19d3f3\",\"symbol\":\"circle\"},\"mode\":\"markers\",\"name\":\"every\",\"scene\":\"scene\",\"showlegend\":true,\"x\":[-0.10781815648078918],\"y\":[-0.4162144064903259],\"z\":[-0.576869010925293],\"type\":\"scatter3d\"},{\"hovertemplate\":\"color=hall\\u003cbr\\u003ex=%{x}\\u003cbr\\u003ey=%{y}\\u003cbr\\u003ez=%{z}\\u003cextra\\u003e\\u003c\\u002fextra\\u003e\",\"legendgroup\":\"hall\",\"marker\":{\"color\":\"#FF6692\",\"symbol\":\"circle\"},\"mode\":\"markers\",\"name\":\"hall\",\"scene\":\"scene\",\"showlegend\":true,\"x\":[0.25543013215065],\"y\":[-0.5536304116249084],\"z\":[-0.4356865882873535],\"type\":\"scatter3d\"},{\"hovertemplate\":\"color=thing\\u003cbr\\u003ex=%{x}\\u003cbr\\u003ey=%{y}\\u003cbr\\u003ez=%{z}\\u003cextra\\u003e\\u003c\\u002fextra\\u003e\",\"legendgroup\":\"thing\",\"marker\":{\"color\":\"#B6E880\",\"symbol\":\"circle\"},\"mode\":\"markers\",\"name\":\"thing\",\"scene\":\"scene\",\"showlegend\":true,\"x\":[-0.6264852285385132],\"y\":[-0.43670153617858887],\"z\":[0.0023636147379875183],\"type\":\"scatter3d\"},{\"hovertemplate\":\"color=magic\\u003cbr\\u003ex=%{x}\\u003cbr\\u003ey=%{y}\\u003cbr\\u003ez=%{z}\\u003cextra\\u003e\\u003c\\u002fextra\\u003e\",\"legendgroup\":\"magic\",\"marker\":{\"color\":\"#FF97FF\",\"symbol\":\"circle\"},\"mode\":\"markers\",\"name\":\"magic\",\"scene\":\"scene\",\"showlegend\":true,\"x\":[-0.7364791035652161],\"y\":[-0.27494993805885315],\"z\":[-0.44340622425079346],\"type\":\"scatter3d\"},{\"hovertemplate\":\"color=seen\\u003cbr\\u003ex=%{x}\\u003cbr\\u003ey=%{y}\\u003cbr\\u003ez=%{z}\\u003cextra\\u003e\\u003c\\u002fextra\\u003e\",\"legendgroup\":\"seen\",\"marker\":{\"color\":\"#FECB52\",\"symbol\":\"circle\"},\"mode\":\"markers\",\"name\":\"seen\",\"scene\":\"scene\",\"showlegend\":true,\"x\":[-0.31681787967681885],\"y\":[-0.42842841148376465],\"z\":[0.03639008104801178],\"type\":\"scatter3d\"},{\"hovertemplate\":\"color=found\\u003cbr\\u003ex=%{x}\\u003cbr\\u003ey=%{y}\\u003cbr\\u003ez=%{z}\\u003cextra\\u003e\\u003c\\u002fextra\\u003e\",\"legendgroup\":\"found\",\"marker\":{\"color\":\"#636efa\",\"symbol\":\"circle\"},\"mode\":\"markers\",\"name\":\"found\",\"scene\":\"scene\",\"showlegend\":true,\"x\":[-0.2143780142068863],\"y\":[-0.5469226241111755],\"z\":[-0.08682241290807724],\"type\":\"scatter3d\"},{\"hovertemplate\":\"color=ministry\\u003cbr\\u003ex=%{x}\\u003cbr\\u003ey=%{y}\\u003cbr\\u003ez=%{z}\\u003cextra\\u003e\\u003c\\u002fextra\\u003e\",\"legendgroup\":\"ministry\",\"marker\":{\"color\":\"#EF553B\",\"symbol\":\"circle\"},\"mode\":\"markers\",\"name\":\"ministry\",\"scene\":\"scene\",\"showlegend\":true,\"x\":[-0.7925506234169006],\"y\":[-0.3229876160621643],\"z\":[-0.43851906061172485],\"type\":\"scatter3d\"},{\"hovertemplate\":\"color=gave\\u003cbr\\u003ex=%{x}\\u003cbr\\u003ey=%{y}\\u003cbr\\u003ez=%{z}\\u003cextra\\u003e\\u003c\\u002fextra\\u003e\",\"legendgroup\":\"gave\",\"marker\":{\"color\":\"#00cc96\",\"symbol\":\"circle\"},\"mode\":\"markers\",\"name\":\"gave\",\"scene\":\"scene\",\"showlegend\":true,\"x\":[0.14021596312522888],\"y\":[-0.2608313262462616],\"z\":[0.5305639505386353],\"type\":\"scatter3d\"},{\"hovertemplate\":\"color=our\\u003cbr\\u003ex=%{x}\\u003cbr\\u003ey=%{y}\\u003cbr\\u003ez=%{z}\\u003cextra\\u003e\\u003c\\u002fextra\\u003e\",\"legendgroup\":\"our\",\"marker\":{\"color\":\"#ab63fa\",\"symbol\":\"circle\"},\"mode\":\"markers\",\"name\":\"our\",\"scene\":\"scene\",\"showlegend\":true,\"x\":[-0.6875662207603455],\"y\":[-0.29115697741508484],\"z\":[-0.4240378737449646],\"type\":\"scatter3d\"},{\"hovertemplate\":\"color=gryffindor\\u003cbr\\u003ex=%{x}\\u003cbr\\u003ey=%{y}\\u003cbr\\u003ez=%{z}\\u003cextra\\u003e\\u003c\\u002fextra\\u003e\",\"legendgroup\":\"gryffindor\",\"marker\":{\"color\":\"#FFA15A\",\"symbol\":\"circle\"},\"mode\":\"markers\",\"name\":\"gryffindor\",\"scene\":\"scene\",\"showlegend\":true,\"x\":[-0.17048519849777222],\"y\":[-0.47320452332496643],\"z\":[-0.6153912544250488],\"type\":\"scatter3d\"},{\"hovertemplate\":\"color=hands\\u003cbr\\u003ex=%{x}\\u003cbr\\u003ey=%{y}\\u003cbr\\u003ez=%{z}\\u003cextra\\u003e\\u003c\\u002fextra\\u003e\",\"legendgroup\":\"hands\",\"marker\":{\"color\":\"#19d3f3\",\"symbol\":\"circle\"},\"mode\":\"markers\",\"name\":\"hands\",\"scene\":\"scene\",\"showlegend\":true,\"x\":[0.4808546304702759],\"y\":[-0.390516072511673],\"z\":[0.45812007784843445],\"type\":\"scatter3d\"},{\"hovertemplate\":\"color=place\\u003cbr\\u003ex=%{x}\\u003cbr\\u003ey=%{y}\\u003cbr\\u003ez=%{z}\\u003cextra\\u003e\\u003c\\u002fextra\\u003e\",\"legendgroup\":\"place\",\"marker\":{\"color\":\"#FF6692\",\"symbol\":\"circle\"},\"mode\":\"markers\",\"name\":\"place\",\"scene\":\"scene\",\"showlegend\":true,\"x\":[-0.4204656183719635],\"y\":[-0.4500539302825928],\"z\":[-0.5140929222106934],\"type\":\"scatter3d\"},{\"hovertemplate\":\"color=both\\u003cbr\\u003ex=%{x}\\u003cbr\\u003ey=%{y}\\u003cbr\\u003ez=%{z}\\u003cextra\\u003e\\u003c\\u002fextra\\u003e\",\"legendgroup\":\"both\",\"marker\":{\"color\":\"#B6E880\",\"symbol\":\"circle\"},\"mode\":\"markers\",\"name\":\"both\",\"scene\":\"scene\",\"showlegend\":true,\"x\":[0.22779899835586548],\"y\":[-0.36765921115875244],\"z\":[0.1570199579000473],\"type\":\"scatter3d\"},{\"hovertemplate\":\"color=need\\u003cbr\\u003ex=%{x}\\u003cbr\\u003ey=%{y}\\u003cbr\\u003ez=%{z}\\u003cextra\\u003e\\u003c\\u002fextra\\u003e\",\"legendgroup\":\"need\",\"marker\":{\"color\":\"#FF97FF\",\"symbol\":\"circle\"},\"mode\":\"markers\",\"name\":\"need\",\"scene\":\"scene\",\"showlegend\":true,\"x\":[-0.6404335498809814],\"y\":[-0.4410228729248047],\"z\":[0.19206498563289642],\"type\":\"scatter3d\"},{\"hovertemplate\":\"color=stood\\u003cbr\\u003ex=%{x}\\u003cbr\\u003ey=%{y}\\u003cbr\\u003ez=%{z}\\u003cextra\\u003e\\u003c\\u002fextra\\u003e\",\"legendgroup\":\"stood\",\"marker\":{\"color\":\"#FECB52\",\"symbol\":\"circle\"},\"mode\":\"markers\",\"name\":\"stood\",\"scene\":\"scene\",\"showlegend\":true,\"x\":[0.5214911103248596],\"y\":[-0.4725714921951294],\"z\":[-0.06484571844339371],\"type\":\"scatter3d\"},{\"hovertemplate\":\"color=hear\\u003cbr\\u003ex=%{x}\\u003cbr\\u003ey=%{y}\\u003cbr\\u003ez=%{z}\\u003cextra\\u003e\\u003c\\u002fextra\\u003e\",\"legendgroup\":\"hear\",\"marker\":{\"color\":\"#636efa\",\"symbol\":\"circle\"},\"mode\":\"markers\",\"name\":\"hear\",\"scene\":\"scene\",\"showlegend\":true,\"x\":[-0.186330184340477],\"y\":[-0.5436607003211975],\"z\":[0.2583129107952118],\"type\":\"scatter3d\"},{\"hovertemplate\":\"color=most\\u003cbr\\u003ex=%{x}\\u003cbr\\u003ey=%{y}\\u003cbr\\u003ez=%{z}\\u003cextra\\u003e\\u003c\\u002fextra\\u003e\",\"legendgroup\":\"most\",\"marker\":{\"color\":\"#EF553B\",\"symbol\":\"circle\"},\"mode\":\"markers\",\"name\":\"most\",\"scene\":\"scene\",\"showlegend\":true,\"x\":[-0.6780747175216675],\"y\":[-0.24199578166007996],\"z\":[-0.47490566968917847],\"type\":\"scatter3d\"},{\"hovertemplate\":\"color=night\\u003cbr\\u003ex=%{x}\\u003cbr\\u003ey=%{y}\\u003cbr\\u003ez=%{z}\\u003cextra\\u003e\\u003c\\u002fextra\\u003e\",\"legendgroup\":\"night\",\"marker\":{\"color\":\"#00cc96\",\"symbol\":\"circle\"},\"mode\":\"markers\",\"name\":\"night\",\"scene\":\"scene\",\"showlegend\":true,\"x\":[-0.34000349044799805],\"y\":[-0.5749256610870361],\"z\":[-0.3303162455558777],\"type\":\"scatter3d\"},{\"hovertemplate\":\"color=end\\u003cbr\\u003ex=%{x}\\u003cbr\\u003ey=%{y}\\u003cbr\\u003ez=%{z}\\u003cextra\\u003e\\u003c\\u002fextra\\u003e\",\"legendgroup\":\"end\",\"marker\":{\"color\":\"#ab63fa\",\"symbol\":\"circle\"},\"mode\":\"markers\",\"name\":\"end\",\"scene\":\"scene\",\"showlegend\":true,\"x\":[0.10857385396957397],\"y\":[-0.5848342180252075],\"z\":[-0.41680365800857544],\"type\":\"scatter3d\"},{\"hovertemplate\":\"color=pulled\\u003cbr\\u003ex=%{x}\\u003cbr\\u003ey=%{y}\\u003cbr\\u003ez=%{z}\\u003cextra\\u003e\\u003c\\u002fextra\\u003e\",\"legendgroup\":\"pulled\",\"marker\":{\"color\":\"#FFA15A\",\"symbol\":\"circle\"},\"mode\":\"markers\",\"name\":\"pulled\",\"scene\":\"scene\",\"showlegend\":true,\"x\":[0.4160756468772888],\"y\":[-0.47646450996398926],\"z\":[0.2996087670326233],\"type\":\"scatter3d\"},{\"hovertemplate\":\"color=without\\u003cbr\\u003ex=%{x}\\u003cbr\\u003ey=%{y}\\u003cbr\\u003ez=%{z}\\u003cextra\\u003e\\u003c\\u002fextra\\u003e\",\"legendgroup\":\"without\",\"marker\":{\"color\":\"#19d3f3\",\"symbol\":\"circle\"},\"mode\":\"markers\",\"name\":\"without\",\"scene\":\"scene\",\"showlegend\":true,\"x\":[-0.40838801860809326],\"y\":[-0.5222911834716797],\"z\":[-0.03869359940290451],\"type\":\"scatter3d\"},{\"hovertemplate\":\"color=hair\\u003cbr\\u003ex=%{x}\\u003cbr\\u003ey=%{y}\\u003cbr\\u003ez=%{z}\\u003cextra\\u003e\\u003c\\u002fextra\\u003e\",\"legendgroup\":\"hair\",\"marker\":{\"color\":\"#FF6692\",\"symbol\":\"circle\"},\"mode\":\"markers\",\"name\":\"hair\",\"scene\":\"scene\",\"showlegend\":true,\"x\":[0.5073157548904419],\"y\":[-0.21993666887283325],\"z\":[0.2222408652305603],\"type\":\"scatter3d\"},{\"hovertemplate\":\"color=mean\\u003cbr\\u003ex=%{x}\\u003cbr\\u003ey=%{y}\\u003cbr\\u003ez=%{z}\\u003cextra\\u003e\\u003c\\u002fextra\\u003e\",\"legendgroup\":\"mean\",\"marker\":{\"color\":\"#B6E880\",\"symbol\":\"circle\"},\"mode\":\"markers\",\"name\":\"mean\",\"scene\":\"scene\",\"showlegend\":true,\"x\":[-0.7954949140548706],\"y\":[-0.26632094383239746],\"z\":[0.3665735721588135],\"type\":\"scatter3d\"},{\"hovertemplate\":\"color=each\\u003cbr\\u003ex=%{x}\\u003cbr\\u003ey=%{y}\\u003cbr\\u003ez=%{z}\\u003cextra\\u003e\\u003c\\u002fextra\\u003e\",\"legendgroup\":\"each\",\"marker\":{\"color\":\"#FF97FF\",\"symbol\":\"circle\"},\"mode\":\"markers\",\"name\":\"each\",\"scene\":\"scene\",\"showlegend\":true,\"x\":[0.15128061175346375],\"y\":[-0.4505883753299713],\"z\":[-0.31099316477775574],\"type\":\"scatter3d\"},{\"hovertemplate\":\"color=wanted\\u003cbr\\u003ex=%{x}\\u003cbr\\u003ey=%{y}\\u003cbr\\u003ez=%{z}\\u003cextra\\u003e\\u003c\\u002fextra\\u003e\",\"legendgroup\":\"wanted\",\"marker\":{\"color\":\"#FECB52\",\"symbol\":\"circle\"},\"mode\":\"markers\",\"name\":\"wanted\",\"scene\":\"scene\",\"showlegend\":true,\"x\":[-0.7256158590316772],\"y\":[-0.5071516036987305],\"z\":[0.25432854890823364],\"type\":\"scatter3d\"},{\"hovertemplate\":\"color=upon\\u003cbr\\u003ex=%{x}\\u003cbr\\u003ey=%{y}\\u003cbr\\u003ez=%{z}\\u003cextra\\u003e\\u003c\\u002fextra\\u003e\",\"legendgroup\":\"upon\",\"marker\":{\"color\":\"#636efa\",\"symbol\":\"circle\"},\"mode\":\"markers\",\"name\":\"upon\",\"scene\":\"scene\",\"showlegend\":true,\"x\":[0.35443031787872314],\"y\":[-0.3266356885433197],\"z\":[-0.013846352696418762],\"type\":\"scatter3d\"},{\"hovertemplate\":\"color=across\\u003cbr\\u003ex=%{x}\\u003cbr\\u003ey=%{y}\\u003cbr\\u003ez=%{z}\\u003cextra\\u003e\\u003c\\u002fextra\\u003e\",\"legendgroup\":\"across\",\"marker\":{\"color\":\"#EF553B\",\"symbol\":\"circle\"},\"mode\":\"markers\",\"name\":\"across\",\"scene\":\"scene\",\"showlegend\":true,\"x\":[0.622535228729248],\"y\":[-0.47433537244796753],\"z\":[-0.03145613521337509],\"type\":\"scatter3d\"},{\"hovertemplate\":\"color=boy\\u003cbr\\u003ex=%{x}\\u003cbr\\u003ey=%{y}\\u003cbr\\u003ez=%{z}\\u003cextra\\u003e\\u003c\\u002fextra\\u003e\",\"legendgroup\":\"boy\",\"marker\":{\"color\":\"#00cc96\",\"symbol\":\"circle\"},\"mode\":\"markers\",\"name\":\"boy\",\"scene\":\"scene\",\"showlegend\":true,\"x\":[-0.5909676551818848],\"y\":[-0.10878613591194153],\"z\":[0.16479378938674927],\"type\":\"scatter3d\"},{\"hovertemplate\":\"color=being\\u003cbr\\u003ex=%{x}\\u003cbr\\u003ey=%{y}\\u003cbr\\u003ez=%{z}\\u003cextra\\u003e\\u003c\\u002fextra\\u003e\",\"legendgroup\":\"being\",\"marker\":{\"color\":\"#ab63fa\",\"symbol\":\"circle\"},\"mode\":\"markers\",\"name\":\"being\",\"scene\":\"scene\",\"showlegend\":true,\"x\":[-0.5702508687973022],\"y\":[-0.30184999108314514],\"z\":[-0.16052308678627014],\"type\":\"scatter3d\"},{\"hovertemplate\":\"color=bit\\u003cbr\\u003ex=%{x}\\u003cbr\\u003ey=%{y}\\u003cbr\\u003ez=%{z}\\u003cextra\\u003e\\u003c\\u002fextra\\u003e\",\"legendgroup\":\"bit\",\"marker\":{\"color\":\"#FFA15A\",\"symbol\":\"circle\"},\"mode\":\"markers\",\"name\":\"bit\",\"scene\":\"scene\",\"showlegend\":true,\"x\":[-0.6792283654212952],\"y\":[-0.304044246673584],\"z\":[0.3063047528266907],\"type\":\"scatter3d\"},{\"hovertemplate\":\"color=air\\u003cbr\\u003ex=%{x}\\u003cbr\\u003ey=%{y}\\u003cbr\\u003ez=%{z}\\u003cextra\\u003e\\u003c\\u002fextra\\u003e\",\"legendgroup\":\"air\",\"marker\":{\"color\":\"#19d3f3\",\"symbol\":\"circle\"},\"mode\":\"markers\",\"name\":\"air\",\"scene\":\"scene\",\"showlegend\":true,\"x\":[0.6582956910133362],\"y\":[-0.45122411847114563],\"z\":[-0.020997755229473114],\"type\":\"scatter3d\"},{\"hovertemplate\":\"color=couldn\\u003cbr\\u003ex=%{x}\\u003cbr\\u003ey=%{y}\\u003cbr\\u003ez=%{z}\\u003cextra\\u003e\\u003c\\u002fextra\\u003e\",\"legendgroup\":\"couldn\",\"marker\":{\"color\":\"#FF6692\",\"symbol\":\"circle\"},\"mode\":\"markers\",\"name\":\"couldn\",\"scene\":\"scene\",\"showlegend\":true,\"x\":[-0.4718603491783142],\"y\":[-0.48107659816741943],\"z\":[0.42170587182044983],\"type\":\"scatter3d\"},{\"hovertemplate\":\"color=quite\\u003cbr\\u003ex=%{x}\\u003cbr\\u003ey=%{y}\\u003cbr\\u003ez=%{z}\\u003cextra\\u003e\\u003c\\u002fextra\\u003e\",\"legendgroup\":\"quite\",\"marker\":{\"color\":\"#B6E880\",\"symbol\":\"circle\"},\"mode\":\"markers\",\"name\":\"quite\",\"scene\":\"scene\",\"showlegend\":true,\"x\":[-0.3360482454299927],\"y\":[-0.20507162809371948],\"z\":[0.27425116300582886],\"type\":\"scatter3d\"},{\"hovertemplate\":\"color=wasn\\u003cbr\\u003ex=%{x}\\u003cbr\\u003ey=%{y}\\u003cbr\\u003ez=%{z}\\u003cextra\\u003e\\u003c\\u002fextra\\u003e\",\"legendgroup\":\"wasn\",\"marker\":{\"color\":\"#FF97FF\",\"symbol\":\"circle\"},\"mode\":\"markers\",\"name\":\"wasn\",\"scene\":\"scene\",\"showlegend\":true,\"x\":[-0.6258648633956909],\"y\":[-0.39000988006591797],\"z\":[0.3291889727115631],\"type\":\"scatter3d\"},{\"hovertemplate\":\"color=year\\u003cbr\\u003ex=%{x}\\u003cbr\\u003ey=%{y}\\u003cbr\\u003ez=%{z}\\u003cextra\\u003e\\u003c\\u002fextra\\u003e\",\"legendgroup\":\"year\",\"marker\":{\"color\":\"#FECB52\",\"symbol\":\"circle\"},\"mode\":\"markers\",\"name\":\"year\",\"scene\":\"scene\",\"showlegend\":true,\"x\":[-0.6415585875511169],\"y\":[-0.36249494552612305],\"z\":[-0.4560566544532776],\"type\":\"scatter3d\"},{\"hovertemplate\":\"color=uncle\\u003cbr\\u003ex=%{x}\\u003cbr\\u003ey=%{y}\\u003cbr\\u003ez=%{z}\\u003cextra\\u003e\\u003c\\u002fextra\\u003e\",\"legendgroup\":\"uncle\",\"marker\":{\"color\":\"#636efa\",\"symbol\":\"circle\"},\"mode\":\"markers\",\"name\":\"uncle\",\"scene\":\"scene\",\"showlegend\":true,\"x\":[-0.08993162959814072],\"y\":[-0.39118731021881104],\"z\":[0.31255000829696655],\"type\":\"scatter3d\"},{\"hovertemplate\":\"color=man\\u003cbr\\u003ex=%{x}\\u003cbr\\u003ey=%{y}\\u003cbr\\u003ez=%{z}\\u003cextra\\u003e\\u003c\\u002fextra\\u003e\",\"legendgroup\":\"man\",\"marker\":{\"color\":\"#EF553B\",\"symbol\":\"circle\"},\"mode\":\"markers\",\"name\":\"man\",\"scene\":\"scene\",\"showlegend\":true,\"x\":[0.2195548713207245],\"y\":[-0.16920921206474304],\"z\":[0.12668544054031372],\"type\":\"scatter3d\"},{\"hovertemplate\":\"color=cloak\\u003cbr\\u003ex=%{x}\\u003cbr\\u003ey=%{y}\\u003cbr\\u003ez=%{z}\\u003cextra\\u003e\\u003c\\u002fextra\\u003e\",\"legendgroup\":\"cloak\",\"marker\":{\"color\":\"#00cc96\",\"symbol\":\"circle\"},\"mode\":\"markers\",\"name\":\"cloak\",\"scene\":\"scene\",\"showlegend\":true,\"x\":[0.2669205069541931],\"y\":[-0.5088925957679749],\"z\":[0.20583733916282654],\"type\":\"scatter3d\"},{\"hovertemplate\":\"color=years\\u003cbr\\u003ex=%{x}\\u003cbr\\u003ey=%{y}\\u003cbr\\u003ez=%{z}\\u003cextra\\u003e\\u003c\\u002fextra\\u003e\",\"legendgroup\":\"years\",\"marker\":{\"color\":\"#ab63fa\",\"symbol\":\"circle\"},\"mode\":\"markers\",\"name\":\"years\",\"scene\":\"scene\",\"showlegend\":true,\"x\":[-0.5233032703399658],\"y\":[-0.37337711453437805],\"z\":[-0.5853540897369385],\"type\":\"scatter3d\"},{\"hovertemplate\":\"color=better\\u003cbr\\u003ex=%{x}\\u003cbr\\u003ey=%{y}\\u003cbr\\u003ez=%{z}\\u003cextra\\u003e\\u003c\\u002fextra\\u003e\",\"legendgroup\":\"better\",\"marker\":{\"color\":\"#FFA15A\",\"symbol\":\"circle\"},\"mode\":\"markers\",\"name\":\"better\",\"scene\":\"scene\",\"showlegend\":true,\"x\":[-0.5799806714057922],\"y\":[-0.4121033549308777],\"z\":[0.21797612309455872],\"type\":\"scatter3d\"},{\"hovertemplate\":\"color=done\\u003cbr\\u003ex=%{x}\\u003cbr\\u003ey=%{y}\\u003cbr\\u003ez=%{z}\\u003cextra\\u003e\\u003c\\u002fextra\\u003e\",\"legendgroup\":\"done\",\"marker\":{\"color\":\"#19d3f3\",\"symbol\":\"circle\"},\"mode\":\"markers\",\"name\":\"done\",\"scene\":\"scene\",\"showlegend\":true,\"x\":[-0.5418565273284912],\"y\":[-0.4064543843269348],\"z\":[0.238282710313797],\"type\":\"scatter3d\"},{\"hovertemplate\":\"color=side\\u003cbr\\u003ex=%{x}\\u003cbr\\u003ey=%{y}\\u003cbr\\u003ez=%{z}\\u003cextra\\u003e\\u003c\\u002fextra\\u003e\",\"legendgroup\":\"side\",\"marker\":{\"color\":\"#FF6692\",\"symbol\":\"circle\"},\"mode\":\"markers\",\"name\":\"side\",\"scene\":\"scene\",\"showlegend\":true,\"x\":[0.37341737747192383],\"y\":[-0.5658478140830994],\"z\":[-0.14053460955619812],\"type\":\"scatter3d\"},{\"hovertemplate\":\"color=doing\\u003cbr\\u003ex=%{x}\\u003cbr\\u003ey=%{y}\\u003cbr\\u003ez=%{z}\\u003cextra\\u003e\\u003c\\u002fextra\\u003e\",\"legendgroup\":\"doing\",\"marker\":{\"color\":\"#B6E880\",\"symbol\":\"circle\"},\"mode\":\"markers\",\"name\":\"doing\",\"scene\":\"scene\",\"showlegend\":true,\"x\":[-0.5351928472518921],\"y\":[-0.3515564203262329],\"z\":[0.2039104402065277],\"type\":\"scatter3d\"},{\"hovertemplate\":\"color=happened\\u003cbr\\u003ex=%{x}\\u003cbr\\u003ey=%{y}\\u003cbr\\u003ez=%{z}\\u003cextra\\u003e\\u003c\\u002fextra\\u003e\",\"legendgroup\":\"happened\",\"marker\":{\"color\":\"#FF97FF\",\"symbol\":\"circle\"},\"mode\":\"markers\",\"name\":\"happened\",\"scene\":\"scene\",\"showlegend\":true,\"x\":[-0.4539059102535248],\"y\":[-0.39184004068374634],\"z\":[0.12462545186281204],\"type\":\"scatter3d\"},{\"hovertemplate\":\"color=help\\u003cbr\\u003ex=%{x}\\u003cbr\\u003ey=%{y}\\u003cbr\\u003ez=%{z}\\u003cextra\\u003e\\u003c\\u002fextra\\u003e\",\"legendgroup\":\"help\",\"marker\":{\"color\":\"#FECB52\",\"symbol\":\"circle\"},\"mode\":\"markers\",\"name\":\"help\",\"scene\":\"scene\",\"showlegend\":true,\"x\":[-0.5281663537025452],\"y\":[-0.4848770797252655],\"z\":[0.42018237709999084],\"type\":\"scatter3d\"},{\"hovertemplate\":\"color=keep\\u003cbr\\u003ex=%{x}\\u003cbr\\u003ey=%{y}\\u003cbr\\u003ez=%{z}\\u003cextra\\u003e\\u003c\\u002fextra\\u003e\",\"legendgroup\":\"keep\",\"marker\":{\"color\":\"#636efa\",\"symbol\":\"circle\"},\"mode\":\"markers\",\"name\":\"keep\",\"scene\":\"scene\",\"showlegend\":true,\"x\":[-0.48704299330711365],\"y\":[-0.5092653036117554],\"z\":[0.2792022228240967],\"type\":\"scatter3d\"},{\"hovertemplate\":\"color=half\\u003cbr\\u003ex=%{x}\\u003cbr\\u003ey=%{y}\\u003cbr\\u003ez=%{z}\\u003cextra\\u003e\\u003c\\u002fextra\\u003e\",\"legendgroup\":\"half\",\"marker\":{\"color\":\"#EF553B\",\"symbol\":\"circle\"},\"mode\":\"markers\",\"name\":\"half\",\"scene\":\"scene\",\"showlegend\":true,\"x\":[0.18583571910858154],\"y\":[-0.2138064205646515],\"z\":[-0.4089794158935547],\"type\":\"scatter3d\"},{\"hovertemplate\":\"color=enough\\u003cbr\\u003ex=%{x}\\u003cbr\\u003ey=%{y}\\u003cbr\\u003ez=%{z}\\u003cextra\\u003e\\u003c\\u002fextra\\u003e\",\"legendgroup\":\"enough\",\"marker\":{\"color\":\"#00cc96\",\"symbol\":\"circle\"},\"mode\":\"markers\",\"name\":\"enough\",\"scene\":\"scene\",\"showlegend\":true,\"x\":[-0.6914637088775635],\"y\":[-0.40259212255477905],\"z\":[0.02419573813676834],\"type\":\"scatter3d\"},{\"hovertemplate\":\"color=mind\\u003cbr\\u003ex=%{x}\\u003cbr\\u003ey=%{y}\\u003cbr\\u003ez=%{z}\\u003cextra\\u003e\\u003c\\u002fextra\\u003e\",\"legendgroup\":\"mind\",\"marker\":{\"color\":\"#ab63fa\",\"symbol\":\"circle\"},\"mode\":\"markers\",\"name\":\"mind\",\"scene\":\"scene\",\"showlegend\":true,\"x\":[-0.5568829774856567],\"y\":[-0.47652894258499146],\"z\":[0.3659115135669708],\"type\":\"scatter3d\"},{\"hovertemplate\":\"color=light\\u003cbr\\u003ex=%{x}\\u003cbr\\u003ey=%{y}\\u003cbr\\u003ez=%{z}\\u003cextra\\u003e\\u003c\\u002fextra\\u003e\",\"legendgroup\":\"light\",\"marker\":{\"color\":\"#FFA15A\",\"symbol\":\"circle\"},\"mode\":\"markers\",\"name\":\"light\",\"scene\":\"scene\",\"showlegend\":true,\"x\":[0.5974540710449219],\"y\":[-0.4525637626647949],\"z\":[-0.18093228340148926],\"type\":\"scatter3d\"},{\"hovertemplate\":\"color=wizard\\u003cbr\\u003ex=%{x}\\u003cbr\\u003ey=%{y}\\u003cbr\\u003ez=%{z}\\u003cextra\\u003e\\u003c\\u002fextra\\u003e\",\"legendgroup\":\"wizard\",\"marker\":{\"color\":\"#19d3f3\",\"symbol\":\"circle\"},\"mode\":\"markers\",\"name\":\"wizard\",\"scene\":\"scene\",\"showlegend\":true,\"x\":[-0.37479662895202637],\"y\":[-0.07803139090538025],\"z\":[-0.32963478565216064],\"type\":\"scatter3d\"},{\"hovertemplate\":\"color=moody\\u003cbr\\u003ex=%{x}\\u003cbr\\u003ey=%{y}\\u003cbr\\u003ez=%{z}\\u003cextra\\u003e\\u003c\\u002fextra\\u003e\",\"legendgroup\":\"moody\",\"marker\":{\"color\":\"#FF6692\",\"symbol\":\"circle\"},\"mode\":\"markers\",\"name\":\"moody\",\"scene\":\"scene\",\"showlegend\":true,\"x\":[-0.16220292448997498],\"y\":[-0.23895394802093506],\"z\":[0.30961328744888306],\"type\":\"scatter3d\"},{\"hovertemplate\":\"color=second\\u003cbr\\u003ex=%{x}\\u003cbr\\u003ey=%{y}\\u003cbr\\u003ez=%{z}\\u003cextra\\u003e\\u003c\\u002fextra\\u003e\",\"legendgroup\":\"second\",\"marker\":{\"color\":\"#B6E880\",\"symbol\":\"circle\"},\"mode\":\"markers\",\"name\":\"second\",\"scene\":\"scene\",\"showlegend\":true,\"x\":[0.1003618836402893],\"y\":[-0.5287414193153381],\"z\":[-0.35518527030944824],\"type\":\"scatter3d\"},{\"hovertemplate\":\"color=along\\u003cbr\\u003ex=%{x}\\u003cbr\\u003ey=%{y}\\u003cbr\\u003ez=%{z}\\u003cextra\\u003e\\u003c\\u002fextra\\u003e\",\"legendgroup\":\"along\",\"marker\":{\"color\":\"#FF97FF\",\"symbol\":\"circle\"},\"mode\":\"markers\",\"name\":\"along\",\"scene\":\"scene\",\"showlegend\":true,\"x\":[0.45941054821014404],\"y\":[-0.5503450036048889],\"z\":[-0.2984410524368286],\"type\":\"scatter3d\"},{\"hovertemplate\":\"color=vernon\\u003cbr\\u003ex=%{x}\\u003cbr\\u003ey=%{y}\\u003cbr\\u003ez=%{z}\\u003cextra\\u003e\\u003c\\u002fextra\\u003e\",\"legendgroup\":\"vernon\",\"marker\":{\"color\":\"#FECB52\",\"symbol\":\"circle\"},\"mode\":\"markers\",\"name\":\"vernon\",\"scene\":\"scene\",\"showlegend\":true,\"x\":[-0.03681182861328125],\"y\":[-0.2984767556190491],\"z\":[0.29018908739089966],\"type\":\"scatter3d\"},{\"hovertemplate\":\"color=those\\u003cbr\\u003ex=%{x}\\u003cbr\\u003ey=%{y}\\u003cbr\\u003ez=%{z}\\u003cextra\\u003e\\u003c\\u002fextra\\u003e\",\"legendgroup\":\"those\",\"marker\":{\"color\":\"#636efa\",\"symbol\":\"circle\"},\"mode\":\"markers\",\"name\":\"those\",\"scene\":\"scene\",\"showlegend\":true,\"x\":[-0.6045866012573242],\"y\":[-0.2489062249660492],\"z\":[-0.4972430467605591],\"type\":\"scatter3d\"},{\"hovertemplate\":\"color=should\\u003cbr\\u003ex=%{x}\\u003cbr\\u003ey=%{y}\\u003cbr\\u003ez=%{z}\\u003cextra\\u003e\\u003c\\u002fextra\\u003e\",\"legendgroup\":\"should\",\"marker\":{\"color\":\"#EF553B\",\"symbol\":\"circle\"},\"mode\":\"markers\",\"name\":\"should\",\"scene\":\"scene\",\"showlegend\":true,\"x\":[-0.6803403496742249],\"y\":[-0.345544695854187],\"z\":[0.06847347319126129],\"type\":\"scatter3d\"},{\"hovertemplate\":\"color=give\\u003cbr\\u003ex=%{x}\\u003cbr\\u003ey=%{y}\\u003cbr\\u003ez=%{z}\\u003cextra\\u003e\\u003c\\u002fextra\\u003e\",\"legendgroup\":\"give\",\"marker\":{\"color\":\"#00cc96\",\"symbol\":\"circle\"},\"mode\":\"markers\",\"name\":\"give\",\"scene\":\"scene\",\"showlegend\":true,\"x\":[-0.6546422243118286],\"y\":[-0.4343160092830658],\"z\":[0.2080526500940323],\"type\":\"scatter3d\"},{\"hovertemplate\":\"color=these\\u003cbr\\u003ex=%{x}\\u003cbr\\u003ey=%{y}\\u003cbr\\u003ez=%{z}\\u003cextra\\u003e\\u003c\\u002fextra\\u003e\",\"legendgroup\":\"these\",\"marker\":{\"color\":\"#ab63fa\",\"symbol\":\"circle\"},\"mode\":\"markers\",\"name\":\"these\",\"scene\":\"scene\",\"showlegend\":true,\"x\":[-0.7352572679519653],\"y\":[-0.25412797927856445],\"z\":[-0.4098646640777588],\"type\":\"scatter3d\"},{\"hovertemplate\":\"color=else\\u003cbr\\u003ex=%{x}\\u003cbr\\u003ey=%{y}\\u003cbr\\u003ez=%{z}\\u003cextra\\u003e\\u003c\\u002fextra\\u003e\",\"legendgroup\":\"else\",\"marker\":{\"color\":\"#FFA15A\",\"symbol\":\"circle\"},\"mode\":\"markers\",\"name\":\"else\",\"scene\":\"scene\",\"showlegend\":true,\"x\":[-0.5982621908187866],\"y\":[-0.43191057443618774],\"z\":[0.1701667308807373],\"type\":\"scatter3d\"},{\"hovertemplate\":\"color=fudge\\u003cbr\\u003ex=%{x}\\u003cbr\\u003ey=%{y}\\u003cbr\\u003ez=%{z}\\u003cextra\\u003e\\u003c\\u002fextra\\u003e\",\"legendgroup\":\"fudge\",\"marker\":{\"color\":\"#19d3f3\",\"symbol\":\"circle\"},\"mode\":\"markers\",\"name\":\"fudge\",\"scene\":\"scene\",\"showlegend\":true,\"x\":[-0.39616966247558594],\"y\":[-0.04621315002441406],\"z\":[0.24293914437294006],\"type\":\"scatter3d\"},{\"hovertemplate\":\"color=already\\u003cbr\\u003ex=%{x}\\u003cbr\\u003ey=%{y}\\u003cbr\\u003ez=%{z}\\u003cextra\\u003e\\u003c\\u002fextra\\u003e\",\"legendgroup\":\"already\",\"marker\":{\"color\":\"#FF6692\",\"symbol\":\"circle\"},\"mode\":\"markers\",\"name\":\"already\",\"scene\":\"scene\",\"showlegend\":true,\"x\":[-0.2744520306587219],\"y\":[-0.3804648518562317],\"z\":[-0.16588065028190613],\"type\":\"scatter3d\"},{\"hovertemplate\":\"color=bed\\u003cbr\\u003ex=%{x}\\u003cbr\\u003ey=%{y}\\u003cbr\\u003ez=%{z}\\u003cextra\\u003e\\u003c\\u002fextra\\u003e\",\"legendgroup\":\"bed\",\"marker\":{\"color\":\"#B6E880\",\"symbol\":\"circle\"},\"mode\":\"markers\",\"name\":\"bed\",\"scene\":\"scene\",\"showlegend\":true,\"x\":[0.3556409478187561],\"y\":[-0.615290105342865],\"z\":[0.10280079394578934],\"type\":\"scatter3d\"},{\"hovertemplate\":\"color=robes\\u003cbr\\u003ex=%{x}\\u003cbr\\u003ey=%{y}\\u003cbr\\u003ez=%{z}\\u003cextra\\u003e\\u003c\\u002fextra\\u003e\",\"legendgroup\":\"robes\",\"marker\":{\"color\":\"#FF97FF\",\"symbol\":\"circle\"},\"mode\":\"markers\",\"name\":\"robes\",\"scene\":\"scene\",\"showlegend\":true,\"x\":[0.6186009049415588],\"y\":[-0.3491480350494385],\"z\":[0.06771489232778549],\"type\":\"scatter3d\"},{\"hovertemplate\":\"color=small\\u003cbr\\u003ex=%{x}\\u003cbr\\u003ey=%{y}\\u003cbr\\u003ez=%{z}\\u003cextra\\u003e\\u003c\\u002fextra\\u003e\",\"legendgroup\":\"small\",\"marker\":{\"color\":\"#FECB52\",\"symbol\":\"circle\"},\"mode\":\"markers\",\"name\":\"small\",\"scene\":\"scene\",\"showlegend\":true,\"x\":[0.6282901763916016],\"y\":[-0.2762378752231598],\"z\":[-0.1638612151145935],\"type\":\"scatter3d\"},{\"hovertemplate\":\"color=yet\\u003cbr\\u003ex=%{x}\\u003cbr\\u003ey=%{y}\\u003cbr\\u003ez=%{z}\\u003cextra\\u003e\\u003c\\u002fextra\\u003e\",\"legendgroup\":\"yet\",\"marker\":{\"color\":\"#636efa\",\"symbol\":\"circle\"},\"mode\":\"markers\",\"name\":\"yet\",\"scene\":\"scene\",\"showlegend\":true,\"x\":[-0.5586072206497192],\"y\":[-0.36883312463760376],\"z\":[0.07979339361190796],\"type\":\"scatter3d\"},{\"hovertemplate\":\"color=walked\\u003cbr\\u003ex=%{x}\\u003cbr\\u003ey=%{y}\\u003cbr\\u003ez=%{z}\\u003cextra\\u003e\\u003c\\u002fextra\\u003e\",\"legendgroup\":\"walked\",\"marker\":{\"color\":\"#EF553B\",\"symbol\":\"circle\"},\"mode\":\"markers\",\"name\":\"walked\",\"scene\":\"scene\",\"showlegend\":true,\"x\":[0.3784611225128174],\"y\":[-0.5796664953231812],\"z\":[0.07366865873336792],\"type\":\"scatter3d\"},{\"hovertemplate\":\"color=gone\\u003cbr\\u003ex=%{x}\\u003cbr\\u003ey=%{y}\\u003cbr\\u003ez=%{z}\\u003cextra\\u003e\\u003c\\u002fextra\\u003e\",\"legendgroup\":\"gone\",\"marker\":{\"color\":\"#00cc96\",\"symbol\":\"circle\"},\"mode\":\"markers\",\"name\":\"gone\",\"scene\":\"scene\",\"showlegend\":true,\"x\":[-0.28952884674072266],\"y\":[-0.45153436064720154],\"z\":[0.08256867527961731],\"type\":\"scatter3d\"},{\"hovertemplate\":\"color=staring\\u003cbr\\u003ex=%{x}\\u003cbr\\u003ey=%{y}\\u003cbr\\u003ez=%{z}\\u003cextra\\u003e\\u003c\\u002fextra\\u003e\",\"legendgroup\":\"staring\",\"marker\":{\"color\":\"#ab63fa\",\"symbol\":\"circle\"},\"mode\":\"markers\",\"name\":\"staring\",\"scene\":\"scene\",\"showlegend\":true,\"x\":[0.3488216996192932],\"y\":[-0.45345309376716614],\"z\":[0.27658626437187195],\"type\":\"scatter3d\"},{\"hovertemplate\":\"color=many\\u003cbr\\u003ex=%{x}\\u003cbr\\u003ey=%{y}\\u003cbr\\u003ez=%{z}\\u003cextra\\u003e\\u003c\\u002fextra\\u003e\",\"legendgroup\":\"many\",\"marker\":{\"color\":\"#FFA15A\",\"symbol\":\"circle\"},\"mode\":\"markers\",\"name\":\"many\",\"scene\":\"scene\",\"showlegend\":true,\"x\":[-0.28996244072914124],\"y\":[-0.25873154401779175],\"z\":[-0.5981600284576416],\"type\":\"scatter3d\"},{\"hovertemplate\":\"color=eye\\u003cbr\\u003ex=%{x}\\u003cbr\\u003ey=%{y}\\u003cbr\\u003ez=%{z}\\u003cextra\\u003e\\u003c\\u002fextra\\u003e\",\"legendgroup\":\"eye\",\"marker\":{\"color\":\"#19d3f3\",\"symbol\":\"circle\"},\"mode\":\"markers\",\"name\":\"eye\",\"scene\":\"scene\",\"showlegend\":true,\"x\":[0.135528564453125],\"y\":[-0.27856287360191345],\"z\":[0.37481778860092163],\"type\":\"scatter3d\"},{\"hovertemplate\":\"color=day\\u003cbr\\u003ex=%{x}\\u003cbr\\u003ey=%{y}\\u003cbr\\u003ez=%{z}\\u003cextra\\u003e\\u003c\\u002fextra\\u003e\",\"legendgroup\":\"day\",\"marker\":{\"color\":\"#FF6692\",\"symbol\":\"circle\"},\"mode\":\"markers\",\"name\":\"day\",\"scene\":\"scene\",\"showlegend\":true,\"x\":[-0.5716434717178345],\"y\":[-0.4503382444381714],\"z\":[-0.42415696382522583],\"type\":\"scatter3d\"},{\"hovertemplate\":\"color=dobby\\u003cbr\\u003ex=%{x}\\u003cbr\\u003ey=%{y}\\u003cbr\\u003ez=%{z}\\u003cextra\\u003e\\u003c\\u002fextra\\u003e\",\"legendgroup\":\"dobby\",\"marker\":{\"color\":\"#B6E880\",\"symbol\":\"circle\"},\"mode\":\"markers\",\"name\":\"dobby\",\"scene\":\"scene\",\"showlegend\":true,\"x\":[-0.31520646810531616],\"y\":[-0.263834685087204],\"z\":[0.4305393099784851],\"type\":\"scatter3d\"},{\"hovertemplate\":\"color=won\\u003cbr\\u003ex=%{x}\\u003cbr\\u003ey=%{y}\\u003cbr\\u003ez=%{z}\\u003cextra\\u003e\\u003c\\u002fextra\\u003e\",\"legendgroup\":\"won\",\"marker\":{\"color\":\"#FF97FF\",\"symbol\":\"circle\"},\"mode\":\"markers\",\"name\":\"won\",\"scene\":\"scene\",\"showlegend\":true,\"x\":[-0.7135076522827148],\"y\":[-0.38591212034225464],\"z\":[0.22781461477279663],\"type\":\"scatter3d\"},{\"hovertemplate\":\"color=set\\u003cbr\\u003ex=%{x}\\u003cbr\\u003ey=%{y}\\u003cbr\\u003ez=%{z}\\u003cextra\\u003e\\u003c\\u002fextra\\u003e\",\"legendgroup\":\"set\",\"marker\":{\"color\":\"#FECB52\",\"symbol\":\"circle\"},\"mode\":\"markers\",\"name\":\"set\",\"scene\":\"scene\",\"showlegend\":true,\"x\":[0.11084729433059692],\"y\":[-0.45519816875457764],\"z\":[-0.2673714756965637],\"type\":\"scatter3d\"},{\"hovertemplate\":\"color=however\\u003cbr\\u003ex=%{x}\\u003cbr\\u003ey=%{y}\\u003cbr\\u003ez=%{z}\\u003cextra\\u003e\\u003c\\u002fextra\\u003e\",\"legendgroup\":\"however\",\"marker\":{\"color\":\"#636efa\",\"symbol\":\"circle\"},\"mode\":\"markers\",\"name\":\"however\",\"scene\":\"scene\",\"showlegend\":true,\"x\":[-0.34013283252716064],\"y\":[-0.27390041947364807],\"z\":[-0.20764198899269104],\"type\":\"scatter3d\"},{\"hovertemplate\":\"color=hard\\u003cbr\\u003ex=%{x}\\u003cbr\\u003ey=%{y}\\u003cbr\\u003ez=%{z}\\u003cextra\\u003e\\u003c\\u002fextra\\u003e\",\"legendgroup\":\"hard\",\"marker\":{\"color\":\"#EF553B\",\"symbol\":\"circle\"},\"mode\":\"markers\",\"name\":\"hard\",\"scene\":\"scene\",\"showlegend\":true,\"x\":[0.26480475068092346],\"y\":[-0.47432607412338257],\"z\":[0.3050101101398468],\"type\":\"scatter3d\"},{\"hovertemplate\":\"color=fell\\u003cbr\\u003ex=%{x}\\u003cbr\\u003ey=%{y}\\u003cbr\\u003ez=%{z}\\u003cextra\\u003e\\u003c\\u002fextra\\u003e\",\"legendgroup\":\"fell\",\"marker\":{\"color\":\"#00cc96\",\"symbol\":\"circle\"},\"mode\":\"markers\",\"name\":\"fell\",\"scene\":\"scene\",\"showlegend\":true,\"x\":[0.6294211745262146],\"y\":[-0.4661576747894287],\"z\":[0.08924418687820435],\"type\":\"scatter3d\"},{\"hovertemplate\":\"color=standing\\u003cbr\\u003ex=%{x}\\u003cbr\\u003ey=%{y}\\u003cbr\\u003ez=%{z}\\u003cextra\\u003e\\u003c\\u002fextra\\u003e\",\"legendgroup\":\"standing\",\"marker\":{\"color\":\"#ab63fa\",\"symbol\":\"circle\"},\"mode\":\"markers\",\"name\":\"standing\",\"scene\":\"scene\",\"showlegend\":true,\"x\":[0.5068387389183044],\"y\":[-0.3893919587135315],\"z\":[-0.05983708053827286],\"type\":\"scatter3d\"},{\"hovertemplate\":\"color=rather\\u003cbr\\u003ex=%{x}\\u003cbr\\u003ey=%{y}\\u003cbr\\u003ez=%{z}\\u003cextra\\u003e\\u003c\\u002fextra\\u003e\",\"legendgroup\":\"rather\",\"marker\":{\"color\":\"#FFA15A\",\"symbol\":\"circle\"},\"mode\":\"markers\",\"name\":\"rather\",\"scene\":\"scene\",\"showlegend\":true,\"x\":[-0.21801653504371643],\"y\":[-0.15467655658721924],\"z\":[0.30350279808044434],\"type\":\"scatter3d\"},{\"hovertemplate\":\"color=yeh\\u003cbr\\u003ex=%{x}\\u003cbr\\u003ey=%{y}\\u003cbr\\u003ez=%{z}\\u003cextra\\u003e\\u003c\\u002fextra\\u003e\",\"legendgroup\":\"yeh\",\"marker\":{\"color\":\"#19d3f3\",\"symbol\":\"circle\"},\"mode\":\"markers\",\"name\":\"yeh\",\"scene\":\"scene\",\"showlegend\":true,\"x\":[-0.6053792834281921],\"y\":[-0.3033384680747986],\"z\":[0.1856602132320404],\"type\":\"scatter3d\"},{\"hovertemplate\":\"color=suddenly\\u003cbr\\u003ex=%{x}\\u003cbr\\u003ey=%{y}\\u003cbr\\u003ez=%{z}\\u003cextra\\u003e\\u003c\\u002fextra\\u003e\",\"legendgroup\":\"suddenly\",\"marker\":{\"color\":\"#FF6692\",\"symbol\":\"circle\"},\"mode\":\"markers\",\"name\":\"suddenly\",\"scene\":\"scene\",\"showlegend\":true,\"x\":[0.4285441040992737],\"y\":[-0.3148934543132782],\"z\":[0.44435974955558777],\"type\":\"scatter3d\"},{\"hovertemplate\":\"color=sat\\u003cbr\\u003ex=%{x}\\u003cbr\\u003ey=%{y}\\u003cbr\\u003ez=%{z}\\u003cextra\\u003e\\u003c\\u002fextra\\u003e\",\"legendgroup\":\"sat\",\"marker\":{\"color\":\"#B6E880\",\"symbol\":\"circle\"},\"mode\":\"markers\",\"name\":\"sat\",\"scene\":\"scene\",\"showlegend\":true,\"x\":[0.38336652517318726],\"y\":[-0.41337889432907104],\"z\":[0.06487560272216797],\"type\":\"scatter3d\"},{\"hovertemplate\":\"color=between\\u003cbr\\u003ex=%{x}\\u003cbr\\u003ey=%{y}\\u003cbr\\u003ez=%{z}\\u003cextra\\u003e\\u003c\\u002fextra\\u003e\",\"legendgroup\":\"between\",\"marker\":{\"color\":\"#FF97FF\",\"symbol\":\"circle\"},\"mode\":\"markers\",\"name\":\"between\",\"scene\":\"scene\",\"showlegend\":true,\"x\":[0.4856383800506592],\"y\":[-0.33859655261039734],\"z\":[-0.12378314882516861],\"type\":\"scatter3d\"},{\"hovertemplate\":\"color=until\\u003cbr\\u003ex=%{x}\\u003cbr\\u003ey=%{y}\\u003cbr\\u003ez=%{z}\\u003cextra\\u003e\\u003c\\u002fextra\\u003e\",\"legendgroup\":\"until\",\"marker\":{\"color\":\"#FECB52\",\"symbol\":\"circle\"},\"mode\":\"markers\",\"name\":\"until\",\"scene\":\"scene\",\"showlegend\":true,\"x\":[-0.02774524688720703],\"y\":[-0.685911238193512],\"z\":[-0.3209778070449829],\"type\":\"scatter3d\"}],                        {\"template\":{\"data\":{\"histogram2dcontour\":[{\"type\":\"histogram2dcontour\",\"colorbar\":{\"outlinewidth\":0,\"ticks\":\"\"},\"colorscale\":[[0.0,\"#0d0887\"],[0.1111111111111111,\"#46039f\"],[0.2222222222222222,\"#7201a8\"],[0.3333333333333333,\"#9c179e\"],[0.4444444444444444,\"#bd3786\"],[0.5555555555555556,\"#d8576b\"],[0.6666666666666666,\"#ed7953\"],[0.7777777777777778,\"#fb9f3a\"],[0.8888888888888888,\"#fdca26\"],[1.0,\"#f0f921\"]]}],\"choropleth\":[{\"type\":\"choropleth\",\"colorbar\":{\"outlinewidth\":0,\"ticks\":\"\"}}],\"histogram2d\":[{\"type\":\"histogram2d\",\"colorbar\":{\"outlinewidth\":0,\"ticks\":\"\"},\"colorscale\":[[0.0,\"#0d0887\"],[0.1111111111111111,\"#46039f\"],[0.2222222222222222,\"#7201a8\"],[0.3333333333333333,\"#9c179e\"],[0.4444444444444444,\"#bd3786\"],[0.5555555555555556,\"#d8576b\"],[0.6666666666666666,\"#ed7953\"],[0.7777777777777778,\"#fb9f3a\"],[0.8888888888888888,\"#fdca26\"],[1.0,\"#f0f921\"]]}],\"heatmap\":[{\"type\":\"heatmap\",\"colorbar\":{\"outlinewidth\":0,\"ticks\":\"\"},\"colorscale\":[[0.0,\"#0d0887\"],[0.1111111111111111,\"#46039f\"],[0.2222222222222222,\"#7201a8\"],[0.3333333333333333,\"#9c179e\"],[0.4444444444444444,\"#bd3786\"],[0.5555555555555556,\"#d8576b\"],[0.6666666666666666,\"#ed7953\"],[0.7777777777777778,\"#fb9f3a\"],[0.8888888888888888,\"#fdca26\"],[1.0,\"#f0f921\"]]}],\"heatmapgl\":[{\"type\":\"heatmapgl\",\"colorbar\":{\"outlinewidth\":0,\"ticks\":\"\"},\"colorscale\":[[0.0,\"#0d0887\"],[0.1111111111111111,\"#46039f\"],[0.2222222222222222,\"#7201a8\"],[0.3333333333333333,\"#9c179e\"],[0.4444444444444444,\"#bd3786\"],[0.5555555555555556,\"#d8576b\"],[0.6666666666666666,\"#ed7953\"],[0.7777777777777778,\"#fb9f3a\"],[0.8888888888888888,\"#fdca26\"],[1.0,\"#f0f921\"]]}],\"contourcarpet\":[{\"type\":\"contourcarpet\",\"colorbar\":{\"outlinewidth\":0,\"ticks\":\"\"}}],\"contour\":[{\"type\":\"contour\",\"colorbar\":{\"outlinewidth\":0,\"ticks\":\"\"},\"colorscale\":[[0.0,\"#0d0887\"],[0.1111111111111111,\"#46039f\"],[0.2222222222222222,\"#7201a8\"],[0.3333333333333333,\"#9c179e\"],[0.4444444444444444,\"#bd3786\"],[0.5555555555555556,\"#d8576b\"],[0.6666666666666666,\"#ed7953\"],[0.7777777777777778,\"#fb9f3a\"],[0.8888888888888888,\"#fdca26\"],[1.0,\"#f0f921\"]]}],\"surface\":[{\"type\":\"surface\",\"colorbar\":{\"outlinewidth\":0,\"ticks\":\"\"},\"colorscale\":[[0.0,\"#0d0887\"],[0.1111111111111111,\"#46039f\"],[0.2222222222222222,\"#7201a8\"],[0.3333333333333333,\"#9c179e\"],[0.4444444444444444,\"#bd3786\"],[0.5555555555555556,\"#d8576b\"],[0.6666666666666666,\"#ed7953\"],[0.7777777777777778,\"#fb9f3a\"],[0.8888888888888888,\"#fdca26\"],[1.0,\"#f0f921\"]]}],\"mesh3d\":[{\"type\":\"mesh3d\",\"colorbar\":{\"outlinewidth\":0,\"ticks\":\"\"}}],\"scatter\":[{\"fillpattern\":{\"fillmode\":\"overlay\",\"size\":10,\"solidity\":0.2},\"type\":\"scatter\"}],\"parcoords\":[{\"type\":\"parcoords\",\"line\":{\"colorbar\":{\"outlinewidth\":0,\"ticks\":\"\"}}}],\"scatterpolargl\":[{\"type\":\"scatterpolargl\",\"marker\":{\"colorbar\":{\"outlinewidth\":0,\"ticks\":\"\"}}}],\"bar\":[{\"error_x\":{\"color\":\"#2a3f5f\"},\"error_y\":{\"color\":\"#2a3f5f\"},\"marker\":{\"line\":{\"color\":\"#E5ECF6\",\"width\":0.5},\"pattern\":{\"fillmode\":\"overlay\",\"size\":10,\"solidity\":0.2}},\"type\":\"bar\"}],\"scattergeo\":[{\"type\":\"scattergeo\",\"marker\":{\"colorbar\":{\"outlinewidth\":0,\"ticks\":\"\"}}}],\"scatterpolar\":[{\"type\":\"scatterpolar\",\"marker\":{\"colorbar\":{\"outlinewidth\":0,\"ticks\":\"\"}}}],\"histogram\":[{\"marker\":{\"pattern\":{\"fillmode\":\"overlay\",\"size\":10,\"solidity\":0.2}},\"type\":\"histogram\"}],\"scattergl\":[{\"type\":\"scattergl\",\"marker\":{\"colorbar\":{\"outlinewidth\":0,\"ticks\":\"\"}}}],\"scatter3d\":[{\"type\":\"scatter3d\",\"line\":{\"colorbar\":{\"outlinewidth\":0,\"ticks\":\"\"}},\"marker\":{\"colorbar\":{\"outlinewidth\":0,\"ticks\":\"\"}}}],\"scattermapbox\":[{\"type\":\"scattermapbox\",\"marker\":{\"colorbar\":{\"outlinewidth\":0,\"ticks\":\"\"}}}],\"scatterternary\":[{\"type\":\"scatterternary\",\"marker\":{\"colorbar\":{\"outlinewidth\":0,\"ticks\":\"\"}}}],\"scattercarpet\":[{\"type\":\"scattercarpet\",\"marker\":{\"colorbar\":{\"outlinewidth\":0,\"ticks\":\"\"}}}],\"carpet\":[{\"aaxis\":{\"endlinecolor\":\"#2a3f5f\",\"gridcolor\":\"white\",\"linecolor\":\"white\",\"minorgridcolor\":\"white\",\"startlinecolor\":\"#2a3f5f\"},\"baxis\":{\"endlinecolor\":\"#2a3f5f\",\"gridcolor\":\"white\",\"linecolor\":\"white\",\"minorgridcolor\":\"white\",\"startlinecolor\":\"#2a3f5f\"},\"type\":\"carpet\"}],\"table\":[{\"cells\":{\"fill\":{\"color\":\"#EBF0F8\"},\"line\":{\"color\":\"white\"}},\"header\":{\"fill\":{\"color\":\"#C8D4E3\"},\"line\":{\"color\":\"white\"}},\"type\":\"table\"}],\"barpolar\":[{\"marker\":{\"line\":{\"color\":\"#E5ECF6\",\"width\":0.5},\"pattern\":{\"fillmode\":\"overlay\",\"size\":10,\"solidity\":0.2}},\"type\":\"barpolar\"}],\"pie\":[{\"automargin\":true,\"type\":\"pie\"}]},\"layout\":{\"autotypenumbers\":\"strict\",\"colorway\":[\"#636efa\",\"#EF553B\",\"#00cc96\",\"#ab63fa\",\"#FFA15A\",\"#19d3f3\",\"#FF6692\",\"#B6E880\",\"#FF97FF\",\"#FECB52\"],\"font\":{\"color\":\"#2a3f5f\"},\"hovermode\":\"closest\",\"hoverlabel\":{\"align\":\"left\"},\"paper_bgcolor\":\"white\",\"plot_bgcolor\":\"#E5ECF6\",\"polar\":{\"bgcolor\":\"#E5ECF6\",\"angularaxis\":{\"gridcolor\":\"white\",\"linecolor\":\"white\",\"ticks\":\"\"},\"radialaxis\":{\"gridcolor\":\"white\",\"linecolor\":\"white\",\"ticks\":\"\"}},\"ternary\":{\"bgcolor\":\"#E5ECF6\",\"aaxis\":{\"gridcolor\":\"white\",\"linecolor\":\"white\",\"ticks\":\"\"},\"baxis\":{\"gridcolor\":\"white\",\"linecolor\":\"white\",\"ticks\":\"\"},\"caxis\":{\"gridcolor\":\"white\",\"linecolor\":\"white\",\"ticks\":\"\"}},\"coloraxis\":{\"colorbar\":{\"outlinewidth\":0,\"ticks\":\"\"}},\"colorscale\":{\"sequential\":[[0.0,\"#0d0887\"],[0.1111111111111111,\"#46039f\"],[0.2222222222222222,\"#7201a8\"],[0.3333333333333333,\"#9c179e\"],[0.4444444444444444,\"#bd3786\"],[0.5555555555555556,\"#d8576b\"],[0.6666666666666666,\"#ed7953\"],[0.7777777777777778,\"#fb9f3a\"],[0.8888888888888888,\"#fdca26\"],[1.0,\"#f0f921\"]],\"sequentialminus\":[[0.0,\"#0d0887\"],[0.1111111111111111,\"#46039f\"],[0.2222222222222222,\"#7201a8\"],[0.3333333333333333,\"#9c179e\"],[0.4444444444444444,\"#bd3786\"],[0.5555555555555556,\"#d8576b\"],[0.6666666666666666,\"#ed7953\"],[0.7777777777777778,\"#fb9f3a\"],[0.8888888888888888,\"#fdca26\"],[1.0,\"#f0f921\"]],\"diverging\":[[0,\"#8e0152\"],[0.1,\"#c51b7d\"],[0.2,\"#de77ae\"],[0.3,\"#f1b6da\"],[0.4,\"#fde0ef\"],[0.5,\"#f7f7f7\"],[0.6,\"#e6f5d0\"],[0.7,\"#b8e186\"],[0.8,\"#7fbc41\"],[0.9,\"#4d9221\"],[1,\"#276419\"]]},\"xaxis\":{\"gridcolor\":\"white\",\"linecolor\":\"white\",\"ticks\":\"\",\"title\":{\"standoff\":15},\"zerolinecolor\":\"white\",\"automargin\":true,\"zerolinewidth\":2},\"yaxis\":{\"gridcolor\":\"white\",\"linecolor\":\"white\",\"ticks\":\"\",\"title\":{\"standoff\":15},\"zerolinecolor\":\"white\",\"automargin\":true,\"zerolinewidth\":2},\"scene\":{\"xaxis\":{\"backgroundcolor\":\"#E5ECF6\",\"gridcolor\":\"white\",\"linecolor\":\"white\",\"showbackground\":true,\"ticks\":\"\",\"zerolinecolor\":\"white\",\"gridwidth\":2},\"yaxis\":{\"backgroundcolor\":\"#E5ECF6\",\"gridcolor\":\"white\",\"linecolor\":\"white\",\"showbackground\":true,\"ticks\":\"\",\"zerolinecolor\":\"white\",\"gridwidth\":2},\"zaxis\":{\"backgroundcolor\":\"#E5ECF6\",\"gridcolor\":\"white\",\"linecolor\":\"white\",\"showbackground\":true,\"ticks\":\"\",\"zerolinecolor\":\"white\",\"gridwidth\":2}},\"shapedefaults\":{\"line\":{\"color\":\"#2a3f5f\"}},\"annotationdefaults\":{\"arrowcolor\":\"#2a3f5f\",\"arrowhead\":0,\"arrowwidth\":1},\"geo\":{\"bgcolor\":\"white\",\"landcolor\":\"#E5ECF6\",\"subunitcolor\":\"white\",\"showland\":true,\"showlakes\":true,\"lakecolor\":\"white\"},\"title\":{\"x\":0.05},\"mapbox\":{\"style\":\"light\"}}},\"scene\":{\"domain\":{\"x\":[0.0,1.0],\"y\":[0.0,1.0]},\"xaxis\":{\"title\":{\"text\":\"x\"}},\"yaxis\":{\"title\":{\"text\":\"y\"}},\"zaxis\":{\"title\":{\"text\":\"z\"}}},\"legend\":{\"title\":{\"text\":\"color\"},\"tracegroupgap\":0},\"margin\":{\"t\":60}},                        {\"responsive\": true}                    ).then(function(){\n",
              "                            \n",
              "var gd = document.getElementById('2589741c-c1cb-49e7-a38b-1813baaadc49');\n",
              "var x = new MutationObserver(function (mutations, observer) {{\n",
              "        var display = window.getComputedStyle(gd).display;\n",
              "        if (!display || display === 'none') {{\n",
              "            console.log([gd, 'removed!']);\n",
              "            Plotly.purge(gd);\n",
              "            observer.disconnect();\n",
              "        }}\n",
              "}});\n",
              "\n",
              "// Listen for the removal of the full notebook cells\n",
              "var notebookContainer = gd.closest('#notebook-container');\n",
              "if (notebookContainer) {{\n",
              "    x.observe(notebookContainer, {childList: true});\n",
              "}}\n",
              "\n",
              "// Listen for the clearing of the current output cell\n",
              "var outputEl = gd.closest('.output');\n",
              "if (outputEl) {{\n",
              "    x.observe(outputEl, {childList: true});\n",
              "}}\n",
              "\n",
              "                        })                };                            </script>        </div>\n",
              "</body>\n",
              "</html>"
            ]
          },
          "metadata": {}
        }
      ]
    },
    {
      "cell_type": "code",
      "source": [
        "#Finding out closest word to some particular word\n",
        "import pandas as pd\n",
        "import plotly.express as px\n",
        "\n",
        "X_subset = X[100:300]\n",
        "y_subset = y[100:300]\n",
        "df = pd.DataFrame(X_subset, columns=['x', 'y', 'z'])\n",
        "\n",
        "fig = px.scatter_3d(df, x='x', y='y', z='z', color=y_subset)\n",
        "\n",
        "annotations = []\n",
        "h_index = y_subset.index('mcgonagall')\n",
        "annotations.append(dict(x=X_subset[h_index, 0], y=X_subset[h_index, 1], z=X_subset[h_index, 2],\n",
        "                        text='mcgonagall', showarrow=True, arrowhead=1))\n",
        "\n",
        "fig.update_layout(scene=dict(annotations=annotations))\n",
        "\n",
        "fig.show()\n"
      ],
      "metadata": {
        "execution": {
          "iopub.status.busy": "2024-07-15T12:27:29.750346Z",
          "iopub.execute_input": "2024-07-15T12:27:29.750669Z",
          "iopub.status.idle": "2024-07-15T12:27:30.4698Z",
          "shell.execute_reply.started": "2024-07-15T12:27:29.75064Z",
          "shell.execute_reply": "2024-07-15T12:27:30.468913Z"
        },
        "trusted": true,
        "colab": {
          "base_uri": "https://localhost:8080/",
          "height": 542
        },
        "id": "PccgiZT9nKmL",
        "outputId": "dd5e761d-d1e9-48dd-ed43-c4588e9a9b06"
      },
      "execution_count": null,
      "outputs": [
        {
          "output_type": "display_data",
          "data": {
            "text/html": [
              "<html>\n",
              "<head><meta charset=\"utf-8\" /></head>\n",
              "<body>\n",
              "    <div>            <script src=\"https://cdnjs.cloudflare.com/ajax/libs/mathjax/2.7.5/MathJax.js?config=TeX-AMS-MML_SVG\"></script><script type=\"text/javascript\">if (window.MathJax && window.MathJax.Hub && window.MathJax.Hub.Config) {window.MathJax.Hub.Config({SVG: {font: \"STIX-Web\"}});}</script>                <script type=\"text/javascript\">window.PlotlyConfig = {MathJaxConfig: 'local'};</script>\n",
              "        <script charset=\"utf-8\" src=\"https://cdn.plot.ly/plotly-2.35.2.min.js\"></script>                <div id=\"5f721a8a-c418-4e98-9e53-500be677de1f\" class=\"plotly-graph-div\" style=\"height:525px; width:100%;\"></div>            <script type=\"text/javascript\">                                    window.PLOTLYENV=window.PLOTLYENV || {};                                    if (document.getElementById(\"5f721a8a-c418-4e98-9e53-500be677de1f\")) {                    Plotly.newPlot(                        \"5f721a8a-c418-4e98-9e53-500be677de1f\",                        [{\"hovertemplate\":\"color=which\\u003cbr\\u003ex=%{x}\\u003cbr\\u003ey=%{y}\\u003cbr\\u003ez=%{z}\\u003cextra\\u003e\\u003c\\u002fextra\\u003e\",\"legendgroup\":\"which\",\"marker\":{\"color\":\"#636efa\",\"symbol\":\"circle\"},\"mode\":\"markers\",\"name\":\"which\",\"scene\":\"scene\",\"showlegend\":true,\"x\":[0.11946585774421692],\"y\":[-0.46573904156684875],\"z\":[-0.4726932644844055],\"type\":\"scatter3d\"},{\"hovertemplate\":\"color=going\\u003cbr\\u003ex=%{x}\\u003cbr\\u003ey=%{y}\\u003cbr\\u003ez=%{z}\\u003cextra\\u003e\\u003c\\u002fextra\\u003e\",\"legendgroup\":\"going\",\"marker\":{\"color\":\"#EF553B\",\"symbol\":\"circle\"},\"mode\":\"markers\",\"name\":\"going\",\"scene\":\"scene\",\"showlegend\":true,\"x\":[-0.49865251779556274],\"y\":[-0.5742279291152954],\"z\":[0.10901931673288345],\"type\":\"scatter3d\"},{\"hovertemplate\":\"color=before\\u003cbr\\u003ex=%{x}\\u003cbr\\u003ey=%{y}\\u003cbr\\u003ez=%{z}\\u003cextra\\u003e\\u003c\\u002fextra\\u003e\",\"legendgroup\":\"before\",\"marker\":{\"color\":\"#00cc96\",\"symbol\":\"circle\"},\"mode\":\"markers\",\"name\":\"before\",\"scene\":\"scene\",\"showlegend\":true,\"x\":[-0.1926342248916626],\"y\":[-0.6653215885162354],\"z\":[-0.04618009179830551],\"type\":\"scatter3d\"},{\"hovertemplate\":\"color=voice\\u003cbr\\u003ex=%{x}\\u003cbr\\u003ey=%{y}\\u003cbr\\u003ez=%{z}\\u003cextra\\u003e\\u003c\\u002fextra\\u003e\",\"legendgroup\":\"voice\",\"marker\":{\"color\":\"#ab63fa\",\"symbol\":\"circle\"},\"mode\":\"markers\",\"name\":\"voice\",\"scene\":\"scene\",\"showlegend\":true,\"x\":[-0.11489351093769073],\"y\":[-0.3712705969810486],\"z\":[0.4914400577545166],\"type\":\"scatter3d\"},{\"hovertemplate\":\"color=here\\u003cbr\\u003ex=%{x}\\u003cbr\\u003ey=%{y}\\u003cbr\\u003ez=%{z}\\u003cextra\\u003e\\u003c\\u002fextra\\u003e\",\"legendgroup\":\"here\",\"marker\":{\"color\":\"#FFA15A\",\"symbol\":\"circle\"},\"mode\":\"markers\",\"name\":\"here\",\"scene\":\"scene\",\"showlegend\":true,\"x\":[-0.4585188925266266],\"y\":[-0.44947949051856995],\"z\":[0.15335750579833984],\"type\":\"scatter3d\"},{\"hovertemplate\":\"color=look\\u003cbr\\u003ex=%{x}\\u003cbr\\u003ey=%{y}\\u003cbr\\u003ez=%{z}\\u003cextra\\u003e\\u003c\\u002fextra\\u003e\",\"legendgroup\":\"look\",\"marker\":{\"color\":\"#19d3f3\",\"symbol\":\"circle\"},\"mode\":\"markers\",\"name\":\"look\",\"scene\":\"scene\",\"showlegend\":true,\"x\":[-0.16834931075572968],\"y\":[-0.4727684259414673],\"z\":[0.5126931071281433],\"type\":\"scatter3d\"},{\"hovertemplate\":\"color=go\\u003cbr\\u003ex=%{x}\\u003cbr\\u003ey=%{y}\\u003cbr\\u003ez=%{z}\\u003cextra\\u003e\\u003c\\u002fextra\\u003e\",\"legendgroup\":\"go\",\"marker\":{\"color\":\"#FF6692\",\"symbol\":\"circle\"},\"mode\":\"markers\",\"name\":\"go\",\"scene\":\"scene\",\"showlegend\":true,\"x\":[-0.4466484785079956],\"y\":[-0.6326519250869751],\"z\":[0.22385263442993164],\"type\":\"scatter3d\"},{\"hovertemplate\":\"color=didn\\u003cbr\\u003ex=%{x}\\u003cbr\\u003ey=%{y}\\u003cbr\\u003ez=%{z}\\u003cextra\\u003e\\u003c\\u002fextra\\u003e\",\"legendgroup\":\"didn\",\"marker\":{\"color\":\"#B6E880\",\"symbol\":\"circle\"},\"mode\":\"markers\",\"name\":\"didn\",\"scene\":\"scene\",\"showlegend\":true,\"x\":[-0.601835310459137],\"y\":[-0.47686561942100525],\"z\":[0.352010041475296],\"type\":\"scatter3d\"},{\"hovertemplate\":\"color=where\\u003cbr\\u003ex=%{x}\\u003cbr\\u003ey=%{y}\\u003cbr\\u003ez=%{z}\\u003cextra\\u003e\\u003c\\u002fextra\\u003e\",\"legendgroup\":\"where\",\"marker\":{\"color\":\"#FF97FF\",\"symbol\":\"circle\"},\"mode\":\"markers\",\"name\":\"where\",\"scene\":\"scene\",\"showlegend\":true,\"x\":[-0.012040793895721436],\"y\":[-0.6227337121963501],\"z\":[-0.15809717774391174],\"type\":\"scatter3d\"},{\"hovertemplate\":\"color=than\\u003cbr\\u003ex=%{x}\\u003cbr\\u003ey=%{y}\\u003cbr\\u003ez=%{z}\\u003cextra\\u003e\\u003c\\u002fextra\\u003e\",\"legendgroup\":\"than\",\"marker\":{\"color\":\"#FECB52\",\"symbol\":\"circle\"},\"mode\":\"markers\",\"name\":\"than\",\"scene\":\"scene\",\"showlegend\":true,\"x\":[-0.3208414316177368],\"y\":[-0.4473037123680115],\"z\":[0.008818462491035461],\"type\":\"scatter3d\"},{\"hovertemplate\":\"color=will\\u003cbr\\u003ex=%{x}\\u003cbr\\u003ey=%{y}\\u003cbr\\u003ez=%{z}\\u003cextra\\u003e\\u003c\\u002fextra\\u003e\",\"legendgroup\":\"will\",\"marker\":{\"color\":\"#636efa\",\"symbol\":\"circle\"},\"mode\":\"markers\",\"name\":\"will\",\"scene\":\"scene\",\"showlegend\":true,\"x\":[-0.6269396543502808],\"y\":[-0.3446824550628662],\"z\":[-0.07142622023820877],\"type\":\"scatter3d\"},{\"hovertemplate\":\"color=room\\u003cbr\\u003ex=%{x}\\u003cbr\\u003ey=%{y}\\u003cbr\\u003ez=%{z}\\u003cextra\\u003e\\u003c\\u002fextra\\u003e\",\"legendgroup\":\"room\",\"marker\":{\"color\":\"#EF553B\",\"symbol\":\"circle\"},\"mode\":\"markers\",\"name\":\"room\",\"scene\":\"scene\",\"showlegend\":true,\"x\":[0.22589445114135742],\"y\":[-0.6322241425514221],\"z\":[-0.2746826708316803],\"type\":\"scatter3d\"},{\"hovertemplate\":\"color=only\\u003cbr\\u003ex=%{x}\\u003cbr\\u003ey=%{y}\\u003cbr\\u003ez=%{z}\\u003cextra\\u003e\\u003c\\u002fextra\\u003e\",\"legendgroup\":\"only\",\"marker\":{\"color\":\"#00cc96\",\"symbol\":\"circle\"},\"mode\":\"markers\",\"name\":\"only\",\"scene\":\"scene\",\"showlegend\":true,\"x\":[-0.5387492179870605],\"y\":[-0.5502867102622986],\"z\":[-0.3377096354961395],\"type\":\"scatter3d\"},{\"hovertemplate\":\"color=potter\\u003cbr\\u003ex=%{x}\\u003cbr\\u003ey=%{y}\\u003cbr\\u003ez=%{z}\\u003cextra\\u003e\\u003c\\u002fextra\\u003e\",\"legendgroup\":\"potter\",\"marker\":{\"color\":\"#ab63fa\",\"symbol\":\"circle\"},\"mode\":\"markers\",\"name\":\"potter\",\"scene\":\"scene\",\"showlegend\":true,\"x\":[-0.5249362587928772],\"y\":[-0.3179483115673065],\"z\":[-0.012341268360614777],\"type\":\"scatter3d\"},{\"hovertemplate\":\"color=come\\u003cbr\\u003ex=%{x}\\u003cbr\\u003ey=%{y}\\u003cbr\\u003ez=%{z}\\u003cextra\\u003e\\u003c\\u002fextra\\u003e\",\"legendgroup\":\"come\",\"marker\":{\"color\":\"#FFA15A\",\"symbol\":\"circle\"},\"mode\":\"markers\",\"name\":\"come\",\"scene\":\"scene\",\"showlegend\":true,\"x\":[-0.48516958951950073],\"y\":[-0.594487726688385],\"z\":[0.17991489171981812],\"type\":\"scatter3d\"},{\"hovertemplate\":\"color=too\\u003cbr\\u003ex=%{x}\\u003cbr\\u003ey=%{y}\\u003cbr\\u003ez=%{z}\\u003cextra\\u003e\\u003c\\u002fextra\\u003e\",\"legendgroup\":\"too\",\"marker\":{\"color\":\"#19d3f3\",\"symbol\":\"circle\"},\"mode\":\"markers\",\"name\":\"too\",\"scene\":\"scene\",\"showlegend\":true,\"x\":[-0.3607505261898041],\"y\":[-0.44474753737449646],\"z\":[0.344820499420166],\"type\":\"scatter3d\"},{\"hovertemplate\":\"color=head\\u003cbr\\u003ex=%{x}\\u003cbr\\u003ey=%{y}\\u003cbr\\u003ez=%{z}\\u003cextra\\u003e\\u003c\\u002fextra\\u003e\",\"legendgroup\":\"head\",\"marker\":{\"color\":\"#FF6692\",\"symbol\":\"circle\"},\"mode\":\"markers\",\"name\":\"head\",\"scene\":\"scene\",\"showlegend\":true,\"x\":[0.34023064374923706],\"y\":[-0.4449293613433838],\"z\":[0.399781733751297],\"type\":\"scatter3d\"},{\"hovertemplate\":\"color=malfoy\\u003cbr\\u003ex=%{x}\\u003cbr\\u003ey=%{y}\\u003cbr\\u003ez=%{z}\\u003cextra\\u003e\\u003c\\u002fextra\\u003e\",\"legendgroup\":\"malfoy\",\"marker\":{\"color\":\"#B6E880\",\"symbol\":\"circle\"},\"mode\":\"markers\",\"name\":\"malfoy\",\"scene\":\"scene\",\"showlegend\":true,\"x\":[-0.13076233863830566],\"y\":[-0.4184862971305847],\"z\":[0.33587586879730225],\"type\":\"scatter3d\"},{\"hovertemplate\":\"color=door\\u003cbr\\u003ex=%{x}\\u003cbr\\u003ey=%{y}\\u003cbr\\u003ez=%{z}\\u003cextra\\u003e\\u003c\\u002fextra\\u003e\",\"legendgroup\":\"door\",\"marker\":{\"color\":\"#FF97FF\",\"symbol\":\"circle\"},\"mode\":\"markers\",\"name\":\"door\",\"scene\":\"scene\",\"showlegend\":true,\"x\":[0.34287238121032715],\"y\":[-0.6662371754646301],\"z\":[0.11341676115989685],\"type\":\"scatter3d\"},{\"hovertemplate\":\"color=mr\\u003cbr\\u003ex=%{x}\\u003cbr\\u003ey=%{y}\\u003cbr\\u003ez=%{z}\\u003cextra\\u003e\\u003c\\u002fextra\\u003e\",\"legendgroup\":\"mr\",\"marker\":{\"color\":\"#FECB52\",\"symbol\":\"circle\"},\"mode\":\"markers\",\"name\":\"mr\",\"scene\":\"scene\",\"showlegend\":true,\"x\":[-0.27351853251457214],\"y\":[-0.3213961720466614],\"z\":[0.15280994772911072],\"type\":\"scatter3d\"},{\"hovertemplate\":\"color=thought\\u003cbr\\u003ex=%{x}\\u003cbr\\u003ey=%{y}\\u003cbr\\u003ez=%{z}\\u003cextra\\u003e\\u003c\\u002fextra\\u003e\",\"legendgroup\":\"thought\",\"marker\":{\"color\":\"#636efa\",\"symbol\":\"circle\"},\"mode\":\"markers\",\"name\":\"thought\",\"scene\":\"scene\",\"showlegend\":true,\"x\":[-0.5485547184944153],\"y\":[-0.5334032773971558],\"z\":[0.26531779766082764],\"type\":\"scatter3d\"},{\"hovertemplate\":\"color=voldemort\\u003cbr\\u003ex=%{x}\\u003cbr\\u003ey=%{y}\\u003cbr\\u003ez=%{z}\\u003cextra\\u003e\\u003c\\u002fextra\\u003e\",\"legendgroup\":\"voldemort\",\"marker\":{\"color\":\"#EF553B\",\"symbol\":\"circle\"},\"mode\":\"markers\",\"name\":\"voldemort\",\"scene\":\"scene\",\"showlegend\":true,\"x\":[-0.41505661606788635],\"y\":[-0.47296807169914246],\"z\":[0.00914810597896576],\"type\":\"scatter3d\"},{\"hovertemplate\":\"color=something\\u003cbr\\u003ex=%{x}\\u003cbr\\u003ey=%{y}\\u003cbr\\u003ez=%{z}\\u003cextra\\u003e\\u003c\\u002fextra\\u003e\",\"legendgroup\":\"something\",\"marker\":{\"color\":\"#00cc96\",\"symbol\":\"circle\"},\"mode\":\"markers\",\"name\":\"something\",\"scene\":\"scene\",\"showlegend\":true,\"x\":[-0.18884028494358063],\"y\":[-0.551415741443634],\"z\":[0.3248864710330963],\"type\":\"scatter3d\"},{\"hovertemplate\":\"color=saw\\u003cbr\\u003ex=%{x}\\u003cbr\\u003ey=%{y}\\u003cbr\\u003ez=%{z}\\u003cextra\\u003e\\u003c\\u002fextra\\u003e\",\"legendgroup\":\"saw\",\"marker\":{\"color\":\"#ab63fa\",\"symbol\":\"circle\"},\"mode\":\"markers\",\"name\":\"saw\",\"scene\":\"scene\",\"showlegend\":true,\"x\":[0.34042638540267944],\"y\":[-0.5109189748764038],\"z\":[0.1399393081665039],\"type\":\"scatter3d\"},{\"hovertemplate\":\"color=after\\u003cbr\\u003ex=%{x}\\u003cbr\\u003ey=%{y}\\u003cbr\\u003ez=%{z}\\u003cextra\\u003e\\u003c\\u002fextra\\u003e\",\"legendgroup\":\"after\",\"marker\":{\"color\":\"#FFA15A\",\"symbol\":\"circle\"},\"mode\":\"markers\",\"name\":\"after\",\"scene\":\"scene\",\"showlegend\":true,\"x\":[-0.347859650850296],\"y\":[-0.5519999265670776],\"z\":[-0.10021407157182693],\"type\":\"scatter3d\"},{\"hovertemplate\":\"color=hand\\u003cbr\\u003ex=%{x}\\u003cbr\\u003ey=%{y}\\u003cbr\\u003ez=%{z}\\u003cextra\\u003e\\u003c\\u002fextra\\u003e\",\"legendgroup\":\"hand\",\"marker\":{\"color\":\"#19d3f3\",\"symbol\":\"circle\"},\"mode\":\"markers\",\"name\":\"hand\",\"scene\":\"scene\",\"showlegend\":true,\"x\":[0.3343238830566406],\"y\":[-0.4875497817993164],\"z\":[0.4686468839645386],\"type\":\"scatter3d\"},{\"hovertemplate\":\"color=other\\u003cbr\\u003ex=%{x}\\u003cbr\\u003ey=%{y}\\u003cbr\\u003ez=%{z}\\u003cextra\\u003e\\u003c\\u002fextra\\u003e\",\"legendgroup\":\"other\",\"marker\":{\"color\":\"#FF6692\",\"symbol\":\"circle\"},\"mode\":\"markers\",\"name\":\"other\",\"scene\":\"scene\",\"showlegend\":true,\"x\":[-0.16107159852981567],\"y\":[-0.517509400844574],\"z\":[-0.3145546317100525],\"type\":\"scatter3d\"},{\"hovertemplate\":\"color=behind\\u003cbr\\u003ex=%{x}\\u003cbr\\u003ey=%{y}\\u003cbr\\u003ez=%{z}\\u003cextra\\u003e\\u003c\\u002fextra\\u003e\",\"legendgroup\":\"behind\",\"marker\":{\"color\":\"#B6E880\",\"symbol\":\"circle\"},\"mode\":\"markers\",\"name\":\"behind\",\"scene\":\"scene\",\"showlegend\":true,\"x\":[0.48217612504959106],\"y\":[-0.5344228744506836],\"z\":[0.13054735958576202],\"type\":\"scatter3d\"},{\"hovertemplate\":\"color=never\\u003cbr\\u003ex=%{x}\\u003cbr\\u003ey=%{y}\\u003cbr\\u003ez=%{z}\\u003cextra\\u003e\\u003c\\u002fextra\\u003e\",\"legendgroup\":\"never\",\"marker\":{\"color\":\"#FF97FF\",\"symbol\":\"circle\"},\"mode\":\"markers\",\"name\":\"never\",\"scene\":\"scene\",\"showlegend\":true,\"x\":[-0.747287392616272],\"y\":[-0.44008374214172363],\"z\":[0.026456691324710846],\"type\":\"scatter3d\"},{\"hovertemplate\":\"color=way\\u003cbr\\u003ex=%{x}\\u003cbr\\u003ey=%{y}\\u003cbr\\u003ez=%{z}\\u003cextra\\u003e\\u003c\\u002fextra\\u003e\",\"legendgroup\":\"way\",\"marker\":{\"color\":\"#FECB52\",\"symbol\":\"circle\"},\"mode\":\"markers\",\"name\":\"way\",\"scene\":\"scene\",\"showlegend\":true,\"x\":[-0.04764961451292038],\"y\":[-0.677842915058136],\"z\":[-0.09174799174070358],\"type\":\"scatter3d\"},{\"hovertemplate\":\"color=sirius\\u003cbr\\u003ex=%{x}\\u003cbr\\u003ey=%{y}\\u003cbr\\u003ez=%{z}\\u003cextra\\u003e\\u003c\\u002fextra\\u003e\",\"legendgroup\":\"sirius\",\"marker\":{\"color\":\"#636efa\",\"symbol\":\"circle\"},\"mode\":\"markers\",\"name\":\"sirius\",\"scene\":\"scene\",\"showlegend\":true,\"x\":[-0.5104892253875732],\"y\":[-0.4318728446960449],\"z\":[0.20764008164405823],\"type\":\"scatter3d\"},{\"hovertemplate\":\"color=seemed\\u003cbr\\u003ex=%{x}\\u003cbr\\u003ey=%{y}\\u003cbr\\u003ez=%{z}\\u003cextra\\u003e\\u003c\\u002fextra\\u003e\",\"legendgroup\":\"seemed\",\"marker\":{\"color\":\"#EF553B\",\"symbol\":\"circle\"},\"mode\":\"markers\",\"name\":\"seemed\",\"scene\":\"scene\",\"showlegend\":true,\"x\":[-0.0728539526462555],\"y\":[-0.47036629915237427],\"z\":[0.00782807171344757],\"type\":\"scatter3d\"},{\"hovertemplate\":\"color=away\\u003cbr\\u003ex=%{x}\\u003cbr\\u003ey=%{y}\\u003cbr\\u003ez=%{z}\\u003cextra\\u003e\\u003c\\u002fextra\\u003e\",\"legendgroup\":\"away\",\"marker\":{\"color\":\"#00cc96\",\"symbol\":\"circle\"},\"mode\":\"markers\",\"name\":\"away\",\"scene\":\"scene\",\"showlegend\":true,\"x\":[0.27606847882270813],\"y\":[-0.6062214374542236],\"z\":[0.19826465845108032],\"type\":\"scatter3d\"},{\"hovertemplate\":\"color=himself\\u003cbr\\u003ex=%{x}\\u003cbr\\u003ey=%{y}\\u003cbr\\u003ez=%{z}\\u003cextra\\u003e\\u003c\\u002fextra\\u003e\",\"legendgroup\":\"himself\",\"marker\":{\"color\":\"#ab63fa\",\"symbol\":\"circle\"},\"mode\":\"markers\",\"name\":\"himself\",\"scene\":\"scene\",\"showlegend\":true,\"x\":[-0.03166079521179199],\"y\":[-0.5958630442619324],\"z\":[0.2089325487613678],\"type\":\"scatter3d\"},{\"hovertemplate\":\"color=asked\\u003cbr\\u003ex=%{x}\\u003cbr\\u003ey=%{y}\\u003cbr\\u003ez=%{z}\\u003cextra\\u003e\\u003c\\u002fextra\\u003e\",\"legendgroup\":\"asked\",\"marker\":{\"color\":\"#FFA15A\",\"symbol\":\"circle\"},\"mode\":\"markers\",\"name\":\"asked\",\"scene\":\"scene\",\"showlegend\":true,\"x\":[-0.5018168687820435],\"y\":[-0.36602336168289185],\"z\":[0.4180125594139099],\"type\":\"scatter3d\"},{\"hovertemplate\":\"color=told\\u003cbr\\u003ex=%{x}\\u003cbr\\u003ey=%{y}\\u003cbr\\u003ez=%{z}\\u003cextra\\u003e\\u003c\\u002fextra\\u003e\",\"legendgroup\":\"told\",\"marker\":{\"color\":\"#19d3f3\",\"symbol\":\"circle\"},\"mode\":\"markers\",\"name\":\"told\",\"scene\":\"scene\",\"showlegend\":true,\"x\":[-0.6203458309173584],\"y\":[-0.4613826274871826],\"z\":[0.23101726174354553],\"type\":\"scatter3d\"},{\"hovertemplate\":\"color=turned\\u003cbr\\u003ex=%{x}\\u003cbr\\u003ey=%{y}\\u003cbr\\u003ez=%{z}\\u003cextra\\u003e\\u003c\\u002fextra\\u003e\",\"legendgroup\":\"turned\",\"marker\":{\"color\":\"#FF6692\",\"symbol\":\"circle\"},\"mode\":\"markers\",\"name\":\"turned\",\"scene\":\"scene\",\"showlegend\":true,\"x\":[0.3644610643386841],\"y\":[-0.5302920341491699],\"z\":[0.3399980962276459],\"type\":\"scatter3d\"},{\"hovertemplate\":\"color=once\\u003cbr\\u003ex=%{x}\\u003cbr\\u003ey=%{y}\\u003cbr\\u003ez=%{z}\\u003cextra\\u003e\\u003c\\u002fextra\\u003e\",\"legendgroup\":\"once\",\"marker\":{\"color\":\"#B6E880\",\"symbol\":\"circle\"},\"mode\":\"markers\",\"name\":\"once\",\"scene\":\"scene\",\"showlegend\":true,\"x\":[-0.0823722705245018],\"y\":[-0.5289226174354553],\"z\":[-0.03154949098825455],\"type\":\"scatter3d\"},{\"hovertemplate\":\"color=last\\u003cbr\\u003ex=%{x}\\u003cbr\\u003ey=%{y}\\u003cbr\\u003ez=%{z}\\u003cextra\\u003e\\u003c\\u002fextra\\u003e\",\"legendgroup\":\"last\",\"marker\":{\"color\":\"#FF97FF\",\"symbol\":\"circle\"},\"mode\":\"markers\",\"name\":\"last\",\"scene\":\"scene\",\"showlegend\":true,\"x\":[-0.3736661672592163],\"y\":[-0.5736280679702759],\"z\":[-0.32169073820114136],\"type\":\"scatter3d\"},{\"hovertemplate\":\"color=two\\u003cbr\\u003ex=%{x}\\u003cbr\\u003ey=%{y}\\u003cbr\\u003ez=%{z}\\u003cextra\\u003e\\u003c\\u002fextra\\u003e\",\"legendgroup\":\"two\",\"marker\":{\"color\":\"#FECB52\",\"symbol\":\"circle\"},\"mode\":\"markers\",\"name\":\"two\",\"scene\":\"scene\",\"showlegend\":true,\"x\":[0.01319923996925354],\"y\":[-0.5083215236663818],\"z\":[-0.6531968712806702],\"type\":\"scatter3d\"},{\"hovertemplate\":\"color=good\\u003cbr\\u003ex=%{x}\\u003cbr\\u003ey=%{y}\\u003cbr\\u003ez=%{z}\\u003cextra\\u003e\\u003c\\u002fextra\\u003e\",\"legendgroup\":\"good\",\"marker\":{\"color\":\"#636efa\",\"symbol\":\"circle\"},\"mode\":\"markers\",\"name\":\"good\",\"scene\":\"scene\",\"showlegend\":true,\"x\":[-0.6820840239524841],\"y\":[-0.23194193840026855],\"z\":[0.17514997720718384],\"type\":\"scatter3d\"},{\"hovertemplate\":\"color=long\\u003cbr\\u003ex=%{x}\\u003cbr\\u003ey=%{y}\\u003cbr\\u003ez=%{z}\\u003cextra\\u003e\\u003c\\u002fextra\\u003e\",\"legendgroup\":\"long\",\"marker\":{\"color\":\"#EF553B\",\"symbol\":\"circle\"},\"mode\":\"markers\",\"name\":\"long\",\"scene\":\"scene\",\"showlegend\":true,\"x\":[0.2932664155960083],\"y\":[-0.2758777141571045],\"z\":[-0.21109095215797424],\"type\":\"scatter3d\"},{\"hovertemplate\":\"color=us\\u003cbr\\u003ex=%{x}\\u003cbr\\u003ey=%{y}\\u003cbr\\u003ez=%{z}\\u003cextra\\u003e\\u003c\\u002fextra\\u003e\",\"legendgroup\":\"us\",\"marker\":{\"color\":\"#00cc96\",\"symbol\":\"circle\"},\"mode\":\"markers\",\"name\":\"us\",\"scene\":\"scene\",\"showlegend\":true,\"x\":[-0.7380838990211487],\"y\":[-0.47459471225738525],\"z\":[-0.09018335491418839],\"type\":\"scatter3d\"},{\"hovertemplate\":\"color=much\\u003cbr\\u003ex=%{x}\\u003cbr\\u003ey=%{y}\\u003cbr\\u003ez=%{z}\\u003cextra\\u003e\\u003c\\u002fextra\\u003e\",\"legendgroup\":\"much\",\"marker\":{\"color\":\"#ab63fa\",\"symbol\":\"circle\"},\"mode\":\"markers\",\"name\":\"much\",\"scene\":\"scene\",\"showlegend\":true,\"x\":[-0.6007585525512695],\"y\":[-0.3344075083732605],\"z\":[0.10832197964191437],\"type\":\"scatter3d\"},{\"hovertemplate\":\"color=dark\\u003cbr\\u003ex=%{x}\\u003cbr\\u003ey=%{y}\\u003cbr\\u003ez=%{z}\\u003cextra\\u003e\\u003c\\u002fextra\\u003e\",\"legendgroup\":\"dark\",\"marker\":{\"color\":\"#FFA15A\",\"symbol\":\"circle\"},\"mode\":\"markers\",\"name\":\"dark\",\"scene\":\"scene\",\"showlegend\":true,\"x\":[-0.1588672697544098],\"y\":[-0.3749011158943176],\"z\":[-0.37602895498275757],\"type\":\"scatter3d\"},{\"hovertemplate\":\"color=why\\u003cbr\\u003ex=%{x}\\u003cbr\\u003ey=%{y}\\u003cbr\\u003ez=%{z}\\u003cextra\\u003e\\u003c\\u002fextra\\u003e\",\"legendgroup\":\"why\",\"marker\":{\"color\":\"#19d3f3\",\"symbol\":\"circle\"},\"mode\":\"markers\",\"name\":\"why\",\"scene\":\"scene\",\"showlegend\":true,\"x\":[-0.8252270817756653],\"y\":[-0.44308650493621826],\"z\":[0.19469591975212097],\"type\":\"scatter3d\"},{\"hovertemplate\":\"color=little\\u003cbr\\u003ex=%{x}\\u003cbr\\u003ey=%{y}\\u003cbr\\u003ez=%{z}\\u003cextra\\u003e\\u003c\\u002fextra\\u003e\",\"legendgroup\":\"little\",\"marker\":{\"color\":\"#FF6692\",\"symbol\":\"circle\"},\"mode\":\"markers\",\"name\":\"little\",\"scene\":\"scene\",\"showlegend\":true,\"x\":[0.0954086184501648],\"y\":[-0.11016157269477844],\"z\":[0.05006415396928787],\"type\":\"scatter3d\"},{\"hovertemplate\":\"color=even\\u003cbr\\u003ex=%{x}\\u003cbr\\u003ey=%{y}\\u003cbr\\u003ez=%{z}\\u003cextra\\u003e\\u003c\\u002fextra\\u003e\",\"legendgroup\":\"even\",\"marker\":{\"color\":\"#B6E880\",\"symbol\":\"circle\"},\"mode\":\"markers\",\"name\":\"even\",\"scene\":\"scene\",\"showlegend\":true,\"x\":[-0.5037485361099243],\"y\":[-0.4675138592720032],\"z\":[-0.0015306919813156128],\"type\":\"scatter3d\"},{\"hovertemplate\":\"color=knew\\u003cbr\\u003ex=%{x}\\u003cbr\\u003ey=%{y}\\u003cbr\\u003ez=%{z}\\u003cextra\\u003e\\u003c\\u002fextra\\u003e\",\"legendgroup\":\"knew\",\"marker\":{\"color\":\"#FF97FF\",\"symbol\":\"circle\"},\"mode\":\"markers\",\"name\":\"knew\",\"scene\":\"scene\",\"showlegend\":true,\"x\":[-0.4743524491786957],\"y\":[-0.5324803590774536],\"z\":[0.1467210054397583],\"type\":\"scatter3d\"},{\"hovertemplate\":\"color=want\\u003cbr\\u003ex=%{x}\\u003cbr\\u003ey=%{y}\\u003cbr\\u003ez=%{z}\\u003cextra\\u003e\\u003c\\u002fextra\\u003e\",\"legendgroup\":\"want\",\"marker\":{\"color\":\"#FECB52\",\"symbol\":\"circle\"},\"mode\":\"markers\",\"name\":\"want\",\"scene\":\"scene\",\"showlegend\":true,\"x\":[-0.6716261506080627],\"y\":[-0.47377532720565796],\"z\":[0.3261135220527649],\"type\":\"scatter3d\"},{\"hovertemplate\":\"color=oh\\u003cbr\\u003ex=%{x}\\u003cbr\\u003ey=%{y}\\u003cbr\\u003ez=%{z}\\u003cextra\\u003e\\u003c\\u002fextra\\u003e\",\"legendgroup\":\"oh\",\"marker\":{\"color\":\"#636efa\",\"symbol\":\"circle\"},\"mode\":\"markers\",\"name\":\"oh\",\"scene\":\"scene\",\"showlegend\":true,\"x\":[-0.46235451102256775],\"y\":[-0.2109326720237732],\"z\":[0.6351353526115417],\"type\":\"scatter3d\"},{\"hovertemplate\":\"color=first\\u003cbr\\u003ex=%{x}\\u003cbr\\u003ey=%{y}\\u003cbr\\u003ez=%{z}\\u003cextra\\u003e\\u003c\\u002fextra\\u003e\",\"legendgroup\":\"first\",\"marker\":{\"color\":\"#EF553B\",\"symbol\":\"circle\"},\"mode\":\"markers\",\"name\":\"first\",\"scene\":\"scene\",\"showlegend\":true,\"x\":[-0.497201532125473],\"y\":[-0.5235341191291809],\"z\":[-0.40648889541625977],\"type\":\"scatter3d\"},{\"hovertemplate\":\"color=tell\\u003cbr\\u003ex=%{x}\\u003cbr\\u003ey=%{y}\\u003cbr\\u003ez=%{z}\\u003cextra\\u003e\\u003c\\u002fextra\\u003e\",\"legendgroup\":\"tell\",\"marker\":{\"color\":\"#00cc96\",\"symbol\":\"circle\"},\"mode\":\"markers\",\"name\":\"tell\",\"scene\":\"scene\",\"showlegend\":true,\"x\":[-0.6343287825584412],\"y\":[-0.4967295527458191],\"z\":[0.2882220447063446],\"type\":\"scatter3d\"},{\"hovertemplate\":\"color=black\\u003cbr\\u003ex=%{x}\\u003cbr\\u003ey=%{y}\\u003cbr\\u003ez=%{z}\\u003cextra\\u003e\\u003c\\u002fextra\\u003e\",\"legendgroup\":\"black\",\"marker\":{\"color\":\"#ab63fa\",\"symbol\":\"circle\"},\"mode\":\"markers\",\"name\":\"black\",\"scene\":\"scene\",\"showlegend\":true,\"x\":[0.3858495354652405],\"y\":[-0.27119776606559753],\"z\":[-0.1683853268623352],\"type\":\"scatter3d\"},{\"hovertemplate\":\"color=any\\u003cbr\\u003ex=%{x}\\u003cbr\\u003ey=%{y}\\u003cbr\\u003ez=%{z}\\u003cextra\\u003e\\u003c\\u002fextra\\u003e\",\"legendgroup\":\"any\",\"marker\":{\"color\":\"#FFA15A\",\"symbol\":\"circle\"},\"mode\":\"markers\",\"name\":\"any\",\"scene\":\"scene\",\"showlegend\":true,\"x\":[-0.7259073257446289],\"y\":[-0.41862887144088745],\"z\":[-0.18381178379058838],\"type\":\"scatter3d\"},{\"hovertemplate\":\"color=made\\u003cbr\\u003ex=%{x}\\u003cbr\\u003ey=%{y}\\u003cbr\\u003ez=%{z}\\u003cextra\\u003e\\u003c\\u002fextra\\u003e\",\"legendgroup\":\"made\",\"marker\":{\"color\":\"#19d3f3\",\"symbol\":\"circle\"},\"mode\":\"markers\",\"name\":\"made\",\"scene\":\"scene\",\"showlegend\":true,\"x\":[-0.17971627414226532],\"y\":[-0.3852100074291229],\"z\":[0.22589251399040222],\"type\":\"scatter3d\"},{\"hovertemplate\":\"color=some\\u003cbr\\u003ex=%{x}\\u003cbr\\u003ey=%{y}\\u003cbr\\u003ez=%{z}\\u003cextra\\u003e\\u003c\\u002fextra\\u003e\",\"legendgroup\":\"some\",\"marker\":{\"color\":\"#FF6692\",\"symbol\":\"circle\"},\"mode\":\"markers\",\"name\":\"some\",\"scene\":\"scene\",\"showlegend\":true,\"x\":[-0.48961198329925537],\"y\":[-0.33346909284591675],\"z\":[-0.4340605139732361],\"type\":\"scatter3d\"},{\"hovertemplate\":\"color=people\\u003cbr\\u003ex=%{x}\\u003cbr\\u003ey=%{y}\\u003cbr\\u003ez=%{z}\\u003cextra\\u003e\\u003c\\u002fextra\\u003e\",\"legendgroup\":\"people\",\"marker\":{\"color\":\"#B6E880\",\"symbol\":\"circle\"},\"mode\":\"markers\",\"name\":\"people\",\"scene\":\"scene\",\"showlegend\":true,\"x\":[-0.4207344949245453],\"y\":[-0.46985378861427307],\"z\":[-0.40878432989120483],\"type\":\"scatter3d\"},{\"hovertemplate\":\"color=let\\u003cbr\\u003ex=%{x}\\u003cbr\\u003ey=%{y}\\u003cbr\\u003ez=%{z}\\u003cextra\\u003e\\u003c\\u002fextra\\u003e\",\"legendgroup\":\"let\",\"marker\":{\"color\":\"#FF97FF\",\"symbol\":\"circle\"},\"mode\":\"markers\",\"name\":\"let\",\"scene\":\"scene\",\"showlegend\":true,\"x\":[-0.32110756635665894],\"y\":[-0.4894888997077942],\"z\":[0.4609914720058441],\"type\":\"scatter3d\"},{\"hovertemplate\":\"color=heard\\u003cbr\\u003ex=%{x}\\u003cbr\\u003ey=%{y}\\u003cbr\\u003ez=%{z}\\u003cextra\\u003e\\u003c\\u002fextra\\u003e\",\"legendgroup\":\"heard\",\"marker\":{\"color\":\"#FECB52\",\"symbol\":\"circle\"},\"mode\":\"markers\",\"name\":\"heard\",\"scene\":\"scene\",\"showlegend\":true,\"x\":[-0.10564445704221725],\"y\":[-0.5479802489280701],\"z\":[0.14599359035491943],\"type\":\"scatter3d\"},{\"hovertemplate\":\"color=left\\u003cbr\\u003ex=%{x}\\u003cbr\\u003ey=%{y}\\u003cbr\\u003ez=%{z}\\u003cextra\\u003e\\u003c\\u002fextra\\u003e\",\"legendgroup\":\"left\",\"marker\":{\"color\":\"#636efa\",\"symbol\":\"circle\"},\"mode\":\"markers\",\"name\":\"left\",\"scene\":\"scene\",\"showlegend\":true,\"x\":[-0.07445710152387619],\"y\":[-0.5637797117233276],\"z\":[-0.15470582246780396],\"type\":\"scatter3d\"},{\"hovertemplate\":\"color=fred\\u003cbr\\u003ex=%{x}\\u003cbr\\u003ey=%{y}\\u003cbr\\u003ez=%{z}\\u003cextra\\u003e\\u003c\\u002fextra\\u003e\",\"legendgroup\":\"fred\",\"marker\":{\"color\":\"#EF553B\",\"symbol\":\"circle\"},\"mode\":\"markers\",\"name\":\"fred\",\"scene\":\"scene\",\"showlegend\":true,\"x\":[-0.1155446320772171],\"y\":[-0.3612101078033447],\"z\":[0.08400706946849823],\"type\":\"scatter3d\"},{\"hovertemplate\":\"color=yes\\u003cbr\\u003ex=%{x}\\u003cbr\\u003ey=%{y}\\u003cbr\\u003ez=%{z}\\u003cextra\\u003e\\u003c\\u002fextra\\u003e\",\"legendgroup\":\"yes\",\"marker\":{\"color\":\"#00cc96\",\"symbol\":\"circle\"},\"mode\":\"markers\",\"name\":\"yes\",\"scene\":\"scene\",\"showlegend\":true,\"x\":[-0.6327929496765137],\"y\":[-0.13634544610977173],\"z\":[0.5002976059913635],\"type\":\"scatter3d\"},{\"hovertemplate\":\"color=really\\u003cbr\\u003ex=%{x}\\u003cbr\\u003ey=%{y}\\u003cbr\\u003ez=%{z}\\u003cextra\\u003e\\u003c\\u002fextra\\u003e\",\"legendgroup\":\"really\",\"marker\":{\"color\":\"#ab63fa\",\"symbol\":\"circle\"},\"mode\":\"markers\",\"name\":\"really\",\"scene\":\"scene\",\"showlegend\":true,\"x\":[-0.8714860081672668],\"y\":[-0.3202476501464844],\"z\":[0.3197610378265381],\"type\":\"scatter3d\"},{\"hovertemplate\":\"color=its\\u003cbr\\u003ex=%{x}\\u003cbr\\u003ey=%{y}\\u003cbr\\u003ez=%{z}\\u003cextra\\u003e\\u003c\\u002fextra\\u003e\",\"legendgroup\":\"its\",\"marker\":{\"color\":\"#FFA15A\",\"symbol\":\"circle\"},\"mode\":\"markers\",\"name\":\"its\",\"scene\":\"scene\",\"showlegend\":true,\"x\":[0.49430137872695923],\"y\":[-0.388353168964386],\"z\":[-0.15963739156723022],\"type\":\"scatter3d\"},{\"hovertemplate\":\"color=moment\\u003cbr\\u003ex=%{x}\\u003cbr\\u003ey=%{y}\\u003cbr\\u003ez=%{z}\\u003cextra\\u003e\\u003c\\u002fextra\\u003e\",\"legendgroup\":\"moment\",\"marker\":{\"color\":\"#19d3f3\",\"symbol\":\"circle\"},\"mode\":\"markers\",\"name\":\"moment\",\"scene\":\"scene\",\"showlegend\":true,\"x\":[0.05046771466732025],\"y\":[-0.633974552154541],\"z\":[0.18881937861442566],\"type\":\"scatter3d\"},{\"hovertemplate\":\"color=because\\u003cbr\\u003ex=%{x}\\u003cbr\\u003ey=%{y}\\u003cbr\\u003ez=%{z}\\u003cextra\\u003e\\u003c\\u002fextra\\u003e\",\"legendgroup\":\"because\",\"marker\":{\"color\":\"#FF6692\",\"symbol\":\"circle\"},\"mode\":\"markers\",\"name\":\"because\",\"scene\":\"scene\",\"showlegend\":true,\"x\":[-0.8051060438156128],\"y\":[-0.48487311601638794],\"z\":[-0.0042679160833358765],\"type\":\"scatter3d\"},{\"hovertemplate\":\"color=mrs\\u003cbr\\u003ex=%{x}\\u003cbr\\u003ey=%{y}\\u003cbr\\u003ez=%{z}\\u003cextra\\u003e\\u003c\\u002fextra\\u003e\",\"legendgroup\":\"mrs\",\"marker\":{\"color\":\"#B6E880\",\"symbol\":\"circle\"},\"mode\":\"markers\",\"name\":\"mrs\",\"scene\":\"scene\",\"showlegend\":true,\"x\":[-0.01352943480014801],\"y\":[-0.32176196575164795],\"z\":[0.1551135778427124],\"type\":\"scatter3d\"},{\"hovertemplate\":\"color=say\\u003cbr\\u003ex=%{x}\\u003cbr\\u003ey=%{y}\\u003cbr\\u003ez=%{z}\\u003cextra\\u003e\\u003c\\u002fextra\\u003e\",\"legendgroup\":\"say\",\"marker\":{\"color\":\"#FF97FF\",\"symbol\":\"circle\"},\"mode\":\"markers\",\"name\":\"say\",\"scene\":\"scene\",\"showlegend\":true,\"x\":[-0.6852880716323853],\"y\":[-0.4193080961704254],\"z\":[0.443275511264801],\"type\":\"scatter3d\"},{\"hovertemplate\":\"color=felt\\u003cbr\\u003ex=%{x}\\u003cbr\\u003ey=%{y}\\u003cbr\\u003ez=%{z}\\u003cextra\\u003e\\u003c\\u002fextra\\u003e\",\"legendgroup\":\"felt\",\"marker\":{\"color\":\"#FECB52\",\"symbol\":\"circle\"},\"mode\":\"markers\",\"name\":\"felt\",\"scene\":\"scene\",\"showlegend\":true,\"x\":[0.05427229404449463],\"y\":[-0.5335797667503357],\"z\":[0.24772489070892334],\"type\":\"scatter3d\"},{\"hovertemplate\":\"color=hogwarts\\u003cbr\\u003ex=%{x}\\u003cbr\\u003ey=%{y}\\u003cbr\\u003ez=%{z}\\u003cextra\\u003e\\u003c\\u002fextra\\u003e\",\"legendgroup\":\"hogwarts\",\"marker\":{\"color\":\"#636efa\",\"symbol\":\"circle\"},\"mode\":\"markers\",\"name\":\"hogwarts\",\"scene\":\"scene\",\"showlegend\":true,\"x\":[-0.6260201930999756],\"y\":[-0.44534578919410706],\"z\":[-0.5152229070663452],\"type\":\"scatter3d\"},{\"hovertemplate\":\"color=great\\u003cbr\\u003ex=%{x}\\u003cbr\\u003ey=%{y}\\u003cbr\\u003ez=%{z}\\u003cextra\\u003e\\u003c\\u002fextra\\u003e\",\"legendgroup\":\"great\",\"marker\":{\"color\":\"#EF553B\",\"symbol\":\"circle\"},\"mode\":\"markers\",\"name\":\"great\",\"scene\":\"scene\",\"showlegend\":true,\"x\":[0.26003924012184143],\"y\":[-0.32781168818473816],\"z\":[-0.4081961512565613],\"type\":\"scatter3d\"},{\"hovertemplate\":\"color=might\\u003cbr\\u003ex=%{x}\\u003cbr\\u003ey=%{y}\\u003cbr\\u003ez=%{z}\\u003cextra\\u003e\\u003c\\u002fextra\\u003e\",\"legendgroup\":\"might\",\"marker\":{\"color\":\"#00cc96\",\"symbol\":\"circle\"},\"mode\":\"markers\",\"name\":\"might\",\"scene\":\"scene\",\"showlegend\":true,\"x\":[-0.5681546330451965],\"y\":[-0.4358454644680023],\"z\":[0.05362643674015999],\"type\":\"scatter3d\"},{\"hovertemplate\":\"color=has\\u003cbr\\u003ex=%{x}\\u003cbr\\u003ey=%{y}\\u003cbr\\u003ez=%{z}\\u003cextra\\u003e\\u003c\\u002fextra\\u003e\",\"legendgroup\":\"has\",\"marker\":{\"color\":\"#ab63fa\",\"symbol\":\"circle\"},\"mode\":\"markers\",\"name\":\"has\",\"scene\":\"scene\",\"showlegend\":true,\"x\":[-0.7297264337539673],\"y\":[-0.27253034710884094],\"z\":[-0.07129805535078049],\"type\":\"scatter3d\"},{\"hovertemplate\":\"color=ever\\u003cbr\\u003ex=%{x}\\u003cbr\\u003ey=%{y}\\u003cbr\\u003ez=%{z}\\u003cextra\\u003e\\u003c\\u002fextra\\u003e\",\"legendgroup\":\"ever\",\"marker\":{\"color\":\"#FFA15A\",\"symbol\":\"circle\"},\"mode\":\"markers\",\"name\":\"ever\",\"scene\":\"scene\",\"showlegend\":true,\"x\":[-0.4618975818157196],\"y\":[-0.3753400146961212],\"z\":[-0.051497556269168854],\"type\":\"scatter3d\"},{\"hovertemplate\":\"color=front\\u003cbr\\u003ex=%{x}\\u003cbr\\u003ey=%{y}\\u003cbr\\u003ez=%{z}\\u003cextra\\u003e\\u003c\\u002fextra\\u003e\",\"legendgroup\":\"front\",\"marker\":{\"color\":\"#19d3f3\",\"symbol\":\"circle\"},\"mode\":\"markers\",\"name\":\"front\",\"scene\":\"scene\",\"showlegend\":true,\"x\":[0.48599159717559814],\"y\":[-0.49962058663368225],\"z\":[-0.13637545704841614],\"type\":\"scatter3d\"},{\"hovertemplate\":\"color=lupin\\u003cbr\\u003ex=%{x}\\u003cbr\\u003ey=%{y}\\u003cbr\\u003ez=%{z}\\u003cextra\\u003e\\u003c\\u002fextra\\u003e\",\"legendgroup\":\"lupin\",\"marker\":{\"color\":\"#FF6692\",\"symbol\":\"circle\"},\"mode\":\"markers\",\"name\":\"lupin\",\"scene\":\"scene\",\"showlegend\":true,\"x\":[-0.20187953114509583],\"y\":[-0.30432412028312683],\"z\":[0.4571917951107025],\"type\":\"scatter3d\"},{\"hovertemplate\":\"color=george\\u003cbr\\u003ex=%{x}\\u003cbr\\u003ey=%{y}\\u003cbr\\u003ez=%{z}\\u003cextra\\u003e\\u003c\\u002fextra\\u003e\",\"legendgroup\":\"george\",\"marker\":{\"color\":\"#B6E880\",\"symbol\":\"circle\"},\"mode\":\"markers\",\"name\":\"george\",\"scene\":\"scene\",\"showlegend\":true,\"x\":[-0.11376751959323883],\"y\":[-0.38745439052581787],\"z\":[0.012240245938301086],\"type\":\"scatter3d\"},{\"hovertemplate\":\"color=neville\\u003cbr\\u003ex=%{x}\\u003cbr\\u003ey=%{y}\\u003cbr\\u003ez=%{z}\\u003cextra\\u003e\\u003c\\u002fextra\\u003e\",\"legendgroup\":\"neville\",\"marker\":{\"color\":\"#FF97FF\",\"symbol\":\"circle\"},\"mode\":\"markers\",\"name\":\"neville\",\"scene\":\"scene\",\"showlegend\":true,\"x\":[0.1682291030883789],\"y\":[-0.3273433744907379],\"z\":[0.49434685707092285],\"type\":\"scatter3d\"},{\"hovertemplate\":\"color=ginny\\u003cbr\\u003ex=%{x}\\u003cbr\\u003ey=%{y}\\u003cbr\\u003ez=%{z}\\u003cextra\\u003e\\u003c\\u002fextra\\u003e\",\"legendgroup\":\"ginny\",\"marker\":{\"color\":\"#FECB52\",\"symbol\":\"circle\"},\"mode\":\"markers\",\"name\":\"ginny\",\"scene\":\"scene\",\"showlegend\":true,\"x\":[-0.05473461002111435],\"y\":[-0.3732736110687256],\"z\":[0.296653151512146],\"type\":\"scatter3d\"},{\"hovertemplate\":\"color=death\\u003cbr\\u003ex=%{x}\\u003cbr\\u003ey=%{y}\\u003cbr\\u003ez=%{z}\\u003cextra\\u003e\\u003c\\u002fextra\\u003e\",\"legendgroup\":\"death\",\"marker\":{\"color\":\"#636efa\",\"symbol\":\"circle\"},\"mode\":\"markers\",\"name\":\"death\",\"scene\":\"scene\",\"showlegend\":true,\"x\":[-0.3653488755226135],\"y\":[-0.5418196320533752],\"z\":[-0.38409462571144104],\"type\":\"scatter3d\"},{\"hovertemplate\":\"color=came\\u003cbr\\u003ex=%{x}\\u003cbr\\u003ey=%{y}\\u003cbr\\u003ez=%{z}\\u003cextra\\u003e\\u003c\\u002fextra\\u003e\",\"legendgroup\":\"came\",\"marker\":{\"color\":\"#EF553B\",\"symbol\":\"circle\"},\"mode\":\"markers\",\"name\":\"came\",\"scene\":\"scene\",\"showlegend\":true,\"x\":[0.24381357431411743],\"y\":[-0.5215257406234741],\"z\":[-0.05852944403886795],\"type\":\"scatter3d\"},{\"hovertemplate\":\"color=three\\u003cbr\\u003ex=%{x}\\u003cbr\\u003ey=%{y}\\u003cbr\\u003ez=%{z}\\u003cextra\\u003e\\u003c\\u002fextra\\u003e\",\"legendgroup\":\"three\",\"marker\":{\"color\":\"#00cc96\",\"symbol\":\"circle\"},\"mode\":\"markers\",\"name\":\"three\",\"scene\":\"scene\",\"showlegend\":true,\"x\":[-0.06641240417957306],\"y\":[-0.4799165725708008],\"z\":[-0.6206629276275635],\"type\":\"scatter3d\"},{\"hovertemplate\":\"color=take\\u003cbr\\u003ex=%{x}\\u003cbr\\u003ey=%{y}\\u003cbr\\u003ez=%{z}\\u003cextra\\u003e\\u003c\\u002fextra\\u003e\",\"legendgroup\":\"take\",\"marker\":{\"color\":\"#ab63fa\",\"symbol\":\"circle\"},\"mode\":\"markers\",\"name\":\"take\",\"scene\":\"scene\",\"showlegend\":true,\"x\":[-0.5952609777450562],\"y\":[-0.5012075304985046],\"z\":[0.08092021942138672],\"type\":\"scatter3d\"},{\"hovertemplate\":\"color=feet\\u003cbr\\u003ex=%{x}\\u003cbr\\u003ey=%{y}\\u003cbr\\u003ez=%{z}\\u003cextra\\u003e\\u003c\\u002fextra\\u003e\",\"legendgroup\":\"feet\",\"marker\":{\"color\":\"#FFA15A\",\"symbol\":\"circle\"},\"mode\":\"markers\",\"name\":\"feet\",\"scene\":\"scene\",\"showlegend\":true,\"x\":[0.5045589804649353],\"y\":[-0.5961602926254272],\"z\":[0.15023387968540192],\"type\":\"scatter3d\"},{\"hovertemplate\":\"color=must\\u003cbr\\u003ex=%{x}\\u003cbr\\u003ey=%{y}\\u003cbr\\u003ez=%{z}\\u003cextra\\u003e\\u003c\\u002fextra\\u003e\",\"legendgroup\":\"must\",\"marker\":{\"color\":\"#19d3f3\",\"symbol\":\"circle\"},\"mode\":\"markers\",\"name\":\"must\",\"scene\":\"scene\",\"showlegend\":true,\"x\":[-0.6545729637145996],\"y\":[-0.36224788427352905],\"z\":[0.05190441384911537],\"type\":\"scatter3d\"},{\"hovertemplate\":\"color=anything\\u003cbr\\u003ex=%{x}\\u003cbr\\u003ey=%{y}\\u003cbr\\u003ez=%{z}\\u003cextra\\u003e\\u003c\\u002fextra\\u003e\",\"legendgroup\":\"anything\",\"marker\":{\"color\":\"#FF6692\",\"symbol\":\"circle\"},\"mode\":\"markers\",\"name\":\"anything\",\"scene\":\"scene\",\"showlegend\":true,\"x\":[-0.6894969344139099],\"y\":[-0.3997218608856201],\"z\":[0.24526888132095337],\"type\":\"scatter3d\"},{\"hovertemplate\":\"color=sure\\u003cbr\\u003ex=%{x}\\u003cbr\\u003ey=%{y}\\u003cbr\\u003ez=%{z}\\u003cextra\\u003e\\u003c\\u002fextra\\u003e\",\"legendgroup\":\"sure\",\"marker\":{\"color\":\"#B6E880\",\"symbol\":\"circle\"},\"mode\":\"markers\",\"name\":\"sure\",\"scene\":\"scene\",\"showlegend\":true,\"x\":[-0.591023325920105],\"y\":[-0.4577150046825409],\"z\":[0.13913585245609283],\"type\":\"scatter3d\"},{\"hovertemplate\":\"color=mcgonagall\\u003cbr\\u003ex=%{x}\\u003cbr\\u003ey=%{y}\\u003cbr\\u003ez=%{z}\\u003cextra\\u003e\\u003c\\u002fextra\\u003e\",\"legendgroup\":\"mcgonagall\",\"marker\":{\"color\":\"#FF97FF\",\"symbol\":\"circle\"},\"mode\":\"markers\",\"name\":\"mcgonagall\",\"scene\":\"scene\",\"showlegend\":true,\"x\":[-0.1497420370578766],\"y\":[-0.3778902292251587],\"z\":[0.10306241363286972],\"type\":\"scatter3d\"},{\"hovertemplate\":\"color=next\\u003cbr\\u003ex=%{x}\\u003cbr\\u003ey=%{y}\\u003cbr\\u003ez=%{z}\\u003cextra\\u003e\\u003c\\u002fextra\\u003e\",\"legendgroup\":\"next\",\"marker\":{\"color\":\"#FECB52\",\"symbol\":\"circle\"},\"mode\":\"markers\",\"name\":\"next\",\"scene\":\"scene\",\"showlegend\":true,\"x\":[-0.0628756508231163],\"y\":[-0.5567173957824707],\"z\":[-0.28234410285949707],\"type\":\"scatter3d\"},{\"hovertemplate\":\"color=took\\u003cbr\\u003ex=%{x}\\u003cbr\\u003ey=%{y}\\u003cbr\\u003ez=%{z}\\u003cextra\\u003e\\u003c\\u002fextra\\u003e\",\"legendgroup\":\"took\",\"marker\":{\"color\":\"#636efa\",\"symbol\":\"circle\"},\"mode\":\"markers\",\"name\":\"took\",\"scene\":\"scene\",\"showlegend\":true,\"x\":[0.1407751739025116],\"y\":[-0.4571582078933716],\"z\":[0.06357558071613312],\"type\":\"scatter3d\"},{\"hovertemplate\":\"color=old\\u003cbr\\u003ex=%{x}\\u003cbr\\u003ey=%{y}\\u003cbr\\u003ez=%{z}\\u003cextra\\u003e\\u003c\\u002fextra\\u003e\",\"legendgroup\":\"old\",\"marker\":{\"color\":\"#EF553B\",\"symbol\":\"circle\"},\"mode\":\"markers\",\"name\":\"old\",\"scene\":\"scene\",\"showlegend\":true,\"x\":[-0.16581591963768005],\"y\":[-0.1110939085483551],\"z\":[-0.21461477875709534],\"type\":\"scatter3d\"},{\"hovertemplate\":\"color=trying\\u003cbr\\u003ex=%{x}\\u003cbr\\u003ey=%{y}\\u003cbr\\u003ez=%{z}\\u003cextra\\u003e\\u003c\\u002fextra\\u003e\",\"legendgroup\":\"trying\",\"marker\":{\"color\":\"#00cc96\",\"symbol\":\"circle\"},\"mode\":\"markers\",\"name\":\"trying\",\"scene\":\"scene\",\"showlegend\":true,\"x\":[-0.30257633328437805],\"y\":[-0.564749002456665],\"z\":[0.23541852831840515],\"type\":\"scatter3d\"},{\"hovertemplate\":\"color=yeah\\u003cbr\\u003ex=%{x}\\u003cbr\\u003ey=%{y}\\u003cbr\\u003ez=%{z}\\u003cextra\\u003e\\u003c\\u002fextra\\u003e\",\"legendgroup\":\"yeah\",\"marker\":{\"color\":\"#ab63fa\",\"symbol\":\"circle\"},\"mode\":\"markers\",\"name\":\"yeah\",\"scene\":\"scene\",\"showlegend\":true,\"x\":[-0.5492088794708252],\"y\":[-0.3092139661312103],\"z\":[0.5021268129348755],\"type\":\"scatter3d\"},{\"hovertemplate\":\"color=open\\u003cbr\\u003ex=%{x}\\u003cbr\\u003ey=%{y}\\u003cbr\\u003ez=%{z}\\u003cextra\\u003e\\u003c\\u002fextra\\u003e\",\"legendgroup\":\"open\",\"marker\":{\"color\":\"#FFA15A\",\"symbol\":\"circle\"},\"mode\":\"markers\",\"name\":\"open\",\"scene\":\"scene\",\"showlegend\":true,\"x\":[0.508496880531311],\"y\":[-0.573023796081543],\"z\":[0.18451464176177979],\"type\":\"scatter3d\"},{\"hovertemplate\":\"color=make\\u003cbr\\u003ex=%{x}\\u003cbr\\u003ey=%{y}\\u003cbr\\u003ez=%{z}\\u003cextra\\u003e\\u003c\\u002fextra\\u003e\",\"legendgroup\":\"make\",\"marker\":{\"color\":\"#19d3f3\",\"symbol\":\"circle\"},\"mode\":\"markers\",\"name\":\"make\",\"scene\":\"scene\",\"showlegend\":true,\"x\":[-0.5878735780715942],\"y\":[-0.5338006019592285],\"z\":[0.10802993923425674],\"type\":\"scatter3d\"},{\"hovertemplate\":\"color=another\\u003cbr\\u003ex=%{x}\\u003cbr\\u003ey=%{y}\\u003cbr\\u003ez=%{z}\\u003cextra\\u003e\\u003c\\u002fextra\\u003e\",\"legendgroup\":\"another\",\"marker\":{\"color\":\"#FF6692\",\"symbol\":\"circle\"},\"mode\":\"markers\",\"name\":\"another\",\"scene\":\"scene\",\"showlegend\":true,\"x\":[-0.034205734729766846],\"y\":[-0.45253491401672363],\"z\":[-0.25604385137557983],\"type\":\"scatter3d\"},{\"hovertemplate\":\"color=nothing\\u003cbr\\u003ex=%{x}\\u003cbr\\u003ey=%{y}\\u003cbr\\u003ez=%{z}\\u003cextra\\u003e\\u003c\\u002fextra\\u003e\",\"legendgroup\":\"nothing\",\"marker\":{\"color\":\"#B6E880\",\"symbol\":\"circle\"},\"mode\":\"markers\",\"name\":\"nothing\",\"scene\":\"scene\",\"showlegend\":true,\"x\":[-0.32762327790260315],\"y\":[-0.4023350477218628],\"z\":[0.2169416844844818],\"type\":\"scatter3d\"},{\"hovertemplate\":\"color=house\\u003cbr\\u003ex=%{x}\\u003cbr\\u003ey=%{y}\\u003cbr\\u003ez=%{z}\\u003cextra\\u003e\\u003c\\u002fextra\\u003e\",\"legendgroup\":\"house\",\"marker\":{\"color\":\"#FF97FF\",\"symbol\":\"circle\"},\"mode\":\"markers\",\"name\":\"house\",\"scene\":\"scene\",\"showlegend\":true,\"x\":[-0.4330388009548187],\"y\":[-0.3383095860481262],\"z\":[-0.5063678622245789],\"type\":\"scatter3d\"},{\"hovertemplate\":\"color=few\\u003cbr\\u003ex=%{x}\\u003cbr\\u003ey=%{y}\\u003cbr\\u003ez=%{z}\\u003cextra\\u003e\\u003c\\u002fextra\\u003e\",\"legendgroup\":\"few\",\"marker\":{\"color\":\"#FECB52\",\"symbol\":\"circle\"},\"mode\":\"markers\",\"name\":\"few\",\"scene\":\"scene\",\"showlegend\":true,\"x\":[0.010064780712127686],\"y\":[-0.5696020126342773],\"z\":[-0.5226753950119019],\"type\":\"scatter3d\"},{\"hovertemplate\":\"color=while\\u003cbr\\u003ex=%{x}\\u003cbr\\u003ey=%{y}\\u003cbr\\u003ez=%{z}\\u003cextra\\u003e\\u003c\\u002fextra\\u003e\",\"legendgroup\":\"while\",\"marker\":{\"color\":\"#636efa\",\"symbol\":\"circle\"},\"mode\":\"markers\",\"name\":\"while\",\"scene\":\"scene\",\"showlegend\":true,\"x\":[-0.09557440131902695],\"y\":[-0.5393690466880798],\"z\":[-0.25665661692619324],\"type\":\"scatter3d\"},{\"hovertemplate\":\"color=table\\u003cbr\\u003ex=%{x}\\u003cbr\\u003ey=%{y}\\u003cbr\\u003ez=%{z}\\u003cextra\\u003e\\u003c\\u002fextra\\u003e\",\"legendgroup\":\"table\",\"marker\":{\"color\":\"#EF553B\",\"symbol\":\"circle\"},\"mode\":\"markers\",\"name\":\"table\",\"scene\":\"scene\",\"showlegend\":true,\"x\":[0.49184226989746094],\"y\":[-0.46579259634017944],\"z\":[-0.11495750397443771],\"type\":\"scatter3d\"},{\"hovertemplate\":\"color=went\\u003cbr\\u003ex=%{x}\\u003cbr\\u003ey=%{y}\\u003cbr\\u003ez=%{z}\\u003cextra\\u003e\\u003c\\u002fextra\\u003e\",\"legendgroup\":\"went\",\"marker\":{\"color\":\"#00cc96\",\"symbol\":\"circle\"},\"mode\":\"markers\",\"name\":\"went\",\"scene\":\"scene\",\"showlegend\":true,\"x\":[-0.17790921032428741],\"y\":[-0.5290141105651855],\"z\":[0.05678300932049751],\"type\":\"scatter3d\"},{\"hovertemplate\":\"color=inside\\u003cbr\\u003ex=%{x}\\u003cbr\\u003ey=%{y}\\u003cbr\\u003ez=%{z}\\u003cextra\\u003e\\u003c\\u002fextra\\u003e\",\"legendgroup\":\"inside\",\"marker\":{\"color\":\"#ab63fa\",\"symbol\":\"circle\"},\"mode\":\"markers\",\"name\":\"inside\",\"scene\":\"scene\",\"showlegend\":true,\"x\":[0.3478601574897766],\"y\":[-0.5045734643936157],\"z\":[0.029713742434978485],\"type\":\"scatter3d\"},{\"hovertemplate\":\"color=course\\u003cbr\\u003ex=%{x}\\u003cbr\\u003ey=%{y}\\u003cbr\\u003ez=%{z}\\u003cextra\\u003e\\u003c\\u002fextra\\u003e\",\"legendgroup\":\"course\",\"marker\":{\"color\":\"#FFA15A\",\"symbol\":\"circle\"},\"mode\":\"markers\",\"name\":\"course\",\"scene\":\"scene\",\"showlegend\":true,\"x\":[-0.7881980538368225],\"y\":[-0.2222532033920288],\"z\":[0.05570797249674797],\"type\":\"scatter3d\"},{\"hovertemplate\":\"color=floor\\u003cbr\\u003ex=%{x}\\u003cbr\\u003ey=%{y}\\u003cbr\\u003ez=%{z}\\u003cextra\\u003e\\u003c\\u002fextra\\u003e\",\"legendgroup\":\"floor\",\"marker\":{\"color\":\"#19d3f3\",\"symbol\":\"circle\"},\"mode\":\"markers\",\"name\":\"floor\",\"scene\":\"scene\",\"showlegend\":true,\"x\":[0.6670024394989014],\"y\":[-0.5407284498214722],\"z\":[-0.12487251311540604],\"type\":\"scatter3d\"},{\"hovertemplate\":\"color=against\\u003cbr\\u003ex=%{x}\\u003cbr\\u003ey=%{y}\\u003cbr\\u003ez=%{z}\\u003cextra\\u003e\\u003c\\u002fextra\\u003e\",\"legendgroup\":\"against\",\"marker\":{\"color\":\"#FF6692\",\"symbol\":\"circle\"},\"mode\":\"markers\",\"name\":\"against\",\"scene\":\"scene\",\"showlegend\":true,\"x\":[0.05999945104122162],\"y\":[-0.4272930324077606],\"z\":[-0.30990278720855713],\"type\":\"scatter3d\"},{\"hovertemplate\":\"color=school\\u003cbr\\u003ex=%{x}\\u003cbr\\u003ey=%{y}\\u003cbr\\u003ez=%{z}\\u003cextra\\u003e\\u003c\\u002fextra\\u003e\",\"legendgroup\":\"school\",\"marker\":{\"color\":\"#B6E880\",\"symbol\":\"circle\"},\"mode\":\"markers\",\"name\":\"school\",\"scene\":\"scene\",\"showlegend\":true,\"x\":[-0.7275434732437134],\"y\":[-0.4207349419593811],\"z\":[-0.5149931311607361],\"type\":\"scatter3d\"},{\"hovertemplate\":\"color=find\\u003cbr\\u003ex=%{x}\\u003cbr\\u003ey=%{y}\\u003cbr\\u003ez=%{z}\\u003cextra\\u003e\\u003c\\u002fextra\\u003e\",\"legendgroup\":\"find\",\"marker\":{\"color\":\"#FF97FF\",\"symbol\":\"circle\"},\"mode\":\"markers\",\"name\":\"find\",\"scene\":\"scene\",\"showlegend\":true,\"x\":[-0.6186281442642212],\"y\":[-0.5722572803497314],\"z\":[0.016544297337532043],\"type\":\"scatter3d\"},{\"hovertemplate\":\"color=own\\u003cbr\\u003ex=%{x}\\u003cbr\\u003ey=%{y}\\u003cbr\\u003ez=%{z}\\u003cextra\\u003e\\u003c\\u002fextra\\u003e\",\"legendgroup\":\"own\",\"marker\":{\"color\":\"#FECB52\",\"symbol\":\"circle\"},\"mode\":\"markers\",\"name\":\"own\",\"scene\":\"scene\",\"showlegend\":true,\"x\":[-0.07213068753480911],\"y\":[-0.36239081621170044],\"z\":[0.1398078352212906],\"type\":\"scatter3d\"},{\"hovertemplate\":\"color=large\\u003cbr\\u003ex=%{x}\\u003cbr\\u003ey=%{y}\\u003cbr\\u003ez=%{z}\\u003cextra\\u003e\\u003c\\u002fextra\\u003e\",\"legendgroup\":\"large\",\"marker\":{\"color\":\"#636efa\",\"symbol\":\"circle\"},\"mode\":\"markers\",\"name\":\"large\",\"scene\":\"scene\",\"showlegend\":true,\"x\":[0.6140541434288025],\"y\":[-0.2780780792236328],\"z\":[-0.2234421670436859],\"type\":\"scatter3d\"},{\"hovertemplate\":\"color=put\\u003cbr\\u003ex=%{x}\\u003cbr\\u003ey=%{y}\\u003cbr\\u003ez=%{z}\\u003cextra\\u003e\\u003c\\u002fextra\\u003e\",\"legendgroup\":\"put\",\"marker\":{\"color\":\"#EF553B\",\"symbol\":\"circle\"},\"mode\":\"markers\",\"name\":\"put\",\"scene\":\"scene\",\"showlegend\":true,\"x\":[-0.3461489677429199],\"y\":[-0.4960614740848541],\"z\":[0.11980143934488297],\"type\":\"scatter3d\"},{\"hovertemplate\":\"color=under\\u003cbr\\u003ex=%{x}\\u003cbr\\u003ey=%{y}\\u003cbr\\u003ez=%{z}\\u003cextra\\u003e\\u003c\\u002fextra\\u003e\",\"legendgroup\":\"under\",\"marker\":{\"color\":\"#00cc96\",\"symbol\":\"circle\"},\"mode\":\"markers\",\"name\":\"under\",\"scene\":\"scene\",\"showlegend\":true,\"x\":[0.36753392219543457],\"y\":[-0.3869149684906006],\"z\":[0.03678233548998833],\"type\":\"scatter3d\"},{\"hovertemplate\":\"color=umbridge\\u003cbr\\u003ex=%{x}\\u003cbr\\u003ey=%{y}\\u003cbr\\u003ez=%{z}\\u003cextra\\u003e\\u003c\\u002fextra\\u003e\",\"legendgroup\":\"umbridge\",\"marker\":{\"color\":\"#ab63fa\",\"symbol\":\"circle\"},\"mode\":\"markers\",\"name\":\"umbridge\",\"scene\":\"scene\",\"showlegend\":true,\"x\":[-0.1951979100704193],\"y\":[-0.2669393718242645],\"z\":[0.1902928650379181],\"type\":\"scatter3d\"},{\"hovertemplate\":\"color=toward\\u003cbr\\u003ex=%{x}\\u003cbr\\u003ey=%{y}\\u003cbr\\u003ez=%{z}\\u003cextra\\u003e\\u003c\\u002fextra\\u003e\",\"legendgroup\":\"toward\",\"marker\":{\"color\":\"#FFA15A\",\"symbol\":\"circle\"},\"mode\":\"markers\",\"name\":\"toward\",\"scene\":\"scene\",\"showlegend\":true,\"x\":[0.5347380042076111],\"y\":[-0.5305981040000916],\"z\":[0.08141445368528366],\"type\":\"scatter3d\"},{\"hovertemplate\":\"color=every\\u003cbr\\u003ex=%{x}\\u003cbr\\u003ey=%{y}\\u003cbr\\u003ez=%{z}\\u003cextra\\u003e\\u003c\\u002fextra\\u003e\",\"legendgroup\":\"every\",\"marker\":{\"color\":\"#19d3f3\",\"symbol\":\"circle\"},\"mode\":\"markers\",\"name\":\"every\",\"scene\":\"scene\",\"showlegend\":true,\"x\":[-0.10781815648078918],\"y\":[-0.4162144064903259],\"z\":[-0.576869010925293],\"type\":\"scatter3d\"},{\"hovertemplate\":\"color=hall\\u003cbr\\u003ex=%{x}\\u003cbr\\u003ey=%{y}\\u003cbr\\u003ez=%{z}\\u003cextra\\u003e\\u003c\\u002fextra\\u003e\",\"legendgroup\":\"hall\",\"marker\":{\"color\":\"#FF6692\",\"symbol\":\"circle\"},\"mode\":\"markers\",\"name\":\"hall\",\"scene\":\"scene\",\"showlegend\":true,\"x\":[0.25543013215065],\"y\":[-0.5536304116249084],\"z\":[-0.4356865882873535],\"type\":\"scatter3d\"},{\"hovertemplate\":\"color=thing\\u003cbr\\u003ex=%{x}\\u003cbr\\u003ey=%{y}\\u003cbr\\u003ez=%{z}\\u003cextra\\u003e\\u003c\\u002fextra\\u003e\",\"legendgroup\":\"thing\",\"marker\":{\"color\":\"#B6E880\",\"symbol\":\"circle\"},\"mode\":\"markers\",\"name\":\"thing\",\"scene\":\"scene\",\"showlegend\":true,\"x\":[-0.6264852285385132],\"y\":[-0.43670153617858887],\"z\":[0.0023636147379875183],\"type\":\"scatter3d\"},{\"hovertemplate\":\"color=magic\\u003cbr\\u003ex=%{x}\\u003cbr\\u003ey=%{y}\\u003cbr\\u003ez=%{z}\\u003cextra\\u003e\\u003c\\u002fextra\\u003e\",\"legendgroup\":\"magic\",\"marker\":{\"color\":\"#FF97FF\",\"symbol\":\"circle\"},\"mode\":\"markers\",\"name\":\"magic\",\"scene\":\"scene\",\"showlegend\":true,\"x\":[-0.7364791035652161],\"y\":[-0.27494993805885315],\"z\":[-0.44340622425079346],\"type\":\"scatter3d\"},{\"hovertemplate\":\"color=seen\\u003cbr\\u003ex=%{x}\\u003cbr\\u003ey=%{y}\\u003cbr\\u003ez=%{z}\\u003cextra\\u003e\\u003c\\u002fextra\\u003e\",\"legendgroup\":\"seen\",\"marker\":{\"color\":\"#FECB52\",\"symbol\":\"circle\"},\"mode\":\"markers\",\"name\":\"seen\",\"scene\":\"scene\",\"showlegend\":true,\"x\":[-0.31681787967681885],\"y\":[-0.42842841148376465],\"z\":[0.03639008104801178],\"type\":\"scatter3d\"},{\"hovertemplate\":\"color=found\\u003cbr\\u003ex=%{x}\\u003cbr\\u003ey=%{y}\\u003cbr\\u003ez=%{z}\\u003cextra\\u003e\\u003c\\u002fextra\\u003e\",\"legendgroup\":\"found\",\"marker\":{\"color\":\"#636efa\",\"symbol\":\"circle\"},\"mode\":\"markers\",\"name\":\"found\",\"scene\":\"scene\",\"showlegend\":true,\"x\":[-0.2143780142068863],\"y\":[-0.5469226241111755],\"z\":[-0.08682241290807724],\"type\":\"scatter3d\"},{\"hovertemplate\":\"color=ministry\\u003cbr\\u003ex=%{x}\\u003cbr\\u003ey=%{y}\\u003cbr\\u003ez=%{z}\\u003cextra\\u003e\\u003c\\u002fextra\\u003e\",\"legendgroup\":\"ministry\",\"marker\":{\"color\":\"#EF553B\",\"symbol\":\"circle\"},\"mode\":\"markers\",\"name\":\"ministry\",\"scene\":\"scene\",\"showlegend\":true,\"x\":[-0.7925506234169006],\"y\":[-0.3229876160621643],\"z\":[-0.43851906061172485],\"type\":\"scatter3d\"},{\"hovertemplate\":\"color=gave\\u003cbr\\u003ex=%{x}\\u003cbr\\u003ey=%{y}\\u003cbr\\u003ez=%{z}\\u003cextra\\u003e\\u003c\\u002fextra\\u003e\",\"legendgroup\":\"gave\",\"marker\":{\"color\":\"#00cc96\",\"symbol\":\"circle\"},\"mode\":\"markers\",\"name\":\"gave\",\"scene\":\"scene\",\"showlegend\":true,\"x\":[0.14021596312522888],\"y\":[-0.2608313262462616],\"z\":[0.5305639505386353],\"type\":\"scatter3d\"},{\"hovertemplate\":\"color=our\\u003cbr\\u003ex=%{x}\\u003cbr\\u003ey=%{y}\\u003cbr\\u003ez=%{z}\\u003cextra\\u003e\\u003c\\u002fextra\\u003e\",\"legendgroup\":\"our\",\"marker\":{\"color\":\"#ab63fa\",\"symbol\":\"circle\"},\"mode\":\"markers\",\"name\":\"our\",\"scene\":\"scene\",\"showlegend\":true,\"x\":[-0.6875662207603455],\"y\":[-0.29115697741508484],\"z\":[-0.4240378737449646],\"type\":\"scatter3d\"},{\"hovertemplate\":\"color=gryffindor\\u003cbr\\u003ex=%{x}\\u003cbr\\u003ey=%{y}\\u003cbr\\u003ez=%{z}\\u003cextra\\u003e\\u003c\\u002fextra\\u003e\",\"legendgroup\":\"gryffindor\",\"marker\":{\"color\":\"#FFA15A\",\"symbol\":\"circle\"},\"mode\":\"markers\",\"name\":\"gryffindor\",\"scene\":\"scene\",\"showlegend\":true,\"x\":[-0.17048519849777222],\"y\":[-0.47320452332496643],\"z\":[-0.6153912544250488],\"type\":\"scatter3d\"},{\"hovertemplate\":\"color=hands\\u003cbr\\u003ex=%{x}\\u003cbr\\u003ey=%{y}\\u003cbr\\u003ez=%{z}\\u003cextra\\u003e\\u003c\\u002fextra\\u003e\",\"legendgroup\":\"hands\",\"marker\":{\"color\":\"#19d3f3\",\"symbol\":\"circle\"},\"mode\":\"markers\",\"name\":\"hands\",\"scene\":\"scene\",\"showlegend\":true,\"x\":[0.4808546304702759],\"y\":[-0.390516072511673],\"z\":[0.45812007784843445],\"type\":\"scatter3d\"},{\"hovertemplate\":\"color=place\\u003cbr\\u003ex=%{x}\\u003cbr\\u003ey=%{y}\\u003cbr\\u003ez=%{z}\\u003cextra\\u003e\\u003c\\u002fextra\\u003e\",\"legendgroup\":\"place\",\"marker\":{\"color\":\"#FF6692\",\"symbol\":\"circle\"},\"mode\":\"markers\",\"name\":\"place\",\"scene\":\"scene\",\"showlegend\":true,\"x\":[-0.4204656183719635],\"y\":[-0.4500539302825928],\"z\":[-0.5140929222106934],\"type\":\"scatter3d\"},{\"hovertemplate\":\"color=both\\u003cbr\\u003ex=%{x}\\u003cbr\\u003ey=%{y}\\u003cbr\\u003ez=%{z}\\u003cextra\\u003e\\u003c\\u002fextra\\u003e\",\"legendgroup\":\"both\",\"marker\":{\"color\":\"#B6E880\",\"symbol\":\"circle\"},\"mode\":\"markers\",\"name\":\"both\",\"scene\":\"scene\",\"showlegend\":true,\"x\":[0.22779899835586548],\"y\":[-0.36765921115875244],\"z\":[0.1570199579000473],\"type\":\"scatter3d\"},{\"hovertemplate\":\"color=need\\u003cbr\\u003ex=%{x}\\u003cbr\\u003ey=%{y}\\u003cbr\\u003ez=%{z}\\u003cextra\\u003e\\u003c\\u002fextra\\u003e\",\"legendgroup\":\"need\",\"marker\":{\"color\":\"#FF97FF\",\"symbol\":\"circle\"},\"mode\":\"markers\",\"name\":\"need\",\"scene\":\"scene\",\"showlegend\":true,\"x\":[-0.6404335498809814],\"y\":[-0.4410228729248047],\"z\":[0.19206498563289642],\"type\":\"scatter3d\"},{\"hovertemplate\":\"color=stood\\u003cbr\\u003ex=%{x}\\u003cbr\\u003ey=%{y}\\u003cbr\\u003ez=%{z}\\u003cextra\\u003e\\u003c\\u002fextra\\u003e\",\"legendgroup\":\"stood\",\"marker\":{\"color\":\"#FECB52\",\"symbol\":\"circle\"},\"mode\":\"markers\",\"name\":\"stood\",\"scene\":\"scene\",\"showlegend\":true,\"x\":[0.5214911103248596],\"y\":[-0.4725714921951294],\"z\":[-0.06484571844339371],\"type\":\"scatter3d\"},{\"hovertemplate\":\"color=hear\\u003cbr\\u003ex=%{x}\\u003cbr\\u003ey=%{y}\\u003cbr\\u003ez=%{z}\\u003cextra\\u003e\\u003c\\u002fextra\\u003e\",\"legendgroup\":\"hear\",\"marker\":{\"color\":\"#636efa\",\"symbol\":\"circle\"},\"mode\":\"markers\",\"name\":\"hear\",\"scene\":\"scene\",\"showlegend\":true,\"x\":[-0.186330184340477],\"y\":[-0.5436607003211975],\"z\":[0.2583129107952118],\"type\":\"scatter3d\"},{\"hovertemplate\":\"color=most\\u003cbr\\u003ex=%{x}\\u003cbr\\u003ey=%{y}\\u003cbr\\u003ez=%{z}\\u003cextra\\u003e\\u003c\\u002fextra\\u003e\",\"legendgroup\":\"most\",\"marker\":{\"color\":\"#EF553B\",\"symbol\":\"circle\"},\"mode\":\"markers\",\"name\":\"most\",\"scene\":\"scene\",\"showlegend\":true,\"x\":[-0.6780747175216675],\"y\":[-0.24199578166007996],\"z\":[-0.47490566968917847],\"type\":\"scatter3d\"},{\"hovertemplate\":\"color=night\\u003cbr\\u003ex=%{x}\\u003cbr\\u003ey=%{y}\\u003cbr\\u003ez=%{z}\\u003cextra\\u003e\\u003c\\u002fextra\\u003e\",\"legendgroup\":\"night\",\"marker\":{\"color\":\"#00cc96\",\"symbol\":\"circle\"},\"mode\":\"markers\",\"name\":\"night\",\"scene\":\"scene\",\"showlegend\":true,\"x\":[-0.34000349044799805],\"y\":[-0.5749256610870361],\"z\":[-0.3303162455558777],\"type\":\"scatter3d\"},{\"hovertemplate\":\"color=end\\u003cbr\\u003ex=%{x}\\u003cbr\\u003ey=%{y}\\u003cbr\\u003ez=%{z}\\u003cextra\\u003e\\u003c\\u002fextra\\u003e\",\"legendgroup\":\"end\",\"marker\":{\"color\":\"#ab63fa\",\"symbol\":\"circle\"},\"mode\":\"markers\",\"name\":\"end\",\"scene\":\"scene\",\"showlegend\":true,\"x\":[0.10857385396957397],\"y\":[-0.5848342180252075],\"z\":[-0.41680365800857544],\"type\":\"scatter3d\"},{\"hovertemplate\":\"color=pulled\\u003cbr\\u003ex=%{x}\\u003cbr\\u003ey=%{y}\\u003cbr\\u003ez=%{z}\\u003cextra\\u003e\\u003c\\u002fextra\\u003e\",\"legendgroup\":\"pulled\",\"marker\":{\"color\":\"#FFA15A\",\"symbol\":\"circle\"},\"mode\":\"markers\",\"name\":\"pulled\",\"scene\":\"scene\",\"showlegend\":true,\"x\":[0.4160756468772888],\"y\":[-0.47646450996398926],\"z\":[0.2996087670326233],\"type\":\"scatter3d\"},{\"hovertemplate\":\"color=without\\u003cbr\\u003ex=%{x}\\u003cbr\\u003ey=%{y}\\u003cbr\\u003ez=%{z}\\u003cextra\\u003e\\u003c\\u002fextra\\u003e\",\"legendgroup\":\"without\",\"marker\":{\"color\":\"#19d3f3\",\"symbol\":\"circle\"},\"mode\":\"markers\",\"name\":\"without\",\"scene\":\"scene\",\"showlegend\":true,\"x\":[-0.40838801860809326],\"y\":[-0.5222911834716797],\"z\":[-0.03869359940290451],\"type\":\"scatter3d\"},{\"hovertemplate\":\"color=hair\\u003cbr\\u003ex=%{x}\\u003cbr\\u003ey=%{y}\\u003cbr\\u003ez=%{z}\\u003cextra\\u003e\\u003c\\u002fextra\\u003e\",\"legendgroup\":\"hair\",\"marker\":{\"color\":\"#FF6692\",\"symbol\":\"circle\"},\"mode\":\"markers\",\"name\":\"hair\",\"scene\":\"scene\",\"showlegend\":true,\"x\":[0.5073157548904419],\"y\":[-0.21993666887283325],\"z\":[0.2222408652305603],\"type\":\"scatter3d\"},{\"hovertemplate\":\"color=mean\\u003cbr\\u003ex=%{x}\\u003cbr\\u003ey=%{y}\\u003cbr\\u003ez=%{z}\\u003cextra\\u003e\\u003c\\u002fextra\\u003e\",\"legendgroup\":\"mean\",\"marker\":{\"color\":\"#B6E880\",\"symbol\":\"circle\"},\"mode\":\"markers\",\"name\":\"mean\",\"scene\":\"scene\",\"showlegend\":true,\"x\":[-0.7954949140548706],\"y\":[-0.26632094383239746],\"z\":[0.3665735721588135],\"type\":\"scatter3d\"},{\"hovertemplate\":\"color=each\\u003cbr\\u003ex=%{x}\\u003cbr\\u003ey=%{y}\\u003cbr\\u003ez=%{z}\\u003cextra\\u003e\\u003c\\u002fextra\\u003e\",\"legendgroup\":\"each\",\"marker\":{\"color\":\"#FF97FF\",\"symbol\":\"circle\"},\"mode\":\"markers\",\"name\":\"each\",\"scene\":\"scene\",\"showlegend\":true,\"x\":[0.15128061175346375],\"y\":[-0.4505883753299713],\"z\":[-0.31099316477775574],\"type\":\"scatter3d\"},{\"hovertemplate\":\"color=wanted\\u003cbr\\u003ex=%{x}\\u003cbr\\u003ey=%{y}\\u003cbr\\u003ez=%{z}\\u003cextra\\u003e\\u003c\\u002fextra\\u003e\",\"legendgroup\":\"wanted\",\"marker\":{\"color\":\"#FECB52\",\"symbol\":\"circle\"},\"mode\":\"markers\",\"name\":\"wanted\",\"scene\":\"scene\",\"showlegend\":true,\"x\":[-0.7256158590316772],\"y\":[-0.5071516036987305],\"z\":[0.25432854890823364],\"type\":\"scatter3d\"},{\"hovertemplate\":\"color=upon\\u003cbr\\u003ex=%{x}\\u003cbr\\u003ey=%{y}\\u003cbr\\u003ez=%{z}\\u003cextra\\u003e\\u003c\\u002fextra\\u003e\",\"legendgroup\":\"upon\",\"marker\":{\"color\":\"#636efa\",\"symbol\":\"circle\"},\"mode\":\"markers\",\"name\":\"upon\",\"scene\":\"scene\",\"showlegend\":true,\"x\":[0.35443031787872314],\"y\":[-0.3266356885433197],\"z\":[-0.013846352696418762],\"type\":\"scatter3d\"},{\"hovertemplate\":\"color=across\\u003cbr\\u003ex=%{x}\\u003cbr\\u003ey=%{y}\\u003cbr\\u003ez=%{z}\\u003cextra\\u003e\\u003c\\u002fextra\\u003e\",\"legendgroup\":\"across\",\"marker\":{\"color\":\"#EF553B\",\"symbol\":\"circle\"},\"mode\":\"markers\",\"name\":\"across\",\"scene\":\"scene\",\"showlegend\":true,\"x\":[0.622535228729248],\"y\":[-0.47433537244796753],\"z\":[-0.03145613521337509],\"type\":\"scatter3d\"},{\"hovertemplate\":\"color=boy\\u003cbr\\u003ex=%{x}\\u003cbr\\u003ey=%{y}\\u003cbr\\u003ez=%{z}\\u003cextra\\u003e\\u003c\\u002fextra\\u003e\",\"legendgroup\":\"boy\",\"marker\":{\"color\":\"#00cc96\",\"symbol\":\"circle\"},\"mode\":\"markers\",\"name\":\"boy\",\"scene\":\"scene\",\"showlegend\":true,\"x\":[-0.5909676551818848],\"y\":[-0.10878613591194153],\"z\":[0.16479378938674927],\"type\":\"scatter3d\"},{\"hovertemplate\":\"color=being\\u003cbr\\u003ex=%{x}\\u003cbr\\u003ey=%{y}\\u003cbr\\u003ez=%{z}\\u003cextra\\u003e\\u003c\\u002fextra\\u003e\",\"legendgroup\":\"being\",\"marker\":{\"color\":\"#ab63fa\",\"symbol\":\"circle\"},\"mode\":\"markers\",\"name\":\"being\",\"scene\":\"scene\",\"showlegend\":true,\"x\":[-0.5702508687973022],\"y\":[-0.30184999108314514],\"z\":[-0.16052308678627014],\"type\":\"scatter3d\"},{\"hovertemplate\":\"color=bit\\u003cbr\\u003ex=%{x}\\u003cbr\\u003ey=%{y}\\u003cbr\\u003ez=%{z}\\u003cextra\\u003e\\u003c\\u002fextra\\u003e\",\"legendgroup\":\"bit\",\"marker\":{\"color\":\"#FFA15A\",\"symbol\":\"circle\"},\"mode\":\"markers\",\"name\":\"bit\",\"scene\":\"scene\",\"showlegend\":true,\"x\":[-0.6792283654212952],\"y\":[-0.304044246673584],\"z\":[0.3063047528266907],\"type\":\"scatter3d\"},{\"hovertemplate\":\"color=air\\u003cbr\\u003ex=%{x}\\u003cbr\\u003ey=%{y}\\u003cbr\\u003ez=%{z}\\u003cextra\\u003e\\u003c\\u002fextra\\u003e\",\"legendgroup\":\"air\",\"marker\":{\"color\":\"#19d3f3\",\"symbol\":\"circle\"},\"mode\":\"markers\",\"name\":\"air\",\"scene\":\"scene\",\"showlegend\":true,\"x\":[0.6582956910133362],\"y\":[-0.45122411847114563],\"z\":[-0.020997755229473114],\"type\":\"scatter3d\"},{\"hovertemplate\":\"color=couldn\\u003cbr\\u003ex=%{x}\\u003cbr\\u003ey=%{y}\\u003cbr\\u003ez=%{z}\\u003cextra\\u003e\\u003c\\u002fextra\\u003e\",\"legendgroup\":\"couldn\",\"marker\":{\"color\":\"#FF6692\",\"symbol\":\"circle\"},\"mode\":\"markers\",\"name\":\"couldn\",\"scene\":\"scene\",\"showlegend\":true,\"x\":[-0.4718603491783142],\"y\":[-0.48107659816741943],\"z\":[0.42170587182044983],\"type\":\"scatter3d\"},{\"hovertemplate\":\"color=quite\\u003cbr\\u003ex=%{x}\\u003cbr\\u003ey=%{y}\\u003cbr\\u003ez=%{z}\\u003cextra\\u003e\\u003c\\u002fextra\\u003e\",\"legendgroup\":\"quite\",\"marker\":{\"color\":\"#B6E880\",\"symbol\":\"circle\"},\"mode\":\"markers\",\"name\":\"quite\",\"scene\":\"scene\",\"showlegend\":true,\"x\":[-0.3360482454299927],\"y\":[-0.20507162809371948],\"z\":[0.27425116300582886],\"type\":\"scatter3d\"},{\"hovertemplate\":\"color=wasn\\u003cbr\\u003ex=%{x}\\u003cbr\\u003ey=%{y}\\u003cbr\\u003ez=%{z}\\u003cextra\\u003e\\u003c\\u002fextra\\u003e\",\"legendgroup\":\"wasn\",\"marker\":{\"color\":\"#FF97FF\",\"symbol\":\"circle\"},\"mode\":\"markers\",\"name\":\"wasn\",\"scene\":\"scene\",\"showlegend\":true,\"x\":[-0.6258648633956909],\"y\":[-0.39000988006591797],\"z\":[0.3291889727115631],\"type\":\"scatter3d\"},{\"hovertemplate\":\"color=year\\u003cbr\\u003ex=%{x}\\u003cbr\\u003ey=%{y}\\u003cbr\\u003ez=%{z}\\u003cextra\\u003e\\u003c\\u002fextra\\u003e\",\"legendgroup\":\"year\",\"marker\":{\"color\":\"#FECB52\",\"symbol\":\"circle\"},\"mode\":\"markers\",\"name\":\"year\",\"scene\":\"scene\",\"showlegend\":true,\"x\":[-0.6415585875511169],\"y\":[-0.36249494552612305],\"z\":[-0.4560566544532776],\"type\":\"scatter3d\"},{\"hovertemplate\":\"color=uncle\\u003cbr\\u003ex=%{x}\\u003cbr\\u003ey=%{y}\\u003cbr\\u003ez=%{z}\\u003cextra\\u003e\\u003c\\u002fextra\\u003e\",\"legendgroup\":\"uncle\",\"marker\":{\"color\":\"#636efa\",\"symbol\":\"circle\"},\"mode\":\"markers\",\"name\":\"uncle\",\"scene\":\"scene\",\"showlegend\":true,\"x\":[-0.08993162959814072],\"y\":[-0.39118731021881104],\"z\":[0.31255000829696655],\"type\":\"scatter3d\"},{\"hovertemplate\":\"color=man\\u003cbr\\u003ex=%{x}\\u003cbr\\u003ey=%{y}\\u003cbr\\u003ez=%{z}\\u003cextra\\u003e\\u003c\\u002fextra\\u003e\",\"legendgroup\":\"man\",\"marker\":{\"color\":\"#EF553B\",\"symbol\":\"circle\"},\"mode\":\"markers\",\"name\":\"man\",\"scene\":\"scene\",\"showlegend\":true,\"x\":[0.2195548713207245],\"y\":[-0.16920921206474304],\"z\":[0.12668544054031372],\"type\":\"scatter3d\"},{\"hovertemplate\":\"color=cloak\\u003cbr\\u003ex=%{x}\\u003cbr\\u003ey=%{y}\\u003cbr\\u003ez=%{z}\\u003cextra\\u003e\\u003c\\u002fextra\\u003e\",\"legendgroup\":\"cloak\",\"marker\":{\"color\":\"#00cc96\",\"symbol\":\"circle\"},\"mode\":\"markers\",\"name\":\"cloak\",\"scene\":\"scene\",\"showlegend\":true,\"x\":[0.2669205069541931],\"y\":[-0.5088925957679749],\"z\":[0.20583733916282654],\"type\":\"scatter3d\"},{\"hovertemplate\":\"color=years\\u003cbr\\u003ex=%{x}\\u003cbr\\u003ey=%{y}\\u003cbr\\u003ez=%{z}\\u003cextra\\u003e\\u003c\\u002fextra\\u003e\",\"legendgroup\":\"years\",\"marker\":{\"color\":\"#ab63fa\",\"symbol\":\"circle\"},\"mode\":\"markers\",\"name\":\"years\",\"scene\":\"scene\",\"showlegend\":true,\"x\":[-0.5233032703399658],\"y\":[-0.37337711453437805],\"z\":[-0.5853540897369385],\"type\":\"scatter3d\"},{\"hovertemplate\":\"color=better\\u003cbr\\u003ex=%{x}\\u003cbr\\u003ey=%{y}\\u003cbr\\u003ez=%{z}\\u003cextra\\u003e\\u003c\\u002fextra\\u003e\",\"legendgroup\":\"better\",\"marker\":{\"color\":\"#FFA15A\",\"symbol\":\"circle\"},\"mode\":\"markers\",\"name\":\"better\",\"scene\":\"scene\",\"showlegend\":true,\"x\":[-0.5799806714057922],\"y\":[-0.4121033549308777],\"z\":[0.21797612309455872],\"type\":\"scatter3d\"},{\"hovertemplate\":\"color=done\\u003cbr\\u003ex=%{x}\\u003cbr\\u003ey=%{y}\\u003cbr\\u003ez=%{z}\\u003cextra\\u003e\\u003c\\u002fextra\\u003e\",\"legendgroup\":\"done\",\"marker\":{\"color\":\"#19d3f3\",\"symbol\":\"circle\"},\"mode\":\"markers\",\"name\":\"done\",\"scene\":\"scene\",\"showlegend\":true,\"x\":[-0.5418565273284912],\"y\":[-0.4064543843269348],\"z\":[0.238282710313797],\"type\":\"scatter3d\"},{\"hovertemplate\":\"color=side\\u003cbr\\u003ex=%{x}\\u003cbr\\u003ey=%{y}\\u003cbr\\u003ez=%{z}\\u003cextra\\u003e\\u003c\\u002fextra\\u003e\",\"legendgroup\":\"side\",\"marker\":{\"color\":\"#FF6692\",\"symbol\":\"circle\"},\"mode\":\"markers\",\"name\":\"side\",\"scene\":\"scene\",\"showlegend\":true,\"x\":[0.37341737747192383],\"y\":[-0.5658478140830994],\"z\":[-0.14053460955619812],\"type\":\"scatter3d\"},{\"hovertemplate\":\"color=doing\\u003cbr\\u003ex=%{x}\\u003cbr\\u003ey=%{y}\\u003cbr\\u003ez=%{z}\\u003cextra\\u003e\\u003c\\u002fextra\\u003e\",\"legendgroup\":\"doing\",\"marker\":{\"color\":\"#B6E880\",\"symbol\":\"circle\"},\"mode\":\"markers\",\"name\":\"doing\",\"scene\":\"scene\",\"showlegend\":true,\"x\":[-0.5351928472518921],\"y\":[-0.3515564203262329],\"z\":[0.2039104402065277],\"type\":\"scatter3d\"},{\"hovertemplate\":\"color=happened\\u003cbr\\u003ex=%{x}\\u003cbr\\u003ey=%{y}\\u003cbr\\u003ez=%{z}\\u003cextra\\u003e\\u003c\\u002fextra\\u003e\",\"legendgroup\":\"happened\",\"marker\":{\"color\":\"#FF97FF\",\"symbol\":\"circle\"},\"mode\":\"markers\",\"name\":\"happened\",\"scene\":\"scene\",\"showlegend\":true,\"x\":[-0.4539059102535248],\"y\":[-0.39184004068374634],\"z\":[0.12462545186281204],\"type\":\"scatter3d\"},{\"hovertemplate\":\"color=help\\u003cbr\\u003ex=%{x}\\u003cbr\\u003ey=%{y}\\u003cbr\\u003ez=%{z}\\u003cextra\\u003e\\u003c\\u002fextra\\u003e\",\"legendgroup\":\"help\",\"marker\":{\"color\":\"#FECB52\",\"symbol\":\"circle\"},\"mode\":\"markers\",\"name\":\"help\",\"scene\":\"scene\",\"showlegend\":true,\"x\":[-0.5281663537025452],\"y\":[-0.4848770797252655],\"z\":[0.42018237709999084],\"type\":\"scatter3d\"},{\"hovertemplate\":\"color=keep\\u003cbr\\u003ex=%{x}\\u003cbr\\u003ey=%{y}\\u003cbr\\u003ez=%{z}\\u003cextra\\u003e\\u003c\\u002fextra\\u003e\",\"legendgroup\":\"keep\",\"marker\":{\"color\":\"#636efa\",\"symbol\":\"circle\"},\"mode\":\"markers\",\"name\":\"keep\",\"scene\":\"scene\",\"showlegend\":true,\"x\":[-0.48704299330711365],\"y\":[-0.5092653036117554],\"z\":[0.2792022228240967],\"type\":\"scatter3d\"},{\"hovertemplate\":\"color=half\\u003cbr\\u003ex=%{x}\\u003cbr\\u003ey=%{y}\\u003cbr\\u003ez=%{z}\\u003cextra\\u003e\\u003c\\u002fextra\\u003e\",\"legendgroup\":\"half\",\"marker\":{\"color\":\"#EF553B\",\"symbol\":\"circle\"},\"mode\":\"markers\",\"name\":\"half\",\"scene\":\"scene\",\"showlegend\":true,\"x\":[0.18583571910858154],\"y\":[-0.2138064205646515],\"z\":[-0.4089794158935547],\"type\":\"scatter3d\"},{\"hovertemplate\":\"color=enough\\u003cbr\\u003ex=%{x}\\u003cbr\\u003ey=%{y}\\u003cbr\\u003ez=%{z}\\u003cextra\\u003e\\u003c\\u002fextra\\u003e\",\"legendgroup\":\"enough\",\"marker\":{\"color\":\"#00cc96\",\"symbol\":\"circle\"},\"mode\":\"markers\",\"name\":\"enough\",\"scene\":\"scene\",\"showlegend\":true,\"x\":[-0.6914637088775635],\"y\":[-0.40259212255477905],\"z\":[0.02419573813676834],\"type\":\"scatter3d\"},{\"hovertemplate\":\"color=mind\\u003cbr\\u003ex=%{x}\\u003cbr\\u003ey=%{y}\\u003cbr\\u003ez=%{z}\\u003cextra\\u003e\\u003c\\u002fextra\\u003e\",\"legendgroup\":\"mind\",\"marker\":{\"color\":\"#ab63fa\",\"symbol\":\"circle\"},\"mode\":\"markers\",\"name\":\"mind\",\"scene\":\"scene\",\"showlegend\":true,\"x\":[-0.5568829774856567],\"y\":[-0.47652894258499146],\"z\":[0.3659115135669708],\"type\":\"scatter3d\"},{\"hovertemplate\":\"color=light\\u003cbr\\u003ex=%{x}\\u003cbr\\u003ey=%{y}\\u003cbr\\u003ez=%{z}\\u003cextra\\u003e\\u003c\\u002fextra\\u003e\",\"legendgroup\":\"light\",\"marker\":{\"color\":\"#FFA15A\",\"symbol\":\"circle\"},\"mode\":\"markers\",\"name\":\"light\",\"scene\":\"scene\",\"showlegend\":true,\"x\":[0.5974540710449219],\"y\":[-0.4525637626647949],\"z\":[-0.18093228340148926],\"type\":\"scatter3d\"},{\"hovertemplate\":\"color=wizard\\u003cbr\\u003ex=%{x}\\u003cbr\\u003ey=%{y}\\u003cbr\\u003ez=%{z}\\u003cextra\\u003e\\u003c\\u002fextra\\u003e\",\"legendgroup\":\"wizard\",\"marker\":{\"color\":\"#19d3f3\",\"symbol\":\"circle\"},\"mode\":\"markers\",\"name\":\"wizard\",\"scene\":\"scene\",\"showlegend\":true,\"x\":[-0.37479662895202637],\"y\":[-0.07803139090538025],\"z\":[-0.32963478565216064],\"type\":\"scatter3d\"},{\"hovertemplate\":\"color=moody\\u003cbr\\u003ex=%{x}\\u003cbr\\u003ey=%{y}\\u003cbr\\u003ez=%{z}\\u003cextra\\u003e\\u003c\\u002fextra\\u003e\",\"legendgroup\":\"moody\",\"marker\":{\"color\":\"#FF6692\",\"symbol\":\"circle\"},\"mode\":\"markers\",\"name\":\"moody\",\"scene\":\"scene\",\"showlegend\":true,\"x\":[-0.16220292448997498],\"y\":[-0.23895394802093506],\"z\":[0.30961328744888306],\"type\":\"scatter3d\"},{\"hovertemplate\":\"color=second\\u003cbr\\u003ex=%{x}\\u003cbr\\u003ey=%{y}\\u003cbr\\u003ez=%{z}\\u003cextra\\u003e\\u003c\\u002fextra\\u003e\",\"legendgroup\":\"second\",\"marker\":{\"color\":\"#B6E880\",\"symbol\":\"circle\"},\"mode\":\"markers\",\"name\":\"second\",\"scene\":\"scene\",\"showlegend\":true,\"x\":[0.1003618836402893],\"y\":[-0.5287414193153381],\"z\":[-0.35518527030944824],\"type\":\"scatter3d\"},{\"hovertemplate\":\"color=along\\u003cbr\\u003ex=%{x}\\u003cbr\\u003ey=%{y}\\u003cbr\\u003ez=%{z}\\u003cextra\\u003e\\u003c\\u002fextra\\u003e\",\"legendgroup\":\"along\",\"marker\":{\"color\":\"#FF97FF\",\"symbol\":\"circle\"},\"mode\":\"markers\",\"name\":\"along\",\"scene\":\"scene\",\"showlegend\":true,\"x\":[0.45941054821014404],\"y\":[-0.5503450036048889],\"z\":[-0.2984410524368286],\"type\":\"scatter3d\"},{\"hovertemplate\":\"color=vernon\\u003cbr\\u003ex=%{x}\\u003cbr\\u003ey=%{y}\\u003cbr\\u003ez=%{z}\\u003cextra\\u003e\\u003c\\u002fextra\\u003e\",\"legendgroup\":\"vernon\",\"marker\":{\"color\":\"#FECB52\",\"symbol\":\"circle\"},\"mode\":\"markers\",\"name\":\"vernon\",\"scene\":\"scene\",\"showlegend\":true,\"x\":[-0.03681182861328125],\"y\":[-0.2984767556190491],\"z\":[0.29018908739089966],\"type\":\"scatter3d\"},{\"hovertemplate\":\"color=those\\u003cbr\\u003ex=%{x}\\u003cbr\\u003ey=%{y}\\u003cbr\\u003ez=%{z}\\u003cextra\\u003e\\u003c\\u002fextra\\u003e\",\"legendgroup\":\"those\",\"marker\":{\"color\":\"#636efa\",\"symbol\":\"circle\"},\"mode\":\"markers\",\"name\":\"those\",\"scene\":\"scene\",\"showlegend\":true,\"x\":[-0.6045866012573242],\"y\":[-0.2489062249660492],\"z\":[-0.4972430467605591],\"type\":\"scatter3d\"},{\"hovertemplate\":\"color=should\\u003cbr\\u003ex=%{x}\\u003cbr\\u003ey=%{y}\\u003cbr\\u003ez=%{z}\\u003cextra\\u003e\\u003c\\u002fextra\\u003e\",\"legendgroup\":\"should\",\"marker\":{\"color\":\"#EF553B\",\"symbol\":\"circle\"},\"mode\":\"markers\",\"name\":\"should\",\"scene\":\"scene\",\"showlegend\":true,\"x\":[-0.6803403496742249],\"y\":[-0.345544695854187],\"z\":[0.06847347319126129],\"type\":\"scatter3d\"},{\"hovertemplate\":\"color=give\\u003cbr\\u003ex=%{x}\\u003cbr\\u003ey=%{y}\\u003cbr\\u003ez=%{z}\\u003cextra\\u003e\\u003c\\u002fextra\\u003e\",\"legendgroup\":\"give\",\"marker\":{\"color\":\"#00cc96\",\"symbol\":\"circle\"},\"mode\":\"markers\",\"name\":\"give\",\"scene\":\"scene\",\"showlegend\":true,\"x\":[-0.6546422243118286],\"y\":[-0.4343160092830658],\"z\":[0.2080526500940323],\"type\":\"scatter3d\"},{\"hovertemplate\":\"color=these\\u003cbr\\u003ex=%{x}\\u003cbr\\u003ey=%{y}\\u003cbr\\u003ez=%{z}\\u003cextra\\u003e\\u003c\\u002fextra\\u003e\",\"legendgroup\":\"these\",\"marker\":{\"color\":\"#ab63fa\",\"symbol\":\"circle\"},\"mode\":\"markers\",\"name\":\"these\",\"scene\":\"scene\",\"showlegend\":true,\"x\":[-0.7352572679519653],\"y\":[-0.25412797927856445],\"z\":[-0.4098646640777588],\"type\":\"scatter3d\"},{\"hovertemplate\":\"color=else\\u003cbr\\u003ex=%{x}\\u003cbr\\u003ey=%{y}\\u003cbr\\u003ez=%{z}\\u003cextra\\u003e\\u003c\\u002fextra\\u003e\",\"legendgroup\":\"else\",\"marker\":{\"color\":\"#FFA15A\",\"symbol\":\"circle\"},\"mode\":\"markers\",\"name\":\"else\",\"scene\":\"scene\",\"showlegend\":true,\"x\":[-0.5982621908187866],\"y\":[-0.43191057443618774],\"z\":[0.1701667308807373],\"type\":\"scatter3d\"},{\"hovertemplate\":\"color=fudge\\u003cbr\\u003ex=%{x}\\u003cbr\\u003ey=%{y}\\u003cbr\\u003ez=%{z}\\u003cextra\\u003e\\u003c\\u002fextra\\u003e\",\"legendgroup\":\"fudge\",\"marker\":{\"color\":\"#19d3f3\",\"symbol\":\"circle\"},\"mode\":\"markers\",\"name\":\"fudge\",\"scene\":\"scene\",\"showlegend\":true,\"x\":[-0.39616966247558594],\"y\":[-0.04621315002441406],\"z\":[0.24293914437294006],\"type\":\"scatter3d\"},{\"hovertemplate\":\"color=already\\u003cbr\\u003ex=%{x}\\u003cbr\\u003ey=%{y}\\u003cbr\\u003ez=%{z}\\u003cextra\\u003e\\u003c\\u002fextra\\u003e\",\"legendgroup\":\"already\",\"marker\":{\"color\":\"#FF6692\",\"symbol\":\"circle\"},\"mode\":\"markers\",\"name\":\"already\",\"scene\":\"scene\",\"showlegend\":true,\"x\":[-0.2744520306587219],\"y\":[-0.3804648518562317],\"z\":[-0.16588065028190613],\"type\":\"scatter3d\"},{\"hovertemplate\":\"color=bed\\u003cbr\\u003ex=%{x}\\u003cbr\\u003ey=%{y}\\u003cbr\\u003ez=%{z}\\u003cextra\\u003e\\u003c\\u002fextra\\u003e\",\"legendgroup\":\"bed\",\"marker\":{\"color\":\"#B6E880\",\"symbol\":\"circle\"},\"mode\":\"markers\",\"name\":\"bed\",\"scene\":\"scene\",\"showlegend\":true,\"x\":[0.3556409478187561],\"y\":[-0.615290105342865],\"z\":[0.10280079394578934],\"type\":\"scatter3d\"},{\"hovertemplate\":\"color=robes\\u003cbr\\u003ex=%{x}\\u003cbr\\u003ey=%{y}\\u003cbr\\u003ez=%{z}\\u003cextra\\u003e\\u003c\\u002fextra\\u003e\",\"legendgroup\":\"robes\",\"marker\":{\"color\":\"#FF97FF\",\"symbol\":\"circle\"},\"mode\":\"markers\",\"name\":\"robes\",\"scene\":\"scene\",\"showlegend\":true,\"x\":[0.6186009049415588],\"y\":[-0.3491480350494385],\"z\":[0.06771489232778549],\"type\":\"scatter3d\"},{\"hovertemplate\":\"color=small\\u003cbr\\u003ex=%{x}\\u003cbr\\u003ey=%{y}\\u003cbr\\u003ez=%{z}\\u003cextra\\u003e\\u003c\\u002fextra\\u003e\",\"legendgroup\":\"small\",\"marker\":{\"color\":\"#FECB52\",\"symbol\":\"circle\"},\"mode\":\"markers\",\"name\":\"small\",\"scene\":\"scene\",\"showlegend\":true,\"x\":[0.6282901763916016],\"y\":[-0.2762378752231598],\"z\":[-0.1638612151145935],\"type\":\"scatter3d\"},{\"hovertemplate\":\"color=yet\\u003cbr\\u003ex=%{x}\\u003cbr\\u003ey=%{y}\\u003cbr\\u003ez=%{z}\\u003cextra\\u003e\\u003c\\u002fextra\\u003e\",\"legendgroup\":\"yet\",\"marker\":{\"color\":\"#636efa\",\"symbol\":\"circle\"},\"mode\":\"markers\",\"name\":\"yet\",\"scene\":\"scene\",\"showlegend\":true,\"x\":[-0.5586072206497192],\"y\":[-0.36883312463760376],\"z\":[0.07979339361190796],\"type\":\"scatter3d\"},{\"hovertemplate\":\"color=walked\\u003cbr\\u003ex=%{x}\\u003cbr\\u003ey=%{y}\\u003cbr\\u003ez=%{z}\\u003cextra\\u003e\\u003c\\u002fextra\\u003e\",\"legendgroup\":\"walked\",\"marker\":{\"color\":\"#EF553B\",\"symbol\":\"circle\"},\"mode\":\"markers\",\"name\":\"walked\",\"scene\":\"scene\",\"showlegend\":true,\"x\":[0.3784611225128174],\"y\":[-0.5796664953231812],\"z\":[0.07366865873336792],\"type\":\"scatter3d\"},{\"hovertemplate\":\"color=gone\\u003cbr\\u003ex=%{x}\\u003cbr\\u003ey=%{y}\\u003cbr\\u003ez=%{z}\\u003cextra\\u003e\\u003c\\u002fextra\\u003e\",\"legendgroup\":\"gone\",\"marker\":{\"color\":\"#00cc96\",\"symbol\":\"circle\"},\"mode\":\"markers\",\"name\":\"gone\",\"scene\":\"scene\",\"showlegend\":true,\"x\":[-0.28952884674072266],\"y\":[-0.45153436064720154],\"z\":[0.08256867527961731],\"type\":\"scatter3d\"},{\"hovertemplate\":\"color=staring\\u003cbr\\u003ex=%{x}\\u003cbr\\u003ey=%{y}\\u003cbr\\u003ez=%{z}\\u003cextra\\u003e\\u003c\\u002fextra\\u003e\",\"legendgroup\":\"staring\",\"marker\":{\"color\":\"#ab63fa\",\"symbol\":\"circle\"},\"mode\":\"markers\",\"name\":\"staring\",\"scene\":\"scene\",\"showlegend\":true,\"x\":[0.3488216996192932],\"y\":[-0.45345309376716614],\"z\":[0.27658626437187195],\"type\":\"scatter3d\"},{\"hovertemplate\":\"color=many\\u003cbr\\u003ex=%{x}\\u003cbr\\u003ey=%{y}\\u003cbr\\u003ez=%{z}\\u003cextra\\u003e\\u003c\\u002fextra\\u003e\",\"legendgroup\":\"many\",\"marker\":{\"color\":\"#FFA15A\",\"symbol\":\"circle\"},\"mode\":\"markers\",\"name\":\"many\",\"scene\":\"scene\",\"showlegend\":true,\"x\":[-0.28996244072914124],\"y\":[-0.25873154401779175],\"z\":[-0.5981600284576416],\"type\":\"scatter3d\"},{\"hovertemplate\":\"color=eye\\u003cbr\\u003ex=%{x}\\u003cbr\\u003ey=%{y}\\u003cbr\\u003ez=%{z}\\u003cextra\\u003e\\u003c\\u002fextra\\u003e\",\"legendgroup\":\"eye\",\"marker\":{\"color\":\"#19d3f3\",\"symbol\":\"circle\"},\"mode\":\"markers\",\"name\":\"eye\",\"scene\":\"scene\",\"showlegend\":true,\"x\":[0.135528564453125],\"y\":[-0.27856287360191345],\"z\":[0.37481778860092163],\"type\":\"scatter3d\"},{\"hovertemplate\":\"color=day\\u003cbr\\u003ex=%{x}\\u003cbr\\u003ey=%{y}\\u003cbr\\u003ez=%{z}\\u003cextra\\u003e\\u003c\\u002fextra\\u003e\",\"legendgroup\":\"day\",\"marker\":{\"color\":\"#FF6692\",\"symbol\":\"circle\"},\"mode\":\"markers\",\"name\":\"day\",\"scene\":\"scene\",\"showlegend\":true,\"x\":[-0.5716434717178345],\"y\":[-0.4503382444381714],\"z\":[-0.42415696382522583],\"type\":\"scatter3d\"},{\"hovertemplate\":\"color=dobby\\u003cbr\\u003ex=%{x}\\u003cbr\\u003ey=%{y}\\u003cbr\\u003ez=%{z}\\u003cextra\\u003e\\u003c\\u002fextra\\u003e\",\"legendgroup\":\"dobby\",\"marker\":{\"color\":\"#B6E880\",\"symbol\":\"circle\"},\"mode\":\"markers\",\"name\":\"dobby\",\"scene\":\"scene\",\"showlegend\":true,\"x\":[-0.31520646810531616],\"y\":[-0.263834685087204],\"z\":[0.4305393099784851],\"type\":\"scatter3d\"},{\"hovertemplate\":\"color=won\\u003cbr\\u003ex=%{x}\\u003cbr\\u003ey=%{y}\\u003cbr\\u003ez=%{z}\\u003cextra\\u003e\\u003c\\u002fextra\\u003e\",\"legendgroup\":\"won\",\"marker\":{\"color\":\"#FF97FF\",\"symbol\":\"circle\"},\"mode\":\"markers\",\"name\":\"won\",\"scene\":\"scene\",\"showlegend\":true,\"x\":[-0.7135076522827148],\"y\":[-0.38591212034225464],\"z\":[0.22781461477279663],\"type\":\"scatter3d\"},{\"hovertemplate\":\"color=set\\u003cbr\\u003ex=%{x}\\u003cbr\\u003ey=%{y}\\u003cbr\\u003ez=%{z}\\u003cextra\\u003e\\u003c\\u002fextra\\u003e\",\"legendgroup\":\"set\",\"marker\":{\"color\":\"#FECB52\",\"symbol\":\"circle\"},\"mode\":\"markers\",\"name\":\"set\",\"scene\":\"scene\",\"showlegend\":true,\"x\":[0.11084729433059692],\"y\":[-0.45519816875457764],\"z\":[-0.2673714756965637],\"type\":\"scatter3d\"},{\"hovertemplate\":\"color=however\\u003cbr\\u003ex=%{x}\\u003cbr\\u003ey=%{y}\\u003cbr\\u003ez=%{z}\\u003cextra\\u003e\\u003c\\u002fextra\\u003e\",\"legendgroup\":\"however\",\"marker\":{\"color\":\"#636efa\",\"symbol\":\"circle\"},\"mode\":\"markers\",\"name\":\"however\",\"scene\":\"scene\",\"showlegend\":true,\"x\":[-0.34013283252716064],\"y\":[-0.27390041947364807],\"z\":[-0.20764198899269104],\"type\":\"scatter3d\"},{\"hovertemplate\":\"color=hard\\u003cbr\\u003ex=%{x}\\u003cbr\\u003ey=%{y}\\u003cbr\\u003ez=%{z}\\u003cextra\\u003e\\u003c\\u002fextra\\u003e\",\"legendgroup\":\"hard\",\"marker\":{\"color\":\"#EF553B\",\"symbol\":\"circle\"},\"mode\":\"markers\",\"name\":\"hard\",\"scene\":\"scene\",\"showlegend\":true,\"x\":[0.26480475068092346],\"y\":[-0.47432607412338257],\"z\":[0.3050101101398468],\"type\":\"scatter3d\"},{\"hovertemplate\":\"color=fell\\u003cbr\\u003ex=%{x}\\u003cbr\\u003ey=%{y}\\u003cbr\\u003ez=%{z}\\u003cextra\\u003e\\u003c\\u002fextra\\u003e\",\"legendgroup\":\"fell\",\"marker\":{\"color\":\"#00cc96\",\"symbol\":\"circle\"},\"mode\":\"markers\",\"name\":\"fell\",\"scene\":\"scene\",\"showlegend\":true,\"x\":[0.6294211745262146],\"y\":[-0.4661576747894287],\"z\":[0.08924418687820435],\"type\":\"scatter3d\"},{\"hovertemplate\":\"color=standing\\u003cbr\\u003ex=%{x}\\u003cbr\\u003ey=%{y}\\u003cbr\\u003ez=%{z}\\u003cextra\\u003e\\u003c\\u002fextra\\u003e\",\"legendgroup\":\"standing\",\"marker\":{\"color\":\"#ab63fa\",\"symbol\":\"circle\"},\"mode\":\"markers\",\"name\":\"standing\",\"scene\":\"scene\",\"showlegend\":true,\"x\":[0.5068387389183044],\"y\":[-0.3893919587135315],\"z\":[-0.05983708053827286],\"type\":\"scatter3d\"},{\"hovertemplate\":\"color=rather\\u003cbr\\u003ex=%{x}\\u003cbr\\u003ey=%{y}\\u003cbr\\u003ez=%{z}\\u003cextra\\u003e\\u003c\\u002fextra\\u003e\",\"legendgroup\":\"rather\",\"marker\":{\"color\":\"#FFA15A\",\"symbol\":\"circle\"},\"mode\":\"markers\",\"name\":\"rather\",\"scene\":\"scene\",\"showlegend\":true,\"x\":[-0.21801653504371643],\"y\":[-0.15467655658721924],\"z\":[0.30350279808044434],\"type\":\"scatter3d\"},{\"hovertemplate\":\"color=yeh\\u003cbr\\u003ex=%{x}\\u003cbr\\u003ey=%{y}\\u003cbr\\u003ez=%{z}\\u003cextra\\u003e\\u003c\\u002fextra\\u003e\",\"legendgroup\":\"yeh\",\"marker\":{\"color\":\"#19d3f3\",\"symbol\":\"circle\"},\"mode\":\"markers\",\"name\":\"yeh\",\"scene\":\"scene\",\"showlegend\":true,\"x\":[-0.6053792834281921],\"y\":[-0.3033384680747986],\"z\":[0.1856602132320404],\"type\":\"scatter3d\"},{\"hovertemplate\":\"color=suddenly\\u003cbr\\u003ex=%{x}\\u003cbr\\u003ey=%{y}\\u003cbr\\u003ez=%{z}\\u003cextra\\u003e\\u003c\\u002fextra\\u003e\",\"legendgroup\":\"suddenly\",\"marker\":{\"color\":\"#FF6692\",\"symbol\":\"circle\"},\"mode\":\"markers\",\"name\":\"suddenly\",\"scene\":\"scene\",\"showlegend\":true,\"x\":[0.4285441040992737],\"y\":[-0.3148934543132782],\"z\":[0.44435974955558777],\"type\":\"scatter3d\"},{\"hovertemplate\":\"color=sat\\u003cbr\\u003ex=%{x}\\u003cbr\\u003ey=%{y}\\u003cbr\\u003ez=%{z}\\u003cextra\\u003e\\u003c\\u002fextra\\u003e\",\"legendgroup\":\"sat\",\"marker\":{\"color\":\"#B6E880\",\"symbol\":\"circle\"},\"mode\":\"markers\",\"name\":\"sat\",\"scene\":\"scene\",\"showlegend\":true,\"x\":[0.38336652517318726],\"y\":[-0.41337889432907104],\"z\":[0.06487560272216797],\"type\":\"scatter3d\"},{\"hovertemplate\":\"color=between\\u003cbr\\u003ex=%{x}\\u003cbr\\u003ey=%{y}\\u003cbr\\u003ez=%{z}\\u003cextra\\u003e\\u003c\\u002fextra\\u003e\",\"legendgroup\":\"between\",\"marker\":{\"color\":\"#FF97FF\",\"symbol\":\"circle\"},\"mode\":\"markers\",\"name\":\"between\",\"scene\":\"scene\",\"showlegend\":true,\"x\":[0.4856383800506592],\"y\":[-0.33859655261039734],\"z\":[-0.12378314882516861],\"type\":\"scatter3d\"},{\"hovertemplate\":\"color=until\\u003cbr\\u003ex=%{x}\\u003cbr\\u003ey=%{y}\\u003cbr\\u003ez=%{z}\\u003cextra\\u003e\\u003c\\u002fextra\\u003e\",\"legendgroup\":\"until\",\"marker\":{\"color\":\"#FECB52\",\"symbol\":\"circle\"},\"mode\":\"markers\",\"name\":\"until\",\"scene\":\"scene\",\"showlegend\":true,\"x\":[-0.02774524688720703],\"y\":[-0.685911238193512],\"z\":[-0.3209778070449829],\"type\":\"scatter3d\"}],                        {\"template\":{\"data\":{\"histogram2dcontour\":[{\"type\":\"histogram2dcontour\",\"colorbar\":{\"outlinewidth\":0,\"ticks\":\"\"},\"colorscale\":[[0.0,\"#0d0887\"],[0.1111111111111111,\"#46039f\"],[0.2222222222222222,\"#7201a8\"],[0.3333333333333333,\"#9c179e\"],[0.4444444444444444,\"#bd3786\"],[0.5555555555555556,\"#d8576b\"],[0.6666666666666666,\"#ed7953\"],[0.7777777777777778,\"#fb9f3a\"],[0.8888888888888888,\"#fdca26\"],[1.0,\"#f0f921\"]]}],\"choropleth\":[{\"type\":\"choropleth\",\"colorbar\":{\"outlinewidth\":0,\"ticks\":\"\"}}],\"histogram2d\":[{\"type\":\"histogram2d\",\"colorbar\":{\"outlinewidth\":0,\"ticks\":\"\"},\"colorscale\":[[0.0,\"#0d0887\"],[0.1111111111111111,\"#46039f\"],[0.2222222222222222,\"#7201a8\"],[0.3333333333333333,\"#9c179e\"],[0.4444444444444444,\"#bd3786\"],[0.5555555555555556,\"#d8576b\"],[0.6666666666666666,\"#ed7953\"],[0.7777777777777778,\"#fb9f3a\"],[0.8888888888888888,\"#fdca26\"],[1.0,\"#f0f921\"]]}],\"heatmap\":[{\"type\":\"heatmap\",\"colorbar\":{\"outlinewidth\":0,\"ticks\":\"\"},\"colorscale\":[[0.0,\"#0d0887\"],[0.1111111111111111,\"#46039f\"],[0.2222222222222222,\"#7201a8\"],[0.3333333333333333,\"#9c179e\"],[0.4444444444444444,\"#bd3786\"],[0.5555555555555556,\"#d8576b\"],[0.6666666666666666,\"#ed7953\"],[0.7777777777777778,\"#fb9f3a\"],[0.8888888888888888,\"#fdca26\"],[1.0,\"#f0f921\"]]}],\"heatmapgl\":[{\"type\":\"heatmapgl\",\"colorbar\":{\"outlinewidth\":0,\"ticks\":\"\"},\"colorscale\":[[0.0,\"#0d0887\"],[0.1111111111111111,\"#46039f\"],[0.2222222222222222,\"#7201a8\"],[0.3333333333333333,\"#9c179e\"],[0.4444444444444444,\"#bd3786\"],[0.5555555555555556,\"#d8576b\"],[0.6666666666666666,\"#ed7953\"],[0.7777777777777778,\"#fb9f3a\"],[0.8888888888888888,\"#fdca26\"],[1.0,\"#f0f921\"]]}],\"contourcarpet\":[{\"type\":\"contourcarpet\",\"colorbar\":{\"outlinewidth\":0,\"ticks\":\"\"}}],\"contour\":[{\"type\":\"contour\",\"colorbar\":{\"outlinewidth\":0,\"ticks\":\"\"},\"colorscale\":[[0.0,\"#0d0887\"],[0.1111111111111111,\"#46039f\"],[0.2222222222222222,\"#7201a8\"],[0.3333333333333333,\"#9c179e\"],[0.4444444444444444,\"#bd3786\"],[0.5555555555555556,\"#d8576b\"],[0.6666666666666666,\"#ed7953\"],[0.7777777777777778,\"#fb9f3a\"],[0.8888888888888888,\"#fdca26\"],[1.0,\"#f0f921\"]]}],\"surface\":[{\"type\":\"surface\",\"colorbar\":{\"outlinewidth\":0,\"ticks\":\"\"},\"colorscale\":[[0.0,\"#0d0887\"],[0.1111111111111111,\"#46039f\"],[0.2222222222222222,\"#7201a8\"],[0.3333333333333333,\"#9c179e\"],[0.4444444444444444,\"#bd3786\"],[0.5555555555555556,\"#d8576b\"],[0.6666666666666666,\"#ed7953\"],[0.7777777777777778,\"#fb9f3a\"],[0.8888888888888888,\"#fdca26\"],[1.0,\"#f0f921\"]]}],\"mesh3d\":[{\"type\":\"mesh3d\",\"colorbar\":{\"outlinewidth\":0,\"ticks\":\"\"}}],\"scatter\":[{\"fillpattern\":{\"fillmode\":\"overlay\",\"size\":10,\"solidity\":0.2},\"type\":\"scatter\"}],\"parcoords\":[{\"type\":\"parcoords\",\"line\":{\"colorbar\":{\"outlinewidth\":0,\"ticks\":\"\"}}}],\"scatterpolargl\":[{\"type\":\"scatterpolargl\",\"marker\":{\"colorbar\":{\"outlinewidth\":0,\"ticks\":\"\"}}}],\"bar\":[{\"error_x\":{\"color\":\"#2a3f5f\"},\"error_y\":{\"color\":\"#2a3f5f\"},\"marker\":{\"line\":{\"color\":\"#E5ECF6\",\"width\":0.5},\"pattern\":{\"fillmode\":\"overlay\",\"size\":10,\"solidity\":0.2}},\"type\":\"bar\"}],\"scattergeo\":[{\"type\":\"scattergeo\",\"marker\":{\"colorbar\":{\"outlinewidth\":0,\"ticks\":\"\"}}}],\"scatterpolar\":[{\"type\":\"scatterpolar\",\"marker\":{\"colorbar\":{\"outlinewidth\":0,\"ticks\":\"\"}}}],\"histogram\":[{\"marker\":{\"pattern\":{\"fillmode\":\"overlay\",\"size\":10,\"solidity\":0.2}},\"type\":\"histogram\"}],\"scattergl\":[{\"type\":\"scattergl\",\"marker\":{\"colorbar\":{\"outlinewidth\":0,\"ticks\":\"\"}}}],\"scatter3d\":[{\"type\":\"scatter3d\",\"line\":{\"colorbar\":{\"outlinewidth\":0,\"ticks\":\"\"}},\"marker\":{\"colorbar\":{\"outlinewidth\":0,\"ticks\":\"\"}}}],\"scattermapbox\":[{\"type\":\"scattermapbox\",\"marker\":{\"colorbar\":{\"outlinewidth\":0,\"ticks\":\"\"}}}],\"scatterternary\":[{\"type\":\"scatterternary\",\"marker\":{\"colorbar\":{\"outlinewidth\":0,\"ticks\":\"\"}}}],\"scattercarpet\":[{\"type\":\"scattercarpet\",\"marker\":{\"colorbar\":{\"outlinewidth\":0,\"ticks\":\"\"}}}],\"carpet\":[{\"aaxis\":{\"endlinecolor\":\"#2a3f5f\",\"gridcolor\":\"white\",\"linecolor\":\"white\",\"minorgridcolor\":\"white\",\"startlinecolor\":\"#2a3f5f\"},\"baxis\":{\"endlinecolor\":\"#2a3f5f\",\"gridcolor\":\"white\",\"linecolor\":\"white\",\"minorgridcolor\":\"white\",\"startlinecolor\":\"#2a3f5f\"},\"type\":\"carpet\"}],\"table\":[{\"cells\":{\"fill\":{\"color\":\"#EBF0F8\"},\"line\":{\"color\":\"white\"}},\"header\":{\"fill\":{\"color\":\"#C8D4E3\"},\"line\":{\"color\":\"white\"}},\"type\":\"table\"}],\"barpolar\":[{\"marker\":{\"line\":{\"color\":\"#E5ECF6\",\"width\":0.5},\"pattern\":{\"fillmode\":\"overlay\",\"size\":10,\"solidity\":0.2}},\"type\":\"barpolar\"}],\"pie\":[{\"automargin\":true,\"type\":\"pie\"}]},\"layout\":{\"autotypenumbers\":\"strict\",\"colorway\":[\"#636efa\",\"#EF553B\",\"#00cc96\",\"#ab63fa\",\"#FFA15A\",\"#19d3f3\",\"#FF6692\",\"#B6E880\",\"#FF97FF\",\"#FECB52\"],\"font\":{\"color\":\"#2a3f5f\"},\"hovermode\":\"closest\",\"hoverlabel\":{\"align\":\"left\"},\"paper_bgcolor\":\"white\",\"plot_bgcolor\":\"#E5ECF6\",\"polar\":{\"bgcolor\":\"#E5ECF6\",\"angularaxis\":{\"gridcolor\":\"white\",\"linecolor\":\"white\",\"ticks\":\"\"},\"radialaxis\":{\"gridcolor\":\"white\",\"linecolor\":\"white\",\"ticks\":\"\"}},\"ternary\":{\"bgcolor\":\"#E5ECF6\",\"aaxis\":{\"gridcolor\":\"white\",\"linecolor\":\"white\",\"ticks\":\"\"},\"baxis\":{\"gridcolor\":\"white\",\"linecolor\":\"white\",\"ticks\":\"\"},\"caxis\":{\"gridcolor\":\"white\",\"linecolor\":\"white\",\"ticks\":\"\"}},\"coloraxis\":{\"colorbar\":{\"outlinewidth\":0,\"ticks\":\"\"}},\"colorscale\":{\"sequential\":[[0.0,\"#0d0887\"],[0.1111111111111111,\"#46039f\"],[0.2222222222222222,\"#7201a8\"],[0.3333333333333333,\"#9c179e\"],[0.4444444444444444,\"#bd3786\"],[0.5555555555555556,\"#d8576b\"],[0.6666666666666666,\"#ed7953\"],[0.7777777777777778,\"#fb9f3a\"],[0.8888888888888888,\"#fdca26\"],[1.0,\"#f0f921\"]],\"sequentialminus\":[[0.0,\"#0d0887\"],[0.1111111111111111,\"#46039f\"],[0.2222222222222222,\"#7201a8\"],[0.3333333333333333,\"#9c179e\"],[0.4444444444444444,\"#bd3786\"],[0.5555555555555556,\"#d8576b\"],[0.6666666666666666,\"#ed7953\"],[0.7777777777777778,\"#fb9f3a\"],[0.8888888888888888,\"#fdca26\"],[1.0,\"#f0f921\"]],\"diverging\":[[0,\"#8e0152\"],[0.1,\"#c51b7d\"],[0.2,\"#de77ae\"],[0.3,\"#f1b6da\"],[0.4,\"#fde0ef\"],[0.5,\"#f7f7f7\"],[0.6,\"#e6f5d0\"],[0.7,\"#b8e186\"],[0.8,\"#7fbc41\"],[0.9,\"#4d9221\"],[1,\"#276419\"]]},\"xaxis\":{\"gridcolor\":\"white\",\"linecolor\":\"white\",\"ticks\":\"\",\"title\":{\"standoff\":15},\"zerolinecolor\":\"white\",\"automargin\":true,\"zerolinewidth\":2},\"yaxis\":{\"gridcolor\":\"white\",\"linecolor\":\"white\",\"ticks\":\"\",\"title\":{\"standoff\":15},\"zerolinecolor\":\"white\",\"automargin\":true,\"zerolinewidth\":2},\"scene\":{\"xaxis\":{\"backgroundcolor\":\"#E5ECF6\",\"gridcolor\":\"white\",\"linecolor\":\"white\",\"showbackground\":true,\"ticks\":\"\",\"zerolinecolor\":\"white\",\"gridwidth\":2},\"yaxis\":{\"backgroundcolor\":\"#E5ECF6\",\"gridcolor\":\"white\",\"linecolor\":\"white\",\"showbackground\":true,\"ticks\":\"\",\"zerolinecolor\":\"white\",\"gridwidth\":2},\"zaxis\":{\"backgroundcolor\":\"#E5ECF6\",\"gridcolor\":\"white\",\"linecolor\":\"white\",\"showbackground\":true,\"ticks\":\"\",\"zerolinecolor\":\"white\",\"gridwidth\":2}},\"shapedefaults\":{\"line\":{\"color\":\"#2a3f5f\"}},\"annotationdefaults\":{\"arrowcolor\":\"#2a3f5f\",\"arrowhead\":0,\"arrowwidth\":1},\"geo\":{\"bgcolor\":\"white\",\"landcolor\":\"#E5ECF6\",\"subunitcolor\":\"white\",\"showland\":true,\"showlakes\":true,\"lakecolor\":\"white\"},\"title\":{\"x\":0.05},\"mapbox\":{\"style\":\"light\"}}},\"scene\":{\"domain\":{\"x\":[0.0,1.0],\"y\":[0.0,1.0]},\"xaxis\":{\"title\":{\"text\":\"x\"}},\"yaxis\":{\"title\":{\"text\":\"y\"}},\"zaxis\":{\"title\":{\"text\":\"z\"}},\"annotations\":[{\"arrowhead\":1,\"showarrow\":true,\"text\":\"mcgonagall\",\"x\":-0.1497420370578766,\"y\":-0.3778902292251587,\"z\":0.10306241363286972}]},\"legend\":{\"title\":{\"text\":\"color\"},\"tracegroupgap\":0},\"margin\":{\"t\":60}},                        {\"responsive\": true}                    ).then(function(){\n",
              "                            \n",
              "var gd = document.getElementById('5f721a8a-c418-4e98-9e53-500be677de1f');\n",
              "var x = new MutationObserver(function (mutations, observer) {{\n",
              "        var display = window.getComputedStyle(gd).display;\n",
              "        if (!display || display === 'none') {{\n",
              "            console.log([gd, 'removed!']);\n",
              "            Plotly.purge(gd);\n",
              "            observer.disconnect();\n",
              "        }}\n",
              "}});\n",
              "\n",
              "// Listen for the removal of the full notebook cells\n",
              "var notebookContainer = gd.closest('#notebook-container');\n",
              "if (notebookContainer) {{\n",
              "    x.observe(notebookContainer, {childList: true});\n",
              "}}\n",
              "\n",
              "// Listen for the clearing of the current output cell\n",
              "var outputEl = gd.closest('.output');\n",
              "if (outputEl) {{\n",
              "    x.observe(outputEl, {childList: true});\n",
              "}}\n",
              "\n",
              "                        })                };                            </script>        </div>\n",
              "</body>\n",
              "</html>"
            ]
          },
          "metadata": {}
        }
      ]
    },
    {
      "cell_type": "markdown",
      "source": [
        "<div style=\"padding:10px;color:white;margin:0;font-size:200%;text-align:center;display:fill;border-radius:10px;background-color:#215f95;;overflow:hidden;font-weight:501;font-family:magra\">Contextual Embeddings (Considering Order and Context of Words)</div>\n"
      ],
      "metadata": {
        "id": "GB1blxWlnKmL"
      }
    },
    {
      "cell_type": "markdown",
      "source": [
        "**ELMo (Embeddings from Language Models):**\n",
        "ELMo generates contextual word embeddings by learning from the internal states of a two-layer bidirectional LSTM, trained as a language model.\n",
        "\n",
        "**BERT (Bidirectional Encoder Representations from Transformers) Embeddings:**\n",
        "BERT produces contextual word embeddings where the vector representation of each word depends on the entire context in which it appears."
      ],
      "metadata": {
        "id": "gm9kdVWlnKmL"
      }
    },
    {
      "cell_type": "markdown",
      "source": [
        "<div style=\"padding:10px;color:white;margin:0;font-size:200%;text-align:center;display:fill;border-radius:10px;background-color:#215f95;;overflow:hidden;font-weight:501;font-family:magra\">Sentence/Document Embeddings (Operating at Higher Granularity)</div>"
      ],
      "metadata": {
        "id": "1gTRaZdqnKmL"
      }
    },
    {
      "cell_type": "markdown",
      "source": [
        "**Doc2Vec:**\n",
        "An extension of Word2Vec that generates dense vector representations for entire documents or paragraphs.\n",
        "\n",
        "**Sentence-BERT:**\n",
        "An adaptation of the BERT model to produce embeddings for complete sentences, capturing semantic meaning.\n",
        "\n",
        "**Universal Sentence Encoder:**\n",
        "A model designed to encode sentences into high-dimensional vectors, versatile for various downstream tasks."
      ],
      "metadata": {
        "id": "rEGfiTLJnKmM"
      }
    },
    {
      "cell_type": "markdown",
      "source": [
        "<div style=\"padding:10px;color:white;margin:0;font-size:200%;text-align:center;display:fill;border-radius:10px;background-color:#215f95;;overflow:hidden;font-weight:501;font-family:magra\">Positional Embeddings (Encoding Position of Words in a Sequence)</div>"
      ],
      "metadata": {
        "id": "c6Jvq3FHnKmM"
      }
    },
    {
      "cell_type": "markdown",
      "source": [
        "**Absolute Positional Embeddings:**\n",
        "Utilized in Transformer models, these embeddings encode the absolute position of each word in a sentence, preserving sequential order information.\n",
        "\n",
        "**Relative Positional Embeddings:**\n",
        "These embeddings encode the relative positions between pairs of words, focusing on the distance between two words rather than their absolute positions. Implemented in models like Transformer-XL and T5.\n",
        "\n",
        "**Rotary Positional Embeddings (RoPE - Rotary Positional Encoding):**\n",
        "A form of relative positional encoding employing rotation operations to encode relative positions. Found in models such as the Routing Transformer and RoFormer.\n"
      ],
      "metadata": {
        "id": "zN__ACOwnKmM"
      }
    },
    {
      "cell_type": "markdown",
      "source": [
        "<div style=\"padding:10px;color:white;margin:0;font-size:200%;text-align:center;display:fill;border-radius:10px;background-color:#215f95;;overflow:hidden;font-weight:501;font-family:magra\">Rotary Positional Encoding</div>"
      ],
      "metadata": {
        "id": "UXfhMEoinKmM"
      }
    },
    {
      "cell_type": "markdown",
      "source": [
        "Rotary Positional Encoding introduces positional information innovatively. Instead of traditional methods like addition or concatenation of positional data:\n",
        "\n",
        "- **Rotation Mechanism:**\n",
        "RoPE rotates word embeddings based on their positions within the sequence.\n",
        "\n",
        "- **Uniform Distribution:**\n",
        "This rotation ensures that positional information spreads uniformly across all dimensions of the embeddings.\n",
        "\n",
        "- **Dynamic Scaling:**\n",
        "Advanced variants of RoPE adjust rotation scaling dynamically based on sequence length, enhancing flexibility and performance.\n",
        "\n",
        "This approach to positional encoding enhances the representation of word order and context, offering improvements over traditional absolute and relative methods in sequence modeling tasks."
      ],
      "metadata": {
        "id": "22WxcyJ2nKmM"
      }
    },
    {
      "cell_type": "markdown",
      "source": [
        "#### I will implement all of its code over my next notebook"
      ],
      "metadata": {
        "id": "FHPAWEtqnKmM"
      }
    },
    {
      "cell_type": "markdown",
      "source": [
        "<a id=\"1\"></a>\n",
        "# <div style=\"text-align:center; border-radius:15px 50px; padding:7px; color:white; margin:0; font-size:110%; font-family:Pacifico; background-color:#0f7a7a; overflow:hidden\"><b> RoPE Embedding (Rotary Positional Embedding)\n",
        "</b></div>"
      ],
      "metadata": {
        "id": "ItpzYKqdnKmM"
      }
    },
    {
      "cell_type": "markdown",
      "source": [
        "# RoPE (Robust Positional Embeddings)\n",
        "\n",
        "\n",
        "RoPE (Robust Positional Embeddings) plays a crucial role in models like Llama 2 and PaLM, enhancing the representation of token positions in sequence modeling. Currently, RoPE demonstrates superior performance or parity with other positional encoding techniques.\n",
        "\n",
        "### Understanding RoPE\n",
        "\n",
        "RoPE integrates Absolute and Relative Positional Embeddings (PEs), leveraging their respective strengths while mitigating drawbacks:\n",
        "\n",
        "- **Absolute Application**: RoPE assigns each token an \"absolute position index,\" creating positioned versions of query (q) and key (k) vectors based on their absolute positions.\n",
        "  \n",
        "- **Key Insight**: Positional information is introduced by rotating vectors using rotation matrices defined by:\n",
        "\n",
        "  \\[\n",
        "  \\begin{bmatrix}\n",
        "  \\cos \\theta & -\\sin \\theta \\\\\n",
        "  \\sin \\theta & \\cos \\theta \\\\\n",
        "  \\end{bmatrix}\n",
        "  \\]\n",
        "\n",
        "  Here, ϴ is (angle of rotation) varies with the token's index  m, determining its position within the sequence.\n",
        "\n",
        "- **Relative Outcome**: The rotational approach ensures that attention scores between q and k vectors remain relative. The choice of ϴ mirrors that of sinusoidal embeddings, where dot products decrease with token distance, preserving relative attention.\n",
        "\n",
        "### Additional Points\n",
        "\n",
        "- RoPE is applied exclusively to q and k vectors, influencing attention scores via dot products.\n",
        "- Unlike sinusoidal embeddings added once at the initial layer, RoPE rotations are applied at every model layer.\n",
        "- RoPE uniquely supports efficient attention mechanisms like Linear attention.\n"
      ],
      "metadata": {
        "id": "gghsMZu3nKmN"
      }
    },
    {
      "cell_type": "code",
      "source": [
        "!pip install transformers"
      ],
      "metadata": {
        "execution": {
          "iopub.status.busy": "2024-07-15T12:27:30.471107Z",
          "iopub.execute_input": "2024-07-15T12:27:30.471467Z",
          "iopub.status.idle": "2024-07-15T12:27:42.586215Z",
          "shell.execute_reply.started": "2024-07-15T12:27:30.471437Z",
          "shell.execute_reply": "2024-07-15T12:27:42.585034Z"
        },
        "trusted": true,
        "colab": {
          "base_uri": "https://localhost:8080/"
        },
        "id": "UeBM78mMnKmN",
        "outputId": "c44cd02a-6473-4da7-f2f0-93e6ee1ae6f5"
      },
      "execution_count": null,
      "outputs": [
        {
          "output_type": "stream",
          "name": "stdout",
          "text": [
            "Requirement already satisfied: transformers in /usr/local/lib/python3.10/dist-packages (4.44.2)\n",
            "Requirement already satisfied: filelock in /usr/local/lib/python3.10/dist-packages (from transformers) (3.16.1)\n",
            "Requirement already satisfied: huggingface-hub<1.0,>=0.23.2 in /usr/local/lib/python3.10/dist-packages (from transformers) (0.24.7)\n",
            "Requirement already satisfied: numpy>=1.17 in /usr/local/lib/python3.10/dist-packages (from transformers) (1.26.4)\n",
            "Requirement already satisfied: packaging>=20.0 in /usr/local/lib/python3.10/dist-packages (from transformers) (24.1)\n",
            "Requirement already satisfied: pyyaml>=5.1 in /usr/local/lib/python3.10/dist-packages (from transformers) (6.0.2)\n",
            "Requirement already satisfied: regex!=2019.12.17 in /usr/local/lib/python3.10/dist-packages (from transformers) (2024.9.11)\n",
            "Requirement already satisfied: requests in /usr/local/lib/python3.10/dist-packages (from transformers) (2.32.3)\n",
            "Requirement already satisfied: safetensors>=0.4.1 in /usr/local/lib/python3.10/dist-packages (from transformers) (0.4.5)\n",
            "Requirement already satisfied: tokenizers<0.20,>=0.19 in /usr/local/lib/python3.10/dist-packages (from transformers) (0.19.1)\n",
            "Requirement already satisfied: tqdm>=4.27 in /usr/local/lib/python3.10/dist-packages (from transformers) (4.66.5)\n",
            "Requirement already satisfied: fsspec>=2023.5.0 in /usr/local/lib/python3.10/dist-packages (from huggingface-hub<1.0,>=0.23.2->transformers) (2024.6.1)\n",
            "Requirement already satisfied: typing-extensions>=3.7.4.3 in /usr/local/lib/python3.10/dist-packages (from huggingface-hub<1.0,>=0.23.2->transformers) (4.12.2)\n",
            "Requirement already satisfied: charset-normalizer<4,>=2 in /usr/local/lib/python3.10/dist-packages (from requests->transformers) (3.3.2)\n",
            "Requirement already satisfied: idna<4,>=2.5 in /usr/local/lib/python3.10/dist-packages (from requests->transformers) (3.10)\n",
            "Requirement already satisfied: urllib3<3,>=1.21.1 in /usr/local/lib/python3.10/dist-packages (from requests->transformers) (2.2.3)\n",
            "Requirement already satisfied: certifi>=2017.4.17 in /usr/local/lib/python3.10/dist-packages (from requests->transformers) (2024.8.30)\n"
          ]
        }
      ]
    },
    {
      "cell_type": "code",
      "source": [
        "import pandas as pd\n",
        "import torch\n",
        "from transformers import AutoTokenizer, AutoModelForSequenceClassification\n",
        "import warnings\n",
        "warnings.filterwarnings(\"ignore\")\n",
        "\n",
        "data = {\n",
        "    'Index': ['D1', 'D2', 'D3', 'D4'],\n",
        "    'Text': [\n",
        "        'People Follow Mr.Beast',\n",
        "        'Mr.Beast Follow Mr.Beast',\n",
        "        'People Write comment',\n",
        "        'Mr.Beast Write comment'\n",
        "    ],\n",
        "    'Output': [1, 1, 0, 0]\n",
        "}\n",
        "\n",
        "df = pd.DataFrame(data)\n",
        "df\n",
        "\n"
      ],
      "metadata": {
        "execution": {
          "iopub.status.busy": "2024-07-15T12:27:42.588067Z",
          "iopub.execute_input": "2024-07-15T12:27:42.588408Z",
          "iopub.status.idle": "2024-07-15T12:27:43.570459Z",
          "shell.execute_reply.started": "2024-07-15T12:27:42.588372Z",
          "shell.execute_reply": "2024-07-15T12:27:43.569392Z"
        },
        "trusted": true,
        "colab": {
          "base_uri": "https://localhost:8080/",
          "height": 175
        },
        "id": "SmpxagXanKmN",
        "outputId": "356ea8fe-4ca9-493d-8646-e0f955a9939c"
      },
      "execution_count": null,
      "outputs": [
        {
          "output_type": "execute_result",
          "data": {
            "text/plain": [
              "  Index                      Text  Output\n",
              "0    D1    People Follow Mr.Beast       1\n",
              "1    D2  Mr.Beast Follow Mr.Beast       1\n",
              "2    D3      People Write comment       0\n",
              "3    D4    Mr.Beast Write comment       0"
            ],
            "text/html": [
              "\n",
              "  <div id=\"df-70621b97-f0ac-4af5-b758-9cc5d7e38a4d\" class=\"colab-df-container\">\n",
              "    <div>\n",
              "<style scoped>\n",
              "    .dataframe tbody tr th:only-of-type {\n",
              "        vertical-align: middle;\n",
              "    }\n",
              "\n",
              "    .dataframe tbody tr th {\n",
              "        vertical-align: top;\n",
              "    }\n",
              "\n",
              "    .dataframe thead th {\n",
              "        text-align: right;\n",
              "    }\n",
              "</style>\n",
              "<table border=\"1\" class=\"dataframe\">\n",
              "  <thead>\n",
              "    <tr style=\"text-align: right;\">\n",
              "      <th></th>\n",
              "      <th>Index</th>\n",
              "      <th>Text</th>\n",
              "      <th>Output</th>\n",
              "    </tr>\n",
              "  </thead>\n",
              "  <tbody>\n",
              "    <tr>\n",
              "      <th>0</th>\n",
              "      <td>D1</td>\n",
              "      <td>People Follow Mr.Beast</td>\n",
              "      <td>1</td>\n",
              "    </tr>\n",
              "    <tr>\n",
              "      <th>1</th>\n",
              "      <td>D2</td>\n",
              "      <td>Mr.Beast Follow Mr.Beast</td>\n",
              "      <td>1</td>\n",
              "    </tr>\n",
              "    <tr>\n",
              "      <th>2</th>\n",
              "      <td>D3</td>\n",
              "      <td>People Write comment</td>\n",
              "      <td>0</td>\n",
              "    </tr>\n",
              "    <tr>\n",
              "      <th>3</th>\n",
              "      <td>D4</td>\n",
              "      <td>Mr.Beast Write comment</td>\n",
              "      <td>0</td>\n",
              "    </tr>\n",
              "  </tbody>\n",
              "</table>\n",
              "</div>\n",
              "    <div class=\"colab-df-buttons\">\n",
              "\n",
              "  <div class=\"colab-df-container\">\n",
              "    <button class=\"colab-df-convert\" onclick=\"convertToInteractive('df-70621b97-f0ac-4af5-b758-9cc5d7e38a4d')\"\n",
              "            title=\"Convert this dataframe to an interactive table.\"\n",
              "            style=\"display:none;\">\n",
              "\n",
              "  <svg xmlns=\"http://www.w3.org/2000/svg\" height=\"24px\" viewBox=\"0 -960 960 960\">\n",
              "    <path d=\"M120-120v-720h720v720H120Zm60-500h600v-160H180v160Zm220 220h160v-160H400v160Zm0 220h160v-160H400v160ZM180-400h160v-160H180v160Zm440 0h160v-160H620v160ZM180-180h160v-160H180v160Zm440 0h160v-160H620v160Z\"/>\n",
              "  </svg>\n",
              "    </button>\n",
              "\n",
              "  <style>\n",
              "    .colab-df-container {\n",
              "      display:flex;\n",
              "      gap: 12px;\n",
              "    }\n",
              "\n",
              "    .colab-df-convert {\n",
              "      background-color: #E8F0FE;\n",
              "      border: none;\n",
              "      border-radius: 50%;\n",
              "      cursor: pointer;\n",
              "      display: none;\n",
              "      fill: #1967D2;\n",
              "      height: 32px;\n",
              "      padding: 0 0 0 0;\n",
              "      width: 32px;\n",
              "    }\n",
              "\n",
              "    .colab-df-convert:hover {\n",
              "      background-color: #E2EBFA;\n",
              "      box-shadow: 0px 1px 2px rgba(60, 64, 67, 0.3), 0px 1px 3px 1px rgba(60, 64, 67, 0.15);\n",
              "      fill: #174EA6;\n",
              "    }\n",
              "\n",
              "    .colab-df-buttons div {\n",
              "      margin-bottom: 4px;\n",
              "    }\n",
              "\n",
              "    [theme=dark] .colab-df-convert {\n",
              "      background-color: #3B4455;\n",
              "      fill: #D2E3FC;\n",
              "    }\n",
              "\n",
              "    [theme=dark] .colab-df-convert:hover {\n",
              "      background-color: #434B5C;\n",
              "      box-shadow: 0px 1px 3px 1px rgba(0, 0, 0, 0.15);\n",
              "      filter: drop-shadow(0px 1px 2px rgba(0, 0, 0, 0.3));\n",
              "      fill: #FFFFFF;\n",
              "    }\n",
              "  </style>\n",
              "\n",
              "    <script>\n",
              "      const buttonEl =\n",
              "        document.querySelector('#df-70621b97-f0ac-4af5-b758-9cc5d7e38a4d button.colab-df-convert');\n",
              "      buttonEl.style.display =\n",
              "        google.colab.kernel.accessAllowed ? 'block' : 'none';\n",
              "\n",
              "      async function convertToInteractive(key) {\n",
              "        const element = document.querySelector('#df-70621b97-f0ac-4af5-b758-9cc5d7e38a4d');\n",
              "        const dataTable =\n",
              "          await google.colab.kernel.invokeFunction('convertToInteractive',\n",
              "                                                    [key], {});\n",
              "        if (!dataTable) return;\n",
              "\n",
              "        const docLinkHtml = 'Like what you see? Visit the ' +\n",
              "          '<a target=\"_blank\" href=https://colab.research.google.com/notebooks/data_table.ipynb>data table notebook</a>'\n",
              "          + ' to learn more about interactive tables.';\n",
              "        element.innerHTML = '';\n",
              "        dataTable['output_type'] = 'display_data';\n",
              "        await google.colab.output.renderOutput(dataTable, element);\n",
              "        const docLink = document.createElement('div');\n",
              "        docLink.innerHTML = docLinkHtml;\n",
              "        element.appendChild(docLink);\n",
              "      }\n",
              "    </script>\n",
              "  </div>\n",
              "\n",
              "\n",
              "<div id=\"df-cfa35eb5-7ffb-4aa7-ba90-d3c04c1e9edc\">\n",
              "  <button class=\"colab-df-quickchart\" onclick=\"quickchart('df-cfa35eb5-7ffb-4aa7-ba90-d3c04c1e9edc')\"\n",
              "            title=\"Suggest charts\"\n",
              "            style=\"display:none;\">\n",
              "\n",
              "<svg xmlns=\"http://www.w3.org/2000/svg\" height=\"24px\"viewBox=\"0 0 24 24\"\n",
              "     width=\"24px\">\n",
              "    <g>\n",
              "        <path d=\"M19 3H5c-1.1 0-2 .9-2 2v14c0 1.1.9 2 2 2h14c1.1 0 2-.9 2-2V5c0-1.1-.9-2-2-2zM9 17H7v-7h2v7zm4 0h-2V7h2v10zm4 0h-2v-4h2v4z\"/>\n",
              "    </g>\n",
              "</svg>\n",
              "  </button>\n",
              "\n",
              "<style>\n",
              "  .colab-df-quickchart {\n",
              "      --bg-color: #E8F0FE;\n",
              "      --fill-color: #1967D2;\n",
              "      --hover-bg-color: #E2EBFA;\n",
              "      --hover-fill-color: #174EA6;\n",
              "      --disabled-fill-color: #AAA;\n",
              "      --disabled-bg-color: #DDD;\n",
              "  }\n",
              "\n",
              "  [theme=dark] .colab-df-quickchart {\n",
              "      --bg-color: #3B4455;\n",
              "      --fill-color: #D2E3FC;\n",
              "      --hover-bg-color: #434B5C;\n",
              "      --hover-fill-color: #FFFFFF;\n",
              "      --disabled-bg-color: #3B4455;\n",
              "      --disabled-fill-color: #666;\n",
              "  }\n",
              "\n",
              "  .colab-df-quickchart {\n",
              "    background-color: var(--bg-color);\n",
              "    border: none;\n",
              "    border-radius: 50%;\n",
              "    cursor: pointer;\n",
              "    display: none;\n",
              "    fill: var(--fill-color);\n",
              "    height: 32px;\n",
              "    padding: 0;\n",
              "    width: 32px;\n",
              "  }\n",
              "\n",
              "  .colab-df-quickchart:hover {\n",
              "    background-color: var(--hover-bg-color);\n",
              "    box-shadow: 0 1px 2px rgba(60, 64, 67, 0.3), 0 1px 3px 1px rgba(60, 64, 67, 0.15);\n",
              "    fill: var(--button-hover-fill-color);\n",
              "  }\n",
              "\n",
              "  .colab-df-quickchart-complete:disabled,\n",
              "  .colab-df-quickchart-complete:disabled:hover {\n",
              "    background-color: var(--disabled-bg-color);\n",
              "    fill: var(--disabled-fill-color);\n",
              "    box-shadow: none;\n",
              "  }\n",
              "\n",
              "  .colab-df-spinner {\n",
              "    border: 2px solid var(--fill-color);\n",
              "    border-color: transparent;\n",
              "    border-bottom-color: var(--fill-color);\n",
              "    animation:\n",
              "      spin 1s steps(1) infinite;\n",
              "  }\n",
              "\n",
              "  @keyframes spin {\n",
              "    0% {\n",
              "      border-color: transparent;\n",
              "      border-bottom-color: var(--fill-color);\n",
              "      border-left-color: var(--fill-color);\n",
              "    }\n",
              "    20% {\n",
              "      border-color: transparent;\n",
              "      border-left-color: var(--fill-color);\n",
              "      border-top-color: var(--fill-color);\n",
              "    }\n",
              "    30% {\n",
              "      border-color: transparent;\n",
              "      border-left-color: var(--fill-color);\n",
              "      border-top-color: var(--fill-color);\n",
              "      border-right-color: var(--fill-color);\n",
              "    }\n",
              "    40% {\n",
              "      border-color: transparent;\n",
              "      border-right-color: var(--fill-color);\n",
              "      border-top-color: var(--fill-color);\n",
              "    }\n",
              "    60% {\n",
              "      border-color: transparent;\n",
              "      border-right-color: var(--fill-color);\n",
              "    }\n",
              "    80% {\n",
              "      border-color: transparent;\n",
              "      border-right-color: var(--fill-color);\n",
              "      border-bottom-color: var(--fill-color);\n",
              "    }\n",
              "    90% {\n",
              "      border-color: transparent;\n",
              "      border-bottom-color: var(--fill-color);\n",
              "    }\n",
              "  }\n",
              "</style>\n",
              "\n",
              "  <script>\n",
              "    async function quickchart(key) {\n",
              "      const quickchartButtonEl =\n",
              "        document.querySelector('#' + key + ' button');\n",
              "      quickchartButtonEl.disabled = true;  // To prevent multiple clicks.\n",
              "      quickchartButtonEl.classList.add('colab-df-spinner');\n",
              "      try {\n",
              "        const charts = await google.colab.kernel.invokeFunction(\n",
              "            'suggestCharts', [key], {});\n",
              "      } catch (error) {\n",
              "        console.error('Error during call to suggestCharts:', error);\n",
              "      }\n",
              "      quickchartButtonEl.classList.remove('colab-df-spinner');\n",
              "      quickchartButtonEl.classList.add('colab-df-quickchart-complete');\n",
              "    }\n",
              "    (() => {\n",
              "      let quickchartButtonEl =\n",
              "        document.querySelector('#df-cfa35eb5-7ffb-4aa7-ba90-d3c04c1e9edc button');\n",
              "      quickchartButtonEl.style.display =\n",
              "        google.colab.kernel.accessAllowed ? 'block' : 'none';\n",
              "    })();\n",
              "  </script>\n",
              "</div>\n",
              "\n",
              "  <div id=\"id_dcacd8ce-114d-4380-8e98-a78c0c38eaa1\">\n",
              "    <style>\n",
              "      .colab-df-generate {\n",
              "        background-color: #E8F0FE;\n",
              "        border: none;\n",
              "        border-radius: 50%;\n",
              "        cursor: pointer;\n",
              "        display: none;\n",
              "        fill: #1967D2;\n",
              "        height: 32px;\n",
              "        padding: 0 0 0 0;\n",
              "        width: 32px;\n",
              "      }\n",
              "\n",
              "      .colab-df-generate:hover {\n",
              "        background-color: #E2EBFA;\n",
              "        box-shadow: 0px 1px 2px rgba(60, 64, 67, 0.3), 0px 1px 3px 1px rgba(60, 64, 67, 0.15);\n",
              "        fill: #174EA6;\n",
              "      }\n",
              "\n",
              "      [theme=dark] .colab-df-generate {\n",
              "        background-color: #3B4455;\n",
              "        fill: #D2E3FC;\n",
              "      }\n",
              "\n",
              "      [theme=dark] .colab-df-generate:hover {\n",
              "        background-color: #434B5C;\n",
              "        box-shadow: 0px 1px 3px 1px rgba(0, 0, 0, 0.15);\n",
              "        filter: drop-shadow(0px 1px 2px rgba(0, 0, 0, 0.3));\n",
              "        fill: #FFFFFF;\n",
              "      }\n",
              "    </style>\n",
              "    <button class=\"colab-df-generate\" onclick=\"generateWithVariable('df')\"\n",
              "            title=\"Generate code using this dataframe.\"\n",
              "            style=\"display:none;\">\n",
              "\n",
              "  <svg xmlns=\"http://www.w3.org/2000/svg\" height=\"24px\"viewBox=\"0 0 24 24\"\n",
              "       width=\"24px\">\n",
              "    <path d=\"M7,19H8.4L18.45,9,17,7.55,7,17.6ZM5,21V16.75L18.45,3.32a2,2,0,0,1,2.83,0l1.4,1.43a1.91,1.91,0,0,1,.58,1.4,1.91,1.91,0,0,1-.58,1.4L9.25,21ZM18.45,9,17,7.55Zm-12,3A5.31,5.31,0,0,0,4.9,8.1,5.31,5.31,0,0,0,1,6.5,5.31,5.31,0,0,0,4.9,4.9,5.31,5.31,0,0,0,6.5,1,5.31,5.31,0,0,0,8.1,4.9,5.31,5.31,0,0,0,12,6.5,5.46,5.46,0,0,0,6.5,12Z\"/>\n",
              "  </svg>\n",
              "    </button>\n",
              "    <script>\n",
              "      (() => {\n",
              "      const buttonEl =\n",
              "        document.querySelector('#id_dcacd8ce-114d-4380-8e98-a78c0c38eaa1 button.colab-df-generate');\n",
              "      buttonEl.style.display =\n",
              "        google.colab.kernel.accessAllowed ? 'block' : 'none';\n",
              "\n",
              "      buttonEl.onclick = () => {\n",
              "        google.colab.notebook.generateWithVariable('df');\n",
              "      }\n",
              "      })();\n",
              "    </script>\n",
              "  </div>\n",
              "\n",
              "    </div>\n",
              "  </div>\n"
            ],
            "application/vnd.google.colaboratory.intrinsic+json": {
              "type": "dataframe",
              "variable_name": "df",
              "summary": "{\n  \"name\": \"df\",\n  \"rows\": 4,\n  \"fields\": [\n    {\n      \"column\": \"Index\",\n      \"properties\": {\n        \"dtype\": \"string\",\n        \"num_unique_values\": 4,\n        \"samples\": [\n          \"D2\",\n          \"D4\",\n          \"D1\"\n        ],\n        \"semantic_type\": \"\",\n        \"description\": \"\"\n      }\n    },\n    {\n      \"column\": \"Text\",\n      \"properties\": {\n        \"dtype\": \"string\",\n        \"num_unique_values\": 4,\n        \"samples\": [\n          \"Mr.Beast Follow Mr.Beast\",\n          \"Mr.Beast Write comment\",\n          \"People Follow Mr.Beast\"\n        ],\n        \"semantic_type\": \"\",\n        \"description\": \"\"\n      }\n    },\n    {\n      \"column\": \"Output\",\n      \"properties\": {\n        \"dtype\": \"number\",\n        \"std\": 0,\n        \"min\": 0,\n        \"max\": 1,\n        \"num_unique_values\": 2,\n        \"samples\": [\n          0,\n          1\n        ],\n        \"semantic_type\": \"\",\n        \"description\": \"\"\n      }\n    }\n  ]\n}"
            }
          },
          "metadata": {},
          "execution_count": 85
        }
      ]
    },
    {
      "cell_type": "code",
      "source": [
        "# Initialize Tokenizer and Model\n",
        "model_name = \"textattack/roberta-base-imdb\"\n",
        "tokenizer = AutoTokenizer.from_pretrained(model_name)\n",
        "model = AutoModelForSequenceClassification.from_pretrained(model_name)\n",
        "\n",
        "# Tokenize the text data\n",
        "tokenized = df['Text'].apply(lambda x: tokenizer.encode(x, truncation=True, padding=True))\n",
        "\n",
        "# Determine the maximum length of tokenized texts\n",
        "max_length = max(len(tokens) for tokens in tokenized)\n",
        "\n",
        "# Pad the sequences to the maximum length\n",
        "input_ids = [tokens + [0]*(max_length - len(tokens)) for tokens in tokenized]\n",
        "attention_mask = [[1]*len(tokens) + [0]*(max_length - len(tokens)) for tokens in tokenized]"
      ],
      "metadata": {
        "execution": {
          "iopub.status.busy": "2024-07-15T12:27:43.571658Z",
          "iopub.execute_input": "2024-07-15T12:27:43.57195Z",
          "iopub.status.idle": "2024-07-15T12:27:48.268568Z",
          "shell.execute_reply.started": "2024-07-15T12:27:43.571924Z",
          "shell.execute_reply": "2024-07-15T12:27:48.267835Z"
        },
        "trusted": true,
        "colab": {
          "base_uri": "https://localhost:8080/",
          "height": 281,
          "referenced_widgets": [
            "5551dab00b1342ba92655afc531205b1",
            "0b5e4f18fa414853aef94c0e98772184",
            "525b4dfec85444f29c9c890a7df01ea9",
            "6368321659ff414d8b241facd6a00a3e",
            "89ec2cc4a018453089bd46cf96c1e69c",
            "b95e6dd62412466686be4551be9ed2ff",
            "1942741eb6904381a2a9b90ad4570d50",
            "679a9b7d3ebf40b398e22a405fb99b27",
            "59e84bc5ac884ee1844541be00cc471c",
            "665f249ee0d544fbb5718cc8f5e22637",
            "80427c2476204c71adddaac33545bbce",
            "b1cb08dc40eb4472a5360600250816e2",
            "857a24cea7d64c82a0fd0520d60a34f3",
            "a695397daaf74a23abe614b6e2972288",
            "e5fa7a9dc77041429f72a36598e76dfc",
            "8f465f9485534f4880a22aa051e21aba",
            "00d1028cd17643899395ea73d74d7fe1",
            "1d2eb38f5125421a866bf31ef0ffe98d",
            "8d123c3218da4e5c935ef4331c44023e",
            "169b087f09eb418783649e13b186ec86",
            "ddcc6480826f4095a7b4eb728024e3d2",
            "43441c512fbf4c9d89091baaac9e859b",
            "19e7f4b6e3894524921806331bcfcadb",
            "159dc855084a455fa2104e8d124a629f",
            "68234df43a2e41458d0f9c8cbff69c39",
            "7f9cb5ecaa8140968d1fdc7c1f5f09eb",
            "cf2259737a074b889041e27fe3fcc999",
            "e36c9d04af214989985b721979a37758",
            "b4205eb132974f13965d4ac78ca1d23d",
            "740933cddc304a0e9e0143815a905bce",
            "6822bbbb18c044729d62fa0cdc869b2f",
            "ca463a0d550f44adaedef704e4e1e10a",
            "791b39c4a27f4b4aadc654eb371ce729",
            "e088484f38c84884b4fdbac30e78715d",
            "dd9a03d4092342a8b5c2a0217af5359a",
            "8d95976d6e4241c9b319de0cfa8cedd5",
            "05093ae803b449e08070931733e3205f",
            "5e673043f7074abb9fd76f2b5836731d",
            "036649627efb47828db714cd8df6a154",
            "23acc39a03964c5d96b4f65d4bd3b4d2",
            "cbda2fc75af746e7ac82792a0f32ef99",
            "642dae79a44d425ba25edceea1386727",
            "37210ad3577e409a9482e47f87e4b4ee",
            "641a5926752342dcbcb5527a15fe2732",
            "220d9737254a4d75a47c84bf63dd1284",
            "e1b935c426794c849879f86205d6f561",
            "dc0ea03d20964bf2a9b8e15afba93dc7",
            "7718d47d87e64fd084494391eb1bc860",
            "451dc8dfd9c9468c9c47a858314f62ef",
            "f5b193d115944d7e857225e4df70116b",
            "f1ca3baadf70438f8ebe111a15778da8",
            "785b62be59a94d53a0e33dfdcaad10fd",
            "2d18ca148d7d4ccdba32a60da9ede651",
            "855bba6a20c844b99d69b966836ba15e",
            "4bf0f41965d84350b0240a5312b74f97",
            "92de8c5acc414dab80acfe41813b61f9",
            "60dbc0f4eb5f47f584577d87993e8802",
            "277cf6a36da349c9817f0f94edc2ce14",
            "3d7469cc825a456a9a1722a1bfeaa0a8",
            "77385a6e6a534a4cb8865895600fdfaf",
            "10662ff24050448884afe31c1cecd8b7",
            "ca5e35ff53664009a949ba7deb5da855",
            "c91ce80d2857471ea47f211beb5c8772",
            "d482637959b545379aa92080bbf3d0d3",
            "b84db82ad78a48b4be1b79a9d0aa7eec",
            "82f8f406815f4d6293430cb0059bace4"
          ]
        },
        "id": "9yz1Y6HenKmN",
        "outputId": "eaac47ca-7604-4505-d84f-987a3df4f559"
      },
      "execution_count": null,
      "outputs": [
        {
          "output_type": "display_data",
          "data": {
            "text/plain": [
              "tokenizer_config.json:   0%|          | 0.00/25.0 [00:00<?, ?B/s]"
            ],
            "application/vnd.jupyter.widget-view+json": {
              "version_major": 2,
              "version_minor": 0,
              "model_id": "5551dab00b1342ba92655afc531205b1"
            }
          },
          "metadata": {}
        },
        {
          "output_type": "display_data",
          "data": {
            "text/plain": [
              "config.json:   0%|          | 0.00/559 [00:00<?, ?B/s]"
            ],
            "application/vnd.jupyter.widget-view+json": {
              "version_major": 2,
              "version_minor": 0,
              "model_id": "b1cb08dc40eb4472a5360600250816e2"
            }
          },
          "metadata": {}
        },
        {
          "output_type": "display_data",
          "data": {
            "text/plain": [
              "vocab.json:   0%|          | 0.00/798k [00:00<?, ?B/s]"
            ],
            "application/vnd.jupyter.widget-view+json": {
              "version_major": 2,
              "version_minor": 0,
              "model_id": "19e7f4b6e3894524921806331bcfcadb"
            }
          },
          "metadata": {}
        },
        {
          "output_type": "display_data",
          "data": {
            "text/plain": [
              "merges.txt:   0%|          | 0.00/456k [00:00<?, ?B/s]"
            ],
            "application/vnd.jupyter.widget-view+json": {
              "version_major": 2,
              "version_minor": 0,
              "model_id": "e088484f38c84884b4fdbac30e78715d"
            }
          },
          "metadata": {}
        },
        {
          "output_type": "display_data",
          "data": {
            "text/plain": [
              "special_tokens_map.json:   0%|          | 0.00/239 [00:00<?, ?B/s]"
            ],
            "application/vnd.jupyter.widget-view+json": {
              "version_major": 2,
              "version_minor": 0,
              "model_id": "220d9737254a4d75a47c84bf63dd1284"
            }
          },
          "metadata": {}
        },
        {
          "output_type": "display_data",
          "data": {
            "text/plain": [
              "pytorch_model.bin:   0%|          | 0.00/501M [00:00<?, ?B/s]"
            ],
            "application/vnd.jupyter.widget-view+json": {
              "version_major": 2,
              "version_minor": 0,
              "model_id": "92de8c5acc414dab80acfe41813b61f9"
            }
          },
          "metadata": {}
        },
        {
          "output_type": "stream",
          "name": "stderr",
          "text": [
            "Some weights of the model checkpoint at textattack/roberta-base-imdb were not used when initializing RobertaForSequenceClassification: ['roberta.pooler.dense.bias', 'roberta.pooler.dense.weight']\n",
            "- This IS expected if you are initializing RobertaForSequenceClassification from the checkpoint of a model trained on another task or with another architecture (e.g. initializing a BertForSequenceClassification model from a BertForPreTraining model).\n",
            "- This IS NOT expected if you are initializing RobertaForSequenceClassification from the checkpoint of a model that you expect to be exactly identical (initializing a BertForSequenceClassification model from a BertForSequenceClassification model).\n"
          ]
        }
      ]
    },
    {
      "cell_type": "code",
      "source": [
        "# Convert to PyTorch tensors\n",
        "input_ids = torch.tensor(input_ids)\n",
        "attention_mask = torch.tensor(attention_mask)\n",
        "\n",
        "# Ensure PyTorch is imported and used correctly\n",
        "with torch.no_grad():\n",
        "    outputs = model(input_ids, attention_mask=attention_mask)\n",
        "    logits = outputs.logits  # logits for each class\n",
        "\n",
        "# Combine logits with the original DataFrame\n",
        "logits_df = pd.DataFrame(logits.numpy(), columns=model.config.id2label.values())\n",
        "df_final = pd.concat([df[['Index', 'Output']], logits_df], axis=1)\n",
        "\n",
        "# Print the final DataFrame\n",
        "print(\"Final DataFrame with logits:\")\n",
        "df_final"
      ],
      "metadata": {
        "execution": {
          "iopub.status.busy": "2024-07-15T12:27:48.269675Z",
          "iopub.execute_input": "2024-07-15T12:27:48.269941Z",
          "iopub.status.idle": "2024-07-15T12:27:49.090396Z",
          "shell.execute_reply.started": "2024-07-15T12:27:48.269917Z",
          "shell.execute_reply": "2024-07-15T12:27:49.089374Z"
        },
        "trusted": true,
        "colab": {
          "base_uri": "https://localhost:8080/",
          "height": 192
        },
        "id": "8uwmiuXbnKmO",
        "outputId": "a08ba3fc-6050-4b87-8e24-1f26245d44c4"
      },
      "execution_count": null,
      "outputs": [
        {
          "output_type": "stream",
          "name": "stdout",
          "text": [
            "Final DataFrame with logits:\n"
          ]
        },
        {
          "output_type": "execute_result",
          "data": {
            "text/plain": [
              "  Index  Output   LABEL_0   LABEL_1\n",
              "0    D1       1  0.486208 -0.373657\n",
              "1    D2       1  0.531129 -0.424240\n",
              "2    D3       0 -0.385833  0.162914\n",
              "3    D4       0  0.948602 -1.162094"
            ],
            "text/html": [
              "\n",
              "  <div id=\"df-5ab74b26-cadf-439a-a2d1-53e40158d81a\" class=\"colab-df-container\">\n",
              "    <div>\n",
              "<style scoped>\n",
              "    .dataframe tbody tr th:only-of-type {\n",
              "        vertical-align: middle;\n",
              "    }\n",
              "\n",
              "    .dataframe tbody tr th {\n",
              "        vertical-align: top;\n",
              "    }\n",
              "\n",
              "    .dataframe thead th {\n",
              "        text-align: right;\n",
              "    }\n",
              "</style>\n",
              "<table border=\"1\" class=\"dataframe\">\n",
              "  <thead>\n",
              "    <tr style=\"text-align: right;\">\n",
              "      <th></th>\n",
              "      <th>Index</th>\n",
              "      <th>Output</th>\n",
              "      <th>LABEL_0</th>\n",
              "      <th>LABEL_1</th>\n",
              "    </tr>\n",
              "  </thead>\n",
              "  <tbody>\n",
              "    <tr>\n",
              "      <th>0</th>\n",
              "      <td>D1</td>\n",
              "      <td>1</td>\n",
              "      <td>0.486208</td>\n",
              "      <td>-0.373657</td>\n",
              "    </tr>\n",
              "    <tr>\n",
              "      <th>1</th>\n",
              "      <td>D2</td>\n",
              "      <td>1</td>\n",
              "      <td>0.531129</td>\n",
              "      <td>-0.424240</td>\n",
              "    </tr>\n",
              "    <tr>\n",
              "      <th>2</th>\n",
              "      <td>D3</td>\n",
              "      <td>0</td>\n",
              "      <td>-0.385833</td>\n",
              "      <td>0.162914</td>\n",
              "    </tr>\n",
              "    <tr>\n",
              "      <th>3</th>\n",
              "      <td>D4</td>\n",
              "      <td>0</td>\n",
              "      <td>0.948602</td>\n",
              "      <td>-1.162094</td>\n",
              "    </tr>\n",
              "  </tbody>\n",
              "</table>\n",
              "</div>\n",
              "    <div class=\"colab-df-buttons\">\n",
              "\n",
              "  <div class=\"colab-df-container\">\n",
              "    <button class=\"colab-df-convert\" onclick=\"convertToInteractive('df-5ab74b26-cadf-439a-a2d1-53e40158d81a')\"\n",
              "            title=\"Convert this dataframe to an interactive table.\"\n",
              "            style=\"display:none;\">\n",
              "\n",
              "  <svg xmlns=\"http://www.w3.org/2000/svg\" height=\"24px\" viewBox=\"0 -960 960 960\">\n",
              "    <path d=\"M120-120v-720h720v720H120Zm60-500h600v-160H180v160Zm220 220h160v-160H400v160Zm0 220h160v-160H400v160ZM180-400h160v-160H180v160Zm440 0h160v-160H620v160ZM180-180h160v-160H180v160Zm440 0h160v-160H620v160Z\"/>\n",
              "  </svg>\n",
              "    </button>\n",
              "\n",
              "  <style>\n",
              "    .colab-df-container {\n",
              "      display:flex;\n",
              "      gap: 12px;\n",
              "    }\n",
              "\n",
              "    .colab-df-convert {\n",
              "      background-color: #E8F0FE;\n",
              "      border: none;\n",
              "      border-radius: 50%;\n",
              "      cursor: pointer;\n",
              "      display: none;\n",
              "      fill: #1967D2;\n",
              "      height: 32px;\n",
              "      padding: 0 0 0 0;\n",
              "      width: 32px;\n",
              "    }\n",
              "\n",
              "    .colab-df-convert:hover {\n",
              "      background-color: #E2EBFA;\n",
              "      box-shadow: 0px 1px 2px rgba(60, 64, 67, 0.3), 0px 1px 3px 1px rgba(60, 64, 67, 0.15);\n",
              "      fill: #174EA6;\n",
              "    }\n",
              "\n",
              "    .colab-df-buttons div {\n",
              "      margin-bottom: 4px;\n",
              "    }\n",
              "\n",
              "    [theme=dark] .colab-df-convert {\n",
              "      background-color: #3B4455;\n",
              "      fill: #D2E3FC;\n",
              "    }\n",
              "\n",
              "    [theme=dark] .colab-df-convert:hover {\n",
              "      background-color: #434B5C;\n",
              "      box-shadow: 0px 1px 3px 1px rgba(0, 0, 0, 0.15);\n",
              "      filter: drop-shadow(0px 1px 2px rgba(0, 0, 0, 0.3));\n",
              "      fill: #FFFFFF;\n",
              "    }\n",
              "  </style>\n",
              "\n",
              "    <script>\n",
              "      const buttonEl =\n",
              "        document.querySelector('#df-5ab74b26-cadf-439a-a2d1-53e40158d81a button.colab-df-convert');\n",
              "      buttonEl.style.display =\n",
              "        google.colab.kernel.accessAllowed ? 'block' : 'none';\n",
              "\n",
              "      async function convertToInteractive(key) {\n",
              "        const element = document.querySelector('#df-5ab74b26-cadf-439a-a2d1-53e40158d81a');\n",
              "        const dataTable =\n",
              "          await google.colab.kernel.invokeFunction('convertToInteractive',\n",
              "                                                    [key], {});\n",
              "        if (!dataTable) return;\n",
              "\n",
              "        const docLinkHtml = 'Like what you see? Visit the ' +\n",
              "          '<a target=\"_blank\" href=https://colab.research.google.com/notebooks/data_table.ipynb>data table notebook</a>'\n",
              "          + ' to learn more about interactive tables.';\n",
              "        element.innerHTML = '';\n",
              "        dataTable['output_type'] = 'display_data';\n",
              "        await google.colab.output.renderOutput(dataTable, element);\n",
              "        const docLink = document.createElement('div');\n",
              "        docLink.innerHTML = docLinkHtml;\n",
              "        element.appendChild(docLink);\n",
              "      }\n",
              "    </script>\n",
              "  </div>\n",
              "\n",
              "\n",
              "<div id=\"df-8884f6d7-534f-4415-a78d-a58de1c716c6\">\n",
              "  <button class=\"colab-df-quickchart\" onclick=\"quickchart('df-8884f6d7-534f-4415-a78d-a58de1c716c6')\"\n",
              "            title=\"Suggest charts\"\n",
              "            style=\"display:none;\">\n",
              "\n",
              "<svg xmlns=\"http://www.w3.org/2000/svg\" height=\"24px\"viewBox=\"0 0 24 24\"\n",
              "     width=\"24px\">\n",
              "    <g>\n",
              "        <path d=\"M19 3H5c-1.1 0-2 .9-2 2v14c0 1.1.9 2 2 2h14c1.1 0 2-.9 2-2V5c0-1.1-.9-2-2-2zM9 17H7v-7h2v7zm4 0h-2V7h2v10zm4 0h-2v-4h2v4z\"/>\n",
              "    </g>\n",
              "</svg>\n",
              "  </button>\n",
              "\n",
              "<style>\n",
              "  .colab-df-quickchart {\n",
              "      --bg-color: #E8F0FE;\n",
              "      --fill-color: #1967D2;\n",
              "      --hover-bg-color: #E2EBFA;\n",
              "      --hover-fill-color: #174EA6;\n",
              "      --disabled-fill-color: #AAA;\n",
              "      --disabled-bg-color: #DDD;\n",
              "  }\n",
              "\n",
              "  [theme=dark] .colab-df-quickchart {\n",
              "      --bg-color: #3B4455;\n",
              "      --fill-color: #D2E3FC;\n",
              "      --hover-bg-color: #434B5C;\n",
              "      --hover-fill-color: #FFFFFF;\n",
              "      --disabled-bg-color: #3B4455;\n",
              "      --disabled-fill-color: #666;\n",
              "  }\n",
              "\n",
              "  .colab-df-quickchart {\n",
              "    background-color: var(--bg-color);\n",
              "    border: none;\n",
              "    border-radius: 50%;\n",
              "    cursor: pointer;\n",
              "    display: none;\n",
              "    fill: var(--fill-color);\n",
              "    height: 32px;\n",
              "    padding: 0;\n",
              "    width: 32px;\n",
              "  }\n",
              "\n",
              "  .colab-df-quickchart:hover {\n",
              "    background-color: var(--hover-bg-color);\n",
              "    box-shadow: 0 1px 2px rgba(60, 64, 67, 0.3), 0 1px 3px 1px rgba(60, 64, 67, 0.15);\n",
              "    fill: var(--button-hover-fill-color);\n",
              "  }\n",
              "\n",
              "  .colab-df-quickchart-complete:disabled,\n",
              "  .colab-df-quickchart-complete:disabled:hover {\n",
              "    background-color: var(--disabled-bg-color);\n",
              "    fill: var(--disabled-fill-color);\n",
              "    box-shadow: none;\n",
              "  }\n",
              "\n",
              "  .colab-df-spinner {\n",
              "    border: 2px solid var(--fill-color);\n",
              "    border-color: transparent;\n",
              "    border-bottom-color: var(--fill-color);\n",
              "    animation:\n",
              "      spin 1s steps(1) infinite;\n",
              "  }\n",
              "\n",
              "  @keyframes spin {\n",
              "    0% {\n",
              "      border-color: transparent;\n",
              "      border-bottom-color: var(--fill-color);\n",
              "      border-left-color: var(--fill-color);\n",
              "    }\n",
              "    20% {\n",
              "      border-color: transparent;\n",
              "      border-left-color: var(--fill-color);\n",
              "      border-top-color: var(--fill-color);\n",
              "    }\n",
              "    30% {\n",
              "      border-color: transparent;\n",
              "      border-left-color: var(--fill-color);\n",
              "      border-top-color: var(--fill-color);\n",
              "      border-right-color: var(--fill-color);\n",
              "    }\n",
              "    40% {\n",
              "      border-color: transparent;\n",
              "      border-right-color: var(--fill-color);\n",
              "      border-top-color: var(--fill-color);\n",
              "    }\n",
              "    60% {\n",
              "      border-color: transparent;\n",
              "      border-right-color: var(--fill-color);\n",
              "    }\n",
              "    80% {\n",
              "      border-color: transparent;\n",
              "      border-right-color: var(--fill-color);\n",
              "      border-bottom-color: var(--fill-color);\n",
              "    }\n",
              "    90% {\n",
              "      border-color: transparent;\n",
              "      border-bottom-color: var(--fill-color);\n",
              "    }\n",
              "  }\n",
              "</style>\n",
              "\n",
              "  <script>\n",
              "    async function quickchart(key) {\n",
              "      const quickchartButtonEl =\n",
              "        document.querySelector('#' + key + ' button');\n",
              "      quickchartButtonEl.disabled = true;  // To prevent multiple clicks.\n",
              "      quickchartButtonEl.classList.add('colab-df-spinner');\n",
              "      try {\n",
              "        const charts = await google.colab.kernel.invokeFunction(\n",
              "            'suggestCharts', [key], {});\n",
              "      } catch (error) {\n",
              "        console.error('Error during call to suggestCharts:', error);\n",
              "      }\n",
              "      quickchartButtonEl.classList.remove('colab-df-spinner');\n",
              "      quickchartButtonEl.classList.add('colab-df-quickchart-complete');\n",
              "    }\n",
              "    (() => {\n",
              "      let quickchartButtonEl =\n",
              "        document.querySelector('#df-8884f6d7-534f-4415-a78d-a58de1c716c6 button');\n",
              "      quickchartButtonEl.style.display =\n",
              "        google.colab.kernel.accessAllowed ? 'block' : 'none';\n",
              "    })();\n",
              "  </script>\n",
              "</div>\n",
              "\n",
              "  <div id=\"id_303e9f77-9547-44f8-8e67-9d610e10d790\">\n",
              "    <style>\n",
              "      .colab-df-generate {\n",
              "        background-color: #E8F0FE;\n",
              "        border: none;\n",
              "        border-radius: 50%;\n",
              "        cursor: pointer;\n",
              "        display: none;\n",
              "        fill: #1967D2;\n",
              "        height: 32px;\n",
              "        padding: 0 0 0 0;\n",
              "        width: 32px;\n",
              "      }\n",
              "\n",
              "      .colab-df-generate:hover {\n",
              "        background-color: #E2EBFA;\n",
              "        box-shadow: 0px 1px 2px rgba(60, 64, 67, 0.3), 0px 1px 3px 1px rgba(60, 64, 67, 0.15);\n",
              "        fill: #174EA6;\n",
              "      }\n",
              "\n",
              "      [theme=dark] .colab-df-generate {\n",
              "        background-color: #3B4455;\n",
              "        fill: #D2E3FC;\n",
              "      }\n",
              "\n",
              "      [theme=dark] .colab-df-generate:hover {\n",
              "        background-color: #434B5C;\n",
              "        box-shadow: 0px 1px 3px 1px rgba(0, 0, 0, 0.15);\n",
              "        filter: drop-shadow(0px 1px 2px rgba(0, 0, 0, 0.3));\n",
              "        fill: #FFFFFF;\n",
              "      }\n",
              "    </style>\n",
              "    <button class=\"colab-df-generate\" onclick=\"generateWithVariable('df_final')\"\n",
              "            title=\"Generate code using this dataframe.\"\n",
              "            style=\"display:none;\">\n",
              "\n",
              "  <svg xmlns=\"http://www.w3.org/2000/svg\" height=\"24px\"viewBox=\"0 0 24 24\"\n",
              "       width=\"24px\">\n",
              "    <path d=\"M7,19H8.4L18.45,9,17,7.55,7,17.6ZM5,21V16.75L18.45,3.32a2,2,0,0,1,2.83,0l1.4,1.43a1.91,1.91,0,0,1,.58,1.4,1.91,1.91,0,0,1-.58,1.4L9.25,21ZM18.45,9,17,7.55Zm-12,3A5.31,5.31,0,0,0,4.9,8.1,5.31,5.31,0,0,0,1,6.5,5.31,5.31,0,0,0,4.9,4.9,5.31,5.31,0,0,0,6.5,1,5.31,5.31,0,0,0,8.1,4.9,5.31,5.31,0,0,0,12,6.5,5.46,5.46,0,0,0,6.5,12Z\"/>\n",
              "  </svg>\n",
              "    </button>\n",
              "    <script>\n",
              "      (() => {\n",
              "      const buttonEl =\n",
              "        document.querySelector('#id_303e9f77-9547-44f8-8e67-9d610e10d790 button.colab-df-generate');\n",
              "      buttonEl.style.display =\n",
              "        google.colab.kernel.accessAllowed ? 'block' : 'none';\n",
              "\n",
              "      buttonEl.onclick = () => {\n",
              "        google.colab.notebook.generateWithVariable('df_final');\n",
              "      }\n",
              "      })();\n",
              "    </script>\n",
              "  </div>\n",
              "\n",
              "    </div>\n",
              "  </div>\n"
            ],
            "application/vnd.google.colaboratory.intrinsic+json": {
              "type": "dataframe",
              "variable_name": "df_final",
              "summary": "{\n  \"name\": \"df_final\",\n  \"rows\": 4,\n  \"fields\": [\n    {\n      \"column\": \"Index\",\n      \"properties\": {\n        \"dtype\": \"string\",\n        \"num_unique_values\": 4,\n        \"samples\": [\n          \"D2\",\n          \"D4\",\n          \"D1\"\n        ],\n        \"semantic_type\": \"\",\n        \"description\": \"\"\n      }\n    },\n    {\n      \"column\": \"Output\",\n      \"properties\": {\n        \"dtype\": \"number\",\n        \"std\": 0,\n        \"min\": 0,\n        \"max\": 1,\n        \"num_unique_values\": 2,\n        \"samples\": [\n          0,\n          1\n        ],\n        \"semantic_type\": \"\",\n        \"description\": \"\"\n      }\n    },\n    {\n      \"column\": \"LABEL_0\",\n      \"properties\": {\n        \"dtype\": \"float32\",\n        \"num_unique_values\": 4,\n        \"samples\": [\n          0.5311293601989746,\n          0.9486016631126404\n        ],\n        \"semantic_type\": \"\",\n        \"description\": \"\"\n      }\n    },\n    {\n      \"column\": \"LABEL_1\",\n      \"properties\": {\n        \"dtype\": \"float32\",\n        \"num_unique_values\": 4,\n        \"samples\": [\n          -0.42424020171165466,\n          -1.1620944738388062\n        ],\n        \"semantic_type\": \"\",\n        \"description\": \"\"\n      }\n    }\n  ]\n}"
            }
          },
          "metadata": {},
          "execution_count": 87
        }
      ]
    },
    {
      "cell_type": "markdown",
      "source": [
        "<a id=\"1\"></a>\n",
        "# <div style=\"text-align:center; border-radius:15px 50px; padding:7px; color:white; margin:0; font-size:110%; font-family:Pacifico; background-color:#0f7a7a; overflow:hidden\"><b> Training and prediction using ML models\n",
        "</b></div>"
      ],
      "metadata": {
        "id": "crQj5lmenKmO"
      }
    },
    {
      "cell_type": "markdown",
      "source": [
        "# Training and prediction"
      ],
      "metadata": {
        "id": "iLi3lYfZnKmO"
      }
    },
    {
      "cell_type": "code",
      "source": [
        "import numpy as np\n",
        "import pandas as pd\n",
        "temp_df = pd.read_csv('/kaggle/input/imdb-dataset-of-50k-movie-reviews/IMDB Dataset.csv')\n",
        "df = temp_df.iloc[:15000]\n",
        "df.head()"
      ],
      "metadata": {
        "execution": {
          "iopub.status.busy": "2024-07-15T12:27:49.091795Z",
          "iopub.execute_input": "2024-07-15T12:27:49.092373Z",
          "iopub.status.idle": "2024-07-15T12:27:49.636381Z",
          "shell.execute_reply.started": "2024-07-15T12:27:49.092343Z",
          "shell.execute_reply": "2024-07-15T12:27:49.635419Z"
        },
        "trusted": true,
        "colab": {
          "base_uri": "https://localhost:8080/",
          "height": 206
        },
        "id": "BANOSbd1nKmO",
        "outputId": "97ea444b-a7ed-410c-c1c3-62e6939a5ca5"
      },
      "execution_count": null,
      "outputs": [
        {
          "output_type": "execute_result",
          "data": {
            "text/plain": [
              "                                              review sentiment\n",
              "0  One of the other reviewers has mentioned that ...  positive\n",
              "1  A wonderful little production. <br /><br />The...  positive\n",
              "2  I thought this was a wonderful way to spend ti...  positive\n",
              "3  Basically there's a family where a little boy ...  negative\n",
              "4  Petter Mattei's \"Love in the Time of Money\" is...  positive"
            ],
            "text/html": [
              "\n",
              "  <div id=\"df-aa761d29-62e3-4d39-bf8d-01a05862d121\" class=\"colab-df-container\">\n",
              "    <div>\n",
              "<style scoped>\n",
              "    .dataframe tbody tr th:only-of-type {\n",
              "        vertical-align: middle;\n",
              "    }\n",
              "\n",
              "    .dataframe tbody tr th {\n",
              "        vertical-align: top;\n",
              "    }\n",
              "\n",
              "    .dataframe thead th {\n",
              "        text-align: right;\n",
              "    }\n",
              "</style>\n",
              "<table border=\"1\" class=\"dataframe\">\n",
              "  <thead>\n",
              "    <tr style=\"text-align: right;\">\n",
              "      <th></th>\n",
              "      <th>review</th>\n",
              "      <th>sentiment</th>\n",
              "    </tr>\n",
              "  </thead>\n",
              "  <tbody>\n",
              "    <tr>\n",
              "      <th>0</th>\n",
              "      <td>One of the other reviewers has mentioned that ...</td>\n",
              "      <td>positive</td>\n",
              "    </tr>\n",
              "    <tr>\n",
              "      <th>1</th>\n",
              "      <td>A wonderful little production. &lt;br /&gt;&lt;br /&gt;The...</td>\n",
              "      <td>positive</td>\n",
              "    </tr>\n",
              "    <tr>\n",
              "      <th>2</th>\n",
              "      <td>I thought this was a wonderful way to spend ti...</td>\n",
              "      <td>positive</td>\n",
              "    </tr>\n",
              "    <tr>\n",
              "      <th>3</th>\n",
              "      <td>Basically there's a family where a little boy ...</td>\n",
              "      <td>negative</td>\n",
              "    </tr>\n",
              "    <tr>\n",
              "      <th>4</th>\n",
              "      <td>Petter Mattei's \"Love in the Time of Money\" is...</td>\n",
              "      <td>positive</td>\n",
              "    </tr>\n",
              "  </tbody>\n",
              "</table>\n",
              "</div>\n",
              "    <div class=\"colab-df-buttons\">\n",
              "\n",
              "  <div class=\"colab-df-container\">\n",
              "    <button class=\"colab-df-convert\" onclick=\"convertToInteractive('df-aa761d29-62e3-4d39-bf8d-01a05862d121')\"\n",
              "            title=\"Convert this dataframe to an interactive table.\"\n",
              "            style=\"display:none;\">\n",
              "\n",
              "  <svg xmlns=\"http://www.w3.org/2000/svg\" height=\"24px\" viewBox=\"0 -960 960 960\">\n",
              "    <path d=\"M120-120v-720h720v720H120Zm60-500h600v-160H180v160Zm220 220h160v-160H400v160Zm0 220h160v-160H400v160ZM180-400h160v-160H180v160Zm440 0h160v-160H620v160ZM180-180h160v-160H180v160Zm440 0h160v-160H620v160Z\"/>\n",
              "  </svg>\n",
              "    </button>\n",
              "\n",
              "  <style>\n",
              "    .colab-df-container {\n",
              "      display:flex;\n",
              "      gap: 12px;\n",
              "    }\n",
              "\n",
              "    .colab-df-convert {\n",
              "      background-color: #E8F0FE;\n",
              "      border: none;\n",
              "      border-radius: 50%;\n",
              "      cursor: pointer;\n",
              "      display: none;\n",
              "      fill: #1967D2;\n",
              "      height: 32px;\n",
              "      padding: 0 0 0 0;\n",
              "      width: 32px;\n",
              "    }\n",
              "\n",
              "    .colab-df-convert:hover {\n",
              "      background-color: #E2EBFA;\n",
              "      box-shadow: 0px 1px 2px rgba(60, 64, 67, 0.3), 0px 1px 3px 1px rgba(60, 64, 67, 0.15);\n",
              "      fill: #174EA6;\n",
              "    }\n",
              "\n",
              "    .colab-df-buttons div {\n",
              "      margin-bottom: 4px;\n",
              "    }\n",
              "\n",
              "    [theme=dark] .colab-df-convert {\n",
              "      background-color: #3B4455;\n",
              "      fill: #D2E3FC;\n",
              "    }\n",
              "\n",
              "    [theme=dark] .colab-df-convert:hover {\n",
              "      background-color: #434B5C;\n",
              "      box-shadow: 0px 1px 3px 1px rgba(0, 0, 0, 0.15);\n",
              "      filter: drop-shadow(0px 1px 2px rgba(0, 0, 0, 0.3));\n",
              "      fill: #FFFFFF;\n",
              "    }\n",
              "  </style>\n",
              "\n",
              "    <script>\n",
              "      const buttonEl =\n",
              "        document.querySelector('#df-aa761d29-62e3-4d39-bf8d-01a05862d121 button.colab-df-convert');\n",
              "      buttonEl.style.display =\n",
              "        google.colab.kernel.accessAllowed ? 'block' : 'none';\n",
              "\n",
              "      async function convertToInteractive(key) {\n",
              "        const element = document.querySelector('#df-aa761d29-62e3-4d39-bf8d-01a05862d121');\n",
              "        const dataTable =\n",
              "          await google.colab.kernel.invokeFunction('convertToInteractive',\n",
              "                                                    [key], {});\n",
              "        if (!dataTable) return;\n",
              "\n",
              "        const docLinkHtml = 'Like what you see? Visit the ' +\n",
              "          '<a target=\"_blank\" href=https://colab.research.google.com/notebooks/data_table.ipynb>data table notebook</a>'\n",
              "          + ' to learn more about interactive tables.';\n",
              "        element.innerHTML = '';\n",
              "        dataTable['output_type'] = 'display_data';\n",
              "        await google.colab.output.renderOutput(dataTable, element);\n",
              "        const docLink = document.createElement('div');\n",
              "        docLink.innerHTML = docLinkHtml;\n",
              "        element.appendChild(docLink);\n",
              "      }\n",
              "    </script>\n",
              "  </div>\n",
              "\n",
              "\n",
              "<div id=\"df-329ace7b-f2c1-40e6-9b50-fce37f57ff74\">\n",
              "  <button class=\"colab-df-quickchart\" onclick=\"quickchart('df-329ace7b-f2c1-40e6-9b50-fce37f57ff74')\"\n",
              "            title=\"Suggest charts\"\n",
              "            style=\"display:none;\">\n",
              "\n",
              "<svg xmlns=\"http://www.w3.org/2000/svg\" height=\"24px\"viewBox=\"0 0 24 24\"\n",
              "     width=\"24px\">\n",
              "    <g>\n",
              "        <path d=\"M19 3H5c-1.1 0-2 .9-2 2v14c0 1.1.9 2 2 2h14c1.1 0 2-.9 2-2V5c0-1.1-.9-2-2-2zM9 17H7v-7h2v7zm4 0h-2V7h2v10zm4 0h-2v-4h2v4z\"/>\n",
              "    </g>\n",
              "</svg>\n",
              "  </button>\n",
              "\n",
              "<style>\n",
              "  .colab-df-quickchart {\n",
              "      --bg-color: #E8F0FE;\n",
              "      --fill-color: #1967D2;\n",
              "      --hover-bg-color: #E2EBFA;\n",
              "      --hover-fill-color: #174EA6;\n",
              "      --disabled-fill-color: #AAA;\n",
              "      --disabled-bg-color: #DDD;\n",
              "  }\n",
              "\n",
              "  [theme=dark] .colab-df-quickchart {\n",
              "      --bg-color: #3B4455;\n",
              "      --fill-color: #D2E3FC;\n",
              "      --hover-bg-color: #434B5C;\n",
              "      --hover-fill-color: #FFFFFF;\n",
              "      --disabled-bg-color: #3B4455;\n",
              "      --disabled-fill-color: #666;\n",
              "  }\n",
              "\n",
              "  .colab-df-quickchart {\n",
              "    background-color: var(--bg-color);\n",
              "    border: none;\n",
              "    border-radius: 50%;\n",
              "    cursor: pointer;\n",
              "    display: none;\n",
              "    fill: var(--fill-color);\n",
              "    height: 32px;\n",
              "    padding: 0;\n",
              "    width: 32px;\n",
              "  }\n",
              "\n",
              "  .colab-df-quickchart:hover {\n",
              "    background-color: var(--hover-bg-color);\n",
              "    box-shadow: 0 1px 2px rgba(60, 64, 67, 0.3), 0 1px 3px 1px rgba(60, 64, 67, 0.15);\n",
              "    fill: var(--button-hover-fill-color);\n",
              "  }\n",
              "\n",
              "  .colab-df-quickchart-complete:disabled,\n",
              "  .colab-df-quickchart-complete:disabled:hover {\n",
              "    background-color: var(--disabled-bg-color);\n",
              "    fill: var(--disabled-fill-color);\n",
              "    box-shadow: none;\n",
              "  }\n",
              "\n",
              "  .colab-df-spinner {\n",
              "    border: 2px solid var(--fill-color);\n",
              "    border-color: transparent;\n",
              "    border-bottom-color: var(--fill-color);\n",
              "    animation:\n",
              "      spin 1s steps(1) infinite;\n",
              "  }\n",
              "\n",
              "  @keyframes spin {\n",
              "    0% {\n",
              "      border-color: transparent;\n",
              "      border-bottom-color: var(--fill-color);\n",
              "      border-left-color: var(--fill-color);\n",
              "    }\n",
              "    20% {\n",
              "      border-color: transparent;\n",
              "      border-left-color: var(--fill-color);\n",
              "      border-top-color: var(--fill-color);\n",
              "    }\n",
              "    30% {\n",
              "      border-color: transparent;\n",
              "      border-left-color: var(--fill-color);\n",
              "      border-top-color: var(--fill-color);\n",
              "      border-right-color: var(--fill-color);\n",
              "    }\n",
              "    40% {\n",
              "      border-color: transparent;\n",
              "      border-right-color: var(--fill-color);\n",
              "      border-top-color: var(--fill-color);\n",
              "    }\n",
              "    60% {\n",
              "      border-color: transparent;\n",
              "      border-right-color: var(--fill-color);\n",
              "    }\n",
              "    80% {\n",
              "      border-color: transparent;\n",
              "      border-right-color: var(--fill-color);\n",
              "      border-bottom-color: var(--fill-color);\n",
              "    }\n",
              "    90% {\n",
              "      border-color: transparent;\n",
              "      border-bottom-color: var(--fill-color);\n",
              "    }\n",
              "  }\n",
              "</style>\n",
              "\n",
              "  <script>\n",
              "    async function quickchart(key) {\n",
              "      const quickchartButtonEl =\n",
              "        document.querySelector('#' + key + ' button');\n",
              "      quickchartButtonEl.disabled = true;  // To prevent multiple clicks.\n",
              "      quickchartButtonEl.classList.add('colab-df-spinner');\n",
              "      try {\n",
              "        const charts = await google.colab.kernel.invokeFunction(\n",
              "            'suggestCharts', [key], {});\n",
              "      } catch (error) {\n",
              "        console.error('Error during call to suggestCharts:', error);\n",
              "      }\n",
              "      quickchartButtonEl.classList.remove('colab-df-spinner');\n",
              "      quickchartButtonEl.classList.add('colab-df-quickchart-complete');\n",
              "    }\n",
              "    (() => {\n",
              "      let quickchartButtonEl =\n",
              "        document.querySelector('#df-329ace7b-f2c1-40e6-9b50-fce37f57ff74 button');\n",
              "      quickchartButtonEl.style.display =\n",
              "        google.colab.kernel.accessAllowed ? 'block' : 'none';\n",
              "    })();\n",
              "  </script>\n",
              "</div>\n",
              "\n",
              "    </div>\n",
              "  </div>\n"
            ],
            "application/vnd.google.colaboratory.intrinsic+json": {
              "type": "dataframe",
              "variable_name": "df",
              "summary": "{\n  \"name\": \"df\",\n  \"rows\": 15000,\n  \"fields\": [\n    {\n      \"column\": \"review\",\n      \"properties\": {\n        \"dtype\": \"string\",\n        \"num_unique_values\": 14961,\n        \"samples\": [\n          \"I tried. I really, really tried to think of something that would merit rating this higher than a two. It's not that I don't \\\"get it\\\" -- I'm a big fan of Asian cinema. The truth is, the movie is infantile in construction, long-winded, and painfully disjointed.<br /><br />I suppose that if you are of Alfred Hitchcock's school of thought \\\"Don't tell them, show them,\\\" then you could try to appreciate this movie, but you would still be hard pressed.<br /><br />First of all, The Terrorizers tries stream-of-consciousness in the style of Jean-Luc Godard and fails in this. Edward Yang seems to understand the basics of the technique, but he's very unskilled at it. (Perhaps he gets better with age; I don't know as I haven't yet attempted other Yang films.) The point is, he uses a dearth of \\\"show, don't tell\\\" that really only serves to interrupt the procession of the story. Sure, he gets in some visually arresting images, but they don't draw the story together, and they don't help to make it any better.<br /><br />Additionally, the major concept behind stream-of-consciousness and \\\"show, don't tell\\\" is that with the right images, the right drama, repetition, and tight correlation, the viewer will be able to make his or her own inferences; not to say that these will be the correct inferences, but those can be amended as the story progresses, and every director should strive for some of this type of audience interaction. In this, Edward Yang sorely disappoints. The viewer is constantly on the periphery. There is no reason to be drawn in, no reason to consider the characters or their motives, no reason to get emotionally involved, and really, no reason to stay alert.<br /><br />Finally, Yang gets lost in the story that he wants to tell, not the story that the movie itself is telling. His art moves in one direction, but like a large dog he can't control, he's constantly yanking the lead, trying to get it back onto the course he wants, not the one that it is naturally following. The most egregious example of this is the ending. The ending really should have occurred at the moment of the husband's revelation. The ending of the book that the movie is focusing on, (and by extension, a possible ending for the movie) has already been told to us. If Yang had chosen to end at that point, he would have had a much more powerful piece, leaving the watcher in suspense -- does the story play out as the book says, or does Yang's \\\"real world\\\" play out differently? Asking the viewer to think about this is the sort of viewer interaction that Yang painfully needs. Instead, he continues to tell the story he wants to tell, straining the natural conclusion for the sake of what? For the sheer sake of lingering on a main character -- we didn't' need to know more about her superficially, and Yang wouldn't feel the need to tell us if he hadn't made her into a veneer instead of bothering to make her a more engaging and deep character to begin with. <br /><br />Why else does Yang prolong and torture his movie? To get in some more of those \\\"visually arresting images.\\\" The movie truly suffers for it. It wants to end, it has a conclusion that feels natural and leaves the viewer unsettled, but instead, Yang pushes on. Instead, Yang constructs a complex ending that leads the viewer on, causing him or her to constantly ask \\\"so what?\\\" The first ending, the one that Yang ignored, that was good. The second ending, well, my thought was\\\"so what, who cares?\\\", because it's not as if it is introducing something that hasn't been put forth in the storyline already... but the last ending? That really was a waste of time. Not only did the \\\"real\\\" ending leave me disengaged, but I also felt it was an affront to what the story could have been. Yang sacrificed a potentially good story for the bubblegum-melancholy-noir-tinged conclusion that he had insisted upon all along.<br /><br />My last problem with the movie has nothing to do with the movie itself, but rather its post-production. The subbing (if you see it subbed) is horrible. Long sentences stay up for a second or two, while short ones stay up far too long. Also, as Yang quickly changes images, the subtitles are removed from the screen. This is one of those rare instances that subtitles should be able to stay on the screen even as the image has changed, because there's not much dialog going on anyway.\",\n          \"Supposedly, director William Shatner had in mind a much 'darker' film when it came to 'Star Trek V: The Final Frontier' but the suits at Paramount, looking at the huge box-office receipts taken in by its humor-filled predecessor, insisted the new film have plenty of laughs too. So what we get is arguably the weakest and goofiest of the six Star Trek movies with the original cast. There are bad ideas aplenty, along with a few good ones, and if you're in a charitable mood, you could look at 'The Final Frontier' the same way you would a so-so episode of the TV series. On the plus side, Laurence Luckenbill is a fine actor and gives one of the best 'guest star' performances in any Star Trek, big or small screen, ranking right up there with William Windom's Commodore Decker. His portrayal of Sybok, Spock's half-brother, consistently lifts the film when it threatens to sink, which happens all too frequently. Charles Cooper is good too as the fat old Klingon General Korrd; too bad his role isn't as large as he is. If the story about Shatner's intentions is true, then I owe him an apology, because I was prepared to lay the blame for the incessant silliness and not-very-convincing action scenes squarely at his directorial feet. The reason is I've always felt that, of all the Trek regulars, Shatner was the least 'tuned-in' to everything that makes Star Trek work and what makes it special to its fans. Having read his Trek memoirs, it's very apparent to me that he considered the show another action-adventure series that just happened to have a science-fiction setting. He preferred the vision of Gene Coon over that of Gene Roddenberry; Coon was known for his work on the popular western series, 'The Wild Wild West.' Shatner also mentioned that a favorite Star Trek episode of his was 'A Piece of the Action,' a silly second-season episode co-written by Coon. So, finally given an opportunity to direct a Star Trek feature film, would not Shatner follow his instincts and produce an action-filled flick with lots of tongue-in-cheek humor? Well somebody did, because that's what 'The Final Frontier' ended up being. Shatner himself definitely returns to form as The Great Ham and, as Leonard Maltin points out, the film suffers from a bad case of 'the cutes.' In the opening scene at Yosemite National Park, it's hard to say which is worse, the super-cheesy special effects or the godawful dialogue. Running gags about equipment malfunctioning on the Enterprise have run all the way from 'Wrath of Khan' and by this, the fifth Trek movie, have run themselves into the ground. So has the idea of a 'skeleton crew'. One new development is an apparent romantic relationship between Scotty and Uhura and suffice it to say one does not exactly sense flames of passion burning between the two. It's a pointless subplot and adds nothing. The climactic scene where 'God' is encountered doesn't add much either; whether or not this was a good idea in the first place is debatable, but the scene itself doesn't make much sense. (The 'God' creature's abilities seem to vary according to what is needed at the moment.) Roughly half of this is a tired retread of the climax from 'The Search for Spock.' Leonard Nimoy manages to salvage Spock's integrity, even while spouting such un-Spock-like lines as \\\"Get a grip on yourself, Doctor.\\\" And DeForest Kelley, as usual, outperforms both Shatner and Nimoy; he really came on as an actor in the final Trek films. So this Trek outing isn't terrible, it just isn't very good. There was to be one more original cast Trek movie before the baton was passed to the 'next generation,' and it was far better suited to the task than 'Star Trek V: The Final Frontier.'\",\n          \"Pretty twisted Horror film, that has a few good moments here and there, with some creepy Blood transfusion scenes, however it's just too dull for it's own good. All the characters are OK, and the story while had a lot of potential is rather dull, however the blood transfusion scenes looked frighteningly real, and as a result they were extremely disturbing. It's well made and decently written, and it started out really interesting, but it just couldn't keep up the pace, plus I found the ending to be disappointing. Linnea Quigley has no more then a very small role in this so, I was also disappointed about that, and Stephen Knight does a good job as the lead, as he was pretty twisted, plus I got this in a DVD Horror set called A Taste Of Evil, along with a bunch of other Horror films. There is lots of blood,however it's not all that gory, and for it's low budget it was pretty well done, however as I said it just couldn't sustain it's interest. This is a pretty twisted Horror film, that has a few good moments here and there, with some creepy blood transfusion scenes, however it's just too dull for it's own good, I would pass,but I guess it's worth a watch if you have nothing better to do. The Direction is OK. Elly Kenner&Norman Thaddeus Vane do an OK job here with decent camera work, and doing a good job on it's low budget, however the pace is too inconsistent for my liking. The Acting is actually alright. Stephen Knight is great as the lead, he was creepy, twisted, sick, and gave a very creepy performance, the most creepy thing about it though was he seemed like a normal person. Linnea Quigley did well in her small role. Christopher McDonald is OK I guess sin his short time. Rest of the cast are OK as well. Overall I would pass, but I guess it's worth a watch if you have nothing absolutely better to do. *1/2 out of 5\"\n        ],\n        \"semantic_type\": \"\",\n        \"description\": \"\"\n      }\n    },\n    {\n      \"column\": \"sentiment\",\n      \"properties\": {\n        \"dtype\": \"category\",\n        \"num_unique_values\": 2,\n        \"samples\": [\n          \"negative\",\n          \"positive\"\n        ],\n        \"semantic_type\": \"\",\n        \"description\": \"\"\n      }\n    }\n  ]\n}"
            }
          },
          "metadata": {},
          "execution_count": 88
        }
      ]
    },
    {
      "cell_type": "code",
      "source": [
        "df.size"
      ],
      "metadata": {
        "execution": {
          "iopub.status.busy": "2024-07-15T12:27:49.63749Z",
          "iopub.execute_input": "2024-07-15T12:27:49.637784Z",
          "iopub.status.idle": "2024-07-15T12:27:49.643408Z",
          "shell.execute_reply.started": "2024-07-15T12:27:49.63776Z",
          "shell.execute_reply": "2024-07-15T12:27:49.642586Z"
        },
        "trusted": true,
        "colab": {
          "base_uri": "https://localhost:8080/"
        },
        "id": "m6bJsucAnKmO",
        "outputId": "34dbf340-147a-480f-e65e-7406664fe886"
      },
      "execution_count": null,
      "outputs": [
        {
          "output_type": "execute_result",
          "data": {
            "text/plain": [
              "30000"
            ]
          },
          "metadata": {},
          "execution_count": 89
        }
      ]
    },
    {
      "cell_type": "code",
      "source": [
        "df['review'][1]"
      ],
      "metadata": {
        "execution": {
          "iopub.status.busy": "2024-07-15T12:27:49.644727Z",
          "iopub.execute_input": "2024-07-15T12:27:49.645061Z",
          "iopub.status.idle": "2024-07-15T12:27:49.654339Z",
          "shell.execute_reply.started": "2024-07-15T12:27:49.64503Z",
          "shell.execute_reply": "2024-07-15T12:27:49.653499Z"
        },
        "trusted": true,
        "colab": {
          "base_uri": "https://localhost:8080/",
          "height": 157
        },
        "id": "Wz9Z_K3inKmP",
        "outputId": "8d1c7c4f-5dcb-4b95-f959-96665f07706e"
      },
      "execution_count": null,
      "outputs": [
        {
          "output_type": "execute_result",
          "data": {
            "text/plain": [
              "'A wonderful little production. <br /><br />The filming technique is very unassuming- very old-time-BBC fashion and gives a comforting, and sometimes discomforting, sense of realism to the entire piece. <br /><br />The actors are extremely well chosen- Michael Sheen not only \"has got all the polari\" but he has all the voices down pat too! You can truly see the seamless editing guided by the references to Williams\\' diary entries, not only is it well worth the watching but it is a terrificly written and performed piece. A masterful production about one of the great master\\'s of comedy and his life. <br /><br />The realism really comes home with the little things: the fantasy of the guard which, rather than use the traditional \\'dream\\' techniques remains solid then disappears. It plays on our knowledge and our senses, particularly with the scenes concerning Orton and Halliwell and the sets (particularly of their flat with Halliwell\\'s murals decorating every surface) are terribly well done.'"
            ],
            "application/vnd.google.colaboratory.intrinsic+json": {
              "type": "string"
            }
          },
          "metadata": {},
          "execution_count": 90
        }
      ]
    },
    {
      "cell_type": "code",
      "source": [
        "df.duplicated().sum()"
      ],
      "metadata": {
        "execution": {
          "iopub.status.busy": "2024-07-15T12:27:49.65542Z",
          "iopub.execute_input": "2024-07-15T12:27:49.656466Z",
          "iopub.status.idle": "2024-07-15T12:27:49.712016Z",
          "shell.execute_reply.started": "2024-07-15T12:27:49.656435Z",
          "shell.execute_reply": "2024-07-15T12:27:49.711189Z"
        },
        "trusted": true,
        "colab": {
          "base_uri": "https://localhost:8080/"
        },
        "id": "776Fgo-FnKmP",
        "outputId": "27cc3a2e-a5ef-4909-efa0-62d6806fec16"
      },
      "execution_count": null,
      "outputs": [
        {
          "output_type": "execute_result",
          "data": {
            "text/plain": [
              "39"
            ]
          },
          "metadata": {},
          "execution_count": 91
        }
      ]
    },
    {
      "cell_type": "code",
      "source": [
        "df.drop_duplicates(inplace=True)"
      ],
      "metadata": {
        "execution": {
          "iopub.status.busy": "2024-07-15T12:27:49.713105Z",
          "iopub.execute_input": "2024-07-15T12:27:49.713603Z",
          "iopub.status.idle": "2024-07-15T12:27:49.760369Z",
          "shell.execute_reply.started": "2024-07-15T12:27:49.713577Z",
          "shell.execute_reply": "2024-07-15T12:27:49.759532Z"
        },
        "trusted": true,
        "id": "-OkxhmmanKmP"
      },
      "execution_count": null,
      "outputs": []
    },
    {
      "cell_type": "code",
      "source": [
        "import re\n",
        "from nltk.corpus import stopwords\n",
        "def remove_tags(raw_text):\n",
        "    cleaned_text = re.sub(re.compile('<.*?>'), '', raw_text)\n",
        "    return cleaned_text\n",
        "df['review'] = df['review'].apply(remove_tags)\n",
        "\n",
        "sw_list = stopwords.words('english')\n",
        "df['review'] = df['review'].apply(lambda x: [item for item in x.split() if item not in sw_list]).apply(lambda x:\" \".join(x))\n",
        "\n",
        "df['review'] = df['review'].apply(lambda x:x.lower())"
      ],
      "metadata": {
        "execution": {
          "iopub.status.busy": "2024-07-15T12:27:49.761509Z",
          "iopub.execute_input": "2024-07-15T12:27:49.76179Z",
          "iopub.status.idle": "2024-07-15T12:27:56.253169Z",
          "shell.execute_reply.started": "2024-07-15T12:27:49.761766Z",
          "shell.execute_reply": "2024-07-15T12:27:56.252393Z"
        },
        "trusted": true,
        "id": "-oBPskZcnKmP"
      },
      "execution_count": null,
      "outputs": []
    },
    {
      "cell_type": "code",
      "source": [
        "X = df.iloc[:,0:1]\n",
        "y = df['sentiment']"
      ],
      "metadata": {
        "execution": {
          "iopub.status.busy": "2024-07-15T12:27:56.25439Z",
          "iopub.execute_input": "2024-07-15T12:27:56.255085Z",
          "iopub.status.idle": "2024-07-15T12:27:56.260512Z",
          "shell.execute_reply.started": "2024-07-15T12:27:56.255048Z",
          "shell.execute_reply": "2024-07-15T12:27:56.259685Z"
        },
        "trusted": true,
        "id": "fKkZ4qz2nKmP"
      },
      "execution_count": null,
      "outputs": []
    },
    {
      "cell_type": "code",
      "source": [
        "from sklearn.preprocessing import LabelEncoder\n",
        "\n",
        "encoder = LabelEncoder()\n",
        "y = encoder.fit_transform(y)"
      ],
      "metadata": {
        "execution": {
          "iopub.status.busy": "2024-07-15T12:27:56.261806Z",
          "iopub.execute_input": "2024-07-15T12:27:56.262546Z",
          "iopub.status.idle": "2024-07-15T12:27:56.276304Z",
          "shell.execute_reply.started": "2024-07-15T12:27:56.26252Z",
          "shell.execute_reply": "2024-07-15T12:27:56.275576Z"
        },
        "trusted": true,
        "id": "HTp9kCnRnKmQ"
      },
      "execution_count": null,
      "outputs": []
    },
    {
      "cell_type": "code",
      "source": [
        "from sklearn.model_selection import train_test_split\n",
        "X_train,X_test,y_train,y_test = train_test_split(X,y,test_size=0.2,random_state=1)\n",
        "X_train.shape"
      ],
      "metadata": {
        "execution": {
          "iopub.status.busy": "2024-07-15T12:27:56.277272Z",
          "iopub.execute_input": "2024-07-15T12:27:56.277608Z",
          "iopub.status.idle": "2024-07-15T12:27:56.293757Z",
          "shell.execute_reply.started": "2024-07-15T12:27:56.277577Z",
          "shell.execute_reply": "2024-07-15T12:27:56.292893Z"
        },
        "trusted": true,
        "colab": {
          "base_uri": "https://localhost:8080/"
        },
        "id": "GMHr9LKbnKmQ",
        "outputId": "abcf92c8-3f2a-46db-dbbd-7f8b7aee51cf"
      },
      "execution_count": null,
      "outputs": [
        {
          "output_type": "execute_result",
          "data": {
            "text/plain": [
              "(11968, 1)"
            ]
          },
          "metadata": {},
          "execution_count": 96
        }
      ]
    },
    {
      "cell_type": "code",
      "source": [
        "# Applying BoW\n",
        "from sklearn.feature_extraction.text import CountVectorizer\n",
        "cv = CountVectorizer()\n",
        "X_train_bow = cv.fit_transform(X_train['review']).toarray()\n",
        "X_test_bow = cv.transform(X_test['review']).toarray()\n",
        "\n",
        "X_train_bow.shape"
      ],
      "metadata": {
        "execution": {
          "iopub.status.busy": "2024-07-15T12:27:56.294671Z",
          "iopub.execute_input": "2024-07-15T12:27:56.294925Z",
          "iopub.status.idle": "2024-07-15T12:28:00.59038Z",
          "shell.execute_reply.started": "2024-07-15T12:27:56.294903Z",
          "shell.execute_reply": "2024-07-15T12:28:00.589452Z"
        },
        "trusted": true,
        "colab": {
          "base_uri": "https://localhost:8080/"
        },
        "id": "U55rkdwRnKmQ",
        "outputId": "6ff4ebe8-cb05-4c1f-8bad-ef294d955c85"
      },
      "execution_count": null,
      "outputs": [
        {
          "output_type": "execute_result",
          "data": {
            "text/plain": [
              "(11968, 57305)"
            ]
          },
          "metadata": {},
          "execution_count": 97
        }
      ]
    },
    {
      "cell_type": "markdown",
      "source": [
        "<div style=\"padding:10px;color:white;margin:0;font-size:200%;text-align:center;display:fill;border-radius:10px;background-color:#215f95;;overflow:hidden;font-weight:501;font-family:magra\">Training with GaussianNB</div>"
      ],
      "metadata": {
        "id": "xMOQeYownKmQ"
      }
    },
    {
      "cell_type": "code",
      "source": [
        "from sklearn.naive_bayes import GaussianNB\n",
        "gnb = GaussianNB()\n",
        "\n",
        "gnb.fit(X_train_bow,y_train)"
      ],
      "metadata": {
        "execution": {
          "iopub.status.busy": "2024-07-15T12:28:00.591731Z",
          "iopub.execute_input": "2024-07-15T12:28:00.592104Z",
          "iopub.status.idle": "2024-07-15T12:28:11.768158Z",
          "shell.execute_reply.started": "2024-07-15T12:28:00.592071Z",
          "shell.execute_reply": "2024-07-15T12:28:11.767204Z"
        },
        "trusted": true,
        "colab": {
          "base_uri": "https://localhost:8080/",
          "height": 81
        },
        "id": "lLMEZolDnKmR",
        "outputId": "a30894ad-efb3-430d-dcd0-757815d8a3ce"
      },
      "execution_count": null,
      "outputs": [
        {
          "output_type": "execute_result",
          "data": {
            "text/plain": [
              "GaussianNB()"
            ],
            "text/html": [
              "<style>#sk-container-id-1 {\n",
              "  /* Definition of color scheme common for light and dark mode */\n",
              "  --sklearn-color-text: black;\n",
              "  --sklearn-color-line: gray;\n",
              "  /* Definition of color scheme for unfitted estimators */\n",
              "  --sklearn-color-unfitted-level-0: #fff5e6;\n",
              "  --sklearn-color-unfitted-level-1: #f6e4d2;\n",
              "  --sklearn-color-unfitted-level-2: #ffe0b3;\n",
              "  --sklearn-color-unfitted-level-3: chocolate;\n",
              "  /* Definition of color scheme for fitted estimators */\n",
              "  --sklearn-color-fitted-level-0: #f0f8ff;\n",
              "  --sklearn-color-fitted-level-1: #d4ebff;\n",
              "  --sklearn-color-fitted-level-2: #b3dbfd;\n",
              "  --sklearn-color-fitted-level-3: cornflowerblue;\n",
              "\n",
              "  /* Specific color for light theme */\n",
              "  --sklearn-color-text-on-default-background: var(--sg-text-color, var(--theme-code-foreground, var(--jp-content-font-color1, black)));\n",
              "  --sklearn-color-background: var(--sg-background-color, var(--theme-background, var(--jp-layout-color0, white)));\n",
              "  --sklearn-color-border-box: var(--sg-text-color, var(--theme-code-foreground, var(--jp-content-font-color1, black)));\n",
              "  --sklearn-color-icon: #696969;\n",
              "\n",
              "  @media (prefers-color-scheme: dark) {\n",
              "    /* Redefinition of color scheme for dark theme */\n",
              "    --sklearn-color-text-on-default-background: var(--sg-text-color, var(--theme-code-foreground, var(--jp-content-font-color1, white)));\n",
              "    --sklearn-color-background: var(--sg-background-color, var(--theme-background, var(--jp-layout-color0, #111)));\n",
              "    --sklearn-color-border-box: var(--sg-text-color, var(--theme-code-foreground, var(--jp-content-font-color1, white)));\n",
              "    --sklearn-color-icon: #878787;\n",
              "  }\n",
              "}\n",
              "\n",
              "#sk-container-id-1 {\n",
              "  color: var(--sklearn-color-text);\n",
              "}\n",
              "\n",
              "#sk-container-id-1 pre {\n",
              "  padding: 0;\n",
              "}\n",
              "\n",
              "#sk-container-id-1 input.sk-hidden--visually {\n",
              "  border: 0;\n",
              "  clip: rect(1px 1px 1px 1px);\n",
              "  clip: rect(1px, 1px, 1px, 1px);\n",
              "  height: 1px;\n",
              "  margin: -1px;\n",
              "  overflow: hidden;\n",
              "  padding: 0;\n",
              "  position: absolute;\n",
              "  width: 1px;\n",
              "}\n",
              "\n",
              "#sk-container-id-1 div.sk-dashed-wrapped {\n",
              "  border: 1px dashed var(--sklearn-color-line);\n",
              "  margin: 0 0.4em 0.5em 0.4em;\n",
              "  box-sizing: border-box;\n",
              "  padding-bottom: 0.4em;\n",
              "  background-color: var(--sklearn-color-background);\n",
              "}\n",
              "\n",
              "#sk-container-id-1 div.sk-container {\n",
              "  /* jupyter's `normalize.less` sets `[hidden] { display: none; }`\n",
              "     but bootstrap.min.css set `[hidden] { display: none !important; }`\n",
              "     so we also need the `!important` here to be able to override the\n",
              "     default hidden behavior on the sphinx rendered scikit-learn.org.\n",
              "     See: https://github.com/scikit-learn/scikit-learn/issues/21755 */\n",
              "  display: inline-block !important;\n",
              "  position: relative;\n",
              "}\n",
              "\n",
              "#sk-container-id-1 div.sk-text-repr-fallback {\n",
              "  display: none;\n",
              "}\n",
              "\n",
              "div.sk-parallel-item,\n",
              "div.sk-serial,\n",
              "div.sk-item {\n",
              "  /* draw centered vertical line to link estimators */\n",
              "  background-image: linear-gradient(var(--sklearn-color-text-on-default-background), var(--sklearn-color-text-on-default-background));\n",
              "  background-size: 2px 100%;\n",
              "  background-repeat: no-repeat;\n",
              "  background-position: center center;\n",
              "}\n",
              "\n",
              "/* Parallel-specific style estimator block */\n",
              "\n",
              "#sk-container-id-1 div.sk-parallel-item::after {\n",
              "  content: \"\";\n",
              "  width: 100%;\n",
              "  border-bottom: 2px solid var(--sklearn-color-text-on-default-background);\n",
              "  flex-grow: 1;\n",
              "}\n",
              "\n",
              "#sk-container-id-1 div.sk-parallel {\n",
              "  display: flex;\n",
              "  align-items: stretch;\n",
              "  justify-content: center;\n",
              "  background-color: var(--sklearn-color-background);\n",
              "  position: relative;\n",
              "}\n",
              "\n",
              "#sk-container-id-1 div.sk-parallel-item {\n",
              "  display: flex;\n",
              "  flex-direction: column;\n",
              "}\n",
              "\n",
              "#sk-container-id-1 div.sk-parallel-item:first-child::after {\n",
              "  align-self: flex-end;\n",
              "  width: 50%;\n",
              "}\n",
              "\n",
              "#sk-container-id-1 div.sk-parallel-item:last-child::after {\n",
              "  align-self: flex-start;\n",
              "  width: 50%;\n",
              "}\n",
              "\n",
              "#sk-container-id-1 div.sk-parallel-item:only-child::after {\n",
              "  width: 0;\n",
              "}\n",
              "\n",
              "/* Serial-specific style estimator block */\n",
              "\n",
              "#sk-container-id-1 div.sk-serial {\n",
              "  display: flex;\n",
              "  flex-direction: column;\n",
              "  align-items: center;\n",
              "  background-color: var(--sklearn-color-background);\n",
              "  padding-right: 1em;\n",
              "  padding-left: 1em;\n",
              "}\n",
              "\n",
              "\n",
              "/* Toggleable style: style used for estimator/Pipeline/ColumnTransformer box that is\n",
              "clickable and can be expanded/collapsed.\n",
              "- Pipeline and ColumnTransformer use this feature and define the default style\n",
              "- Estimators will overwrite some part of the style using the `sk-estimator` class\n",
              "*/\n",
              "\n",
              "/* Pipeline and ColumnTransformer style (default) */\n",
              "\n",
              "#sk-container-id-1 div.sk-toggleable {\n",
              "  /* Default theme specific background. It is overwritten whether we have a\n",
              "  specific estimator or a Pipeline/ColumnTransformer */\n",
              "  background-color: var(--sklearn-color-background);\n",
              "}\n",
              "\n",
              "/* Toggleable label */\n",
              "#sk-container-id-1 label.sk-toggleable__label {\n",
              "  cursor: pointer;\n",
              "  display: block;\n",
              "  width: 100%;\n",
              "  margin-bottom: 0;\n",
              "  padding: 0.5em;\n",
              "  box-sizing: border-box;\n",
              "  text-align: center;\n",
              "}\n",
              "\n",
              "#sk-container-id-1 label.sk-toggleable__label-arrow:before {\n",
              "  /* Arrow on the left of the label */\n",
              "  content: \"▸\";\n",
              "  float: left;\n",
              "  margin-right: 0.25em;\n",
              "  color: var(--sklearn-color-icon);\n",
              "}\n",
              "\n",
              "#sk-container-id-1 label.sk-toggleable__label-arrow:hover:before {\n",
              "  color: var(--sklearn-color-text);\n",
              "}\n",
              "\n",
              "/* Toggleable content - dropdown */\n",
              "\n",
              "#sk-container-id-1 div.sk-toggleable__content {\n",
              "  max-height: 0;\n",
              "  max-width: 0;\n",
              "  overflow: hidden;\n",
              "  text-align: left;\n",
              "  /* unfitted */\n",
              "  background-color: var(--sklearn-color-unfitted-level-0);\n",
              "}\n",
              "\n",
              "#sk-container-id-1 div.sk-toggleable__content.fitted {\n",
              "  /* fitted */\n",
              "  background-color: var(--sklearn-color-fitted-level-0);\n",
              "}\n",
              "\n",
              "#sk-container-id-1 div.sk-toggleable__content pre {\n",
              "  margin: 0.2em;\n",
              "  border-radius: 0.25em;\n",
              "  color: var(--sklearn-color-text);\n",
              "  /* unfitted */\n",
              "  background-color: var(--sklearn-color-unfitted-level-0);\n",
              "}\n",
              "\n",
              "#sk-container-id-1 div.sk-toggleable__content.fitted pre {\n",
              "  /* unfitted */\n",
              "  background-color: var(--sklearn-color-fitted-level-0);\n",
              "}\n",
              "\n",
              "#sk-container-id-1 input.sk-toggleable__control:checked~div.sk-toggleable__content {\n",
              "  /* Expand drop-down */\n",
              "  max-height: 200px;\n",
              "  max-width: 100%;\n",
              "  overflow: auto;\n",
              "}\n",
              "\n",
              "#sk-container-id-1 input.sk-toggleable__control:checked~label.sk-toggleable__label-arrow:before {\n",
              "  content: \"▾\";\n",
              "}\n",
              "\n",
              "/* Pipeline/ColumnTransformer-specific style */\n",
              "\n",
              "#sk-container-id-1 div.sk-label input.sk-toggleable__control:checked~label.sk-toggleable__label {\n",
              "  color: var(--sklearn-color-text);\n",
              "  background-color: var(--sklearn-color-unfitted-level-2);\n",
              "}\n",
              "\n",
              "#sk-container-id-1 div.sk-label.fitted input.sk-toggleable__control:checked~label.sk-toggleable__label {\n",
              "  background-color: var(--sklearn-color-fitted-level-2);\n",
              "}\n",
              "\n",
              "/* Estimator-specific style */\n",
              "\n",
              "/* Colorize estimator box */\n",
              "#sk-container-id-1 div.sk-estimator input.sk-toggleable__control:checked~label.sk-toggleable__label {\n",
              "  /* unfitted */\n",
              "  background-color: var(--sklearn-color-unfitted-level-2);\n",
              "}\n",
              "\n",
              "#sk-container-id-1 div.sk-estimator.fitted input.sk-toggleable__control:checked~label.sk-toggleable__label {\n",
              "  /* fitted */\n",
              "  background-color: var(--sklearn-color-fitted-level-2);\n",
              "}\n",
              "\n",
              "#sk-container-id-1 div.sk-label label.sk-toggleable__label,\n",
              "#sk-container-id-1 div.sk-label label {\n",
              "  /* The background is the default theme color */\n",
              "  color: var(--sklearn-color-text-on-default-background);\n",
              "}\n",
              "\n",
              "/* On hover, darken the color of the background */\n",
              "#sk-container-id-1 div.sk-label:hover label.sk-toggleable__label {\n",
              "  color: var(--sklearn-color-text);\n",
              "  background-color: var(--sklearn-color-unfitted-level-2);\n",
              "}\n",
              "\n",
              "/* Label box, darken color on hover, fitted */\n",
              "#sk-container-id-1 div.sk-label.fitted:hover label.sk-toggleable__label.fitted {\n",
              "  color: var(--sklearn-color-text);\n",
              "  background-color: var(--sklearn-color-fitted-level-2);\n",
              "}\n",
              "\n",
              "/* Estimator label */\n",
              "\n",
              "#sk-container-id-1 div.sk-label label {\n",
              "  font-family: monospace;\n",
              "  font-weight: bold;\n",
              "  display: inline-block;\n",
              "  line-height: 1.2em;\n",
              "}\n",
              "\n",
              "#sk-container-id-1 div.sk-label-container {\n",
              "  text-align: center;\n",
              "}\n",
              "\n",
              "/* Estimator-specific */\n",
              "#sk-container-id-1 div.sk-estimator {\n",
              "  font-family: monospace;\n",
              "  border: 1px dotted var(--sklearn-color-border-box);\n",
              "  border-radius: 0.25em;\n",
              "  box-sizing: border-box;\n",
              "  margin-bottom: 0.5em;\n",
              "  /* unfitted */\n",
              "  background-color: var(--sklearn-color-unfitted-level-0);\n",
              "}\n",
              "\n",
              "#sk-container-id-1 div.sk-estimator.fitted {\n",
              "  /* fitted */\n",
              "  background-color: var(--sklearn-color-fitted-level-0);\n",
              "}\n",
              "\n",
              "/* on hover */\n",
              "#sk-container-id-1 div.sk-estimator:hover {\n",
              "  /* unfitted */\n",
              "  background-color: var(--sklearn-color-unfitted-level-2);\n",
              "}\n",
              "\n",
              "#sk-container-id-1 div.sk-estimator.fitted:hover {\n",
              "  /* fitted */\n",
              "  background-color: var(--sklearn-color-fitted-level-2);\n",
              "}\n",
              "\n",
              "/* Specification for estimator info (e.g. \"i\" and \"?\") */\n",
              "\n",
              "/* Common style for \"i\" and \"?\" */\n",
              "\n",
              ".sk-estimator-doc-link,\n",
              "a:link.sk-estimator-doc-link,\n",
              "a:visited.sk-estimator-doc-link {\n",
              "  float: right;\n",
              "  font-size: smaller;\n",
              "  line-height: 1em;\n",
              "  font-family: monospace;\n",
              "  background-color: var(--sklearn-color-background);\n",
              "  border-radius: 1em;\n",
              "  height: 1em;\n",
              "  width: 1em;\n",
              "  text-decoration: none !important;\n",
              "  margin-left: 1ex;\n",
              "  /* unfitted */\n",
              "  border: var(--sklearn-color-unfitted-level-1) 1pt solid;\n",
              "  color: var(--sklearn-color-unfitted-level-1);\n",
              "}\n",
              "\n",
              ".sk-estimator-doc-link.fitted,\n",
              "a:link.sk-estimator-doc-link.fitted,\n",
              "a:visited.sk-estimator-doc-link.fitted {\n",
              "  /* fitted */\n",
              "  border: var(--sklearn-color-fitted-level-1) 1pt solid;\n",
              "  color: var(--sklearn-color-fitted-level-1);\n",
              "}\n",
              "\n",
              "/* On hover */\n",
              "div.sk-estimator:hover .sk-estimator-doc-link:hover,\n",
              ".sk-estimator-doc-link:hover,\n",
              "div.sk-label-container:hover .sk-estimator-doc-link:hover,\n",
              ".sk-estimator-doc-link:hover {\n",
              "  /* unfitted */\n",
              "  background-color: var(--sklearn-color-unfitted-level-3);\n",
              "  color: var(--sklearn-color-background);\n",
              "  text-decoration: none;\n",
              "}\n",
              "\n",
              "div.sk-estimator.fitted:hover .sk-estimator-doc-link.fitted:hover,\n",
              ".sk-estimator-doc-link.fitted:hover,\n",
              "div.sk-label-container:hover .sk-estimator-doc-link.fitted:hover,\n",
              ".sk-estimator-doc-link.fitted:hover {\n",
              "  /* fitted */\n",
              "  background-color: var(--sklearn-color-fitted-level-3);\n",
              "  color: var(--sklearn-color-background);\n",
              "  text-decoration: none;\n",
              "}\n",
              "\n",
              "/* Span, style for the box shown on hovering the info icon */\n",
              ".sk-estimator-doc-link span {\n",
              "  display: none;\n",
              "  z-index: 9999;\n",
              "  position: relative;\n",
              "  font-weight: normal;\n",
              "  right: .2ex;\n",
              "  padding: .5ex;\n",
              "  margin: .5ex;\n",
              "  width: min-content;\n",
              "  min-width: 20ex;\n",
              "  max-width: 50ex;\n",
              "  color: var(--sklearn-color-text);\n",
              "  box-shadow: 2pt 2pt 4pt #999;\n",
              "  /* unfitted */\n",
              "  background: var(--sklearn-color-unfitted-level-0);\n",
              "  border: .5pt solid var(--sklearn-color-unfitted-level-3);\n",
              "}\n",
              "\n",
              ".sk-estimator-doc-link.fitted span {\n",
              "  /* fitted */\n",
              "  background: var(--sklearn-color-fitted-level-0);\n",
              "  border: var(--sklearn-color-fitted-level-3);\n",
              "}\n",
              "\n",
              ".sk-estimator-doc-link:hover span {\n",
              "  display: block;\n",
              "}\n",
              "\n",
              "/* \"?\"-specific style due to the `<a>` HTML tag */\n",
              "\n",
              "#sk-container-id-1 a.estimator_doc_link {\n",
              "  float: right;\n",
              "  font-size: 1rem;\n",
              "  line-height: 1em;\n",
              "  font-family: monospace;\n",
              "  background-color: var(--sklearn-color-background);\n",
              "  border-radius: 1rem;\n",
              "  height: 1rem;\n",
              "  width: 1rem;\n",
              "  text-decoration: none;\n",
              "  /* unfitted */\n",
              "  color: var(--sklearn-color-unfitted-level-1);\n",
              "  border: var(--sklearn-color-unfitted-level-1) 1pt solid;\n",
              "}\n",
              "\n",
              "#sk-container-id-1 a.estimator_doc_link.fitted {\n",
              "  /* fitted */\n",
              "  border: var(--sklearn-color-fitted-level-1) 1pt solid;\n",
              "  color: var(--sklearn-color-fitted-level-1);\n",
              "}\n",
              "\n",
              "/* On hover */\n",
              "#sk-container-id-1 a.estimator_doc_link:hover {\n",
              "  /* unfitted */\n",
              "  background-color: var(--sklearn-color-unfitted-level-3);\n",
              "  color: var(--sklearn-color-background);\n",
              "  text-decoration: none;\n",
              "}\n",
              "\n",
              "#sk-container-id-1 a.estimator_doc_link.fitted:hover {\n",
              "  /* fitted */\n",
              "  background-color: var(--sklearn-color-fitted-level-3);\n",
              "}\n",
              "</style><div id=\"sk-container-id-1\" class=\"sk-top-container\"><div class=\"sk-text-repr-fallback\"><pre>GaussianNB()</pre><b>In a Jupyter environment, please rerun this cell to show the HTML representation or trust the notebook. <br />On GitHub, the HTML representation is unable to render, please try loading this page with nbviewer.org.</b></div><div class=\"sk-container\" hidden><div class=\"sk-item\"><div class=\"sk-estimator fitted sk-toggleable\"><input class=\"sk-toggleable__control sk-hidden--visually\" id=\"sk-estimator-id-1\" type=\"checkbox\" checked><label for=\"sk-estimator-id-1\" class=\"sk-toggleable__label fitted sk-toggleable__label-arrow fitted\">&nbsp;&nbsp;GaussianNB<a class=\"sk-estimator-doc-link fitted\" rel=\"noreferrer\" target=\"_blank\" href=\"https://scikit-learn.org/1.5/modules/generated/sklearn.naive_bayes.GaussianNB.html\">?<span>Documentation for GaussianNB</span></a><span class=\"sk-estimator-doc-link fitted\">i<span>Fitted</span></span></label><div class=\"sk-toggleable__content fitted\"><pre>GaussianNB()</pre></div> </div></div></div></div>"
            ]
          },
          "metadata": {},
          "execution_count": 98
        }
      ]
    },
    {
      "cell_type": "code",
      "source": [
        "y_pred = gnb.predict(X_test_bow)\n",
        "\n",
        "from sklearn.metrics import accuracy_score,confusion_matrix\n",
        "accuracy_score(y_test,y_pred)"
      ],
      "metadata": {
        "execution": {
          "iopub.status.busy": "2024-07-15T12:28:11.769553Z",
          "iopub.execute_input": "2024-07-15T12:28:11.770179Z",
          "iopub.status.idle": "2024-07-15T12:28:14.380216Z",
          "shell.execute_reply.started": "2024-07-15T12:28:11.770144Z",
          "shell.execute_reply": "2024-07-15T12:28:14.379281Z"
        },
        "trusted": true,
        "colab": {
          "base_uri": "https://localhost:8080/"
        },
        "id": "8SFxzTi8nKmR",
        "outputId": "772432ba-9fe6-4fbd-8e99-313b6a4c76ef"
      },
      "execution_count": null,
      "outputs": [
        {
          "output_type": "execute_result",
          "data": {
            "text/plain": [
              "0.6625459405278984"
            ]
          },
          "metadata": {},
          "execution_count": 99
        }
      ]
    },
    {
      "cell_type": "code",
      "source": [
        "confusion_matrix(y_test,y_pred)"
      ],
      "metadata": {
        "execution": {
          "iopub.status.busy": "2024-07-15T12:28:14.381535Z",
          "iopub.execute_input": "2024-07-15T12:28:14.3819Z",
          "iopub.status.idle": "2024-07-15T12:28:14.390159Z",
          "shell.execute_reply.started": "2024-07-15T12:28:14.381866Z",
          "shell.execute_reply": "2024-07-15T12:28:14.38928Z"
        },
        "trusted": true,
        "colab": {
          "base_uri": "https://localhost:8080/"
        },
        "id": "DIaC-LhYnKmR",
        "outputId": "1ea2d252-9c46-47a2-a752-9c5b163d68e8"
      },
      "execution_count": null,
      "outputs": [
        {
          "output_type": "execute_result",
          "data": {
            "text/plain": [
              "array([[1144,  359],\n",
              "       [ 651,  839]])"
            ]
          },
          "metadata": {},
          "execution_count": 100
        }
      ]
    },
    {
      "cell_type": "markdown",
      "source": [
        "<div style=\"padding:10px;color:white;margin:0;font-size:200%;text-align:center;display:fill;border-radius:10px;background-color:#215f95;;overflow:hidden;font-weight:501;font-family:magra\">Training with Random Forest Classifier</div>"
      ],
      "metadata": {
        "id": "Ll7JQxbTnKmR"
      }
    },
    {
      "cell_type": "code",
      "source": [
        "from sklearn.ensemble import RandomForestClassifier\n",
        "rf = RandomForestClassifier()\n",
        "\n",
        "rf.fit(X_train_bow,y_train)\n",
        "y_pred = rf.predict(X_test_bow)\n",
        "accuracy_score(y_test,y_pred)"
      ],
      "metadata": {
        "execution": {
          "iopub.status.busy": "2024-07-15T12:28:14.39138Z",
          "iopub.execute_input": "2024-07-15T12:28:14.391665Z",
          "iopub.status.idle": "2024-07-15T12:30:06.041004Z",
          "shell.execute_reply.started": "2024-07-15T12:28:14.391632Z",
          "shell.execute_reply": "2024-07-15T12:30:06.040125Z"
        },
        "trusted": true,
        "colab": {
          "base_uri": "https://localhost:8080/"
        },
        "id": "qakFEPGRnKmS",
        "outputId": "f909ab7a-9248-49db-8fc4-71d3909c1c50"
      },
      "execution_count": null,
      "outputs": [
        {
          "output_type": "execute_result",
          "data": {
            "text/plain": [
              "0.8466421650517875"
            ]
          },
          "metadata": {},
          "execution_count": 101
        }
      ]
    },
    {
      "cell_type": "code",
      "source": [
        "cv = CountVectorizer(max_features=3000)\n",
        "\n",
        "X_train_bow = cv.fit_transform(X_train['review']).toarray()\n",
        "X_test_bow = cv.transform(X_test['review']).toarray()\n",
        "\n",
        "rf = RandomForestClassifier()\n",
        "\n",
        "rf.fit(X_train_bow,y_train)\n",
        "y_pred = rf.predict(X_test_bow)\n",
        "accuracy_score(y_test,y_pred)"
      ],
      "metadata": {
        "execution": {
          "iopub.status.busy": "2024-07-15T12:30:06.042535Z",
          "iopub.execute_input": "2024-07-15T12:30:06.042926Z",
          "iopub.status.idle": "2024-07-15T12:30:21.364111Z",
          "shell.execute_reply.started": "2024-07-15T12:30:06.04289Z",
          "shell.execute_reply": "2024-07-15T12:30:21.363166Z"
        },
        "trusted": true,
        "colab": {
          "base_uri": "https://localhost:8080/"
        },
        "id": "CpY-TTHhnKmS",
        "outputId": "4ad5251b-9453-4edf-a7fd-6d8b981db848"
      },
      "execution_count": null,
      "outputs": [
        {
          "output_type": "execute_result",
          "data": {
            "text/plain": [
              "0.8399599064483796"
            ]
          },
          "metadata": {},
          "execution_count": 102
        }
      ]
    },
    {
      "cell_type": "code",
      "source": [
        "cv = CountVectorizer(ngram_range=(1,2),max_features=5000)\n",
        "\n",
        "X_train_bow = cv.fit_transform(X_train['review']).toarray()\n",
        "X_test_bow = cv.transform(X_test['review']).toarray()\n",
        "\n",
        "rf = RandomForestClassifier()\n",
        "\n",
        "rf.fit(X_train_bow,y_train)\n",
        "y_pred = rf.predict(X_test_bow)\n",
        "accuracy_score(y_test,y_pred)"
      ],
      "metadata": {
        "execution": {
          "iopub.status.busy": "2024-07-15T12:30:21.365295Z",
          "iopub.execute_input": "2024-07-15T12:30:21.365594Z",
          "iopub.status.idle": "2024-07-15T12:30:49.035377Z",
          "shell.execute_reply.started": "2024-07-15T12:30:21.365568Z",
          "shell.execute_reply": "2024-07-15T12:30:49.03435Z"
        },
        "trusted": true,
        "colab": {
          "base_uri": "https://localhost:8080/"
        },
        "id": "rEn_T0GInKmT",
        "outputId": "37ce46ae-667f-41a7-84de-adb672a0e7ca"
      },
      "execution_count": null,
      "outputs": [
        {
          "output_type": "execute_result",
          "data": {
            "text/plain": [
              "0.8433010357500835"
            ]
          },
          "metadata": {},
          "execution_count": 103
        }
      ]
    },
    {
      "cell_type": "markdown",
      "source": [
        "\n",
        "<div style=\"padding:10px;color:white;margin:0;font-size:200%;text-align:center;display:fill;border-radius:10px;background-color:#215f95;;overflow:hidden;font-weight:501;font-family:magra\"> Using TF-IDF</div>"
      ],
      "metadata": {
        "id": "P7IvJs5JnKmT"
      }
    },
    {
      "cell_type": "code",
      "source": [
        "from sklearn.feature_extraction.text import TfidfVectorizer\n",
        "tfidf = TfidfVectorizer()\n",
        "\n",
        "X_train_tfidf = tfidf.fit_transform(X_train['review']).toarray()\n",
        "X_test_tfidf = tfidf.transform(X_test['review'])"
      ],
      "metadata": {
        "execution": {
          "iopub.status.busy": "2024-07-15T12:30:49.036532Z",
          "iopub.execute_input": "2024-07-15T12:30:49.036817Z",
          "iopub.status.idle": "2024-07-15T12:30:54.717691Z",
          "shell.execute_reply.started": "2024-07-15T12:30:49.036793Z",
          "shell.execute_reply": "2024-07-15T12:30:54.716903Z"
        },
        "trusted": true,
        "id": "5ljbOiBQnKmT"
      },
      "execution_count": null,
      "outputs": []
    },
    {
      "cell_type": "code",
      "source": [
        "rf = RandomForestClassifier()\n",
        "\n",
        "rf.fit(X_train_tfidf,y_train)\n",
        "y_pred = rf.predict(X_test_tfidf)\n",
        "\n",
        "accuracy_score(y_test,y_pred)"
      ],
      "metadata": {
        "execution": {
          "iopub.status.busy": "2024-07-15T12:30:54.718756Z",
          "iopub.execute_input": "2024-07-15T12:30:54.719052Z",
          "iopub.status.idle": "2024-07-15T12:32:45.464009Z",
          "shell.execute_reply.started": "2024-07-15T12:30:54.719026Z",
          "shell.execute_reply": "2024-07-15T12:32:45.463071Z"
        },
        "trusted": true,
        "colab": {
          "base_uri": "https://localhost:8080/"
        },
        "id": "w1I2uDrMnKmU",
        "outputId": "2398854e-a9d2-41e0-d190-b0bd8f35bc15"
      },
      "execution_count": null,
      "outputs": [
        {
          "output_type": "execute_result",
          "data": {
            "text/plain": [
              "0.8372870030070164"
            ]
          },
          "metadata": {},
          "execution_count": 105
        }
      ]
    },
    {
      "cell_type": "markdown",
      "source": [
        "\n",
        "<div style=\"padding:10px;color:white;margin:0;font-size:200%;text-align:center;display:fill;border-radius:10px;background-color:#215f95;;overflow:hidden;font-weight:501;font-family:magra\"> Using Word2vec</div>"
      ],
      "metadata": {
        "id": "kqfuOgY2nKmU"
      }
    },
    {
      "cell_type": "code",
      "source": [
        "import gensim\n",
        "from nltk import sent_tokenize\n",
        "from gensim.utils import simple_preprocess\n",
        "story = []\n",
        "for doc in df['review']:\n",
        "    raw_sent = sent_tokenize(doc)\n",
        "    for sent in raw_sent:\n",
        "        story.append(simple_preprocess(sent))\n",
        "\n",
        "model = gensim.models.Word2Vec(\n",
        "    window=10,\n",
        "    min_count=2\n",
        ")"
      ],
      "metadata": {
        "execution": {
          "iopub.status.busy": "2024-07-15T12:32:45.465194Z",
          "iopub.execute_input": "2024-07-15T12:32:45.465531Z",
          "iopub.status.idle": "2024-07-15T12:32:58.667966Z",
          "shell.execute_reply.started": "2024-07-15T12:32:45.465506Z",
          "shell.execute_reply": "2024-07-15T12:32:58.667202Z"
        },
        "trusted": true,
        "id": "LuOIUlkMnKmU"
      },
      "execution_count": null,
      "outputs": []
    },
    {
      "cell_type": "code",
      "source": [
        "model.build_vocab(story)\n",
        "model.train(story, total_examples=model.corpus_count, epochs=model.epochs)"
      ],
      "metadata": {
        "execution": {
          "iopub.status.busy": "2024-07-15T12:32:58.669115Z",
          "iopub.execute_input": "2024-07-15T12:32:58.669407Z",
          "iopub.status.idle": "2024-07-15T12:33:11.13667Z",
          "shell.execute_reply.started": "2024-07-15T12:32:58.669383Z",
          "shell.execute_reply": "2024-07-15T12:33:11.135785Z"
        },
        "trusted": true,
        "colab": {
          "base_uri": "https://localhost:8080/"
        },
        "id": "nLDnPRhsnKmV",
        "outputId": "242cd906-722b-409e-d0d5-cc983b84315a"
      },
      "execution_count": null,
      "outputs": [
        {
          "output_type": "execute_result",
          "data": {
            "text/plain": [
              "(9197004, 9810805)"
            ]
          },
          "metadata": {},
          "execution_count": 107
        }
      ]
    },
    {
      "cell_type": "code",
      "source": [
        "len(model.wv.index_to_key)"
      ],
      "metadata": {
        "execution": {
          "iopub.status.busy": "2024-07-15T12:33:11.137895Z",
          "iopub.execute_input": "2024-07-15T12:33:11.13956Z",
          "iopub.status.idle": "2024-07-15T12:33:11.145057Z",
          "shell.execute_reply.started": "2024-07-15T12:33:11.139513Z",
          "shell.execute_reply": "2024-07-15T12:33:11.144252Z"
        },
        "trusted": true,
        "colab": {
          "base_uri": "https://localhost:8080/"
        },
        "id": "qdkJa81xnKmV",
        "outputId": "4ed5c17d-2464-4beb-a3bb-fa5f8d1dea80"
      },
      "execution_count": null,
      "outputs": [
        {
          "output_type": "execute_result",
          "data": {
            "text/plain": [
              "38121"
            ]
          },
          "metadata": {},
          "execution_count": 108
        }
      ]
    },
    {
      "cell_type": "code",
      "source": [
        "def document_vector(doc):\n",
        "    # remove out-of-vocabulary words\n",
        "    doc = [word for word in doc.split() if word in model.wv.index_to_key]\n",
        "    return np.mean(model.wv[doc], axis=0)\n",
        "\n",
        "document_vector(df['review'].values[0])"
      ],
      "metadata": {
        "execution": {
          "iopub.status.busy": "2024-07-15T12:33:11.146108Z",
          "iopub.execute_input": "2024-07-15T12:33:11.146382Z",
          "iopub.status.idle": "2024-07-15T12:33:11.221655Z",
          "shell.execute_reply.started": "2024-07-15T12:33:11.146359Z",
          "shell.execute_reply": "2024-07-15T12:33:11.220787Z"
        },
        "trusted": true,
        "colab": {
          "base_uri": "https://localhost:8080/"
        },
        "id": "cUnuFY5hnKmV",
        "outputId": "3f05bd1a-ad2a-4630-d5de-4875db462a8a"
      },
      "execution_count": null,
      "outputs": [
        {
          "output_type": "execute_result",
          "data": {
            "text/plain": [
              "array([-0.21064647,  0.17107014,  0.09929337,  0.10307705,  0.11432756,\n",
              "       -0.5523969 ,  0.1874905 ,  0.5833575 , -0.07606371, -0.26655826,\n",
              "       -0.0897784 , -0.6595543 , -0.11905441,  0.29395598,  0.03597571,\n",
              "       -0.21128082, -0.17560834, -0.2689892 ,  0.02572755, -0.62277526,\n",
              "        0.6386617 ,  0.28566626,  0.29419425,  0.09159002, -0.1352602 ,\n",
              "       -0.0443289 , -0.10197031,  0.05992982, -0.30078712,  0.09817165,\n",
              "        0.46685705,  0.03813042,  0.28331676, -0.28558993,  0.06467144,\n",
              "        0.56253576,  0.05604949, -0.3836966 , -0.30762985, -0.6144922 ,\n",
              "        0.20729515, -0.4069778 ,  0.18159965, -0.09721072,  0.1854156 ,\n",
              "       -0.06890541, -0.38945007, -0.15261193, -0.04983551,  0.24620053,\n",
              "        0.1898827 , -0.33203673, -0.01328047,  0.09372316, -0.19756754,\n",
              "       -0.01436353,  0.15275532, -0.0885918 , -0.34834772,  0.008045  ,\n",
              "        0.08846913,  0.14802136,  0.12373052, -0.15049408, -0.42230973,\n",
              "        0.12189483, -0.09918297,  0.10379909, -0.6276145 ,  0.32634073,\n",
              "       -0.2678464 ,  0.09482589,  0.14321178, -0.19213831,  0.299324  ,\n",
              "        0.07763652, -0.12756541,  0.05333207, -0.36828035,  0.13752401,\n",
              "       -0.1383126 ,  0.00431076, -0.38875476,  0.3546174 , -0.6965027 ,\n",
              "       -0.00189353,  0.05991819,  0.30546772,  0.13646314,  0.05425053,\n",
              "        0.31417143,  0.12138399,  0.17465325,  0.05280686,  0.47736788,\n",
              "        0.25953075,  0.10108931, -0.27899158, -0.03070563, -0.0396591 ],\n",
              "      dtype=float32)"
            ]
          },
          "metadata": {},
          "execution_count": 109
        }
      ]
    },
    {
      "cell_type": "code",
      "source": [
        "from tqdm import tqdm\n",
        "X = []\n",
        "for doc in tqdm(df['review'].values):\n",
        "    X.append(document_vector(doc))"
      ],
      "metadata": {
        "execution": {
          "iopub.status.busy": "2024-07-15T12:33:11.222603Z",
          "iopub.execute_input": "2024-07-15T12:33:11.222863Z",
          "iopub.status.idle": "2024-07-15T12:43:31.799339Z",
          "shell.execute_reply.started": "2024-07-15T12:33:11.222839Z",
          "shell.execute_reply": "2024-07-15T12:43:31.798416Z"
        },
        "trusted": true,
        "colab": {
          "base_uri": "https://localhost:8080/"
        },
        "id": "BQvnAufanKmW",
        "outputId": "413856bd-8086-4ec0-936d-c19125fb2931"
      },
      "execution_count": null,
      "outputs": [
        {
          "output_type": "stream",
          "name": "stderr",
          "text": [
            "100%|██████████| 14961/14961 [11:55<00:00, 20.92it/s]\n"
          ]
        }
      ]
    },
    {
      "cell_type": "code",
      "source": [
        "X = np.array(X)\n",
        "X[0]"
      ],
      "metadata": {
        "execution": {
          "iopub.status.busy": "2024-07-15T12:43:31.802377Z",
          "iopub.execute_input": "2024-07-15T12:43:31.802669Z",
          "iopub.status.idle": "2024-07-15T12:43:31.82829Z",
          "shell.execute_reply.started": "2024-07-15T12:43:31.802645Z",
          "shell.execute_reply": "2024-07-15T12:43:31.827461Z"
        },
        "trusted": true,
        "colab": {
          "base_uri": "https://localhost:8080/"
        },
        "id": "0dpYmht2nKmW",
        "outputId": "9640058b-2de0-4c3e-cb4f-59bd8d923e8e"
      },
      "execution_count": null,
      "outputs": [
        {
          "output_type": "execute_result",
          "data": {
            "text/plain": [
              "array([-0.21064647,  0.17107014,  0.09929337,  0.10307705,  0.11432756,\n",
              "       -0.5523969 ,  0.1874905 ,  0.5833575 , -0.07606371, -0.26655826,\n",
              "       -0.0897784 , -0.6595543 , -0.11905441,  0.29395598,  0.03597571,\n",
              "       -0.21128082, -0.17560834, -0.2689892 ,  0.02572755, -0.62277526,\n",
              "        0.6386617 ,  0.28566626,  0.29419425,  0.09159002, -0.1352602 ,\n",
              "       -0.0443289 , -0.10197031,  0.05992982, -0.30078712,  0.09817165,\n",
              "        0.46685705,  0.03813042,  0.28331676, -0.28558993,  0.06467144,\n",
              "        0.56253576,  0.05604949, -0.3836966 , -0.30762985, -0.6144922 ,\n",
              "        0.20729515, -0.4069778 ,  0.18159965, -0.09721072,  0.1854156 ,\n",
              "       -0.06890541, -0.38945007, -0.15261193, -0.04983551,  0.24620053,\n",
              "        0.1898827 , -0.33203673, -0.01328047,  0.09372316, -0.19756754,\n",
              "       -0.01436353,  0.15275532, -0.0885918 , -0.34834772,  0.008045  ,\n",
              "        0.08846913,  0.14802136,  0.12373052, -0.15049408, -0.42230973,\n",
              "        0.12189483, -0.09918297,  0.10379909, -0.6276145 ,  0.32634073,\n",
              "       -0.2678464 ,  0.09482589,  0.14321178, -0.19213831,  0.299324  ,\n",
              "        0.07763652, -0.12756541,  0.05333207, -0.36828035,  0.13752401,\n",
              "       -0.1383126 ,  0.00431076, -0.38875476,  0.3546174 , -0.6965027 ,\n",
              "       -0.00189353,  0.05991819,  0.30546772,  0.13646314,  0.05425053,\n",
              "        0.31417143,  0.12138399,  0.17465325,  0.05280686,  0.47736788,\n",
              "        0.25953075,  0.10108931, -0.27899158, -0.03070563, -0.0396591 ],\n",
              "      dtype=float32)"
            ]
          },
          "metadata": {},
          "execution_count": 111
        }
      ]
    },
    {
      "cell_type": "code",
      "source": [
        "from sklearn.preprocessing import LabelEncoder\n",
        "encoder = LabelEncoder()\n",
        "\n",
        "y = encoder.fit_transform(df['sentiment'])\n",
        "y"
      ],
      "metadata": {
        "execution": {
          "iopub.status.busy": "2024-07-15T12:43:31.829457Z",
          "iopub.execute_input": "2024-07-15T12:43:31.829879Z",
          "iopub.status.idle": "2024-07-15T12:43:31.841955Z",
          "shell.execute_reply.started": "2024-07-15T12:43:31.829848Z",
          "shell.execute_reply": "2024-07-15T12:43:31.841155Z"
        },
        "trusted": true,
        "colab": {
          "base_uri": "https://localhost:8080/"
        },
        "id": "QF_P8eVrnKmW",
        "outputId": "a79d54dd-be3f-4068-a725-714f34577aa1"
      },
      "execution_count": null,
      "outputs": [
        {
          "output_type": "execute_result",
          "data": {
            "text/plain": [
              "array([1, 1, 1, ..., 0, 0, 1])"
            ]
          },
          "metadata": {},
          "execution_count": 112
        }
      ]
    },
    {
      "cell_type": "code",
      "source": [
        "from sklearn.model_selection import train_test_split\n",
        "from sklearn.ensemble import RandomForestClassifier\n",
        "from sklearn.metrics import accuracy_score\n",
        "\n",
        "X_train,X_test,y_train,y_test = train_test_split(X,y,test_size=0.2,random_state=1)\n",
        "\n",
        "rf = RandomForestClassifier()\n",
        "rf.fit(X_train,y_train)\n",
        "y_pred = rf.predict(X_test)\n",
        "accuracy_score(y_test,y_pred)"
      ],
      "metadata": {
        "execution": {
          "iopub.status.busy": "2024-07-15T12:43:31.843063Z",
          "iopub.execute_input": "2024-07-15T12:43:31.843368Z",
          "iopub.status.idle": "2024-07-15T12:43:42.66096Z",
          "shell.execute_reply.started": "2024-07-15T12:43:31.843343Z",
          "shell.execute_reply": "2024-07-15T12:43:42.660086Z"
        },
        "trusted": true,
        "colab": {
          "base_uri": "https://localhost:8080/"
        },
        "id": "0XUTNuDxnKmW",
        "outputId": "26071cc8-39b5-4fb4-9de6-24435197a0d5"
      },
      "execution_count": null,
      "outputs": [
        {
          "output_type": "execute_result",
          "data": {
            "text/plain": [
              "0.7958569996658871"
            ]
          },
          "metadata": {},
          "execution_count": 113
        }
      ]
    },
    {
      "cell_type": "markdown",
      "source": [
        "<a id=\"1\"></a>\n",
        "# <div style=\"text-align:center; border-radius:15px 50px; padding:7px; color:white; margin:0; font-size:110%; font-family:Pacifico; background-color:#0f7a7a; overflow:hidden\"><b> Parts of Speech Tagging\n",
        "</b></div>"
      ],
      "metadata": {
        "id": "SzlbT9fPnKmX"
      }
    },
    {
      "cell_type": "markdown",
      "source": [
        "# POS Tagging\n",
        "\n",
        "\n",
        "#### In simple terms, POS tagging (Part-of-Speech tagging) in NLP (Natural Language Processing) is the process of labeling each word in a sentence with its appropriate part of speech, such as noun, verb, adjective, etc. In traditional grammar, a part of speech is a category of words that share similar grammatical properties.\n",
        "\n",
        "### Applications of POS Tagging:\n",
        "\n",
        "1. **Named Entity Recognition (NER)**: Identifying proper nouns in text and classifying them into predefined categories like names of people, organizations, locations, etc.\n",
        "2. **Question Answering Systems**: Improving the accuracy of systems designed to answer questions by understanding the grammatical structure of sentences.\n",
        "3. **Word Sense Disambiguation**: Determining the correct meaning of a word based on its context in a sentence, particularly when a word has multiple meanings.\n",
        "4. **Chatbots**: Enhancing the conversational abilities of chatbots by helping them understand and generate grammatically correct responses.\n"
      ],
      "metadata": {
        "id": "6sMGqtFBnKmX"
      }
    },
    {
      "cell_type": "markdown",
      "source": [
        "<div style=\"padding:10px;color:white;margin:0;font-size:200%;text-align:center;display:fill;border-radius:10px;background-color:#215f95;;overflow:hidden;font-weight:501;font-family:magra\">Architectures in POS tagging</div>\n",
        "\n",
        "## Hidden Markov Model (HMM) in POS Tagging\n",
        "\n",
        "A Hidden Markov Model (HMM) is a statistical model used to represent systems that have observable events generated by hidden states. In the context of POS tagging, the observable events are the words in a sentence, and the hidden states are the corresponding parts of speech.\n",
        "\n",
        "An HMM consists of the following components:\n",
        "\n",
        "1. **States**: In POS tagging, these are the parts of speech (e.g., noun, verb, adjective).\n",
        "2. **Observations**: The actual words in the text.\n",
        "3. **Transition Probabilities**: The probabilities of transitioning from one state to another. For example, the probability of a noun being followed by a verb.\n",
        "4. **Emission Probabilities**: The probabilities of a particular state (part of speech) generating a particular observation (word). For example, the probability of a noun being the word \"cat\".\n",
        "5. **Initial Probabilities**: The probabilities of starting in each state.\n",
        "\n",
        "The HMM helps in determining the most probable sequence of POS tags for a given sequence of words.\n",
        "\n",
        "## Viterbi Algorithm in POS Tagging\n",
        "\n",
        "The Viterbi Algorithm is a dynamic programming algorithm used to find the most likely sequence of hidden states (POS tags) that results in a sequence of observed events (words). It efficiently computes the best path through the states by keeping track of the highest probability of any path that reaches each state.\n",
        "\n",
        "#### Steps of the Viterbi Algorithm:\n",
        "\n",
        "1. **Initialization**:\n",
        "   - For each state, compute the probability of starting in that state and observing the first word.\n",
        "   \n",
        "2. **Recursion**:\n",
        "   - For each subsequent word, compute the probability of each state given the previous state's probabilities and the current word's emission probability. This involves:\n",
        "     - Transitioning from each possible previous state to the current state.\n",
        "     - Multiplying the highest probability of reaching the previous state by the transition probability to the current state and the emission probability of the current word.\n",
        "     - Storing the highest probability for each state at each step.\n",
        "   \n",
        "3. **Termination**:\n",
        "   - Once all words have been processed, the algorithm finds the state with the highest probability at the last word.\n",
        "   \n",
        "4. **Backtracking**:\n",
        "   - To find the best sequence of states, the algorithm traces back through the stored probabilities, starting from the state with the highest probability at the last word and moving backwards.\n",
        "\n"
      ],
      "metadata": {
        "id": "n8dOgzSQnKmY"
      }
    },
    {
      "cell_type": "markdown",
      "source": [
        "\n",
        "<div style=\"padding:10px;color:white;margin:0;font-size:200%;text-align:center;display:fill;border-radius:10px;background-color:#215f95;;overflow:hidden;font-weight:501;font-family:magra\"> Hidden Markov Model</div>\n",
        "\n",
        "Suppose we have a dataset with parts of speech: Verb (V), Noun (N), and Modal (M).\n",
        "\n",
        "| Docs                       |\n",
        "|----------------------------|\n",
        "| Amit loves Kaggle          |\n",
        "| Can Amit Google Kaggle     |\n",
        "| Will Amanda Google Kaggle  |\n",
        "| Amanda Loves Amit          |\n",
        "| Will loves Google          |\n",
        "\n",
        "In the first step, we need to label each word in the dataset with its part of speech. This is a supervised learning problem.\n",
        "\n",
        "| Docs                       | POS                       |\n",
        "|----------------------------|---------------------------|\n",
        "| Amit loves Kaggle          | N      V        N         |\n",
        "| Can Amit Google Kaggle     | M     N    V      N       |\n",
        "| Will Amanda Google Kaggle  | M     N    V      N       |\n",
        "| Amanda Loves Amit          | N      V        N         |\n",
        "| Will loves Google          | N      V        N         |\n",
        "\n",
        "Next, we calculate the emission probability.\n",
        "\n",
        "| Word   | N    | M    | V    |\n",
        "|--------|------|------|------|\n",
        "| Amit   | 2    | 0    | 0    |\n",
        "| Loves  | 0    | 0    | 3    |\n",
        "| Kaggle | 3    | 0    | 0    |\n",
        "| Google | 1    | 0    | 2    |\n",
        "| Will   | 2    | 1    | 0    |\n",
        "| Amanda | 2    | 0    | 0    |\n",
        "| can    | 0    | 1    | 0    |\n",
        "\n",
        "For each row and column, the value indicates the frequency of the word appearing as a specific part of speech. For example, \"Amit\" appeared as a noun in 2 places.\n",
        "\n",
        "Now we convert these frequencies into probabilities.\n",
        "\n",
        "| Word   | N    | M    | V    |\n",
        "|--------|------|------|------|\n",
        "| Amit   | 2/10 | 0    | 0    |\n",
        "| Loves  | 0    | 0    | 3/5  |\n",
        "| Kaggle | 3/10 | 0    | 0    |\n",
        "| Google | 1/10 | 0    | 2/5  |\n",
        "| Will   | 2/10 | 1/2  | 0    |\n",
        "| Amanda | 2/10 | 0    | 0    |\n",
        "| can    | 0    | 1/2  | 0    |\n",
        "\n",
        "Next, we calculate the transition probability. We add \"Start\" and \"End\" to our dataset.\n",
        "\n",
        "| Docs                                   |\n",
        "|----------------------------------------|\n",
        "| Start Amit loves Kaggle End            |\n",
        "| Start Can Amit Google Kaggle End       |\n",
        "| Start Will Amanda Google Kaggle End    |\n",
        "| Start Amanda Loves Amit End            |\n",
        "| Start Will loves Google End            |\n",
        "\n",
        "We now have:\n",
        "\n",
        "| Transition | N    | M    | V    | End  |\n",
        "|------------|------|------|------|------|\n",
        "| Start      | 3    | 2    | 0    | 0    |\n",
        "| N          | 0    | 0    | 5    | 5    |\n",
        "| M          | 2    | 0    | 0    | 0    |\n",
        "| V          | 5    | 0    | 0    | 0    |\n",
        "\n",
        "Converting these to probabilities:\n",
        "\n",
        "| Transition | N    | M    | V    | End  |\n",
        "|------------|------|------|------|------|\n",
        "| Start      | 3/5  | 2/5  | 0    | 0    |\n",
        "| N          | 0    | 0    | 5/10 | 5/10 |\n",
        "| M          | 2/2  | 0    | 0    | 0    |\n",
        "| V          | 5/2  | 0    | 2/5  | 0    |\n",
        "\n",
        "This means, for example, the probability of starting with a noun is 3/5.\n",
        "\n",
        "Imagine the parts of speech as a network where each state (N, V, M) is connected, and words are mapped to their POS with associated probabilities.\n",
        "\n",
        "For prediction, say we have \"Will will Google Kaggle\".\n",
        "\n",
        "We know the POS sequence will be M, N, V, N.\n",
        "\n",
        "| Docs                                   |\n",
        "|----------------------------------------|\n",
        "| Start Will Will Google Kaggle End      |\n",
        "\n",
        "Initially, we label all words as nouns.\n",
        "\n",
        "| Docs                                   | POS                |\n",
        "|----------------------------------------|---------------------|\n",
        "| Start Will Will Google Kaggle End      | Start N N N N End   |\n",
        "\n",
        "Calculate probabilities step by step:\n",
        "\n",
        "- Start-N: Transition probability 3/5 and \"Will\" emission probability 1/2\n",
        "- N-N: Transition probability 0 and \"Will\" emission probability 1/5\n",
        "- N-N: Transition probability 0 and \"Google\" emission probability 1/10\n",
        "- N-N: Transition probability 0 and \"Kaggle\" emission probability 3/10\n",
        "- N-End: Transition probability 3/10\n",
        "\n",
        "Try another sequence, N N N M:\n",
        "\n",
        "- Start-N: Transition probability 3/5 and \"Will\" emission probability 1/2\n",
        "- N-N: Transition probability 0 and \"Will\" emission probability 1/5\n",
        "- N-N: Transition probability 0 and \"Google\" emission probability 1/10\n",
        "- N-M: Transition probability 0 and \"Kaggle\" emission probability 1/2\n",
        "- M-End: Transition probability 0\n",
        "\n",
        "Test all combinations; in total, you will have (Number of parts of speech)^(number of words).\n",
        "\n",
        "Choose the sequence with the highest total probability. For the correct sequence (M N V N):\n",
        "\n",
        "- Start-M: Transition probability 2/5 and \"Will\" emission probability 1/2\n",
        "- M-N: Transition probability 1 and \"Will\" emission probability 1/3\n",
        "- N-V: Transition probability 1/2 and \"Google\" emission probability 2/5\n",
        "- V-N: Transition probability 1 and \"Kaggle\" emission probability 3/10\n",
        "- N-End: Transition probability 1/2\n",
        "\n",
        "Multiplying these probabilities gives the highest value, indicating the most probable POS sequence.\n"
      ],
      "metadata": {
        "id": "xe02DKicnKmY"
      }
    },
    {
      "cell_type": "markdown",
      "source": [
        "\n",
        "<div style=\"padding:10px;color:white;margin:0;font-size:200%;text-align:center;display:fill;border-radius:10px;background-color:#215f95;;overflow:hidden;font-weight:501;font-family:magra\"> Viterbi Algorithm</div>\n",
        "\n",
        "#### So for the above example we will be having\n",
        "\n",
        "![image.png](attachment:89930009-1df7-4a1a-b3c2-523da060abb9.png)\n",
        "\n",
        "The Viterbi Algorithm allows us to explore various paths through a sequence while prioritizing the path with the highest probability. By maintaining and updating the maximum probabilities at each step, it ensures that paths with zero probabilities are avoided, as encountering a zero probability would render the entire path leading to it unusable. This method efficiently determines the most likely sequence of states or events in scenarios such as speech recognition or sequence labeling tasks."
      ],
      "metadata": {
        "id": "B3Y1DCx2nKmZ"
      }
    },
    {
      "cell_type": "code",
      "source": [
        "import spacy\n",
        "nlp = spacy.load('en_core_web_sm')\n",
        "doc = nlp(u\"I will google about facebook\")"
      ],
      "metadata": {
        "execution": {
          "iopub.status.busy": "2024-07-15T12:43:42.662554Z",
          "iopub.execute_input": "2024-07-15T12:43:42.662945Z",
          "iopub.status.idle": "2024-07-15T12:43:43.66988Z",
          "shell.execute_reply.started": "2024-07-15T12:43:42.66291Z",
          "shell.execute_reply": "2024-07-15T12:43:43.6691Z"
        },
        "trusted": true,
        "id": "S-5LCxdQnKmZ"
      },
      "execution_count": null,
      "outputs": []
    },
    {
      "cell_type": "code",
      "source": [
        "doc.text"
      ],
      "metadata": {
        "execution": {
          "iopub.status.busy": "2024-07-15T12:43:43.670936Z",
          "iopub.execute_input": "2024-07-15T12:43:43.671233Z",
          "iopub.status.idle": "2024-07-15T12:43:43.677108Z",
          "shell.execute_reply.started": "2024-07-15T12:43:43.671195Z",
          "shell.execute_reply": "2024-07-15T12:43:43.676269Z"
        },
        "trusted": true,
        "colab": {
          "base_uri": "https://localhost:8080/",
          "height": 35
        },
        "id": "6LJREliInKmZ",
        "outputId": "c9cfbe2d-a30b-43bf-d653-4b2fcb165208"
      },
      "execution_count": null,
      "outputs": [
        {
          "output_type": "execute_result",
          "data": {
            "text/plain": [
              "'I will google about facebook'"
            ],
            "application/vnd.google.colaboratory.intrinsic+json": {
              "type": "string"
            }
          },
          "metadata": {},
          "execution_count": 115
        }
      ]
    },
    {
      "cell_type": "code",
      "source": [
        "doc[-1]"
      ],
      "metadata": {
        "execution": {
          "iopub.status.busy": "2024-07-15T12:43:43.678126Z",
          "iopub.execute_input": "2024-07-15T12:43:43.678464Z",
          "iopub.status.idle": "2024-07-15T12:43:43.688452Z",
          "shell.execute_reply.started": "2024-07-15T12:43:43.67844Z",
          "shell.execute_reply": "2024-07-15T12:43:43.687614Z"
        },
        "trusted": true,
        "colab": {
          "base_uri": "https://localhost:8080/"
        },
        "id": "3jY4X67ynKmZ",
        "outputId": "d16d086a-edbd-4a4f-c739-19a54dd7657f"
      },
      "execution_count": null,
      "outputs": [
        {
          "output_type": "execute_result",
          "data": {
            "text/plain": [
              "facebook"
            ]
          },
          "metadata": {},
          "execution_count": 116
        }
      ]
    },
    {
      "cell_type": "code",
      "source": [
        "# course grained parts of speech\n",
        "doc[2].pos_"
      ],
      "metadata": {
        "execution": {
          "iopub.status.busy": "2024-07-15T12:43:43.689454Z",
          "iopub.execute_input": "2024-07-15T12:43:43.689782Z",
          "iopub.status.idle": "2024-07-15T12:43:43.700531Z",
          "shell.execute_reply.started": "2024-07-15T12:43:43.689752Z",
          "shell.execute_reply": "2024-07-15T12:43:43.699694Z"
        },
        "trusted": true,
        "colab": {
          "base_uri": "https://localhost:8080/",
          "height": 35
        },
        "id": "J7LimS6dnKma",
        "outputId": "6a6dcfd2-3381-408c-ac50-8c8cb07b468f"
      },
      "execution_count": null,
      "outputs": [
        {
          "output_type": "execute_result",
          "data": {
            "text/plain": [
              "'VERB'"
            ],
            "application/vnd.google.colaboratory.intrinsic+json": {
              "type": "string"
            }
          },
          "metadata": {},
          "execution_count": 117
        }
      ]
    },
    {
      "cell_type": "code",
      "source": [
        "#Fine grained parts of speech: Parts of speech with extra info\n",
        "doc[2].tag_"
      ],
      "metadata": {
        "execution": {
          "iopub.status.busy": "2024-07-15T12:43:43.701439Z",
          "iopub.execute_input": "2024-07-15T12:43:43.701702Z",
          "iopub.status.idle": "2024-07-15T12:43:43.711169Z",
          "shell.execute_reply.started": "2024-07-15T12:43:43.70168Z",
          "shell.execute_reply": "2024-07-15T12:43:43.710352Z"
        },
        "trusted": true,
        "colab": {
          "base_uri": "https://localhost:8080/",
          "height": 35
        },
        "id": "9fLXr0XXnKma",
        "outputId": "36736a0d-4fc2-4ba9-a0a4-48e236d2a5a7"
      },
      "execution_count": null,
      "outputs": [
        {
          "output_type": "execute_result",
          "data": {
            "text/plain": [
              "'VB'"
            ],
            "application/vnd.google.colaboratory.intrinsic+json": {
              "type": "string"
            }
          },
          "metadata": {},
          "execution_count": 118
        }
      ]
    },
    {
      "cell_type": "code",
      "source": [
        "spacy.explain('VB')"
      ],
      "metadata": {
        "execution": {
          "iopub.status.busy": "2024-07-15T12:43:43.712215Z",
          "iopub.execute_input": "2024-07-15T12:43:43.712519Z",
          "iopub.status.idle": "2024-07-15T12:43:43.721832Z",
          "shell.execute_reply.started": "2024-07-15T12:43:43.71249Z",
          "shell.execute_reply": "2024-07-15T12:43:43.72101Z"
        },
        "trusted": true,
        "colab": {
          "base_uri": "https://localhost:8080/",
          "height": 35
        },
        "id": "qWYrXUvTnKma",
        "outputId": "526080f0-2c69-4c81-8aa0-22c6edcabafe"
      },
      "execution_count": null,
      "outputs": [
        {
          "output_type": "execute_result",
          "data": {
            "text/plain": [
              "'verb, base form'"
            ],
            "application/vnd.google.colaboratory.intrinsic+json": {
              "type": "string"
            }
          },
          "metadata": {},
          "execution_count": 119
        }
      ]
    },
    {
      "cell_type": "code",
      "source": [
        "for word in doc:\n",
        "    print(word.text,\"------>\", word.pos_,word.tag_,spacy.explain(word.tag_))"
      ],
      "metadata": {
        "execution": {
          "iopub.status.busy": "2024-07-15T12:43:43.722983Z",
          "iopub.execute_input": "2024-07-15T12:43:43.723503Z",
          "iopub.status.idle": "2024-07-15T12:43:43.7325Z",
          "shell.execute_reply.started": "2024-07-15T12:43:43.723474Z",
          "shell.execute_reply": "2024-07-15T12:43:43.731686Z"
        },
        "trusted": true,
        "colab": {
          "base_uri": "https://localhost:8080/"
        },
        "id": "TYEGvq-ynKma",
        "outputId": "94656667-19e0-4f69-ca43-5718b12b1958"
      },
      "execution_count": null,
      "outputs": [
        {
          "output_type": "stream",
          "name": "stdout",
          "text": [
            "I ------> PRON PRP pronoun, personal\n",
            "will ------> AUX MD verb, modal auxiliary\n",
            "google ------> VERB VB verb, base form\n",
            "about ------> ADP IN conjunction, subordinating or preposition\n",
            "facebook ------> NOUN NN noun, singular or mass\n"
          ]
        }
      ]
    },
    {
      "cell_type": "code",
      "source": [
        "doc2 = nlp(u\"I left the room\")\n",
        "for word in doc2:\n",
        "    print(word.text,\"------>\", word.pos_,word.tag_,spacy.explain(word.tag_))"
      ],
      "metadata": {
        "execution": {
          "iopub.status.busy": "2024-07-15T12:43:43.733628Z",
          "iopub.execute_input": "2024-07-15T12:43:43.734Z",
          "iopub.status.idle": "2024-07-15T12:43:43.750132Z",
          "shell.execute_reply.started": "2024-07-15T12:43:43.733971Z",
          "shell.execute_reply": "2024-07-15T12:43:43.74935Z"
        },
        "trusted": true,
        "colab": {
          "base_uri": "https://localhost:8080/"
        },
        "id": "3t_m8Z6MnKma",
        "outputId": "2f51c606-168f-4d09-80ba-f4cb8056fde8"
      },
      "execution_count": null,
      "outputs": [
        {
          "output_type": "stream",
          "name": "stdout",
          "text": [
            "I ------> PRON PRP pronoun, personal\n",
            "left ------> VERB VBD verb, past tense\n",
            "the ------> DET DT determiner\n",
            "room ------> NOUN NN noun, singular or mass\n"
          ]
        }
      ]
    },
    {
      "cell_type": "code",
      "source": [
        "doc3 = nlp(u\"to the left of the room\")\n",
        "for word in doc3:\n",
        "    print(word.text,\"------>\", word.pos_,word.tag_,spacy.explain(word.tag_))"
      ],
      "metadata": {
        "execution": {
          "iopub.status.busy": "2024-07-15T12:43:43.751249Z",
          "iopub.execute_input": "2024-07-15T12:43:43.751584Z",
          "iopub.status.idle": "2024-07-15T12:43:43.763919Z",
          "shell.execute_reply.started": "2024-07-15T12:43:43.751554Z",
          "shell.execute_reply": "2024-07-15T12:43:43.763053Z"
        },
        "trusted": true,
        "colab": {
          "base_uri": "https://localhost:8080/"
        },
        "id": "wdf_2u-NnKma",
        "outputId": "3cefdfd0-e4e5-4242-fc9f-6ccf029a4b8c"
      },
      "execution_count": null,
      "outputs": [
        {
          "output_type": "stream",
          "name": "stdout",
          "text": [
            "to ------> ADP IN conjunction, subordinating or preposition\n",
            "the ------> DET DT determiner\n",
            "left ------> NOUN NN noun, singular or mass\n",
            "of ------> ADP IN conjunction, subordinating or preposition\n",
            "the ------> DET DT determiner\n",
            "room ------> NOUN NN noun, singular or mass\n"
          ]
        }
      ]
    },
    {
      "cell_type": "code",
      "source": [
        "doc6 = nlp(u\"The quick brown fox jumped over the lazy dog\")\n",
        "from spacy import displacy\n",
        "displacy.render(doc6,style='dep',jupyter=True)"
      ],
      "metadata": {
        "execution": {
          "iopub.status.busy": "2024-07-15T12:43:43.765002Z",
          "iopub.execute_input": "2024-07-15T12:43:43.76528Z",
          "iopub.status.idle": "2024-07-15T12:43:43.785683Z",
          "shell.execute_reply.started": "2024-07-15T12:43:43.765253Z",
          "shell.execute_reply": "2024-07-15T12:43:43.784889Z"
        },
        "trusted": true,
        "colab": {
          "base_uri": "https://localhost:8080/",
          "height": 441
        },
        "id": "GkrYC2oPnKma",
        "outputId": "e9d6a374-de4d-4643-9e25-dbfb19b995d6"
      },
      "execution_count": null,
      "outputs": [
        {
          "output_type": "display_data",
          "data": {
            "text/plain": [
              "<IPython.core.display.HTML object>"
            ],
            "text/html": [
              "<span class=\"tex2jax_ignore\"><svg xmlns=\"http://www.w3.org/2000/svg\" xmlns:xlink=\"http://www.w3.org/1999/xlink\" xml:lang=\"en\" id=\"0468a92568ca4966ba23822d63f62537-0\" class=\"displacy\" width=\"1625\" height=\"399.5\" direction=\"ltr\" style=\"max-width: none; height: 399.5px; color: #000000; background: #ffffff; font-family: Arial; direction: ltr\">\n",
              "<text class=\"displacy-token\" fill=\"currentColor\" text-anchor=\"middle\" y=\"309.5\">\n",
              "    <tspan class=\"displacy-word\" fill=\"currentColor\" x=\"50\">The</tspan>\n",
              "    <tspan class=\"displacy-tag\" dy=\"2em\" fill=\"currentColor\" x=\"50\">DET</tspan>\n",
              "</text>\n",
              "\n",
              "<text class=\"displacy-token\" fill=\"currentColor\" text-anchor=\"middle\" y=\"309.5\">\n",
              "    <tspan class=\"displacy-word\" fill=\"currentColor\" x=\"225\">quick</tspan>\n",
              "    <tspan class=\"displacy-tag\" dy=\"2em\" fill=\"currentColor\" x=\"225\">ADJ</tspan>\n",
              "</text>\n",
              "\n",
              "<text class=\"displacy-token\" fill=\"currentColor\" text-anchor=\"middle\" y=\"309.5\">\n",
              "    <tspan class=\"displacy-word\" fill=\"currentColor\" x=\"400\">brown</tspan>\n",
              "    <tspan class=\"displacy-tag\" dy=\"2em\" fill=\"currentColor\" x=\"400\">ADJ</tspan>\n",
              "</text>\n",
              "\n",
              "<text class=\"displacy-token\" fill=\"currentColor\" text-anchor=\"middle\" y=\"309.5\">\n",
              "    <tspan class=\"displacy-word\" fill=\"currentColor\" x=\"575\">fox</tspan>\n",
              "    <tspan class=\"displacy-tag\" dy=\"2em\" fill=\"currentColor\" x=\"575\">NOUN</tspan>\n",
              "</text>\n",
              "\n",
              "<text class=\"displacy-token\" fill=\"currentColor\" text-anchor=\"middle\" y=\"309.5\">\n",
              "    <tspan class=\"displacy-word\" fill=\"currentColor\" x=\"750\">jumped</tspan>\n",
              "    <tspan class=\"displacy-tag\" dy=\"2em\" fill=\"currentColor\" x=\"750\">VERB</tspan>\n",
              "</text>\n",
              "\n",
              "<text class=\"displacy-token\" fill=\"currentColor\" text-anchor=\"middle\" y=\"309.5\">\n",
              "    <tspan class=\"displacy-word\" fill=\"currentColor\" x=\"925\">over</tspan>\n",
              "    <tspan class=\"displacy-tag\" dy=\"2em\" fill=\"currentColor\" x=\"925\">ADP</tspan>\n",
              "</text>\n",
              "\n",
              "<text class=\"displacy-token\" fill=\"currentColor\" text-anchor=\"middle\" y=\"309.5\">\n",
              "    <tspan class=\"displacy-word\" fill=\"currentColor\" x=\"1100\">the</tspan>\n",
              "    <tspan class=\"displacy-tag\" dy=\"2em\" fill=\"currentColor\" x=\"1100\">DET</tspan>\n",
              "</text>\n",
              "\n",
              "<text class=\"displacy-token\" fill=\"currentColor\" text-anchor=\"middle\" y=\"309.5\">\n",
              "    <tspan class=\"displacy-word\" fill=\"currentColor\" x=\"1275\">lazy</tspan>\n",
              "    <tspan class=\"displacy-tag\" dy=\"2em\" fill=\"currentColor\" x=\"1275\">ADJ</tspan>\n",
              "</text>\n",
              "\n",
              "<text class=\"displacy-token\" fill=\"currentColor\" text-anchor=\"middle\" y=\"309.5\">\n",
              "    <tspan class=\"displacy-word\" fill=\"currentColor\" x=\"1450\">dog</tspan>\n",
              "    <tspan class=\"displacy-tag\" dy=\"2em\" fill=\"currentColor\" x=\"1450\">NOUN</tspan>\n",
              "</text>\n",
              "\n",
              "<g class=\"displacy-arrow\">\n",
              "    <path class=\"displacy-arc\" id=\"arrow-0468a92568ca4966ba23822d63f62537-0-0\" stroke-width=\"2px\" d=\"M70,264.5 C70,2.0 575.0,2.0 575.0,264.5\" fill=\"none\" stroke=\"currentColor\"/>\n",
              "    <text dy=\"1.25em\" style=\"font-size: 0.8em; letter-spacing: 1px\">\n",
              "        <textPath xlink:href=\"#arrow-0468a92568ca4966ba23822d63f62537-0-0\" class=\"displacy-label\" startOffset=\"50%\" side=\"left\" fill=\"currentColor\" text-anchor=\"middle\">det</textPath>\n",
              "    </text>\n",
              "    <path class=\"displacy-arrowhead\" d=\"M70,266.5 L62,254.5 78,254.5\" fill=\"currentColor\"/>\n",
              "</g>\n",
              "\n",
              "<g class=\"displacy-arrow\">\n",
              "    <path class=\"displacy-arc\" id=\"arrow-0468a92568ca4966ba23822d63f62537-0-1\" stroke-width=\"2px\" d=\"M245,264.5 C245,89.5 570.0,89.5 570.0,264.5\" fill=\"none\" stroke=\"currentColor\"/>\n",
              "    <text dy=\"1.25em\" style=\"font-size: 0.8em; letter-spacing: 1px\">\n",
              "        <textPath xlink:href=\"#arrow-0468a92568ca4966ba23822d63f62537-0-1\" class=\"displacy-label\" startOffset=\"50%\" side=\"left\" fill=\"currentColor\" text-anchor=\"middle\">amod</textPath>\n",
              "    </text>\n",
              "    <path class=\"displacy-arrowhead\" d=\"M245,266.5 L237,254.5 253,254.5\" fill=\"currentColor\"/>\n",
              "</g>\n",
              "\n",
              "<g class=\"displacy-arrow\">\n",
              "    <path class=\"displacy-arc\" id=\"arrow-0468a92568ca4966ba23822d63f62537-0-2\" stroke-width=\"2px\" d=\"M420,264.5 C420,177.0 565.0,177.0 565.0,264.5\" fill=\"none\" stroke=\"currentColor\"/>\n",
              "    <text dy=\"1.25em\" style=\"font-size: 0.8em; letter-spacing: 1px\">\n",
              "        <textPath xlink:href=\"#arrow-0468a92568ca4966ba23822d63f62537-0-2\" class=\"displacy-label\" startOffset=\"50%\" side=\"left\" fill=\"currentColor\" text-anchor=\"middle\">amod</textPath>\n",
              "    </text>\n",
              "    <path class=\"displacy-arrowhead\" d=\"M420,266.5 L412,254.5 428,254.5\" fill=\"currentColor\"/>\n",
              "</g>\n",
              "\n",
              "<g class=\"displacy-arrow\">\n",
              "    <path class=\"displacy-arc\" id=\"arrow-0468a92568ca4966ba23822d63f62537-0-3\" stroke-width=\"2px\" d=\"M595,264.5 C595,177.0 740.0,177.0 740.0,264.5\" fill=\"none\" stroke=\"currentColor\"/>\n",
              "    <text dy=\"1.25em\" style=\"font-size: 0.8em; letter-spacing: 1px\">\n",
              "        <textPath xlink:href=\"#arrow-0468a92568ca4966ba23822d63f62537-0-3\" class=\"displacy-label\" startOffset=\"50%\" side=\"left\" fill=\"currentColor\" text-anchor=\"middle\">nsubj</textPath>\n",
              "    </text>\n",
              "    <path class=\"displacy-arrowhead\" d=\"M595,266.5 L587,254.5 603,254.5\" fill=\"currentColor\"/>\n",
              "</g>\n",
              "\n",
              "<g class=\"displacy-arrow\">\n",
              "    <path class=\"displacy-arc\" id=\"arrow-0468a92568ca4966ba23822d63f62537-0-4\" stroke-width=\"2px\" d=\"M770,264.5 C770,177.0 915.0,177.0 915.0,264.5\" fill=\"none\" stroke=\"currentColor\"/>\n",
              "    <text dy=\"1.25em\" style=\"font-size: 0.8em; letter-spacing: 1px\">\n",
              "        <textPath xlink:href=\"#arrow-0468a92568ca4966ba23822d63f62537-0-4\" class=\"displacy-label\" startOffset=\"50%\" side=\"left\" fill=\"currentColor\" text-anchor=\"middle\">prep</textPath>\n",
              "    </text>\n",
              "    <path class=\"displacy-arrowhead\" d=\"M915.0,266.5 L923.0,254.5 907.0,254.5\" fill=\"currentColor\"/>\n",
              "</g>\n",
              "\n",
              "<g class=\"displacy-arrow\">\n",
              "    <path class=\"displacy-arc\" id=\"arrow-0468a92568ca4966ba23822d63f62537-0-5\" stroke-width=\"2px\" d=\"M1120,264.5 C1120,89.5 1445.0,89.5 1445.0,264.5\" fill=\"none\" stroke=\"currentColor\"/>\n",
              "    <text dy=\"1.25em\" style=\"font-size: 0.8em; letter-spacing: 1px\">\n",
              "        <textPath xlink:href=\"#arrow-0468a92568ca4966ba23822d63f62537-0-5\" class=\"displacy-label\" startOffset=\"50%\" side=\"left\" fill=\"currentColor\" text-anchor=\"middle\">det</textPath>\n",
              "    </text>\n",
              "    <path class=\"displacy-arrowhead\" d=\"M1120,266.5 L1112,254.5 1128,254.5\" fill=\"currentColor\"/>\n",
              "</g>\n",
              "\n",
              "<g class=\"displacy-arrow\">\n",
              "    <path class=\"displacy-arc\" id=\"arrow-0468a92568ca4966ba23822d63f62537-0-6\" stroke-width=\"2px\" d=\"M1295,264.5 C1295,177.0 1440.0,177.0 1440.0,264.5\" fill=\"none\" stroke=\"currentColor\"/>\n",
              "    <text dy=\"1.25em\" style=\"font-size: 0.8em; letter-spacing: 1px\">\n",
              "        <textPath xlink:href=\"#arrow-0468a92568ca4966ba23822d63f62537-0-6\" class=\"displacy-label\" startOffset=\"50%\" side=\"left\" fill=\"currentColor\" text-anchor=\"middle\">amod</textPath>\n",
              "    </text>\n",
              "    <path class=\"displacy-arrowhead\" d=\"M1295,266.5 L1287,254.5 1303,254.5\" fill=\"currentColor\"/>\n",
              "</g>\n",
              "\n",
              "<g class=\"displacy-arrow\">\n",
              "    <path class=\"displacy-arc\" id=\"arrow-0468a92568ca4966ba23822d63f62537-0-7\" stroke-width=\"2px\" d=\"M945,264.5 C945,2.0 1450.0,2.0 1450.0,264.5\" fill=\"none\" stroke=\"currentColor\"/>\n",
              "    <text dy=\"1.25em\" style=\"font-size: 0.8em; letter-spacing: 1px\">\n",
              "        <textPath xlink:href=\"#arrow-0468a92568ca4966ba23822d63f62537-0-7\" class=\"displacy-label\" startOffset=\"50%\" side=\"left\" fill=\"currentColor\" text-anchor=\"middle\">pobj</textPath>\n",
              "    </text>\n",
              "    <path class=\"displacy-arrowhead\" d=\"M1450.0,266.5 L1458.0,254.5 1442.0,254.5\" fill=\"currentColor\"/>\n",
              "</g>\n",
              "</svg></span>"
            ]
          },
          "metadata": {}
        }
      ]
    },
    {
      "cell_type": "code",
      "source": [
        "options={\n",
        "    'distance':70,\n",
        "    'compact':True,\n",
        "    'color':'#fff',\n",
        "    'bg':'#00a65a'\n",
        "}\n",
        "displacy.render(doc6,style='dep',jupyter=True,options=options)"
      ],
      "metadata": {
        "execution": {
          "iopub.status.busy": "2024-07-15T12:43:43.786841Z",
          "iopub.execute_input": "2024-07-15T12:43:43.78747Z",
          "iopub.status.idle": "2024-07-15T12:43:43.798911Z",
          "shell.execute_reply.started": "2024-07-15T12:43:43.787434Z",
          "shell.execute_reply": "2024-07-15T12:43:43.797966Z"
        },
        "trusted": true,
        "colab": {
          "base_uri": "https://localhost:8080/",
          "height": 263
        },
        "id": "GZ6v8fSenKmb",
        "outputId": "d35a06e1-da43-4a08-cf0b-6ebffaf72c6b"
      },
      "execution_count": null,
      "outputs": [
        {
          "output_type": "display_data",
          "data": {
            "text/plain": [
              "<IPython.core.display.HTML object>"
            ],
            "text/html": [
              "<span class=\"tex2jax_ignore\"><svg xmlns=\"http://www.w3.org/2000/svg\" xmlns:xlink=\"http://www.w3.org/1999/xlink\" xml:lang=\"en\" id=\"3051ba3be85c46f7909ab3ddff05d3d6-0\" class=\"displacy\" width=\"680\" height=\"242.0\" direction=\"ltr\" style=\"max-width: none; height: 242.0px; color: #fff; background: #00a65a; font-family: Arial; direction: ltr\">\n",
              "<text class=\"displacy-token\" fill=\"currentColor\" text-anchor=\"middle\" y=\"152.0\">\n",
              "    <tspan class=\"displacy-word\" fill=\"currentColor\" x=\"50\">The</tspan>\n",
              "    <tspan class=\"displacy-tag\" dy=\"2em\" fill=\"currentColor\" x=\"50\">DET</tspan>\n",
              "</text>\n",
              "\n",
              "<text class=\"displacy-token\" fill=\"currentColor\" text-anchor=\"middle\" y=\"152.0\">\n",
              "    <tspan class=\"displacy-word\" fill=\"currentColor\" x=\"120\">quick</tspan>\n",
              "    <tspan class=\"displacy-tag\" dy=\"2em\" fill=\"currentColor\" x=\"120\">ADJ</tspan>\n",
              "</text>\n",
              "\n",
              "<text class=\"displacy-token\" fill=\"currentColor\" text-anchor=\"middle\" y=\"152.0\">\n",
              "    <tspan class=\"displacy-word\" fill=\"currentColor\" x=\"190\">brown</tspan>\n",
              "    <tspan class=\"displacy-tag\" dy=\"2em\" fill=\"currentColor\" x=\"190\">ADJ</tspan>\n",
              "</text>\n",
              "\n",
              "<text class=\"displacy-token\" fill=\"currentColor\" text-anchor=\"middle\" y=\"152.0\">\n",
              "    <tspan class=\"displacy-word\" fill=\"currentColor\" x=\"260\">fox</tspan>\n",
              "    <tspan class=\"displacy-tag\" dy=\"2em\" fill=\"currentColor\" x=\"260\">NOUN</tspan>\n",
              "</text>\n",
              "\n",
              "<text class=\"displacy-token\" fill=\"currentColor\" text-anchor=\"middle\" y=\"152.0\">\n",
              "    <tspan class=\"displacy-word\" fill=\"currentColor\" x=\"330\">jumped</tspan>\n",
              "    <tspan class=\"displacy-tag\" dy=\"2em\" fill=\"currentColor\" x=\"330\">VERB</tspan>\n",
              "</text>\n",
              "\n",
              "<text class=\"displacy-token\" fill=\"currentColor\" text-anchor=\"middle\" y=\"152.0\">\n",
              "    <tspan class=\"displacy-word\" fill=\"currentColor\" x=\"400\">over</tspan>\n",
              "    <tspan class=\"displacy-tag\" dy=\"2em\" fill=\"currentColor\" x=\"400\">ADP</tspan>\n",
              "</text>\n",
              "\n",
              "<text class=\"displacy-token\" fill=\"currentColor\" text-anchor=\"middle\" y=\"152.0\">\n",
              "    <tspan class=\"displacy-word\" fill=\"currentColor\" x=\"470\">the</tspan>\n",
              "    <tspan class=\"displacy-tag\" dy=\"2em\" fill=\"currentColor\" x=\"470\">DET</tspan>\n",
              "</text>\n",
              "\n",
              "<text class=\"displacy-token\" fill=\"currentColor\" text-anchor=\"middle\" y=\"152.0\">\n",
              "    <tspan class=\"displacy-word\" fill=\"currentColor\" x=\"540\">lazy</tspan>\n",
              "    <tspan class=\"displacy-tag\" dy=\"2em\" fill=\"currentColor\" x=\"540\">ADJ</tspan>\n",
              "</text>\n",
              "\n",
              "<text class=\"displacy-token\" fill=\"currentColor\" text-anchor=\"middle\" y=\"152.0\">\n",
              "    <tspan class=\"displacy-word\" fill=\"currentColor\" x=\"610\">dog</tspan>\n",
              "    <tspan class=\"displacy-tag\" dy=\"2em\" fill=\"currentColor\" x=\"610\">NOUN</tspan>\n",
              "</text>\n",
              "\n",
              "<g class=\"displacy-arrow\">\n",
              "    <path class=\"displacy-arc\" id=\"arrow-3051ba3be85c46f7909ab3ddff05d3d6-0-0\" stroke-width=\"2px\" d=\"M62,107.0 62,72.0 260.0,72.0 260.0,107.0\" fill=\"none\" stroke=\"currentColor\"/>\n",
              "    <text dy=\"1.25em\" style=\"font-size: 0.8em; letter-spacing: 1px\">\n",
              "        <textPath xlink:href=\"#arrow-3051ba3be85c46f7909ab3ddff05d3d6-0-0\" class=\"displacy-label\" startOffset=\"50%\" side=\"left\" fill=\"currentColor\" text-anchor=\"middle\">det</textPath>\n",
              "    </text>\n",
              "    <path class=\"displacy-arrowhead\" d=\"M62,109.0 L58,101.0 66,101.0\" fill=\"currentColor\"/>\n",
              "</g>\n",
              "\n",
              "<g class=\"displacy-arrow\">\n",
              "    <path class=\"displacy-arc\" id=\"arrow-3051ba3be85c46f7909ab3ddff05d3d6-0-1\" stroke-width=\"2px\" d=\"M132,107.0 132,83.66666666666667 257.0,83.66666666666667 257.0,107.0\" fill=\"none\" stroke=\"currentColor\"/>\n",
              "    <text dy=\"1.25em\" style=\"font-size: 0.8em; letter-spacing: 1px\">\n",
              "        <textPath xlink:href=\"#arrow-3051ba3be85c46f7909ab3ddff05d3d6-0-1\" class=\"displacy-label\" startOffset=\"50%\" side=\"left\" fill=\"currentColor\" text-anchor=\"middle\">amod</textPath>\n",
              "    </text>\n",
              "    <path class=\"displacy-arrowhead\" d=\"M132,109.0 L128,101.0 136,101.0\" fill=\"currentColor\"/>\n",
              "</g>\n",
              "\n",
              "<g class=\"displacy-arrow\">\n",
              "    <path class=\"displacy-arc\" id=\"arrow-3051ba3be85c46f7909ab3ddff05d3d6-0-2\" stroke-width=\"2px\" d=\"M202,107.0 202,95.33333333333333 254.0,95.33333333333333 254.0,107.0\" fill=\"none\" stroke=\"currentColor\"/>\n",
              "    <text dy=\"1.25em\" style=\"font-size: 0.8em; letter-spacing: 1px\">\n",
              "        <textPath xlink:href=\"#arrow-3051ba3be85c46f7909ab3ddff05d3d6-0-2\" class=\"displacy-label\" startOffset=\"50%\" side=\"left\" fill=\"currentColor\" text-anchor=\"middle\">amod</textPath>\n",
              "    </text>\n",
              "    <path class=\"displacy-arrowhead\" d=\"M202,109.0 L198,101.0 206,101.0\" fill=\"currentColor\"/>\n",
              "</g>\n",
              "\n",
              "<g class=\"displacy-arrow\">\n",
              "    <path class=\"displacy-arc\" id=\"arrow-3051ba3be85c46f7909ab3ddff05d3d6-0-3\" stroke-width=\"2px\" d=\"M272,107.0 272,95.33333333333333 324.0,95.33333333333333 324.0,107.0\" fill=\"none\" stroke=\"currentColor\"/>\n",
              "    <text dy=\"1.25em\" style=\"font-size: 0.8em; letter-spacing: 1px\">\n",
              "        <textPath xlink:href=\"#arrow-3051ba3be85c46f7909ab3ddff05d3d6-0-3\" class=\"displacy-label\" startOffset=\"50%\" side=\"left\" fill=\"currentColor\" text-anchor=\"middle\">nsubj</textPath>\n",
              "    </text>\n",
              "    <path class=\"displacy-arrowhead\" d=\"M272,109.0 L268,101.0 276,101.0\" fill=\"currentColor\"/>\n",
              "</g>\n",
              "\n",
              "<g class=\"displacy-arrow\">\n",
              "    <path class=\"displacy-arc\" id=\"arrow-3051ba3be85c46f7909ab3ddff05d3d6-0-4\" stroke-width=\"2px\" d=\"M342,107.0 342,95.33333333333333 394.0,95.33333333333333 394.0,107.0\" fill=\"none\" stroke=\"currentColor\"/>\n",
              "    <text dy=\"1.25em\" style=\"font-size: 0.8em; letter-spacing: 1px\">\n",
              "        <textPath xlink:href=\"#arrow-3051ba3be85c46f7909ab3ddff05d3d6-0-4\" class=\"displacy-label\" startOffset=\"50%\" side=\"left\" fill=\"currentColor\" text-anchor=\"middle\">prep</textPath>\n",
              "    </text>\n",
              "    <path class=\"displacy-arrowhead\" d=\"M394.0,109.0 L398.0,101.0 390.0,101.0\" fill=\"currentColor\"/>\n",
              "</g>\n",
              "\n",
              "<g class=\"displacy-arrow\">\n",
              "    <path class=\"displacy-arc\" id=\"arrow-3051ba3be85c46f7909ab3ddff05d3d6-0-5\" stroke-width=\"2px\" d=\"M482,107.0 482,83.66666666666667 607.0,83.66666666666667 607.0,107.0\" fill=\"none\" stroke=\"currentColor\"/>\n",
              "    <text dy=\"1.25em\" style=\"font-size: 0.8em; letter-spacing: 1px\">\n",
              "        <textPath xlink:href=\"#arrow-3051ba3be85c46f7909ab3ddff05d3d6-0-5\" class=\"displacy-label\" startOffset=\"50%\" side=\"left\" fill=\"currentColor\" text-anchor=\"middle\">det</textPath>\n",
              "    </text>\n",
              "    <path class=\"displacy-arrowhead\" d=\"M482,109.0 L478,101.0 486,101.0\" fill=\"currentColor\"/>\n",
              "</g>\n",
              "\n",
              "<g class=\"displacy-arrow\">\n",
              "    <path class=\"displacy-arc\" id=\"arrow-3051ba3be85c46f7909ab3ddff05d3d6-0-6\" stroke-width=\"2px\" d=\"M552,107.0 552,95.33333333333333 604.0,95.33333333333333 604.0,107.0\" fill=\"none\" stroke=\"currentColor\"/>\n",
              "    <text dy=\"1.25em\" style=\"font-size: 0.8em; letter-spacing: 1px\">\n",
              "        <textPath xlink:href=\"#arrow-3051ba3be85c46f7909ab3ddff05d3d6-0-6\" class=\"displacy-label\" startOffset=\"50%\" side=\"left\" fill=\"currentColor\" text-anchor=\"middle\">amod</textPath>\n",
              "    </text>\n",
              "    <path class=\"displacy-arrowhead\" d=\"M552,109.0 L548,101.0 556,101.0\" fill=\"currentColor\"/>\n",
              "</g>\n",
              "\n",
              "<g class=\"displacy-arrow\">\n",
              "    <path class=\"displacy-arc\" id=\"arrow-3051ba3be85c46f7909ab3ddff05d3d6-0-7\" stroke-width=\"2px\" d=\"M412,107.0 412,72.0 610.0,72.0 610.0,107.0\" fill=\"none\" stroke=\"currentColor\"/>\n",
              "    <text dy=\"1.25em\" style=\"font-size: 0.8em; letter-spacing: 1px\">\n",
              "        <textPath xlink:href=\"#arrow-3051ba3be85c46f7909ab3ddff05d3d6-0-7\" class=\"displacy-label\" startOffset=\"50%\" side=\"left\" fill=\"currentColor\" text-anchor=\"middle\">pobj</textPath>\n",
              "    </text>\n",
              "    <path class=\"displacy-arrowhead\" d=\"M610.0,109.0 L614.0,101.0 606.0,101.0\" fill=\"currentColor\"/>\n",
              "</g>\n",
              "</svg></span>"
            ]
          },
          "metadata": {}
        }
      ]
    },
    {
      "cell_type": "markdown",
      "source": [
        "### To be continued with deep learning techniques like GPT, BERT, Transformers, GRU, LSTM,RNN and CNN"
      ],
      "metadata": {
        "id": "6doy-XzsnKmb"
      }
    },
    {
      "cell_type": "markdown",
      "source": [
        "### If this helped in your learning, then please Support – as they are the source of motivation!\n",
        "\n",
        "### Happy Learning"
      ],
      "metadata": {
        "id": "be4xfp_ZnKmb"
      }
    }
  ]
}